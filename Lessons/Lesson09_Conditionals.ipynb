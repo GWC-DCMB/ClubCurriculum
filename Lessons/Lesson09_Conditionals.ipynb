{
 "nbformat": 4,
 "nbformat_minor": 0,
 "metadata": {
  "kernelspec": {
   "display_name": "Python 3",
   "language": "python",
   "name": "python3"
  },
  "language_info": {
   "codemirror_mode": {
    "name": "ipython",
    "version": 3
   },
   "file_extension": ".py",
   "mimetype": "text/x-python",
   "name": "python",
   "nbconvert_exporter": "python",
   "pygments_lexer": "ipython3",
   "version": "3.7.3"
  },
  "colab": {
   "name": "Lesson09_Conditionals.ipynb",
   "version": "0.3.2",
   "provenance": []
  }
 },
 "cells": [
  {
   "cell_type": "markdown",
   "metadata": {
    "id": "OLN8UWNM4gO5",
    "colab_type": "text"
   },
   "source": [
    "# Conditional Logic\n",
    "\n",
    "In the last lesson, we learned about booleans. Booleans can be used to determine if a certain line of code should be run.\n",
    "\n",
    "For example, say we had a list that we wanted to print out, but we don't want to print the list if it's too long. We could run the following:"
   ]
  },
  {
   "cell_type": "code",
   "metadata": {
    "id": "w0vYiQVk4gO-",
    "colab_type": "code",
    "colab": {},
    "outputId": "6da5cb4d-5732-4b83-93c3-312e55faf3c7"
   },
   "source": [
    "my_list = [0, 1, 2, 3, 4, 5, 6, 7]\n",
    "if len(my_list) < 10:\n",
    "    print(my_list)"
   ],
   "execution_count": 0,
   "outputs": [
    {
     "output_type": "stream",
     "text": [
      "[0, 1, 2, 3, 4, 5, 6, 7]\n"
     ],
     "name": "stdout"
    }
   ]
  },
  {
   "cell_type": "code",
   "metadata": {
    "id": "q3hSCO_i4gPI",
    "colab_type": "code",
    "colab": {},
    "outputId": "adbf2d2c-9330-4783-87aa-ff9e9f64e9d3"
   },
   "source": [
    "len(my_list) < 10"
   ],
   "execution_count": 0,
   "outputs": [
    {
     "output_type": "execute_result",
     "data": {
      "text/plain": [
       "True"
      ]
     },
     "metadata": {
      "tags": []
     },
     "execution_count": 3
    }
   ]
  },
  {
   "cell_type": "markdown",
   "metadata": {
    "id": "eLWm7_7f4gPP",
    "colab_type": "text"
   },
   "source": [
    "We see that the condition is `True`, the code below runs.\n",
    "\n",
    "What if we changed the condition above? How would this change?"
   ]
  },
  {
   "cell_type": "code",
   "metadata": {
    "id": "Yx_5-0Fq4gPR",
    "colab_type": "code",
    "colab": {}
   },
   "source": [
    "if len(my_list) >= 10:\n",
    "    print(my_list)"
   ],
   "execution_count": 0,
   "outputs": []
  },
  {
   "cell_type": "markdown",
   "metadata": {
    "id": "4zGhearv4gPV",
    "colab_type": "text"
   },
   "source": [
    "Nothing happened! Let's see why this is."
   ]
  },
  {
   "cell_type": "code",
   "metadata": {
    "id": "aa6JU-xC4gPW",
    "colab_type": "code",
    "colab": {},
    "outputId": "7375ac9c-6d78-481e-e926-697d86ddef9a"
   },
   "source": [
    "len(my_list) >= 10"
   ],
   "execution_count": 0,
   "outputs": [
    {
     "output_type": "execute_result",
     "data": {
      "text/plain": [
       "False"
      ]
     },
     "metadata": {
      "tags": []
     },
     "execution_count": 5
    }
   ]
  },
  {
   "cell_type": "markdown",
   "metadata": {
    "id": "KHYd0tUm4gPc",
    "colab_type": "text"
   },
   "source": [
    "In this case, the condition is `False`, so the code within the conditional did not run."
   ]
  },
  {
   "cell_type": "markdown",
   "metadata": {
    "id": "LuaRXfzy4gPd",
    "colab_type": "text"
   },
   "source": [
    "What if we wanted to run one block of code if the condition is `True`, and a different line of code if the condition is `False`? In other words, what if we wanted to run one block of code if our list has less than 10 items, and another block of code if the list has more than 10? This is where we use `if/else`."
   ]
  },
  {
   "cell_type": "code",
   "metadata": {
    "id": "JTbTyDzR4gPe",
    "colab_type": "code",
    "colab": {},
    "outputId": "2f0ee061-cd24-46b0-fb39-2ef577086d57"
   },
   "source": [
    "if len(my_list) < 10:\n",
    "    print(my_list)\n",
    "else:\n",
    "    print(\"The list is too long to print!\")"
   ],
   "execution_count": 0,
   "outputs": [
    {
     "output_type": "stream",
     "text": [
      "[0, 1, 2, 3, 4, 5, 6, 7]\n"
     ],
     "name": "stdout"
    }
   ]
  },
  {
   "cell_type": "markdown",
   "metadata": {
    "id": "Nf15XEXN4gPj",
    "colab_type": "text"
   },
   "source": [
    "Because the list has less than 10 items, the list printed. But let's say we added more items to the list, making it longer than 10 items."
   ]
  },
  {
   "cell_type": "code",
   "metadata": {
    "id": "V6zs4yeO4gPl",
    "colab_type": "code",
    "colab": {}
   },
   "source": [
    "my_list.append(8)\n",
    "my_list.append(9)\n",
    "my_list.append(10)\n",
    "my_list.append(11)"
   ],
   "execution_count": 0,
   "outputs": []
  },
  {
   "cell_type": "code",
   "metadata": {
    "id": "f2kJl8cf4gPp",
    "colab_type": "code",
    "colab": {},
    "outputId": "b1b2a8e5-4907-44a8-c98e-7b55590d9a86"
   },
   "source": [
    "len(my_list)"
   ],
   "execution_count": 0,
   "outputs": [
    {
     "output_type": "execute_result",
     "data": {
      "text/plain": [
       "12"
      ]
     },
     "metadata": {
      "tags": []
     },
     "execution_count": 12
    }
   ]
  },
  {
   "cell_type": "markdown",
   "metadata": {
    "id": "MVTxM5e54gPs",
    "colab_type": "text"
   },
   "source": [
    "Now, the length of my_list is above 10. How would the above line of code run now? "
   ]
  },
  {
   "cell_type": "code",
   "metadata": {
    "id": "4PJ8LJSG4gPu",
    "colab_type": "code",
    "colab": {},
    "outputId": "ecd36b06-1017-4a67-b7c6-659f08c3ed30"
   },
   "source": [
    "if len(my_list) < 10:\n",
    "    print(my_list)\n",
    "else:\n",
    "    print(\"The list is too long to print!\")"
   ],
   "execution_count": 0,
   "outputs": [
    {
     "output_type": "stream",
     "text": [
      "The list is too long to print!\n"
     ],
     "name": "stdout"
    }
   ]
  },
  {
   "cell_type": "markdown",
   "metadata": {
    "id": "TpJm2bZ44gPy",
    "colab_type": "text"
   },
   "source": [
    "What if there were more than two different conditions? "
   ]
  },
  {
   "cell_type": "code",
   "metadata": {
    "id": "JK80pu224gPz",
    "colab_type": "code",
    "colab": {},
    "outputId": "9f0670d5-4abd-48e6-aed9-5d69d36c3c20"
   },
   "source": [
    "if len(my_list) < 10:\n",
    "    print(\"This list is short\")\n",
    "elif len(my_list) >= 10 & len(my_list) < 15:\n",
    "    print(\"This list is medium length\")\n",
    "else:\n",
    "    print(\"This list is really long!\")"
   ],
   "execution_count": 0,
   "outputs": [
    {
     "output_type": "stream",
     "text": [
      "This list is medium length\n"
     ],
     "name": "stdout"
    }
   ]
  },
  {
   "cell_type": "markdown",
   "metadata": {
    "id": "y-fBqabh4gP2",
    "colab_type": "text"
   },
   "source": [
    "So what happened here? `my_list` is 12 items long. We got to the first `if` statement, and because the length was not less than 10, we did not execute the line that says `This list is short`. The next line tests if the length is between 10 and 15. This conditional is true, so it executes the line saying `This list is medium length`. Because we got to this line, we skip the `else` statement. \n",
    "\n",
    "But what if our list was longer? Then what would happen?"
   ]
  },
  {
   "cell_type": "code",
   "metadata": {
    "id": "AuTSXB1w4gP4",
    "colab_type": "code",
    "colab": {}
   },
   "source": [
    "my_list.append(12)\n",
    "my_list.append(13)\n",
    "my_list.append(14)\n",
    "my_list.append(15)"
   ],
   "execution_count": 0,
   "outputs": []
  },
  {
   "cell_type": "code",
   "metadata": {
    "id": "E0NFUr0P4gP7",
    "colab_type": "code",
    "colab": {},
    "outputId": "4a7d7209-412b-4baf-c062-3d934714762a"
   },
   "source": [
    "len(my_list)"
   ],
   "execution_count": 0,
   "outputs": [
    {
     "output_type": "execute_result",
     "data": {
      "text/plain": [
       "16"
      ]
     },
     "metadata": {
      "tags": []
     },
     "execution_count": 16
    }
   ]
  },
  {
   "cell_type": "code",
   "metadata": {
    "id": "v_k76Tfr4gP_",
    "colab_type": "code",
    "colab": {},
    "outputId": "e70d2b77-c396-42f5-846a-3deb0c4ea3db"
   },
   "source": [
    "if len(my_list) < 10:\n",
    "    print(\"This list is short\")\n",
    "elif len(my_list) >= 10 and len(my_list) < 15:\n",
    "    print(\"This list is medium length\")\n",
    "else:\n",
    "    print(\"This list is really long!\")"
   ],
   "execution_count": 0,
   "outputs": [
    {
     "output_type": "stream",
     "text": [
      "This list is really long!\n"
     ],
     "name": "stdout"
    }
   ]
  },
  {
   "cell_type": "code",
   "metadata": {
    "id": "yaPkTJ3h4gQC",
    "colab_type": "code",
    "colab": {}
   },
   "source": [
    ""
   ],
   "execution_count": 0,
   "outputs": []
  }
 ]
}

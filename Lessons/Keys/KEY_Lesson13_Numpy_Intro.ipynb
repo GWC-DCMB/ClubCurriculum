{
 "cells": [
  {
   "cell_type": "markdown",
   "metadata": {
    "colab_type": "text",
    "id": "fhg6JOUipvkU"
   },
   "source": [
    "# Introduction to Numpy\n",
    "\n",
    "In the last two days of camp, you have learned how to start using python and how to manipulate data with the `pandas` library. Today, we will be learning how to perform calculations with another library known as `numpy`. `numpy` allows you to do math on entire lists of data, all at the same time!"
   ]
  },
  {
   "cell_type": "markdown",
   "metadata": {
    "colab_type": "text",
    "id": "YoGzk6H1pvkV"
   },
   "source": [
    "To review what we learned on monday, let's create a list containing the numbers 0 through 5 and assign it to a variable:"
   ]
  },
  {
   "cell_type": "code",
   "execution_count": 1,
   "metadata": {
    "colab": {},
    "colab_type": "code",
    "id": "s2EQD0wEpvkW"
   },
   "outputs": [],
   "source": [
    "# Create a list containing the numbers 0 through 4\n",
    "the_list = [0, 1, 2, 3, 4]\n",
    "\n",
    "# or convert the range to a list\n",
    "the_list = list(range(5))"
   ]
  },
  {
   "cell_type": "code",
   "execution_count": 2,
   "metadata": {
    "colab": {
     "base_uri": "https://localhost:8080/",
     "height": 34
    },
    "colab_type": "code",
    "executionInfo": {
     "elapsed": 458,
     "status": "ok",
     "timestamp": 1557762157941,
     "user": {
      "displayName": "Kelly Sovacool",
      "photoUrl": "https://lh3.googleusercontent.com/-WQsOgn6cXFg/AAAAAAAAAAI/AAAAAAAAAVA/ol7X28qyOHc/s64/photo.jpg",
      "userId": "07259925140867310896"
     },
     "user_tz": 240
    },
    "id": "N1uGkMLj2us0",
    "outputId": "2ccd4679-e638-412a-9857-b24ac7b3dc57"
   },
   "outputs": [
    {
     "name": "stdout",
     "output_type": "stream",
     "text": [
      "[0, 1, 2, 3, 4]\n"
     ]
    }
   ],
   "source": [
    "# let's see what it looks like\n",
    "print(the_list)"
   ]
  },
  {
   "cell_type": "markdown",
   "metadata": {
    "colab_type": "text",
    "id": "OvSKPwFspvka"
   },
   "source": [
    "Using lists can be really useful, because you can store any set of data in the. For instance, you could store the temperature in your house each morning as a list.\n",
    "\n",
    "Now, lets add 1 to each of the items in the array. There are several different ways to do this:"
   ]
  },
  {
   "cell_type": "code",
   "execution_count": 3,
   "metadata": {
    "colab": {
     "base_uri": "https://localhost:8080/",
     "height": 34
    },
    "colab_type": "code",
    "executionInfo": {
     "elapsed": 443,
     "status": "ok",
     "timestamp": 1557762157942,
     "user": {
      "displayName": "Kelly Sovacool",
      "photoUrl": "https://lh3.googleusercontent.com/-WQsOgn6cXFg/AAAAAAAAAAI/AAAAAAAAAVA/ol7X28qyOHc/s64/photo.jpg",
      "userId": "07259925140867310896"
     },
     "user_tz": 240
    },
    "id": "qFchEEvkpvkb",
    "outputId": "be998fe3-f400-4b93-a0c9-595973515f34"
   },
   "outputs": [
    {
     "name": "stdout",
     "output_type": "stream",
     "text": [
      "[1, 2, 3, 4, 5]\n"
     ]
    }
   ],
   "source": [
    "# Option 1: Add 1 to each item in the array you created above\n",
    "the_list[0] = the_list[0] + 1\n",
    "the_list[1] = the_list[1] + 1\n",
    "the_list[2] = the_list[2] + 1\n",
    "the_list[3] = the_list[3] + 1\n",
    "the_list[4] = the_list[4] + 1\n",
    "\n",
    "# print the list to see how it changed\n",
    "print(the_list)"
   ]
  },
  {
   "cell_type": "code",
   "execution_count": 4,
   "metadata": {
    "colab": {
     "base_uri": "https://localhost:8080/",
     "height": 34
    },
    "colab_type": "code",
    "executionInfo": {
     "elapsed": 400,
     "status": "ok",
     "timestamp": 1557762157943,
     "user": {
      "displayName": "Kelly Sovacool",
      "photoUrl": "https://lh3.googleusercontent.com/-WQsOgn6cXFg/AAAAAAAAAAI/AAAAAAAAAVA/ol7X28qyOHc/s64/photo.jpg",
      "userId": "07259925140867310896"
     },
     "user_tz": 240
    },
    "id": "IEyYMx_mwfzm",
    "outputId": "ade2e650-8e48-409c-c68c-7d89d5410494"
   },
   "outputs": [
    {
     "name": "stdout",
     "output_type": "stream",
     "text": [
      "[2, 3, 4, 5, 6]\n"
     ]
    }
   ],
   "source": [
    "# Option 2: Use a for loop\n",
    "for i in range(len(the_list)):\n",
    "    the_list[i] += 1\n",
    "\n",
    "print(the_list)"
   ]
  },
  {
   "cell_type": "code",
   "execution_count": 5,
   "metadata": {
    "colab": {
     "base_uri": "https://localhost:8080/",
     "height": 34
    },
    "colab_type": "code",
    "executionInfo": {
     "elapsed": 377,
     "status": "ok",
     "timestamp": 1557762157944,
     "user": {
      "displayName": "Kelly Sovacool",
      "photoUrl": "https://lh3.googleusercontent.com/-WQsOgn6cXFg/AAAAAAAAAAI/AAAAAAAAAVA/ol7X28qyOHc/s64/photo.jpg",
      "userId": "07259925140867310896"
     },
     "user_tz": 240
    },
    "id": "HrZUw-JBw3po",
    "outputId": "8f4781af-2f9e-44c2-b610-2fae1660185f"
   },
   "outputs": [
    {
     "name": "stdout",
     "output_type": "stream",
     "text": [
      "[3, 4, 5, 6, 7]\n"
     ]
    }
   ],
   "source": [
    "# Option 3: Use a for loop on one line\n",
    "the_list = [i+1 for i in the_list]\n",
    "\n",
    "print(the_list)"
   ]
  },
  {
   "cell_type": "markdown",
   "metadata": {
    "colab_type": "text",
    "id": "9vRgbEEhpvkk"
   },
   "source": [
    "You might have noticed that this is a little less convenient than with a single variable, where you can do something like this to add a number:"
   ]
  },
  {
   "cell_type": "code",
   "execution_count": 6,
   "metadata": {
    "colab": {
     "base_uri": "https://localhost:8080/",
     "height": 34
    },
    "colab_type": "code",
    "executionInfo": {
     "elapsed": 354,
     "status": "ok",
     "timestamp": 1557762157947,
     "user": {
      "displayName": "Kelly Sovacool",
      "photoUrl": "https://lh3.googleusercontent.com/-WQsOgn6cXFg/AAAAAAAAAAI/AAAAAAAAAVA/ol7X28qyOHc/s64/photo.jpg",
      "userId": "07259925140867310896"
     },
     "user_tz": 240
    },
    "id": "jc5cRe99pvkl",
    "outputId": "062b47dc-b393-4c83-d26c-eb98d6f18b6e"
   },
   "outputs": [
    {
     "name": "stdout",
     "output_type": "stream",
     "text": [
      "6\n"
     ]
    }
   ],
   "source": [
    "# create a single variable and add a number to it\n",
    "a = 5\n",
    "a += 1\n",
    "print(a)"
   ]
  },
  {
   "cell_type": "markdown",
   "metadata": {
    "colab_type": "text",
    "id": "ZPdA2YAmpvkp"
   },
   "source": [
    "Today we will be using `numpy`, which allows us to do just that but in a much faster and more efficient way!"
   ]
  },
  {
   "cell_type": "markdown",
   "metadata": {
    "colab_type": "text",
    "id": "kxiwgby4pvkq"
   },
   "source": [
    "First we will import `numpy`. Remember when we imported `pandas`, we gave it the special nickname `pd`? We're also going to give `numpy` a nickname: `np`:"
   ]
  },
  {
   "cell_type": "code",
   "execution_count": null,
   "metadata": {
    "colab": {},
    "colab_type": "code",
    "id": "uN4ydfz8pvkr"
   },
   "outputs": [],
   "source": [
    "# Load numpy\n",
    "import numpy as np"
   ]
  },
  {
   "cell_type": "markdown",
   "metadata": {
    "colab_type": "text",
    "id": "Mpvw3-NApvku"
   },
   "source": [
    "Now whenever we type `np`, python will know we really mean `numpy`.\n",
    "\n",
    "There is a ton of useful stuff we can do with `numpy`, so let's redo the example above using `numpy` `arrays` instead of `lists`."
   ]
  },
  {
   "cell_type": "code",
   "execution_count": 8,
   "metadata": {
    "colab": {
     "base_uri": "https://localhost:8080/",
     "height": 34
    },
    "colab_type": "code",
    "executionInfo": {
     "elapsed": 558,
     "status": "ok",
     "timestamp": 1557762158182,
     "user": {
      "displayName": "Kelly Sovacool",
      "photoUrl": "https://lh3.googleusercontent.com/-WQsOgn6cXFg/AAAAAAAAAAI/AAAAAAAAAVA/ol7X28qyOHc/s64/photo.jpg",
      "userId": "07259925140867310896"
     },
     "user_tz": 240
    },
    "id": "nenQbNPypvkv",
    "outputId": "1946bc02-8764-43f7-a211-ad80a70e0bfe"
   },
   "outputs": [
    {
     "name": "stdout",
     "output_type": "stream",
     "text": [
      "[0 1 2 3 4]\n"
     ]
    }
   ],
   "source": [
    "# create a numpy array containing the numbers 0 through 4\n",
    "the_array = np.array([0, 1, 2, 3, 4])\n",
    "\n",
    "# you can print arrays just like lists\n",
    "print(the_array)"
   ]
  },
  {
   "cell_type": "markdown",
   "metadata": {
    "colab_type": "text",
    "id": "alY8TwmVpvk0"
   },
   "source": [
    "Numpy `arrays` act very similarly to regular python `lists`, we can grab individual items using the same syntax:"
   ]
  },
  {
   "cell_type": "code",
   "execution_count": 9,
   "metadata": {
    "colab": {
     "base_uri": "https://localhost:8080/",
     "height": 34
    },
    "colab_type": "code",
    "executionInfo": {
     "elapsed": 546,
     "status": "ok",
     "timestamp": 1557762158185,
     "user": {
      "displayName": "Kelly Sovacool",
      "photoUrl": "https://lh3.googleusercontent.com/-WQsOgn6cXFg/AAAAAAAAAAI/AAAAAAAAAVA/ol7X28qyOHc/s64/photo.jpg",
      "userId": "07259925140867310896"
     },
     "user_tz": 240
    },
    "id": "kyP00fcRpvk2",
    "outputId": "d36be2dc-83bb-4adf-aaf4-6305dccf692c"
   },
   "outputs": [
    {
     "name": "stdout",
     "output_type": "stream",
     "text": [
      "0\n"
     ]
    }
   ],
   "source": [
    "# Print any number from the numpy array you just created:\n",
    "print(the_array[0])"
   ]
  },
  {
   "cell_type": "markdown",
   "metadata": {
    "colab_type": "text",
    "id": "D5u5-neLpvk6"
   },
   "source": [
    "Numpy `arrays` also add a lot of useful features such as the ability to perform commands *on all items in a list at the same time*.\n",
    "\n",
    "We can demonstrate this by adding a number to all of the items in the Numpy `array`:"
   ]
  },
  {
   "cell_type": "code",
   "execution_count": 10,
   "metadata": {
    "colab": {
     "base_uri": "https://localhost:8080/",
     "height": 34
    },
    "colab_type": "code",
    "executionInfo": {
     "elapsed": 528,
     "status": "ok",
     "timestamp": 1557762158187,
     "user": {
      "displayName": "Kelly Sovacool",
      "photoUrl": "https://lh3.googleusercontent.com/-WQsOgn6cXFg/AAAAAAAAAAI/AAAAAAAAAVA/ol7X28qyOHc/s64/photo.jpg",
      "userId": "07259925140867310896"
     },
     "user_tz": 240
    },
    "id": "J2RmzwCrpvk7",
    "outputId": "4a0ebf88-fe79-409c-a7f6-286b9bbd61eb"
   },
   "outputs": [
    {
     "name": "stdout",
     "output_type": "stream",
     "text": [
      "[5 6 7 8 9]\n"
     ]
    }
   ],
   "source": [
    "# Add any number to the array we created above\n",
    "the_array += 5\n",
    "# print the array\n",
    "print(the_array)"
   ]
  },
  {
   "cell_type": "markdown",
   "metadata": {
    "colab_type": "text",
    "id": "REWquUE2pvlN"
   },
   "source": [
    "See how much easier that was than using a for loop? We will be using `numpy` for the rest of the day to perform calculations on arrays of data. In the above example we used addition, but you can also perform any mathematical operation we've talked about with `numpy` arrays.\n",
    "\n",
    "In this lesson you learned how to:\n",
    "* Load `numpy` into Python.\n",
    "* Create an `array` with `numpy`.\n",
    "* Perform math with `numpy` arrays.\n",
    "     \n",
    "Now, let's continue to practice with your partner!"
   ]
  }
 ],
 "metadata": {
  "colab": {
   "collapsed_sections": [],
   "name": "KEY_Lesson13_Numpy_Intro.ipynb",
   "provenance": [],
   "version": "0.3.2"
  },
  "kernelspec": {
   "display_name": "Python 3",
   "language": "python",
   "name": "python3"
  },
  "language_info": {
   "codemirror_mode": {
    "name": "ipython",
    "version": 3
   },
   "file_extension": ".py",
   "mimetype": "text/x-python",
   "name": "python",
   "nbconvert_exporter": "python",
   "pygments_lexer": "ipython3",
   "version": "3.7.3"
  }
 },
 "nbformat": 4,
 "nbformat_minor": 2
}

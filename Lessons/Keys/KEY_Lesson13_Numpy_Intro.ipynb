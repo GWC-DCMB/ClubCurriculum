{
 "cells": [
  {
   "cell_type": "markdown",
   "metadata": {},
   "source": [
    "# Introduction to Numpy\n",
    "\n",
    "In the last two days of camp, you have learned how to start using python and how to manipulate data with the `pandas` library. Today, we will be learning how to perform calculations with another library known as `numpy`. `numpy` allows you to do math on entire lists of data, all at the same time!"
   ]
  },
  {
   "cell_type": "markdown",
   "metadata": {},
   "source": [
    "To review what we learned on monday, let's create a list containing the numbers 0 through 5 and assign it to a variable:"
   ]
  },
  {
   "cell_type": "code",
   "execution_count": 1,
   "metadata": {},
   "outputs": [],
   "source": [
    "# Create a list containing the numbers 0 through 4\n",
    "\n",
    "thelist = [ 0, 1, 2, 3, 4 ]\n",
    "\n",
    "# or... (I don't know if we will have covered this)\n",
    "\n",
    "thelist = list( range( 5 ) )"
   ]
  },
  {
   "cell_type": "markdown",
   "metadata": {},
   "source": [
    "Using lists can be really useful, because you can store any set of data in the. For instance, you could store the temperature in your house each morning as a list.\n",
    "\n",
    "Now, lets add 1 to each of the items in the array:"
   ]
  },
  {
   "cell_type": "code",
   "execution_count": 2,
   "metadata": {},
   "outputs": [
    {
     "name": "stdout",
     "output_type": "stream",
     "text": [
      "[3, 4, 5, 6, 7]\n"
     ]
    }
   ],
   "source": [
    "# Add 1 to each item in the array you created above\n",
    "\n",
    "thelist[0] = thelist[0] + 1\n",
    "thelist[1] = thelist[1] + 1\n",
    "thelist[2] = thelist[2] + 1\n",
    "thelist[3] = thelist[3] + 1\n",
    "thelist[4] = thelist[4] + 1\n",
    "\n",
    "# or...\n",
    "\n",
    "for i in range( len( thelist ) ):\n",
    "    thelist[i] += 1\n",
    "\n",
    "# or...\n",
    "\n",
    "thelist = [i+1 for i in thelist]\n",
    "\n",
    "print( thelist )"
   ]
  },
  {
   "cell_type": "markdown",
   "metadata": {},
   "source": [
    "You might have noticed that this is much less convinent than with a single variable, where you can do something like this to add a number:"
   ]
  },
  {
   "cell_type": "code",
   "execution_count": 3,
   "metadata": {},
   "outputs": [
    {
     "name": "stdout",
     "output_type": "stream",
     "text": [
      "6\n"
     ]
    }
   ],
   "source": [
    "# create a single variable and add a number to it\n",
    "\n",
    "a = 5\n",
    "a += 1\n",
    "print( a )"
   ]
  },
  {
   "cell_type": "markdown",
   "metadata": {},
   "source": [
    "Today we will be using `numpy` which allows us to do just that!"
   ]
  },
  {
   "cell_type": "markdown",
   "metadata": {},
   "source": [
    "First we will import `numpy`:"
   ]
  },
  {
   "cell_type": "code",
   "execution_count": 4,
   "metadata": {},
   "outputs": [],
   "source": [
    "# Load numpy\n",
    "\n",
    "import numpy as np"
   ]
  },
  {
   "cell_type": "markdown",
   "metadata": {},
   "source": [
    "Now whenever we type `np`, python will know we are talking about `numpy`\n",
    "\n",
    "There is a ton of useful stuff we can do with numpy, let's redo the example above:"
   ]
  },
  {
   "cell_type": "code",
   "execution_count": 5,
   "metadata": {},
   "outputs": [
    {
     "name": "stdout",
     "output_type": "stream",
     "text": [
      "[0 1 2 3 4]\n"
     ]
    }
   ],
   "source": [
    "# create a numpy array containing the numbers 0 through 4\n",
    "\n",
    "thelist = np.array( [ 0, 1, 2, 3, 4 ] )\n",
    "\n",
    "# or...\n",
    "\n",
    "thelist = np.array( range( 5 ) ) \n",
    "\n",
    "print( thelist )"
   ]
  },
  {
   "cell_type": "markdown",
   "metadata": {},
   "source": [
    "Numpy `arrays` act very similarly to regular python `lists`, we can grab individual items using the same syntax:"
   ]
  },
  {
   "cell_type": "code",
   "execution_count": 6,
   "metadata": {},
   "outputs": [
    {
     "name": "stdout",
     "output_type": "stream",
     "text": [
      "0\n"
     ]
    }
   ],
   "source": [
    "# Print a number from the numpy array you just created:\n",
    "\n",
    "print( thelist[0] )"
   ]
  },
  {
   "cell_type": "markdown",
   "metadata": {},
   "source": [
    "But Numpy `arrays` also add a lot of useful features such as the ability to perform commands *on all items in a list at the same time*.\n",
    "\n",
    "We can demonstrate this by adding a number to all of the items in the Numpy `array`:"
   ]
  },
  {
   "cell_type": "code",
   "execution_count": 7,
   "metadata": {},
   "outputs": [
    {
     "name": "stdout",
     "output_type": "stream",
     "text": [
      "[5 6 7 8 9]\n"
     ]
    }
   ],
   "source": [
    "# Add any number to the list we created above\n",
    "\n",
    "thelist += 5\n",
    "\n",
    "print( thelist )"
   ]
  },
  {
   "cell_type": "markdown",
   "metadata": {},
   "source": [
    "See how much easier that was? We will be using Numpy for the rest of the day to perform calculations on arrays of data. It is useful to note that you can perform any mathematical operation we talked about on Monday with numpy arrays, even though we used addition as an example above.\n",
    "\n",
    "In this lesson you learned how to:\n",
    "     - Load Numpy into Python\n",
    "     - Create an array with Numpy\n",
    "     - Perform math with Numpy arrays\n",
    "     \n",
    "Now, lets continue to practice with your partner!"
   ]
  }
 ],
 "metadata": {
  "kernelspec": {
   "display_name": "Python 3",
   "language": "python",
   "name": "python3"
  },
  "language_info": {
   "codemirror_mode": {
    "name": "ipython",
    "version": 3
   },
   "file_extension": ".py",
   "mimetype": "text/x-python",
   "name": "python",
   "nbconvert_exporter": "python",
   "pygments_lexer": "ipython3",
   "version": "3.7.3"
  }
 },
 "nbformat": 4,
 "nbformat_minor": 2
}

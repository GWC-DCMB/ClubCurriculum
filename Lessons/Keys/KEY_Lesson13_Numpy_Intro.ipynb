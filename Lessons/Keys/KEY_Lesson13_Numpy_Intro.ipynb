{
 "cells": [
  {
   "cell_type": "markdown",
   "metadata": {
    "colab_type": "text",
    "id": "fhg6JOUipvkU"
   },
   "source": [
    "# Introduction to Numpy\n",
    "\n",
    "In the last two days of camp, you have learned how to start using python and how to manipulate data with the `pandas` library. Today, we will be learning how to perform calculations with another library known as `numpy`. `numpy` allows you to do math on entire lists of data, all at the same time!"
   ]
  },
  {
   "cell_type": "markdown",
   "metadata": {
    "colab_type": "text",
    "id": "YoGzk6H1pvkV"
   },
   "source": [
    "To review what we learned on monday, let's create a list containing the numbers 0 through 5 and assign it to a variable:"
   ]
  },
  {
   "cell_type": "code",
   "execution_count": 5,
   "metadata": {
    "colab": {},
    "colab_type": "code",
    "id": "s2EQD0wEpvkW"
   },
   "outputs": [],
   "source": [
    "# Create a list containing the numbers 0 through 4\n",
    "data = [0, 1, 2, 3, 4]\n",
    "\n",
    "# or convert the range to a list\n",
    "data = list(range(5))"
   ]
  },
  {
   "cell_type": "code",
   "execution_count": 6,
   "metadata": {
    "colab": {
     "base_uri": "https://localhost:8080/",
     "height": 34
    },
    "colab_type": "code",
    "executionInfo": {
     "elapsed": 458,
     "status": "ok",
     "timestamp": 1557762157941,
     "user": {
      "displayName": "Kelly Sovacool",
      "photoUrl": "https://lh3.googleusercontent.com/-WQsOgn6cXFg/AAAAAAAAAAI/AAAAAAAAAVA/ol7X28qyOHc/s64/photo.jpg",
      "userId": "07259925140867310896"
     },
     "user_tz": 240
    },
    "id": "N1uGkMLj2us0",
    "outputId": "2ccd4679-e638-412a-9857-b24ac7b3dc57"
   },
   "outputs": [
    {
     "name": "stdout",
     "output_type": "stream",
     "text": [
      "[0, 1, 2, 3, 4]\n"
     ]
    }
   ],
   "source": [
    "# let's see what it looks like\n",
    "print(data)"
   ]
  },
  {
   "cell_type": "markdown",
   "metadata": {
    "colab_type": "text",
    "id": "OvSKPwFspvka"
   },
   "source": [
    "Using lists can be really useful, because you can store any set of data in the. For instance, you could store the temperature in your house each morning as a list.\n",
    "\n",
    "Now, lets add 1 to each of the items in the list. Is there a simple way to do this?"
   ]
  },
  {
   "cell_type": "code",
   "execution_count": 7,
   "metadata": {},
   "outputs": [
    {
     "ename": "TypeError",
     "evalue": "can only concatenate list (not \"int\") to list",
     "output_type": "error",
     "traceback": [
      "\u001b[0;31m---------------------------------------------------------------------------\u001b[0m",
      "\u001b[0;31mTypeError\u001b[0m                                 Traceback (most recent call last)",
      "\u001b[0;32m<ipython-input-7-1943d790f594>\u001b[0m in \u001b[0;36m<module>\u001b[0;34m\u001b[0m\n\u001b[0;32m----> 1\u001b[0;31m \u001b[0mdata\u001b[0m \u001b[0;34m+\u001b[0m \u001b[0;36m1\u001b[0m\u001b[0;34m\u001b[0m\u001b[0;34m\u001b[0m\u001b[0m\n\u001b[0m",
      "\u001b[0;31mTypeError\u001b[0m: can only concatenate list (not \"int\") to list"
     ]
    }
   ],
   "source": [
    "data + 1"
   ]
  },
  {
   "cell_type": "markdown",
   "metadata": {},
   "source": [
    "hmm ... that didn't work! That is because the `+` operator acts as a concatenation operator on lists, and we learned in Lesson 2 that we can only concatenate lists with lists, not integers. \n",
    "\n",
    "Another way we could update our list is to add 1 to each of the items in the list individually. We can do this by **indexing** to isolate each value in the list one by one. "
   ]
  },
  {
   "cell_type": "code",
   "execution_count": 9,
   "metadata": {
    "colab": {
     "base_uri": "https://localhost:8080/",
     "height": 34
    },
    "colab_type": "code",
    "executionInfo": {
     "elapsed": 443,
     "status": "ok",
     "timestamp": 1557762157942,
     "user": {
      "displayName": "Kelly Sovacool",
      "photoUrl": "https://lh3.googleusercontent.com/-WQsOgn6cXFg/AAAAAAAAAAI/AAAAAAAAAVA/ol7X28qyOHc/s64/photo.jpg",
      "userId": "07259925140867310896"
     },
     "user_tz": 240
    },
    "id": "qFchEEvkpvkb",
    "outputId": "be998fe3-f400-4b93-a0c9-595973515f34"
   },
   "outputs": [
    {
     "name": "stdout",
     "output_type": "stream",
     "text": [
      "[1, 2, 3, 4, 5]\n"
     ]
    }
   ],
   "source": [
    "# Add 1 to each item in the array you created above\n",
    "data[0] = data[0] + 1\n",
    "data[1] = data[1] + 1\n",
    "data[2] = data[2] + 1\n",
    "data[3] = data[3] + 1\n",
    "data[4] = data[4] + 1\n",
    "\n",
    "# print the list to see how it changed\n",
    "print(data)"
   ]
  },
  {
   "cell_type": "markdown",
   "metadata": {
    "colab_type": "text",
    "id": "9vRgbEEhpvkk"
   },
   "source": [
    "You might have noticed that this is a little less convenient than with a single variable, where you can do something like this to add a number:"
   ]
  },
  {
   "cell_type": "code",
   "execution_count": 6,
   "metadata": {
    "colab": {
     "base_uri": "https://localhost:8080/",
     "height": 34
    },
    "colab_type": "code",
    "executionInfo": {
     "elapsed": 354,
     "status": "ok",
     "timestamp": 1557762157947,
     "user": {
      "displayName": "Kelly Sovacool",
      "photoUrl": "https://lh3.googleusercontent.com/-WQsOgn6cXFg/AAAAAAAAAAI/AAAAAAAAAVA/ol7X28qyOHc/s64/photo.jpg",
      "userId": "07259925140867310896"
     },
     "user_tz": 240
    },
    "id": "jc5cRe99pvkl",
    "outputId": "062b47dc-b393-4c83-d26c-eb98d6f18b6e"
   },
   "outputs": [
    {
     "name": "stdout",
     "output_type": "stream",
     "text": [
      "6\n"
     ]
    }
   ],
   "source": [
    "# create a single variable and add a number to it\n",
    "a = 5\n",
    "a += 1\n",
    "print(a)"
   ]
  },
  {
   "cell_type": "markdown",
   "metadata": {
    "colab_type": "text",
    "id": "ZPdA2YAmpvkp"
   },
   "source": [
    "Today we will be using `numpy`, which allows us to quickly and efficiently perform mathematical operations on entire lists (or, as they're called in `numpy`, *arrays*)!"
   ]
  },
  {
   "cell_type": "markdown",
   "metadata": {
    "colab_type": "text",
    "id": "kxiwgby4pvkq"
   },
   "source": [
    "First we will import `numpy`. Remember when we imported `pandas`, we gave it the special nickname `pd`? We're also going to give `numpy` a nickname: `np`:"
   ]
  },
  {
   "cell_type": "code",
   "execution_count": 10,
   "metadata": {
    "colab": {},
    "colab_type": "code",
    "id": "uN4ydfz8pvkr"
   },
   "outputs": [],
   "source": [
    "# Load numpy\n",
    "import numpy as np"
   ]
  },
  {
   "cell_type": "markdown",
   "metadata": {
    "colab_type": "text",
    "id": "Mpvw3-NApvku"
   },
   "source": [
    "Now whenever we type `np`, python will know we really mean `numpy`.\n",
    "\n",
    "There is a ton of useful stuff we can do with `numpy`, so let's re-do the example above using `numpy` `arrays` instead of `lists`."
   ]
  },
  {
   "cell_type": "code",
   "execution_count": 15,
   "metadata": {
    "colab": {
     "base_uri": "https://localhost:8080/",
     "height": 34
    },
    "colab_type": "code",
    "executionInfo": {
     "elapsed": 558,
     "status": "ok",
     "timestamp": 1557762158182,
     "user": {
      "displayName": "Kelly Sovacool",
      "photoUrl": "https://lh3.googleusercontent.com/-WQsOgn6cXFg/AAAAAAAAAAI/AAAAAAAAAVA/ol7X28qyOHc/s64/photo.jpg",
      "userId": "07259925140867310896"
     },
     "user_tz": 240
    },
    "id": "nenQbNPypvkv",
    "outputId": "1946bc02-8764-43f7-a211-ad80a70e0bfe"
   },
   "outputs": [
    {
     "name": "stdout",
     "output_type": "stream",
     "text": [
      "[0 1 2 3 4]\n"
     ]
    }
   ],
   "source": [
    "# create a numpy array containing the numbers 0 through 4\n",
    "data_array = np.array([0, 1, 2, 3, 4])\n",
    "\n",
    "# you can print arrays just like lists\n",
    "print(data_array)\n"
   ]
  },
  {
   "cell_type": "markdown",
   "metadata": {
    "colab_type": "text",
    "id": "alY8TwmVpvk0"
   },
   "source": [
    "Numpy `arrays` act very similarly to regular python `lists`, we can grab individual items using the same syntax:"
   ]
  },
  {
   "cell_type": "code",
   "execution_count": 13,
   "metadata": {
    "colab": {
     "base_uri": "https://localhost:8080/",
     "height": 34
    },
    "colab_type": "code",
    "executionInfo": {
     "elapsed": 546,
     "status": "ok",
     "timestamp": 1557762158185,
     "user": {
      "displayName": "Kelly Sovacool",
      "photoUrl": "https://lh3.googleusercontent.com/-WQsOgn6cXFg/AAAAAAAAAAI/AAAAAAAAAVA/ol7X28qyOHc/s64/photo.jpg",
      "userId": "07259925140867310896"
     },
     "user_tz": 240
    },
    "id": "kyP00fcRpvk2",
    "outputId": "d36be2dc-83bb-4adf-aaf4-6305dccf692c"
   },
   "outputs": [
    {
     "name": "stdout",
     "output_type": "stream",
     "text": [
      "0\n"
     ]
    }
   ],
   "source": [
    "# Print any number from the numpy array you just created:\n",
    "print(data_array[0])"
   ]
  },
  {
   "cell_type": "markdown",
   "metadata": {
    "colab_type": "text",
    "id": "D5u5-neLpvk6"
   },
   "source": [
    "Numpy `arrays` also add a lot of useful features such as the ability to perform commands *on all items in a list at the same time*.\n",
    "\n",
    "We can demonstrate this by adding a number to all of the items in the Numpy `array`:"
   ]
  },
  {
   "cell_type": "code",
   "execution_count": 16,
   "metadata": {
    "colab": {
     "base_uri": "https://localhost:8080/",
     "height": 34
    },
    "colab_type": "code",
    "executionInfo": {
     "elapsed": 528,
     "status": "ok",
     "timestamp": 1557762158187,
     "user": {
      "displayName": "Kelly Sovacool",
      "photoUrl": "https://lh3.googleusercontent.com/-WQsOgn6cXFg/AAAAAAAAAAI/AAAAAAAAAVA/ol7X28qyOHc/s64/photo.jpg",
      "userId": "07259925140867310896"
     },
     "user_tz": 240
    },
    "id": "J2RmzwCrpvk7",
    "outputId": "4a0ebf88-fe79-409c-a7f6-286b9bbd61eb"
   },
   "outputs": [
    {
     "name": "stdout",
     "output_type": "stream",
     "text": [
      "[5 6 7 8 9]\n"
     ]
    }
   ],
   "source": [
    "# Add any number to the array we created above\n",
    "data_array += 5\n",
    "\n",
    "# print the array\n",
    "print(data_array)"
   ]
  },
  {
   "cell_type": "markdown",
   "metadata": {
    "colab_type": "text",
    "id": "REWquUE2pvlN"
   },
   "source": [
    "See how much easier that was than manually changing each element of a list? We will be using `numpy` for the rest of the day to perform calculations on arrays of data. In the above example we used addition, but you can also perform any mathematical operation we've talked about with `numpy` arrays.\n",
    "\n",
    "In this lesson you learned how to:\n",
    "* Load `numpy` into Python.\n",
    "* Create an `array` with `numpy`.\n",
    "* Perform math with `numpy` arrays.\n",
    "     \n",
    "Now, let's continue to practice with your partner!"
   ]
  }
 ],
 "metadata": {
  "colab": {
   "collapsed_sections": [],
   "name": "KEY_Lesson13_Numpy_Intro.ipynb",
   "provenance": [],
   "version": "0.3.2"
  },
  "kernelspec": {
   "display_name": "Python 3",
   "language": "python",
   "name": "python3"
  },
  "language_info": {
   "codemirror_mode": {
    "name": "ipython",
    "version": 3
   },
   "file_extension": ".py",
   "mimetype": "text/x-python",
   "name": "python",
   "nbconvert_exporter": "python",
   "pygments_lexer": "ipython3",
   "version": "3.7.3"
  }
 },
 "nbformat": 4,
 "nbformat_minor": 2
}

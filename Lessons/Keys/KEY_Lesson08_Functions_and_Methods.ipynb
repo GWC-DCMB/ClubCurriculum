{
 "cells": [
  {
   "cell_type": "markdown",
   "metadata": {},
   "source": [
    "# Functions and Methods\n",
    "\n",
    "Functions and methods are things that take an input, do something with that input, and then spit out an output. You've already been using functions and methods! \n",
    "\n",
    "Examples of functions:\n",
    "- `print`: prints the input out to the screen\n",
    "- `len`: finds the length of the input\n",
    "\n",
    "Example of a method:\n",
    "- `append`: appends elements to a list\n",
    "\n",
    "So what's the difference between functions and methods?\n",
    "\n",
    "- **Functions** can take lots of different object types as input. For example, `print` can take a variety of inputs including a variable, a string, a list, or numbers. \n",
    "- **Methods** are special cases of functions, so everything that is true for functions is also true for methods (i.e. they can take a variety of input). However, methods *can only be used on one specific type of variable*. For example, append can only be used on lists (and not strings or numbers).\n",
    "\n",
    "Differences in syntax (how we write it to use it):\n",
    "- The input to **functions** goes *between* parentheses after the name of function\n",
    "  - Example: `print(print_input)` \n",
    "\n",
    "\n",
    "- For **methods**, the variable they operate on comes *before* the name of the method and is followed by a period (`.`). Then, any other input the method might require goes between the parentheses, similar to functions.\n",
    "  - Example: `mylist.append(what_to_append)`\n",
    "  \n",
    "We're going to learn a few more functions and methods here!\n",
    "\n",
    "Let's start by learning some functions and methods we can use with lists of numbers!"
   ]
  },
  {
   "cell_type": "code",
   "execution_count": 1,
   "metadata": {},
   "outputs": [],
   "source": [
    "# make a list of numbers\n",
    "numbers = [10,2.3,-4,20,14,1,2,0,-3,1,-2,2,2,65.4,3,-23,123,43.1,32,57,32]"
   ]
  },
  {
   "cell_type": "markdown",
   "metadata": {},
   "source": [
    "What function can you use to find the length of this list? Use this function to find the length:"
   ]
  },
  {
   "cell_type": "code",
   "execution_count": 2,
   "metadata": {},
   "outputs": [
    {
     "data": {
      "text/plain": [
       "21"
      ]
     },
     "execution_count": 2,
     "metadata": {},
     "output_type": "execute_result"
    }
   ],
   "source": [
    "# get the length of numbers\n",
    "len(numbers)"
   ]
  },
  {
   "cell_type": "markdown",
   "metadata": {},
   "source": [
    "If you're not sure how to use a function, you can use the function `help` to get more information about it. Here's an example to find more information about length:"
   ]
  },
  {
   "cell_type": "code",
   "execution_count": 3,
   "metadata": {},
   "outputs": [
    {
     "name": "stdout",
     "output_type": "stream",
     "text": [
      "Help on built-in function len in module builtins:\n",
      "\n",
      "len(obj, /)\n",
      "    Return the number of items in a container.\n",
      "\n"
     ]
    }
   ],
   "source": [
    "help(len)"
   ]
  },
  {
   "cell_type": "markdown",
   "metadata": {},
   "source": [
    "It tells you that `len` takes an object and returns the number of items in the object.\n",
    "\n",
    "To get the object type of `numbers` we can use the function `type`:"
   ]
  },
  {
   "cell_type": "code",
   "execution_count": 5,
   "metadata": {},
   "outputs": [
    {
     "data": {
      "text/plain": [
       "list"
      ]
     },
     "execution_count": 5,
     "metadata": {},
     "output_type": "execute_result"
    }
   ],
   "source": [
    "# print the type of numbers\n",
    "type(numbers)"
   ]
  },
  {
   "cell_type": "markdown",
   "metadata": {},
   "source": [
    "Nice! It's a list, just like we expected. What do you think the type is of the first element in `numbers`?"
   ]
  },
  {
   "cell_type": "code",
   "execution_count": 6,
   "metadata": {},
   "outputs": [
    {
     "name": "stdout",
     "output_type": "stream",
     "text": [
      "10\n"
     ]
    },
    {
     "data": {
      "text/plain": [
       "int"
      ]
     },
     "execution_count": 6,
     "metadata": {},
     "output_type": "execute_result"
    }
   ],
   "source": [
    "# print the first element of numbers\n",
    "print(numbers[0])\n",
    "\n",
    "# print the type of the first element of numbers\n",
    "type(numbers[0])"
   ]
  },
  {
   "cell_type": "markdown",
   "metadata": {},
   "source": [
    "It's an integer. What about the type of the second element of numbers?"
   ]
  },
  {
   "cell_type": "code",
   "execution_count": 8,
   "metadata": {},
   "outputs": [
    {
     "name": "stdout",
     "output_type": "stream",
     "text": [
      "2.3\n"
     ]
    },
    {
     "data": {
      "text/plain": [
       "float"
      ]
     },
     "execution_count": 8,
     "metadata": {},
     "output_type": "execute_result"
    }
   ],
   "source": [
    "# print the second element of numbers\n",
    "print(numbers[1])\n",
    "\n",
    "# print the type of the second element of numbers\n",
    "type(numbers[1])"
   ]
  },
  {
   "cell_type": "markdown",
   "metadata": {},
   "source": [
    "It's a float. This means it has a decimal place (so it's not an integer). \n",
    "\n",
    "We can also find the absolute value of a number. Print the third element and then print the absolute value of this number using the function `abs`:"
   ]
  },
  {
   "cell_type": "code",
   "execution_count": 9,
   "metadata": {},
   "outputs": [
    {
     "name": "stdout",
     "output_type": "stream",
     "text": [
      "-4\n",
      "4\n"
     ]
    }
   ],
   "source": [
    "# print the third element of numbers\n",
    "print(numbers[2])\n",
    "\n",
    "# print the type of the third element of numbers\n",
    "print(abs(numbers[2]))"
   ]
  },
  {
   "cell_type": "markdown",
   "metadata": {},
   "source": [
    "Now let's find the minimum of the numbers list using the function `min` and the maximum of the numbers list using the function `max`:"
   ]
  },
  {
   "cell_type": "code",
   "execution_count": 10,
   "metadata": {},
   "outputs": [
    {
     "name": "stdout",
     "output_type": "stream",
     "text": [
      "-23\n",
      "123\n"
     ]
    }
   ],
   "source": [
    "# print the minimum of the numbers list\n",
    "print(min(numbers))\n",
    "\n",
    "# print the maximum of the numbers list\n",
    "print(max(numbers))"
   ]
  },
  {
   "cell_type": "markdown",
   "metadata": {},
   "source": [
    "We can also find the sum of all of the numbers in `numbers` using the function `sum`:"
   ]
  },
  {
   "cell_type": "code",
   "execution_count": 11,
   "metadata": {},
   "outputs": [
    {
     "name": "stdout",
     "output_type": "stream",
     "text": [
      "377.8\n"
     ]
    }
   ],
   "source": [
    "# print the sum of numbers\n",
    "print(sum(numbers))"
   ]
  },
  {
   "cell_type": "markdown",
   "metadata": {},
   "source": [
    "What if we want to find the mean of this list? If you remember from math class the formula for calculating a list is as follows:\n",
    "<center> mean = sum_of_all_values/total_number_of_values</center>\n",
    "\n",
    "\n",
    "\n",
    "Hint: We can use the functions `sum` and `len` to do this."
   ]
  },
  {
   "cell_type": "code",
   "execution_count": 15,
   "metadata": {},
   "outputs": [
    {
     "name": "stdout",
     "output_type": "stream",
     "text": [
      "17.99047619047619\n"
     ]
    }
   ],
   "source": [
    "# save the mean of the numbers list to the variable avg\n",
    "avg = sum(numbers)/len(numbers)\n",
    "\n",
    "# print avg\n",
    "print(avg)"
   ]
  },
  {
   "cell_type": "markdown",
   "metadata": {},
   "source": [
    "What if we want to round this number so there aren't so many decimal places? We can use the function `round` to do this:"
   ]
  },
  {
   "cell_type": "code",
   "execution_count": 16,
   "metadata": {},
   "outputs": [
    {
     "name": "stdout",
     "output_type": "stream",
     "text": [
      "18\n"
     ]
    }
   ],
   "source": [
    "# round avg\n",
    "print(round(avg))"
   ]
  },
  {
   "cell_type": "markdown",
   "metadata": {},
   "source": [
    "What if we want to include 2 decimal places when we round? We can use what's called an *argument* to tell the function that we want to do this. First, let's look at the help description for `round`:"
   ]
  },
  {
   "cell_type": "code",
   "execution_count": 17,
   "metadata": {},
   "outputs": [
    {
     "name": "stdout",
     "output_type": "stream",
     "text": [
      "Help on built-in function round in module builtins:\n",
      "\n",
      "round(number, ndigits=None)\n",
      "    Round a number to a given precision in decimal digits.\n",
      "    \n",
      "    The return value is an integer if ndigits is omitted or None.  Otherwise\n",
      "    the return value has the same type as the number.  ndigits may be negative.\n",
      "\n"
     ]
    }
   ],
   "source": [
    "help(round)"
   ]
  },
  {
   "cell_type": "markdown",
   "metadata": {},
   "source": [
    "It says that the default number of digits to round to is zero, but you can also give an argument (i.e. another input to the `round` function) to specify the number of digits. To add an argument, you put a comma after the input and then the argument. Let's try it out!"
   ]
  },
  {
   "cell_type": "code",
   "execution_count": 18,
   "metadata": {},
   "outputs": [
    {
     "name": "stdout",
     "output_type": "stream",
     "text": [
      "17.99\n"
     ]
    }
   ],
   "source": [
    "# print avg rounded to 2 decimal places\n",
    "print(round(avg,2))"
   ]
  },
  {
   "cell_type": "markdown",
   "metadata": {},
   "source": [
    "Nice job! You just learned about functions in Python! You learned:\n",
    "- What functions and methods do\n",
    "- The difference between functions and methods\n",
    "- How to learn more about a certain function or method (using the `help` function)\n",
    "- New functions: `max`, `min`, `sum`, `abs`, `round`\n",
    "- Functions can take arguments that modify the output "
   ]
  }
 ],
 "metadata": {
  "kernelspec": {
   "display_name": "Python 3",
   "language": "python",
   "name": "python3"
  },
  "language_info": {
   "codemirror_mode": {
    "name": "ipython",
    "version": 3
   },
   "file_extension": ".py",
   "mimetype": "text/x-python",
   "name": "python",
   "nbconvert_exporter": "python",
   "pygments_lexer": "ipython3",
   "version": "3.7.3"
  }
 },
 "nbformat": 4,
 "nbformat_minor": 2
}

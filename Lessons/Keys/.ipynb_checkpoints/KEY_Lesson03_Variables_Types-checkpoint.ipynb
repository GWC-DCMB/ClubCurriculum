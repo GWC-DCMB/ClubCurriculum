{
 "cells": [
  {
   "cell_type": "markdown",
   "metadata": {},
   "source": [
    "# Types\n",
    "\n",
    "So far we have only used variables to represent numbers. In fact, Python allows us to store several different kinds of data and assign their values to variables. These basic kinds of data come in pre-defined flavors, called **types**. Each type has certain key ways to identify it and certain rules that it has to follow. All variables fall into some type, and you can use the `type` function to determine the type of any variable. Let's test this with our `apples` variable from above."
   ]
  },
  {
   "cell_type": "code",
   "execution_count": 3,
   "metadata": {},
   "outputs": [
    {
     "data": {
      "text/plain": [
       "int"
      ]
     },
     "execution_count": 3,
     "metadata": {},
     "output_type": "execute_result"
    }
   ],
   "source": [
    "# remeber from last lesson that we were left with 4 apples, so assign 4 to a variable apple\n",
    "# what is the type for the variable apples?\n",
    "apples = 4\n",
    "type(apples)"
   ]
  },
  {
   "cell_type": "markdown",
   "metadata": {},
   "source": [
    "### Numeric Types\n",
    "\n",
    "`int` stands for integer, which means a whole number or a number that does not have any decimal value. You may have heard this word before in your math classes. Integers follow basic mathematical rules and can be manipulated with standard mathematical operators, like we saw in the previous lesson. \n",
    "\n",
    "Another numerical type is called `float`, which stands for floating point number. This type represents numbers with decimal values. Let's see an example."
   ]
  },
  {
   "cell_type": "code",
   "execution_count": 4,
   "metadata": {},
   "outputs": [
    {
     "data": {
      "text/plain": [
       "float"
      ]
     },
     "execution_count": 4,
     "metadata": {},
     "output_type": "execute_result"
    }
   ],
   "source": [
    "# create float variable oranges, print type\n",
    "oranges = 3.5\n",
    "type(oranges)"
   ]
  },
  {
   "cell_type": "markdown",
   "metadata": {},
   "source": [
    "`float` variables are very similar to `int` variables, since they are both numeric types and abide by the same basic mathematical rules. We can even convert between one type to another."
   ]
  },
  {
   "cell_type": "code",
   "execution_count": 5,
   "metadata": {},
   "outputs": [
    {
     "name": "stdout",
     "output_type": "stream",
     "text": [
      "4.0\n"
     ]
    },
    {
     "data": {
      "text/plain": [
       "float"
      ]
     },
     "execution_count": 5,
     "metadata": {},
     "output_type": "execute_result"
    }
   ],
   "source": [
    "# int to float\n",
    "apples = float(apples)\n",
    "print(apples)\n",
    "type(apples)"
   ]
  },
  {
   "cell_type": "code",
   "execution_count": 6,
   "metadata": {},
   "outputs": [
    {
     "name": "stdout",
     "output_type": "stream",
     "text": [
      "3\n"
     ]
    },
    {
     "data": {
      "text/plain": [
       "int"
      ]
     },
     "execution_count": 6,
     "metadata": {},
     "output_type": "execute_result"
    }
   ],
   "source": [
    "# float to int\n",
    "oranges = int(oranges)\n",
    "print(oranges)\n",
    "type(oranges)"
   ]
  },
  {
   "cell_type": "code",
   "execution_count": 7,
   "metadata": {},
   "outputs": [
    {
     "name": "stdout",
     "output_type": "stream",
     "text": [
      "3.3\n"
     ]
    },
    {
     "data": {
      "text/plain": [
       "float"
      ]
     },
     "execution_count": 7,
     "metadata": {},
     "output_type": "execute_result"
    }
   ],
   "source": [
    "# add float to int\n",
    "oranges += 0.3\n",
    "print(oranges)\n",
    "type(oranges)"
   ]
  },
  {
   "cell_type": "code",
   "execution_count": 8,
   "metadata": {},
   "outputs": [
    {
     "name": "stdout",
     "output_type": "stream",
     "text": [
      "7.3\n"
     ]
    },
    {
     "data": {
      "text/plain": [
       "float"
      ]
     },
     "execution_count": 8,
     "metadata": {},
     "output_type": "execute_result"
    }
   ],
   "source": [
    "# add int to float\n",
    "oranges += 4\n",
    "print(oranges)\n",
    "type(oranges)"
   ]
  },
  {
   "cell_type": "markdown",
   "metadata": {},
   "source": [
    "### Strings\n",
    "\n",
    "When you think of data science, you may think mainly of numbers and statistics, but sometimes we need to analyze data in other forms as well. Often we need to work with text data, which are called **strings** in Python and designated using `str`. Strings are comprised of characters, like letters or symbols, or a bunch of characters put together, like words. Strings are defined using single quotations `' '` or double quotations `\" \"`, as long as they match at the start and end of the string. This is what separates strings from varaible or function names and tells Python to view it as a string value. Remember that everything in programming is extremely literal, so we have to be very explicit about what we mean when writing code. \n",
    "\n",
    "We used a string in our very first line of code from the last lesson - can anyone remember what it was?"
   ]
  },
  {
   "cell_type": "code",
   "execution_count": 9,
   "metadata": {},
   "outputs": [
    {
     "data": {
      "text/plain": [
       "str"
      ]
     },
     "execution_count": 9,
     "metadata": {},
     "output_type": "execute_result"
    }
   ],
   "source": [
    "# create string variable name, print type\n",
    "name = \"Marlena\"\n",
    "type(name)"
   ]
  },
  {
   "cell_type": "markdown",
   "metadata": {},
   "source": [
    "Like the numeric types, strings have to follow some basic rules for how they can behave in Python. While we can't perform mathematical addition with strings, we can combine strings together using the `+` operator. This is called **concatenating**."
   ]
  },
  {
   "cell_type": "code",
   "execution_count": 10,
   "metadata": {},
   "outputs": [
    {
     "name": "stdout",
     "output_type": "stream",
     "text": [
      "MarlenaDuda\n",
      "Marlena Duda\n"
     ]
    }
   ],
   "source": [
    "# print first name + last name\n",
    "print(\"Marlena\" + \"Duda\")\n",
    "\n",
    "# add space in between\n",
    "print(\"Marlena\" + \" \" + \"Duda\")"
   ]
  },
  {
   "cell_type": "markdown",
   "metadata": {},
   "source": [
    "We can also use the multiplication operator on strings. Can anyone guess what that might do?"
   ]
  },
  {
   "cell_type": "code",
   "execution_count": 11,
   "metadata": {},
   "outputs": [
    {
     "data": {
      "text/plain": [
       "'Hello World Hello World Hello World Hello World Hello World Hello World Hello World Hello World Hello World Hello World '"
      ]
     },
     "execution_count": 11,
     "metadata": {},
     "output_type": "execute_result"
    }
   ],
   "source": [
    "# use multiplication operator on string\n",
    "\"Hello World \" *10"
   ]
  },
  {
   "cell_type": "markdown",
   "metadata": {},
   "source": [
    "However, not all the operators we learned in the last lesson work with strings. We can't do subtract or divide strings, and we also can't add numeric values to strings or multiply strings with other strings. Let's see what kinds of errors arise when we try to break these string rules."
   ]
  },
  {
   "cell_type": "code",
   "execution_count": 12,
   "metadata": {},
   "outputs": [],
   "source": [
    "# uncomment these lines one by one to see the resulting error messages\n",
    "\n",
    "#\"Hello World\" - \"Hello\"\n",
    "\n",
    "#\"Marlena\"/\"Duda\"\n",
    "\n",
    "#\"Marlena\" * \"GWC\"\n",
    "\n",
    "#\"GWC\" + 2019"
   ]
  },
  {
   "cell_type": "markdown",
   "metadata": {},
   "source": [
    "Though there is a clear distinction between numeric and string variables, string variables can contain numbers, which are seen as numeric characters in this context. "
   ]
  },
  {
   "cell_type": "code",
   "execution_count": 13,
   "metadata": {},
   "outputs": [],
   "source": [
    "# create string variable date with today's date\n",
    "date = \"7/15/2019\""
   ]
  },
  {
   "cell_type": "markdown",
   "metadata": {},
   "source": [
    "### Booleans\n",
    "\n",
    "One last basic data type in Python is called the boolean, or `bool`, which is a special type of variable that can take only on the value of `True` or `False`. "
   ]
  },
  {
   "cell_type": "code",
   "execution_count": 14,
   "metadata": {},
   "outputs": [
    {
     "data": {
      "text/plain": [
       "bool"
      ]
     },
     "execution_count": 14,
     "metadata": {},
     "output_type": "execute_result"
    }
   ],
   "source": [
    "# create boolean variable and print type\n",
    "approved = True\n",
    "type(approved)"
   ]
  },
  {
   "cell_type": "markdown",
   "metadata": {},
   "source": [
    "Boolean variables can be assigned directly using the special reserved words of `True` or `False` like we saw above, but they can also be generated as the result of comparison operators: \n",
    "\n",
    "`<`   less than\n",
    "\n",
    "\n",
    "`>`   greater than\n",
    "\n",
    "\n",
    "`<=`  less than/equal to\n",
    "\n",
    "\n",
    "`>=`  greater than or equal to\n",
    "\n",
    "\n",
    "`==`  equal to\n",
    "\n",
    "\n",
    "`!=`  not equal to\n",
    "\n",
    "\n",
    "Pay special attention to the `==` operator - this tests whether or not two values are exactly equal to eachother, and is an important distinction from the `=` operator, which assigns a value to a variable. "
   ]
  },
  {
   "cell_type": "code",
   "execution_count": 15,
   "metadata": {},
   "outputs": [
    {
     "name": "stdout",
     "output_type": "stream",
     "text": [
      "False\n"
     ]
    },
    {
     "data": {
      "text/plain": [
       "bool"
      ]
     },
     "execution_count": 15,
     "metadata": {},
     "output_type": "execute_result"
    }
   ],
   "source": [
    "# generate boolean variables using comparison operators\n",
    "check_equal = apples == 7\n",
    "print(check_equal)\n",
    "type(check_equal)"
   ]
  },
  {
   "cell_type": "markdown",
   "metadata": {},
   "source": [
    "While we've seen that booleans take on the values of `True` or `False`, they also have a numeric representation: `True` = 1 and `False` = 0. As such, boolean variables follow mathematical rules and can be manipulated using mathematical operators. This can be useful when you want to quickly count up the number of `True` values in a list, for example. Let's play with this below."
   ]
  },
  {
   "cell_type": "code",
   "execution_count": 16,
   "metadata": {},
   "outputs": [
    {
     "name": "stdout",
     "output_type": "stream",
     "text": [
      "-1\n",
      "1\n",
      "0\n",
      "-10\n",
      "11\n",
      "10\n"
     ]
    }
   ],
   "source": [
    "yes = True\n",
    "no = False\n",
    "\n",
    "# add, substract, multiply boolean variables\n",
    "print(no - yes)\n",
    "print(yes + no)\n",
    "print(yes * no)\n",
    "\n",
    "# add, subtract, multiple boolean and int variables\n",
    "print(no - 10)\n",
    "print(yes + 10)\n",
    "print(yes * 10)"
   ]
  },
  {
   "cell_type": "markdown",
   "metadata": {},
   "source": [
    "Now you're an expert in the basic Python data types: `int`, `float`, `string`, and `bool`!"
   ]
  },
  {
   "cell_type": "code",
   "execution_count": null,
   "metadata": {},
   "outputs": [],
   "source": []
  }
 ],
 "metadata": {
  "kernelspec": {
   "display_name": "Python 3",
   "language": "python",
   "name": "python3"
  },
  "language_info": {
   "codemirror_mode": {
    "name": "ipython",
    "version": 3
   },
   "file_extension": ".py",
   "mimetype": "text/x-python",
   "name": "python",
   "nbconvert_exporter": "python",
   "pygments_lexer": "ipython3",
   "version": "3.7.3"
  }
 },
 "nbformat": 4,
 "nbformat_minor": 2
}

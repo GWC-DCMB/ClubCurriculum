{
 "cells": [
  {
   "cell_type": "markdown",
   "metadata": {},
   "source": [
    "# 2D Lists Indexing\n",
    "**Remember:** \n",
    "- Lists can be used to group different values together - it's just a collection of things.\n",
    "- You can make a list in Python by putting different things in a box of brackets `[]` separated by commas\n",
    "- You can make lists of lists, which are called 2D lists\n",
    "\n",
    "Here we're going to learn how to index lists of lists. Let's recreate our 2D list of `food`:"
   ]
  },
  {
   "cell_type": "code",
   "execution_count": 1,
   "metadata": {},
   "outputs": [
    {
     "name": "stdout",
     "output_type": "stream",
     "text": [
      "[['apple', 'banana', 'grape', 'mango'], ['lettuce', 'carrot', 'cucumber', 'beet'], ['chicken', 'beef', 'fish', 'pork']]\n",
      "3\n"
     ]
    }
   ],
   "source": [
    "# create 2D list\n",
    "food = [['apple', 'banana', 'grape', 'mango'], \n",
    "        ['lettuce','carrot','cucumber','beet'], \n",
    "        ['chicken', 'beef', 'fish', 'pork']]\n",
    "\n",
    "# print 2D list along with its length\n",
    "print(food)\n",
    "print(len(food))"
   ]
  },
  {
   "cell_type": "markdown",
   "metadata": {},
   "source": [
    "Like we saw in the last lesson, the length of the `food` list (3) is the number of 1D lists that make up the 2D list. The fruit list is the first element in `food`. To get this first element from `food`, we do it the same way we would in a 1D list:"
   ]
  },
  {
   "cell_type": "code",
   "execution_count": 2,
   "metadata": {},
   "outputs": [
    {
     "data": {
      "text/plain": [
       "['apple', 'banana', 'grape', 'mango']"
      ]
     },
     "execution_count": 2,
     "metadata": {},
     "output_type": "execute_result"
    }
   ],
   "source": [
    "# get the fruit list from the food list\n",
    "food[0]"
   ]
  },
  {
   "cell_type": "markdown",
   "metadata": {},
   "source": [
    "In this way, we can think of the list `food` as a 1D list, where each element is another list. As we saw in the last command, we can reference the first sublist from `food` using `food[0]`.\n",
    "\n",
    "Knowing this, how can we get the length of the first list within `food`?"
   ]
  },
  {
   "cell_type": "code",
   "execution_count": 3,
   "metadata": {},
   "outputs": [
    {
     "data": {
      "text/plain": [
       "4"
      ]
     },
     "execution_count": 3,
     "metadata": {},
     "output_type": "execute_result"
    }
   ],
   "source": [
    "# print length of the first index of food\n",
    "len(food[0])"
   ]
  },
  {
   "cell_type": "markdown",
   "metadata": {},
   "source": [
    "Thinking back to indexing 1D lists, how do you think we can get the lists fruit and vegetables from the list `food`?"
   ]
  },
  {
   "cell_type": "code",
   "execution_count": 4,
   "metadata": {},
   "outputs": [
    {
     "data": {
      "text/plain": [
       "[['apple', 'banana', 'grape', 'mango'],\n",
       " ['lettuce', 'carrot', 'cucumber', 'beet']]"
      ]
     },
     "execution_count": 4,
     "metadata": {},
     "output_type": "execute_result"
    }
   ],
   "source": [
    "# get fruit and vegetables from the list\n",
    "food[0:2]"
   ]
  },
  {
   "cell_type": "markdown",
   "metadata": {},
   "source": [
    "What if we want to get the value `'mango'` from our list? We can first save the first element from `food` to a variable `fruit`, and then index the `fruit` list:"
   ]
  },
  {
   "cell_type": "code",
   "execution_count": 5,
   "metadata": {},
   "outputs": [
    {
     "name": "stdout",
     "output_type": "stream",
     "text": [
      "['apple', 'banana', 'grape', 'mango']\n"
     ]
    },
    {
     "data": {
      "text/plain": [
       "'mango'"
      ]
     },
     "execution_count": 5,
     "metadata": {},
     "output_type": "execute_result"
    }
   ],
   "source": [
    "# get the fruit list from food and save it in the variable fruit\n",
    "fruit = food[0]\n",
    "\n",
    "# print the fruit list to make sure you got what you wanted\n",
    "print(fruit)\n",
    "\n",
    "# get mango from the fruit list\n",
    "fruit[3]"
   ]
  },
  {
   "cell_type": "markdown",
   "metadata": {},
   "source": [
    "We can also get the value `'mango'` from our list in one line! To do this, we can just index `food` twice. The first index is to get the fruit list, and the second index is to get `'mango'` from the fruit list:"
   ]
  },
  {
   "cell_type": "code",
   "execution_count": 6,
   "metadata": {},
   "outputs": [
    {
     "data": {
      "text/plain": [
       "'mango'"
      ]
     },
     "execution_count": 6,
     "metadata": {},
     "output_type": "execute_result"
    }
   ],
   "source": [
    "# get mango by indexing the food list twice\n",
    "food[0][3]"
   ]
  },
  {
   "cell_type": "markdown",
   "metadata": {},
   "source": [
    "How can you get `'carrot'` from the `food` 2D list?"
   ]
  },
  {
   "cell_type": "code",
   "execution_count": 7,
   "metadata": {},
   "outputs": [
    {
     "data": {
      "text/plain": [
       "'carrot'"
      ]
     },
     "execution_count": 7,
     "metadata": {},
     "output_type": "execute_result"
    }
   ],
   "source": [
    "# get carrot from the food 2D list\n",
    "food[1][1]"
   ]
  },
  {
   "cell_type": "markdown",
   "metadata": {},
   "source": [
    "Now, try getting `'fish'` and `'pork'` from the `food` 2D list:"
   ]
  },
  {
   "cell_type": "code",
   "execution_count": 8,
   "metadata": {},
   "outputs": [
    {
     "data": {
      "text/plain": [
       "['fish', 'pork']"
      ]
     },
     "execution_count": 8,
     "metadata": {},
     "output_type": "execute_result"
    }
   ],
   "source": [
    "# get fish and pork from the food 2D list\n",
    "food[2][2:4]"
   ]
  },
  {
   "cell_type": "markdown",
   "metadata": {},
   "source": [
    "Finally, let's make a new list called `favorites` with your favorite food within each list in `food`. Print it out afterwards to make sure you did what you want!"
   ]
  },
  {
   "cell_type": "code",
   "execution_count": 9,
   "metadata": {},
   "outputs": [
    {
     "name": "stdout",
     "output_type": "stream",
     "text": [
      "['mango', 'grape', 'beef']\n"
     ]
    }
   ],
   "source": [
    "# make a list of your favorite fruit, vegetable, and meat\n",
    "favorites = [food[0][3], food[0][2], food[2][1]]\n",
    "\n",
    "# print favorite\n",
    "print(favorites)"
   ]
  },
  {
   "cell_type": "markdown",
   "metadata": {},
   "source": [
    "Nice job! You just learned how to index 2D lists in Python!"
   ]
  }
 ],
 "metadata": {
  "kernelspec": {
   "display_name": "Python 3",
   "language": "python",
   "name": "python3"
  },
  "language_info": {
   "codemirror_mode": {
    "name": "ipython",
    "version": 3
   },
   "file_extension": ".py",
   "mimetype": "text/x-python",
   "name": "python",
   "nbconvert_exporter": "python",
   "pygments_lexer": "ipython3",
   "version": "3.7.3"
  }
 },
 "nbformat": 4,
 "nbformat_minor": 2
}

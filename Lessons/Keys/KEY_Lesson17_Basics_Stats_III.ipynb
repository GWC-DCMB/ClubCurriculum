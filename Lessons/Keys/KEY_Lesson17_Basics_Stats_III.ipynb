{
 "cells": [
  {
   "cell_type": "markdown",
   "metadata": {},
   "source": [
    "# Introduction to Statistics Part III\n",
    "\n"
   ]
  },
  {
   "cell_type": "markdown",
   "metadata": {},
   "source": [
    "Now that we have learned how to manipulate basic statistics, we will look at how to perform *significance tests*."
   ]
  },
  {
   "cell_type": "markdown",
   "metadata": {},
   "source": [
    "## Significance Testing"
   ]
  },
  {
   "cell_type": "code",
   "execution_count": 1,
   "metadata": {},
   "outputs": [],
   "source": [
    "# Load `pandas`, `numpy`, and `scipy.stats`\n",
    "\n",
    "import pandas as pd\n",
    "import numpy as np\n",
    "import scipy.stats as stats"
   ]
  },
  {
   "cell_type": "markdown",
   "metadata": {},
   "source": [
    "Run the cell below to load a table of temperature in Detroit since 1937:"
   ]
  },
  {
   "cell_type": "code",
   "execution_count": 2,
   "metadata": {},
   "outputs": [],
   "source": [
    "data_table = pd.read_csv( '../SampleData/detroit_weather_2.csv' ) # Data from Mathematica WeatherData, 2019"
   ]
  },
  {
   "cell_type": "markdown",
   "metadata": {},
   "source": [
    "Print out the data to see what the format looks like:"
   ]
  },
  {
   "cell_type": "code",
   "execution_count": 3,
   "metadata": {},
   "outputs": [
    {
     "data": {
      "text/html": [
       "<div>\n",
       "<style scoped>\n",
       "    .dataframe tbody tr th:only-of-type {\n",
       "        vertical-align: middle;\n",
       "    }\n",
       "\n",
       "    .dataframe tbody tr th {\n",
       "        vertical-align: top;\n",
       "    }\n",
       "\n",
       "    .dataframe thead th {\n",
       "        text-align: right;\n",
       "    }\n",
       "</style>\n",
       "<table border=\"1\" class=\"dataframe\">\n",
       "  <thead>\n",
       "    <tr style=\"text-align: right;\">\n",
       "      <th></th>\n",
       "      <th>YEAR</th>\n",
       "      <th>MONTH</th>\n",
       "      <th>DAY</th>\n",
       "      <th>Temperature</th>\n",
       "    </tr>\n",
       "  </thead>\n",
       "  <tbody>\n",
       "    <tr>\n",
       "      <th>0</th>\n",
       "      <td>1937</td>\n",
       "      <td>1</td>\n",
       "      <td>1</td>\n",
       "      <td>0.50</td>\n",
       "    </tr>\n",
       "    <tr>\n",
       "      <th>1</th>\n",
       "      <td>1937</td>\n",
       "      <td>1</td>\n",
       "      <td>2</td>\n",
       "      <td>0.17</td>\n",
       "    </tr>\n",
       "    <tr>\n",
       "      <th>2</th>\n",
       "      <td>1937</td>\n",
       "      <td>1</td>\n",
       "      <td>3</td>\n",
       "      <td>-1.06</td>\n",
       "    </tr>\n",
       "    <tr>\n",
       "      <th>3</th>\n",
       "      <td>1937</td>\n",
       "      <td>1</td>\n",
       "      <td>4</td>\n",
       "      <td>-3.89</td>\n",
       "    </tr>\n",
       "    <tr>\n",
       "      <th>4</th>\n",
       "      <td>1937</td>\n",
       "      <td>1</td>\n",
       "      <td>5</td>\n",
       "      <td>-0.17</td>\n",
       "    </tr>\n",
       "  </tbody>\n",
       "</table>\n",
       "</div>"
      ],
      "text/plain": [
       "   YEAR  MONTH  DAY  Temperature\n",
       "0  1937      1    1         0.50\n",
       "1  1937      1    2         0.17\n",
       "2  1937      1    3        -1.06\n",
       "3  1937      1    4        -3.89\n",
       "4  1937      1    5        -0.17"
      ]
     },
     "execution_count": 3,
     "metadata": {},
     "output_type": "execute_result"
    }
   ],
   "source": [
    "# View `data_table` to see what its format looks like\n",
    "\n",
    "data_table\n",
    "\n",
    "# or...\n",
    "\n",
    "data_table.head()"
   ]
  },
  {
   "cell_type": "markdown",
   "metadata": {},
   "source": [
    "`data_table` contains one row for each day since 1937, where the column 'Temperature' contains the average temperature for that day (in Celsius).\n",
    "\n",
    "We will use this data to **test** if global warming has occured in Detroit in the years since 1937."
   ]
  },
  {
   "cell_type": "code",
   "execution_count": 4,
   "metadata": {},
   "outputs": [],
   "source": [
    "# Select two temperature ranges from `data_table`, one early and one late:\n",
    "\n",
    "temps_1940 = data_table.query( \"YEAR >= 1940 and YEAR < 1950\" )[\"Temperature\"]\n",
    "temps_2005 = data_table.query( \"YEAR >= 2005 and YEAR < 2015\" )[\"Temperature\"] "
   ]
  },
  {
   "cell_type": "markdown",
   "metadata": {},
   "source": [
    "Using what we learned this morning, calculate the mean for each of the"
   ]
  },
  {
   "cell_type": "code",
   "execution_count": 5,
   "metadata": {},
   "outputs": [
    {
     "name": "stdout",
     "output_type": "stream",
     "text": [
      "Average temperature 1935-1945: 9.48353134410074\n",
      "Average temperature 2005-2015: 10.230466136550573\n",
      "Difference between the means: 0.7469347924498333\n"
     ]
    }
   ],
   "source": [
    "# Calculate the mean of your two temperature ranges:\n",
    "\n",
    "print( \"Average temperature 1935-1945:\", np.mean( temps_1940 ) )\n",
    "print( \"Average temperature 2005-2015:\", np.mean( temps_2005 ) )\n",
    "\n",
    "# Calculate the difference between the two means:\n",
    "\n",
    "print( \"Difference between the means:\", np.mean( temps_2005 ) - np.mean( temps_1940 ) )"
   ]
  },
  {
   "cell_type": "markdown",
   "metadata": {},
   "source": [
    "Here, we see that there was an increase of 0.75 degrees Celsius between these two time periods. *Statistical tests* are used to determine if this difference is likely due to chance or due to an actual change.\n",
    "\n",
    "We will use one of these tests, a `t-test` to calculate the probability of this temperature change:"
   ]
  },
  {
   "cell_type": "code",
   "execution_count": 6,
   "metadata": {},
   "outputs": [
    {
     "data": {
      "text/plain": [
       "0.0025808160556977724"
      ]
     },
     "execution_count": 6,
     "metadata": {},
     "output_type": "execute_result"
    }
   ],
   "source": [
    "# Use the scipy stats module to calculate a t-test from the data above\n",
    "\n",
    "stats.ttest_ind( temps_1940, temps_2005 ).pvalue"
   ]
  },
  {
   "cell_type": "markdown",
   "metadata": {},
   "source": [
    "This *p value* informs us that there is only a 0.25% chance that there was a difference of this size by random fluctuation, which is very low! This shows that our data supports the idea of global warming, even here in Detroit."
   ]
  },
  {
   "cell_type": "markdown",
   "metadata": {},
   "source": [
    "Let's redo this analysis using only temperature values from December:"
   ]
  },
  {
   "cell_type": "code",
   "execution_count": 7,
   "metadata": {},
   "outputs": [],
   "source": [
    "# Reselect the data, now only including data points in December\n",
    "\n",
    "\n",
    "temps_1940_dec = data_table.query( \"YEAR >= 1940 and YEAR < 1950 and MONTH==12\" )[\"Temperature\"]\n",
    "temps_2005_dec = data_table.query( \"YEAR >= 2005 and YEAR < 2015 and MONTH==12\" )[\"Temperature\"] "
   ]
  },
  {
   "cell_type": "code",
   "execution_count": 8,
   "metadata": {},
   "outputs": [
    {
     "name": "stdout",
     "output_type": "stream",
     "text": [
      "Average temperature 1935-1945: -1.7202903225806458\n",
      "Average temperature 2005-2015: -0.41761437908496746\n",
      "Difference between the means: 1.3026759434956783\n"
     ]
    }
   ],
   "source": [
    "# Calculate the mean of your two temperature ranges:\n",
    "\n",
    "print( \"Average temperature 1935-1945:\", np.mean( temps_1940_dec ) )\n",
    "print( \"Average temperature 2005-2015:\", np.mean( temps_2005_dec ) )\n",
    "\n",
    "# Calculate the difference between the two means:\n",
    "\n",
    "print( \"Difference between the means:\", np.mean( temps_2005_dec ) - np.mean( temps_1940_dec ) )"
   ]
  },
  {
   "cell_type": "code",
   "execution_count": 9,
   "metadata": {},
   "outputs": [
    {
     "data": {
      "text/plain": [
       "0.0008126329856967648"
      ]
     },
     "execution_count": 9,
     "metadata": {},
     "output_type": "execute_result"
    }
   ],
   "source": [
    "# Rerun the statistical test on these subset datasets\n",
    "\n",
    "stats.ttest_ind( temps_1940_dec, temps_2005_dec ).pvalue"
   ]
  },
  {
   "cell_type": "markdown",
   "metadata": {},
   "source": [
    "We can see that the difference in temperature is even greater when you focus on just December. A *p value* of 0.08% indicates that the change is even more signifcant than the difference in temperature for the entire year."
   ]
  },
  {
   "cell_type": "markdown",
   "metadata": {},
   "source": [
    "In this lesson you learned how to:\n",
    "     - Perform a `t-test` on a two-class dataset\n",
    "     - Interpret the results from statistical tests\n",
    "     \n",
    "Now, lets continue to practice with your partner!"
   ]
  },
  {
   "cell_type": "code",
   "execution_count": null,
   "metadata": {},
   "outputs": [],
   "source": []
  }
 ],
 "metadata": {
  "kernelspec": {
   "display_name": "Python 3",
   "language": "python",
   "name": "python3"
  },
  "language_info": {
   "codemirror_mode": {
    "name": "ipython",
    "version": 3
   },
   "file_extension": ".py",
   "mimetype": "text/x-python",
   "name": "python",
   "nbconvert_exporter": "python",
   "pygments_lexer": "ipython3",
   "version": "3.7.3"
  }
 },
 "nbformat": 4,
 "nbformat_minor": 2
}

{
 "cells": [
  {
   "cell_type": "markdown",
   "metadata": {
    "colab_type": "text",
    "id": "l-DotjC4122V"
   },
   "source": [
    "# Introduction to Statistics Part II\n"
   ]
  },
  {
   "cell_type": "markdown",
   "metadata": {
    "colab_type": "text",
    "id": "ucnLP016122X"
   },
   "source": [
    "Now that we have learned how to use the mean and median, we'll talk about some more advanced statistics."
   ]
  },
  {
   "cell_type": "code",
   "execution_count": 8,
   "metadata": {
    "colab": {},
    "colab_type": "code",
    "id": "7ND2c6oM122Y"
   },
   "outputs": [],
   "source": [
    "# import pandas and numpy\n",
    "import numpy as np\n",
    "import pandas as pd\n",
    "# mount Google Drive\n",
    "from google.colab import drive\n",
    "drive.mount('/content/gdrive')\n",
    "path = '/content/gdrive/My Drive/SummerExperience-master/'"
   ]
  },
  {
   "cell_type": "markdown",
   "metadata": {
    "colab_type": "text",
    "id": "aCdeDpzp122j"
   },
   "source": [
    "## Count Statistics"
   ]
  },
  {
   "cell_type": "markdown",
   "metadata": {
    "colab_type": "text",
    "id": "RlX4zr2-122l"
   },
   "source": [
    "*Count variables* are variables which represent the number of events that occur of a specific category. This can be anything, like the number of dogs in a park or how many people went to a concert. For both of these examples, each of the counts must be *whole numbers*, i.e. `int` data type. "
   ]
  },
  {
   "cell_type": "markdown",
   "metadata": {
    "colab_type": "text",
    "id": "xzvZhbkV122m"
   },
   "source": [
    "Run the cell below to load a listing of the weather in Detroit for every day since 1950:"
   ]
  },
  {
   "cell_type": "code",
   "execution_count": 9,
   "metadata": {
    "colab": {},
    "colab_type": "code",
    "id": "LZ3eob52122o"
   },
   "outputs": [],
   "source": [
    "data_table = pd.read_csv(path + 'Lessons/SampleData/detroit_weather.csv') # Data from Mathematica WeatherData, 2019\n"
   ]
  },
  {
   "cell_type": "markdown",
   "metadata": {
    "colab_type": "text",
    "id": "37K_jO2L122t"
   },
   "source": [
    "Take a look at the contents of `data_table`:"
   ]
  },
  {
   "cell_type": "code",
   "execution_count": 10,
   "metadata": {
    "colab": {},
    "colab_type": "code",
    "id": "bqwZh2P2122v",
    "outputId": "1eefb93a-d161-4029-8491-4a108e4c5048"
   },
   "outputs": [
    {
     "data": {
      "text/html": [
       "<div>\n",
       "<style scoped>\n",
       "    .dataframe tbody tr th:only-of-type {\n",
       "        vertical-align: middle;\n",
       "    }\n",
       "\n",
       "    .dataframe tbody tr th {\n",
       "        vertical-align: top;\n",
       "    }\n",
       "\n",
       "    .dataframe thead th {\n",
       "        text-align: right;\n",
       "    }\n",
       "</style>\n",
       "<table border=\"1\" class=\"dataframe\">\n",
       "  <thead>\n",
       "    <tr style=\"text-align: right;\">\n",
       "      <th></th>\n",
       "      <th>Unnamed: 0</th>\n",
       "      <th>YEAR</th>\n",
       "      <th>MONTH</th>\n",
       "      <th>DAY</th>\n",
       "      <th>Rain</th>\n",
       "      <th>Snow</th>\n",
       "    </tr>\n",
       "  </thead>\n",
       "  <tbody>\n",
       "    <tr>\n",
       "      <th>0</th>\n",
       "      <td>0</td>\n",
       "      <td>1950</td>\n",
       "      <td>1</td>\n",
       "      <td>1</td>\n",
       "      <td>True</td>\n",
       "      <td>False</td>\n",
       "    </tr>\n",
       "    <tr>\n",
       "      <th>1</th>\n",
       "      <td>1</td>\n",
       "      <td>1950</td>\n",
       "      <td>1</td>\n",
       "      <td>2</td>\n",
       "      <td>True</td>\n",
       "      <td>False</td>\n",
       "    </tr>\n",
       "    <tr>\n",
       "      <th>2</th>\n",
       "      <td>2</td>\n",
       "      <td>1950</td>\n",
       "      <td>1</td>\n",
       "      <td>3</td>\n",
       "      <td>True</td>\n",
       "      <td>False</td>\n",
       "    </tr>\n",
       "    <tr>\n",
       "      <th>3</th>\n",
       "      <td>3</td>\n",
       "      <td>1950</td>\n",
       "      <td>1</td>\n",
       "      <td>4</td>\n",
       "      <td>True</td>\n",
       "      <td>True</td>\n",
       "    </tr>\n",
       "    <tr>\n",
       "      <th>4</th>\n",
       "      <td>4</td>\n",
       "      <td>1950</td>\n",
       "      <td>1</td>\n",
       "      <td>5</td>\n",
       "      <td>False</td>\n",
       "      <td>False</td>\n",
       "    </tr>\n",
       "    <tr>\n",
       "      <th>5</th>\n",
       "      <td>5</td>\n",
       "      <td>1950</td>\n",
       "      <td>1</td>\n",
       "      <td>6</td>\n",
       "      <td>False</td>\n",
       "      <td>True</td>\n",
       "    </tr>\n",
       "    <tr>\n",
       "      <th>6</th>\n",
       "      <td>6</td>\n",
       "      <td>1950</td>\n",
       "      <td>1</td>\n",
       "      <td>7</td>\n",
       "      <td>False</td>\n",
       "      <td>True</td>\n",
       "    </tr>\n",
       "    <tr>\n",
       "      <th>7</th>\n",
       "      <td>7</td>\n",
       "      <td>1950</td>\n",
       "      <td>1</td>\n",
       "      <td>8</td>\n",
       "      <td>False</td>\n",
       "      <td>True</td>\n",
       "    </tr>\n",
       "    <tr>\n",
       "      <th>8</th>\n",
       "      <td>8</td>\n",
       "      <td>1950</td>\n",
       "      <td>1</td>\n",
       "      <td>9</td>\n",
       "      <td>False</td>\n",
       "      <td>False</td>\n",
       "    </tr>\n",
       "    <tr>\n",
       "      <th>9</th>\n",
       "      <td>9</td>\n",
       "      <td>1950</td>\n",
       "      <td>1</td>\n",
       "      <td>10</td>\n",
       "      <td>True</td>\n",
       "      <td>False</td>\n",
       "    </tr>\n",
       "  </tbody>\n",
       "</table>\n",
       "</div>"
      ],
      "text/plain": [
       "   Unnamed: 0  YEAR  MONTH  DAY   Rain   Snow\n",
       "0           0  1950      1    1   True  False\n",
       "1           1  1950      1    2   True  False\n",
       "2           2  1950      1    3   True  False\n",
       "3           3  1950      1    4   True   True\n",
       "4           4  1950      1    5  False  False\n",
       "5           5  1950      1    6  False   True\n",
       "6           6  1950      1    7  False   True\n",
       "7           7  1950      1    8  False   True\n",
       "8           8  1950      1    9  False  False\n",
       "9           9  1950      1   10   True  False"
      ]
     },
     "execution_count": 10,
     "metadata": {},
     "output_type": "execute_result"
    }
   ],
   "source": [
    "# Run head on data_table to look at its contents\n",
    "data_table.head(10)"
   ]
  },
  {
   "cell_type": "code",
   "execution_count": 11,
   "metadata": {
    "colab": {},
    "colab_type": "code",
    "id": "AFYIBx982I3j"
   },
   "outputs": [
    {
     "data": {
      "text/html": [
       "<div>\n",
       "<style scoped>\n",
       "    .dataframe tbody tr th:only-of-type {\n",
       "        vertical-align: middle;\n",
       "    }\n",
       "\n",
       "    .dataframe tbody tr th {\n",
       "        vertical-align: top;\n",
       "    }\n",
       "\n",
       "    .dataframe thead th {\n",
       "        text-align: right;\n",
       "    }\n",
       "</style>\n",
       "<table border=\"1\" class=\"dataframe\">\n",
       "  <thead>\n",
       "    <tr style=\"text-align: right;\">\n",
       "      <th></th>\n",
       "      <th>Unnamed: 0</th>\n",
       "      <th>YEAR</th>\n",
       "      <th>MONTH</th>\n",
       "      <th>DAY</th>\n",
       "      <th>Rain</th>\n",
       "      <th>Snow</th>\n",
       "    </tr>\n",
       "  </thead>\n",
       "  <tbody>\n",
       "    <tr>\n",
       "      <th>25304</th>\n",
       "      <td>25304</td>\n",
       "      <td>2019</td>\n",
       "      <td>4</td>\n",
       "      <td>22</td>\n",
       "      <td>False</td>\n",
       "      <td>False</td>\n",
       "    </tr>\n",
       "    <tr>\n",
       "      <th>25305</th>\n",
       "      <td>25305</td>\n",
       "      <td>2019</td>\n",
       "      <td>4</td>\n",
       "      <td>23</td>\n",
       "      <td>False</td>\n",
       "      <td>False</td>\n",
       "    </tr>\n",
       "    <tr>\n",
       "      <th>25306</th>\n",
       "      <td>25306</td>\n",
       "      <td>2019</td>\n",
       "      <td>4</td>\n",
       "      <td>24</td>\n",
       "      <td>False</td>\n",
       "      <td>False</td>\n",
       "    </tr>\n",
       "    <tr>\n",
       "      <th>25307</th>\n",
       "      <td>25307</td>\n",
       "      <td>2019</td>\n",
       "      <td>4</td>\n",
       "      <td>25</td>\n",
       "      <td>False</td>\n",
       "      <td>False</td>\n",
       "    </tr>\n",
       "    <tr>\n",
       "      <th>25308</th>\n",
       "      <td>25308</td>\n",
       "      <td>2019</td>\n",
       "      <td>4</td>\n",
       "      <td>26</td>\n",
       "      <td>True</td>\n",
       "      <td>False</td>\n",
       "    </tr>\n",
       "    <tr>\n",
       "      <th>25309</th>\n",
       "      <td>25309</td>\n",
       "      <td>2019</td>\n",
       "      <td>4</td>\n",
       "      <td>27</td>\n",
       "      <td>False</td>\n",
       "      <td>False</td>\n",
       "    </tr>\n",
       "    <tr>\n",
       "      <th>25310</th>\n",
       "      <td>25310</td>\n",
       "      <td>2019</td>\n",
       "      <td>4</td>\n",
       "      <td>28</td>\n",
       "      <td>True</td>\n",
       "      <td>False</td>\n",
       "    </tr>\n",
       "    <tr>\n",
       "      <th>25311</th>\n",
       "      <td>25311</td>\n",
       "      <td>2019</td>\n",
       "      <td>4</td>\n",
       "      <td>29</td>\n",
       "      <td>False</td>\n",
       "      <td>False</td>\n",
       "    </tr>\n",
       "    <tr>\n",
       "      <th>25312</th>\n",
       "      <td>25312</td>\n",
       "      <td>2019</td>\n",
       "      <td>4</td>\n",
       "      <td>30</td>\n",
       "      <td>True</td>\n",
       "      <td>False</td>\n",
       "    </tr>\n",
       "    <tr>\n",
       "      <th>25313</th>\n",
       "      <td>25313</td>\n",
       "      <td>2019</td>\n",
       "      <td>5</td>\n",
       "      <td>1</td>\n",
       "      <td>True</td>\n",
       "      <td>False</td>\n",
       "    </tr>\n",
       "  </tbody>\n",
       "</table>\n",
       "</div>"
      ],
      "text/plain": [
       "       Unnamed: 0  YEAR  MONTH  DAY   Rain   Snow\n",
       "25304       25304  2019      4   22  False  False\n",
       "25305       25305  2019      4   23  False  False\n",
       "25306       25306  2019      4   24  False  False\n",
       "25307       25307  2019      4   25  False  False\n",
       "25308       25308  2019      4   26   True  False\n",
       "25309       25309  2019      4   27  False  False\n",
       "25310       25310  2019      4   28   True  False\n",
       "25311       25311  2019      4   29  False  False\n",
       "25312       25312  2019      4   30   True  False\n",
       "25313       25313  2019      5    1   True  False"
      ]
     },
     "execution_count": 11,
     "metadata": {},
     "output_type": "execute_result"
    }
   ],
   "source": [
    "# Run tail on data_table to look at its contents\n",
    "data_table.tail(10)"
   ]
  },
  {
   "cell_type": "markdown",
   "metadata": {
    "colab_type": "text",
    "id": "9ZoH4bJ61223"
   },
   "source": [
    "This table contains if it was snowing and if it was raining for each day in Detroit since 1950. We will use this as an example dataset."
   ]
  },
  {
   "cell_type": "code",
   "execution_count": 12,
   "metadata": {
    "colab": {},
    "colab_type": "code",
    "id": "mn-QssY21224",
    "outputId": "8bcd5c7d-6a55-45f3-977f-e6e4b559ba23"
   },
   "outputs": [
    {
     "data": {
      "text/html": [
       "<div>\n",
       "<style scoped>\n",
       "    .dataframe tbody tr th:only-of-type {\n",
       "        vertical-align: middle;\n",
       "    }\n",
       "\n",
       "    .dataframe tbody tr th {\n",
       "        vertical-align: top;\n",
       "    }\n",
       "\n",
       "    .dataframe thead th {\n",
       "        text-align: right;\n",
       "    }\n",
       "</style>\n",
       "<table border=\"1\" class=\"dataframe\">\n",
       "  <thead>\n",
       "    <tr style=\"text-align: right;\">\n",
       "      <th></th>\n",
       "      <th>Unnamed: 0</th>\n",
       "      <th>YEAR</th>\n",
       "      <th>MONTH</th>\n",
       "      <th>DAY</th>\n",
       "      <th>Rain</th>\n",
       "      <th>Snow</th>\n",
       "    </tr>\n",
       "  </thead>\n",
       "  <tbody>\n",
       "    <tr>\n",
       "      <th>25313</th>\n",
       "      <td>25313</td>\n",
       "      <td>2019</td>\n",
       "      <td>5</td>\n",
       "      <td>1</td>\n",
       "      <td>True</td>\n",
       "      <td>False</td>\n",
       "    </tr>\n",
       "  </tbody>\n",
       "</table>\n",
       "</div>"
      ],
      "text/plain": [
       "       Unnamed: 0  YEAR  MONTH  DAY  Rain   Snow\n",
       "25313       25313  2019      5    1  True  False"
      ]
     },
     "execution_count": 12,
     "metadata": {},
     "output_type": "execute_result"
    }
   ],
   "source": [
    "# Lookup the weather for May 1, 2019:\n",
    "data_table.query('YEAR == 2019 and MONTH == 5 and DAY == 1')"
   ]
  },
  {
   "cell_type": "code",
   "execution_count": 13,
   "metadata": {
    "colab": {},
    "colab_type": "code",
    "id": "mn-QssY21224",
    "outputId": "8bcd5c7d-6a55-45f3-977f-e6e4b559ba23"
   },
   "outputs": [
    {
     "data": {
      "text/html": [
       "<div>\n",
       "<style scoped>\n",
       "    .dataframe tbody tr th:only-of-type {\n",
       "        vertical-align: middle;\n",
       "    }\n",
       "\n",
       "    .dataframe tbody tr th {\n",
       "        vertical-align: top;\n",
       "    }\n",
       "\n",
       "    .dataframe thead th {\n",
       "        text-align: right;\n",
       "    }\n",
       "</style>\n",
       "<table border=\"1\" class=\"dataframe\">\n",
       "  <thead>\n",
       "    <tr style=\"text-align: right;\">\n",
       "      <th></th>\n",
       "      <th>Unnamed: 0</th>\n",
       "      <th>YEAR</th>\n",
       "      <th>MONTH</th>\n",
       "      <th>DAY</th>\n",
       "      <th>Rain</th>\n",
       "      <th>Snow</th>\n",
       "    </tr>\n",
       "  </thead>\n",
       "  <tbody>\n",
       "    <tr>\n",
       "      <th>25313</th>\n",
       "      <td>25313</td>\n",
       "      <td>2019</td>\n",
       "      <td>5</td>\n",
       "      <td>1</td>\n",
       "      <td>True</td>\n",
       "      <td>False</td>\n",
       "    </tr>\n",
       "  </tbody>\n",
       "</table>\n",
       "</div>"
      ],
      "text/plain": [
       "       Unnamed: 0  YEAR  MONTH  DAY  Rain   Snow\n",
       "25313       25313  2019      5    1  True  False"
      ]
     },
     "execution_count": 13,
     "metadata": {},
     "output_type": "execute_result"
    }
   ],
   "source": [
    "# another way to do the same thing is chain together multiple calls to query\n",
    "data_table.query('YEAR == 2019').query('MONTH == 5').query('DAY == 1')"
   ]
  },
  {
   "cell_type": "markdown",
   "metadata": {
    "colab_type": "text",
    "id": "TLhD5nMz122-"
   },
   "source": [
    "As we can see, it was raining, but not snowing that day!\n",
    "\n",
    "Now, let's create some count statistics! To do this, we will use the `Counter` **module** from the `collections` **package**. Let's import it! "
   ]
  },
  {
   "cell_type": "code",
   "execution_count": 14,
   "metadata": {
    "colab": {},
    "colab_type": "code",
    "id": "u8LDdyDg122_"
   },
   "outputs": [],
   "source": [
    "# Import the Counter class from collections to help us do the counting\n",
    "\n",
    "from collections import Counter"
   ]
  },
  {
   "cell_type": "markdown",
   "metadata": {
    "colab_type": "text",
    "id": "J70rJMQm123D"
   },
   "source": [
    "`Counter` summarizes any `list` with the counts of all its unique variables:"
   ]
  },
  {
   "cell_type": "code",
   "execution_count": 15,
   "metadata": {
    "colab": {},
    "colab_type": "code",
    "id": "JhO-UYTY123E",
    "outputId": "7096abd6-5e14-4bd7-ca00-df4a22f5cda4"
   },
   "outputs": [
    {
     "data": {
      "text/plain": [
       "Counter({1: 5, 2: 5})"
      ]
     },
     "execution_count": 15,
     "metadata": {},
     "output_type": "execute_result"
    }
   ],
   "source": [
    "# Create a list and count it using Counter\n",
    "\n",
    "Counter([1,1,1,1,1,2,2,2,2,2])"
   ]
  },
  {
   "cell_type": "markdown",
   "metadata": {
    "colab_type": "text",
    "id": "qH46DDFu123K"
   },
   "source": [
    "Now, let's count the weather data!"
   ]
  },
  {
   "cell_type": "code",
   "execution_count": 16,
   "metadata": {
    "colab": {},
    "colab_type": "code",
    "id": "yImF0nqu123L",
    "outputId": "358fbe54-c092-4ba9-80ec-710b83a59abe"
   },
   "outputs": [
    {
     "data": {
      "text/plain": [
       "Counter({False: 21079, True: 4235})"
      ]
     },
     "execution_count": 16,
     "metadata": {},
     "output_type": "execute_result"
    }
   ],
   "source": [
    "# Count how many days it has snowed in Detroit since 1950:\n",
    "\n",
    "snow_days = Counter(data_table[\"Snow\"])\n",
    "snow_days"
   ]
  },
  {
   "cell_type": "markdown",
   "metadata": {
    "colab_type": "text",
    "id": "KHwmYEWl123R"
   },
   "source": [
    "It looks like it has snowed 4,235 days in that time period, that is a lot!\n",
    "\n",
    "This `Counter` variable functions a lot like a dictionary object - we haven't talked about this data type in this course, but essentially its a way of mapping **keys** to **values**. We can access the **values** associated with each **key** in a similar way that we index lists. For example, if we wanted to get the total number of snow days in our data set:"
   ]
  },
  {
   "cell_type": "code",
   "execution_count": 28,
   "metadata": {},
   "outputs": [
    {
     "data": {
      "text/plain": [
       "4235"
      ]
     },
     "execution_count": 28,
     "metadata": {},
     "output_type": "execute_result"
    }
   ],
   "source": [
    "snow_days[True]"
   ]
  },
  {
   "cell_type": "markdown",
   "metadata": {
    "colab_type": "text",
    "id": "KHwmYEWl123R"
   },
   "source": [
    "Let's break this down a little more granuarly. How are these 4235 total snow days distributed across our 12 months?"
   ]
  },
  {
   "cell_type": "code",
   "execution_count": 20,
   "metadata": {
    "colab": {},
    "colab_type": "code",
    "id": "cjmoK1l4123S",
    "outputId": "198f13ff-15c8-4d17-d4a5-59cd65945e95"
   },
   "outputs": [
    {
     "name": "stdout",
     "output_type": "stream",
     "text": [
      "Counter({1: 1110, 12: 933, 2: 903, 3: 648, 11: 369, 4: 227, 10: 34, 5: 10, 8: 1})\n"
     ]
    }
   ],
   "source": [
    "# Count how many days *per month* it has snowed since 1950:\n",
    "\n",
    "snow_days_by_month = Counter(data_table.query('Snow')[\"MONTH\"])\n",
    "print(snow_days_by_month)"
   ]
  },
  {
   "cell_type": "markdown",
   "metadata": {},
   "source": [
    "What about the days that is *has not* snowed per month?"
   ]
  },
  {
   "cell_type": "code",
   "execution_count": 19,
   "metadata": {
    "colab": {},
    "colab_type": "code",
    "id": "uzZBsccQ123X",
    "outputId": "9a31de09-872d-4e25-8dfb-91658bc56f2f"
   },
   "outputs": [
    {
     "name": "stdout",
     "output_type": "stream",
     "text": [
      "Counter({7: 2139, 8: 2137, 5: 2130, 10: 2105, 6: 2070, 9: 2069, 4: 1873, 11: 1701, 3: 1522, 12: 1199, 2: 1074, 1: 1060})\n"
     ]
    }
   ],
   "source": [
    "# How many days *per month* has it NOT snowed since 1950?\n",
    "\n",
    "not_snow_days_by_month = Counter(data_table.query('not Snow')[\"MONTH\"])\n",
    "print(not_snow_days_by_month)"
   ]
  },
  {
   "cell_type": "markdown",
   "metadata": {
    "colab_type": "text",
    "id": "SJxTpOwv123l"
   },
   "source": [
    "## Percentages"
   ]
  },
  {
   "cell_type": "markdown",
   "metadata": {
    "colab_type": "text",
    "id": "JT9HGgxh123m"
   },
   "source": [
    "A *percentage* is a number between 0 and 1 which represents the fraction of a given variable that meets a given condition. i.e. if there are 28 dogs and 45 cats at the humane society, the percentage of adoptable animals that are dogs is:"
   ]
  },
  {
   "cell_type": "code",
   "execution_count": 26,
   "metadata": {},
   "outputs": [
    {
     "data": {
      "text/plain": [
       "0.3835616438356164"
      ]
     },
     "execution_count": 26,
     "metadata": {},
     "output_type": "execute_result"
    }
   ],
   "source": [
    "28/(28 + 45)"
   ]
  },
  {
   "cell_type": "markdown",
   "metadata": {},
   "source": [
    "First, let's calculate the percentage of all days since 1950 that have been snow days using the variable `snow_days` from above."
   ]
  },
  {
   "cell_type": "code",
   "execution_count": 27,
   "metadata": {},
   "outputs": [
    {
     "data": {
      "text/plain": [
       "0.16729872797661374"
      ]
     },
     "execution_count": 27,
     "metadata": {},
     "output_type": "execute_result"
    }
   ],
   "source": [
    "snow_days[True]/(snow_days[True]+snow_days[False])"
   ]
  },
  {
   "cell_type": "markdown",
   "metadata": {},
   "source": [
    "Now, let's calculate the percent of January days that have had snow since 1950. To do this, we first need the total number of January days since 1950."
   ]
  },
  {
   "cell_type": "code",
   "execution_count": 29,
   "metadata": {
    "colab": {},
    "colab_type": "code",
    "id": "avGF5jLh123c",
    "outputId": "75656789-a1f4-4b67-90fe-dcae8a9147cc"
   },
   "outputs": [
    {
     "name": "stdout",
     "output_type": "stream",
     "text": [
      "Counter({1: 2170, 3: 2170, 5: 2140, 7: 2139, 10: 2139, 8: 2138, 12: 2132, 4: 2100, 6: 2070, 11: 2070, 9: 2069, 2: 1977})\n"
     ]
    }
   ],
   "source": [
    "# How many days TOTAL have there been in each month since 1950?\n",
    "\n",
    "days_by_month = Counter(data_table[\"MONTH\"])\n",
    "print(days_by_month)"
   ]
  },
  {
   "cell_type": "markdown",
   "metadata": {
    "colab_type": "text",
    "id": "CphO9eS0123n"
   },
   "source": [
    "Now let's use the `snow_days_by_month` and `days_by_month` variables to isolate the **values** associated with the **key** for January to calculate the percentage."
   ]
  },
  {
   "cell_type": "code",
   "execution_count": 30,
   "metadata": {
    "colab": {},
    "colab_type": "code",
    "id": "yDw3fYeu123p",
    "outputId": "8d8ddea4-b6c1-4a68-ab1a-1a13aa485aad"
   },
   "outputs": [
    {
     "data": {
      "text/plain": [
       "0.511520737327189"
      ]
     },
     "execution_count": 30,
     "metadata": {},
     "output_type": "execute_result"
    }
   ],
   "source": [
    "# Find the percentage of days in January where it snowed:\n",
    "\n",
    "snow_days_by_month[1] / days_by_month[1]"
   ]
  },
  {
   "cell_type": "markdown",
   "metadata": {
    "colab_type": "text",
    "id": "5ODiX5VO1233"
   },
   "source": [
    "A percentage of 51% means that half the January days since 1950 have seen snowfall. \n",
    "\n",
    "Now let's do the same for June."
   ]
  },
  {
   "cell_type": "code",
   "execution_count": 31,
   "metadata": {
    "colab": {},
    "colab_type": "code",
    "id": "2SwOurwR1236",
    "outputId": "6fd8a3f8-d1ce-4208-95d4-72f6ef2f6924"
   },
   "outputs": [
    {
     "data": {
      "text/plain": [
       "0.0"
      ]
     },
     "execution_count": 31,
     "metadata": {},
     "output_type": "execute_result"
    }
   ],
   "source": [
    "# Now do the same for June:\n",
    "\n",
    "snow_days_by_month[6] / days_by_month[6]"
   ]
  },
  {
   "cell_type": "markdown",
   "metadata": {
    "colab_type": "text",
    "id": "iRl7y07x124B"
   },
   "source": [
    "It shouldn't come as much suprise that it doesn't snow much in summer!"
   ]
  },
  {
   "cell_type": "markdown",
   "metadata": {
    "colab_type": "text",
    "id": "CDwoaOw-124D"
   },
   "source": [
    "In this lesson you learned how to:\n",
    "\n",
    "* Calculate count statistics using data from `pandas`\n",
    "* Calculate percentages from count statistics\n",
    "     \n",
    "Now, lets continue to practice with your partner!"
   ]
  }
 ],
 "metadata": {
  "colab": {
   "collapsed_sections": [],
   "name": "KEY_Lesson16_Basic_Stats_II.ipynb",
   "provenance": [],
   "version": "0.3.2"
  },
  "kernelspec": {
   "display_name": "Python 3",
   "language": "python",
   "name": "python3"
  },
  "language_info": {
   "codemirror_mode": {
    "name": "ipython",
    "version": 3
   },
   "file_extension": ".py",
   "mimetype": "text/x-python",
   "name": "python",
   "nbconvert_exporter": "python",
   "pygments_lexer": "ipython3",
   "version": "3.7.3"
  }
 },
 "nbformat": 4,
 "nbformat_minor": 2
}

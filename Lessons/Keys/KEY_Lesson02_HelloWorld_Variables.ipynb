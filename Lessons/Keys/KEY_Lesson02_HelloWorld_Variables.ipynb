{
 "cells": [
  {
   "cell_type": "markdown",
   "metadata": {
    "colab_type": "text",
    "id": "e-BkAYFfCt37"
   },
   "source": [
    "# KEY - Hello World\n",
    "\n",
    "Write some intro text here about how cool python is.\n",
    "\n",
    "Below we will write our first line of code! We will make Python \"come alive\" by sending a greeting to the world to the screen. To do this, we will use a command called print. This command tells Python to print the input text to the screen. Let's begin!"
   ]
  },
  {
   "cell_type": "code",
<<<<<<< HEAD
   "execution_count": null,
=======
   "execution_count": 1,
>>>>>>> origin/master
   "metadata": {
    "colab": {},
    "colab_type": "code",
    "id": "y95cM6VVCt4A",
    "outputId": "981495c0-8746-4091-d1df-e05c246f2cd8"
   },
   "outputs": [
    {
     "name": "stdout",
     "output_type": "stream",
     "text": [
      "Hello World\n"
     ]
    }
   ],
   "source": [
    "# command Python to print the string \"Hello World\"\n",
    "print(\"Hello World\")"
   ]
  },
  {
   "cell_type": "markdown",
   "metadata": {
    "colab_type": "text",
    "id": "FvVttBz8Ct4O"
   },
   "source": [
    "Amazing! You just wrote your first line of Python code. Pretty easy right? \n",
    "\n",
    "Python can also be used as a calculator. Let's use Python to do some simple addition and subtraction below."
   ]
  },
  {
   "cell_type": "code",
<<<<<<< HEAD
   "execution_count": null,
=======
   "execution_count": 2,
>>>>>>> origin/master
   "metadata": {
    "colab": {},
    "colab_type": "code",
    "id": "lDGD6deVCt4P",
    "outputId": "f2662a89-f39c-4559-f60a-66c7dbb5f070"
   },
   "outputs": [
    {
     "data": {
      "text/plain": [
       "22"
      ]
     },
     "execution_count": 2,
<<<<<<< HEAD
     "metadata": {
      "tags": []
     },
=======
     "metadata": {},
>>>>>>> origin/master
     "output_type": "execute_result"
    }
   ],
   "source": [
    "# command Python to add 3 + 19\n",
    "\n",
    "3 + 19"
   ]
  },
  {
   "cell_type": "code",
<<<<<<< HEAD
   "execution_count": null,
=======
   "execution_count": 3,
>>>>>>> origin/master
   "metadata": {
    "colab": {},
    "colab_type": "code",
    "id": "8ROriOgvCt4U",
    "outputId": "12e92669-260a-4f85-f7cf-42edbe6c3aa2"
   },
   "outputs": [
    {
     "data": {
      "text/plain": [
       "63"
      ]
     },
     "execution_count": 3,
<<<<<<< HEAD
     "metadata": {
      "tags": []
     },
=======
     "metadata": {},
>>>>>>> origin/master
     "output_type": "execute_result"
    }
   ],
   "source": [
    "# command Python to subtract 91 - 28\n",
    "\n",
    "91 - 28"
   ]
  },
  {
   "cell_type": "markdown",
   "metadata": {
    "colab_type": "text",
    "id": "Wuz3dCCICt4d"
   },
   "source": [
    "We can also do multiplication and division with Python. The symbol for multiplication is * and the symbol for dividsion is /. \n",
    "Let's use Python to do some multiplication and division below!"
   ]
  },
  {
   "cell_type": "code",
<<<<<<< HEAD
   "execution_count": null,
=======
   "execution_count": 4,
>>>>>>> origin/master
   "metadata": {
    "colab": {},
    "colab_type": "code",
    "id": "uE8WqnMQCt4f",
    "outputId": "bdeeb990-11d7-4444-c66f-fd11ed1883ab"
   },
   "outputs": [
    {
     "data": {
      "text/plain": [
       "78"
      ]
     },
     "execution_count": 4,
<<<<<<< HEAD
     "metadata": {
      "tags": []
     },
=======
     "metadata": {},
>>>>>>> origin/master
     "output_type": "execute_result"
    }
   ],
   "source": [
<<<<<<< HEAD
    "# command Python to multiply 6 x 13\n",
    "\n",
    "6 * 13"
=======
    "# command Python to multiply 6x13\n",
    "\n",
    "6*13"
>>>>>>> origin/master
   ]
  },
  {
   "cell_type": "code",
<<<<<<< HEAD
   "execution_count": null,
=======
   "execution_count": 5,
>>>>>>> origin/master
   "metadata": {
    "colab": {},
    "colab_type": "code",
    "id": "B0BUEsGYCt4n",
    "outputId": "80ca2c2e-9037-4fa4-dc7e-fc0931c77a7f"
   },
   "outputs": [
    {
     "data": {
      "text/plain": [
<<<<<<< HEAD
       "24"
      ]
     },
     "execution_count": 5,
     "metadata": {
      "tags": []
     },
=======
       "24.5"
      ]
     },
     "execution_count": 5,
     "metadata": {},
>>>>>>> origin/master
     "output_type": "execute_result"
    }
   ],
   "source": [
<<<<<<< HEAD
    "# command Python to divide 98 / 4\n",
    "\n",
    "98 / 4"
=======
    "# command Python to divide 98/4\n",
    "\n",
    "98/4"
>>>>>>> origin/master
   ]
  },
  {
   "cell_type": "markdown",
   "metadata": {
    "colab_type": "text",
    "id": "5druzIt9Ct4v"
   },
   "source": [
    "Just as easy right? \n",
    "\n",
<<<<<<< HEAD
    "Now let's say we wanted to add the result of 6 x 13 to the result of 98 / 4. We could do it this way:"
=======
    "Now let's say we wanted to add the result of 6x13 to the result of 98/4. We could do it this way:"
>>>>>>> origin/master
   ]
  },
  {
   "cell_type": "code",
<<<<<<< HEAD
   "execution_count": null,
=======
   "execution_count": 6,
>>>>>>> origin/master
   "metadata": {
    "colab": {},
    "colab_type": "code",
    "id": "LYpbC947Ct4x",
    "outputId": "88edf0f0-19e8-49ed-98ba-c1b4c9af8a67"
   },
   "outputs": [
    {
     "data": {
      "text/plain": [
<<<<<<< HEAD
       "102"
      ]
     },
     "execution_count": 6,
     "metadata": {
      "tags": []
     },
=======
       "102.5"
      ]
     },
     "execution_count": 6,
     "metadata": {},
>>>>>>> origin/master
     "output_type": "execute_result"
    }
   ],
   "source": [
<<<<<<< HEAD
    "(6 * 13) + 98/4"
=======
    "(6*13) + (98/4)"
>>>>>>> origin/master
   ]
  },
  {
   "cell_type": "markdown",
   "metadata": {
    "colab_type": "text",
    "id": "m9rjZBBmCt45"
   },
   "source": [
    "But what if we wanted to save ourselves some time? We already typed those equations earlier, so instead of typing the same equations over and over, we can store the results in *variables*.\n",
    "\n",
    "Variables are words or symbols that are used to represent some value. Variables in Python are used very similarly to variables that you have probably seen in math class. For example, if you assign x = 5 and compute 9 + x = _ ? \n",
    "\n",
    "Exactly - 14! Let's see some examples of how this works in code."
   ]
  },
  {
   "cell_type": "code",
<<<<<<< HEAD
   "execution_count": null,
=======
   "execution_count": 7,
>>>>>>> origin/master
   "metadata": {
    "colab": {},
    "colab_type": "code",
    "id": "QNC-fVPjCt46"
   },
   "outputs": [],
   "source": [
<<<<<<< HEAD
    "# Assign the value of 6 * 13 to the variable result1\n",
    "result1 = 6 * 13\n",
    "\n",
    "# Assign the value of 98/4 to the variable result2\n",
=======
    "# assign the value of 6x13 to the variable result1\n",
    "result1 = 6*13\n",
    "\n",
    "# assign the value of 98/4 to the variable result2\n",
>>>>>>> origin/master
    "result2 = 98/4\n"
   ]
  },
  {
   "cell_type": "markdown",
   "metadata": {
    "colab_type": "text",
    "id": "o2jl06rICt4-"
   },
   "source": [
    "You might notice that after running the above cell, nothing was printed to the screen. This is because our code commanded Python only to assign the values to the variable names, not to print to the screen. This is a good reminder that Python is very literal, and will only do **exactly what we command it to do**. \n",
    "\n",
    "If we want to see the values assigned to each variable, we can use the print command we learned above to print them out. "
   ]
  },
  {
   "cell_type": "code",
<<<<<<< HEAD
   "execution_count": null,
=======
   "execution_count": 8,
>>>>>>> origin/master
   "metadata": {
    "colab": {},
    "colab_type": "code",
    "id": "C6mgygHsCt4_",
    "outputId": "57524376-cf14-4028-bde5-5f4ef61b025b"
   },
   "outputs": [
    {
     "name": "stdout",
     "output_type": "stream",
     "text": [
      "78\n",
<<<<<<< HEAD
      "24\n"
=======
      "24.5\n"
>>>>>>> origin/master
     ]
    }
   ],
   "source": [
    "# print the value stored in the variable result1\n",
    "print(result1)\n",
    "\n",
    "# print the value stored in the variable result2\n",
    "print(result2)\n"
   ]
  },
  {
   "cell_type": "markdown",
   "metadata": {
    "colab_type": "text",
    "id": "eeAQfb7ZCt5G"
   },
   "source": [
    "Cool! Now we've seen that the print function in Python can accept different inputs, such as a string (as in \"Hello World\"), or a variable name (as in result1). We see that when we use the variable name result1, it prints the *value* of that variable, not the variable name itself. We will talk more about how we differentiate strings from variable names in the next lesson.\n",
    "\n",
<<<<<<< HEAD
    "Now, let's revisit our initial objective. We wanted to add the result of 6 x 13 to the result of 98 / 4, but this time let's use our variables that contain each of our values."
=======
    "Now, let's revisit our initial objective. We wanted to add the result of 6x13 to the result of 98/4, but this time let's use our variables that contain each of our values."
>>>>>>> origin/master
   ]
  },
  {
   "cell_type": "code",
<<<<<<< HEAD
   "execution_count": null,
=======
   "execution_count": 9,
>>>>>>> origin/master
   "metadata": {
    "colab": {},
    "colab_type": "code",
    "id": "kLS2iEUSCt5H",
    "outputId": "09ef1364-990e-4c2c-89b2-7660b4b7c03a"
   },
   "outputs": [
    {
     "data": {
      "text/plain": [
<<<<<<< HEAD
       "102"
      ]
     },
     "execution_count": 9,
     "metadata": {
      "tags": []
     },
=======
       "102.5"
      ]
     },
     "execution_count": 9,
     "metadata": {},
>>>>>>> origin/master
     "output_type": "execute_result"
    }
   ],
   "source": [
<<<<<<< HEAD
    "# command Python to add the result of 6 x 13 to the result of 98 / 4 using our variable names\n",
=======
    "# command Python to add the result of 6x13 to the result of 98/4 using our variable names\n",
>>>>>>> origin/master
    "result1 + result2\n"
   ]
  },
  {
   "cell_type": "markdown",
   "metadata": {
    "colab_type": "text",
    "id": "laXdWIEwCt5P"
   },
   "source": [
    "Fantastic! You've just solved your first set of problems using Python code! You may not realize it, but in just a few minutes, you've already learned how to\n",
    "     - Use built-in Python functions (print)\n",
    "     - Use mathematical operators to perform calculations (+ - * /)\n",
    "     - Assign values to variables\n",
    "     - Use variables in mathematical equations\n",
    "     \n",
    "Now let's continue to practice these skills with your partners!"
   ]
<<<<<<< HEAD
=======
  },
  {
   "cell_type": "code",
   "execution_count": null,
   "metadata": {},
   "outputs": [],
   "source": []
>>>>>>> origin/master
  }
 ],
 "metadata": {
  "colab": {
   "name": "KEY_Lesson02_HelloWorld_Variables.ipynb",
   "provenance": [],
   "version": "0.3.2"
  },
  "kernelspec": {
   "display_name": "Python 3",
   "language": "python",
   "name": "python3"
  },
  "language_info": {
   "codemirror_mode": {
    "name": "ipython",
    "version": 3
   },
   "file_extension": ".py",
   "mimetype": "text/x-python",
   "name": "python",
   "nbconvert_exporter": "python",
   "pygments_lexer": "ipython3",
   "version": "3.7.3"
  }
 },
 "nbformat": 4,
<<<<<<< HEAD
 "nbformat_minor": 2
=======
 "nbformat_minor": 1
>>>>>>> origin/master
}

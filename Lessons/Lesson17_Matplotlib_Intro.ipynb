{
 "cells": [
  {
   "cell_type": "markdown",
   "metadata": {},
   "source": [
    "# Matplotlib Introduction"
   ]
  },
  {
   "cell_type": "markdown",
   "metadata": {},
   "source": [
    "Data visualization is one of the best ways to communicate your data with others as well as to get insights into data. Today we are going to learn how to use Python's `matplotlib` package to visualize and interpret data.\n",
    "\n",
    "In this lesson, we want to see how the the the number of passengers of a flight changes over time.\n",
    "\n",
    "**pyplot** odule is an interface for matplotlib that let's you work on your plot interactively. To import this module we would reference it using `matplotlib.pyplot`.\n"
   ]
  },
  {
   "cell_type": "code",
   "execution_count": null,
   "metadata": {},
   "outputs": [],
   "source": [
    "# load matplotlib.pyplot\n",
    "\n"
   ]
  },
  {
   "cell_type": "markdown",
   "metadata": {},
   "source": [
    "As we've seen before, it is a pain to use long prefixes whenever we want to use a function from a package with a long name, and when adding a reference to a submodule it gets even longer. So, we'll want to create another **nickname** for this package. For `matplotlib.pyplot`, it is common to import using the nickname `plt`, so that's what we'll do from now on. "
   ]
  },
  {
   "cell_type": "code",
   "execution_count": null,
   "metadata": {},
   "outputs": [],
   "source": [
    "# load matplotlib.pyplot as plt\n",
    "\n"
   ]
  },
  {
   "cell_type": "markdown",
   "metadata": {},
   "source": [
    "There is another popular plotting package in python called **seaborn**. Though most of our plotting lessons will focus on **matplotlib**, the **seaborn** package has a nice feature that procides a number of built-in datasets as pandas dataframes, which can be useful when practicing with new skills like we're about do to with plotting. We will use the nickname `sns` to reference the seaborn package. \n",
    "\n",
    "For this lesson we are going to use a **seaborn** built-in dataset called \"flights\". This dataset includes the number of passangers of flights during each month from years 1949 to 1960.\n",
    "\n",
    "We'll use the function `load_dataset` to load \"flights\" dataset from **seaborn** and save it to a variable called `flights`."
   ]
  },
  {
   "cell_type": "code",
   "execution_count": null,
   "metadata": {},
   "outputs": [],
   "source": [
    "# import seaborn and name it sns\n",
    "# load flights dataset from seaborn and assign it to a variable called flights\n",
    "import seaborn as sns\n",
    "flights = sns.load_dataset(\"flights\")"
   ]
  },
  {
   "cell_type": "markdown",
   "metadata": {},
   "source": [
    "Based on the description above, what type do you think the `flights` object is?"
   ]
  },
  {
   "cell_type": "code",
   "execution_count": null,
   "metadata": {},
   "outputs": [],
   "source": [
    "# what is type of flights?\n"
   ]
  },
  {
   "cell_type": "markdown",
   "metadata": {},
   "source": [
    "Let's look at the data to get a better understanding of it."
   ]
  },
  {
   "cell_type": "code",
   "execution_count": null,
   "metadata": {},
   "outputs": [],
   "source": [
    "# return the first 15 rows of flights dataframe\n",
    "\n"
   ]
  },
  {
   "cell_type": "markdown",
   "metadata": {},
   "source": [
    "How do you think the number of passengers in January has changed from year 1949 to 1960? It is difficult to tell buy just looking at the table above. An easier way to get a sense of the trend over time is to **plot our data**, which is super easy with the **matplotlib** package. \n",
    "\n",
    "For this specific example, we will use the number of passengers on flights at the start of the year to measure change over time. To do this, we will first use our pandas skills to select the rows in our dataframe `flights` where the `month` column has the value `'January'` and save this to a new dataframe called `flights_January`. Then we will plot these data using the `plt.plot` function."
   ]
  },
  {
   "cell_type": "code",
   "execution_count": null,
   "metadata": {},
   "outputs": [],
   "source": [
    "# select all samples where month is January and assign it to a new dataframe named \"flights_January\"\n",
    "# use plt.plot function to plot the number of passenger for each year. \n",
    "# we want to show year on a horizonal axis (also called x-axis) and \n",
    "# show the number of passenger on the vertical axis (also called y-axis)\n",
    "\n",
    "\n"
   ]
  },
  {
   "cell_type": "markdown",
   "metadata": {},
   "source": [
    "Yay! You just made your first plot! This type of plot is called **line graph**. Line graph is a simple and at the same time powerful tool to show changes of a variable over time!\n",
    "\n",
    "But is there anything missing from the plot? Is this plot self explanotory? \n",
    "\n",
    "Not really right? No worries - we can fix that! To help people better understand a plot, we should add a proper title and labels to the plot. For that, let's explore the `plt.title`, `plt.xlabel`, and `plt.ylabel` functions."
   ]
  },
  {
   "cell_type": "code",
   "execution_count": null,
   "metadata": {},
   "outputs": [],
   "source": [
    "# reproduce the above plot\n",
    "# but this time, add the title \"Flight Passesnger from 1949-1960\"\n",
    "# label the horizontal and verrtical axes \"Year\" and \"Number of Passengers\" respectively\n",
    "# Remember that labels/title are string variables.\n",
    "\n",
    "\n",
    "\n",
    "\n"
   ]
  },
  {
   "cell_type": "markdown",
   "metadata": {},
   "source": [
    "The line graph seems to be continous, however, it is actually measured at fixed intervals rather than continuously. In this plot, we are showing yearly intervals. Adding markers is a way to show at which points exactly along the x-axis the data are measured, and which parts correspond to the trends between the measurement intervals. "
   ]
  },
  {
   "cell_type": "code",
   "execution_count": null,
   "metadata": {},
   "outputs": [],
   "source": [
    "# reproduce the above plot \n",
    "# this time, pass \"v\" to markers to add a triangle shaped markers\n",
    "# don't forget to add labels/title\n",
    "\n",
    "\n",
    "plt.title(\"Flight Passesngers from 1949-1960\")\n",
    "plt.xlabel(\"Year\")\n",
    "plt.ylabel(\"Number of Passengers\")"
   ]
  },
  {
   "cell_type": "markdown",
   "metadata": {},
   "source": [
    "Finally, you can change the color of a line graph. "
   ]
  },
  {
   "cell_type": "code",
   "execution_count": null,
   "metadata": {},
   "outputs": [],
   "source": [
    "# recreate the above plot \n",
    "# pass \"r\" to color oprtion to show the plot in red\n",
    "# don't forget to add labels/title/markers\n",
    "\n",
    "\n",
    "plt.title(\"Flight assesnger from 1949-1960\")\n",
    "plt.xlabel(\"Year\")\n",
    "plt.ylabel(\"Number of passengers\")"
   ]
  },
  {
   "cell_type": "markdown",
   "metadata": {},
   "source": [
    "Don't forget that Google is your best friend! Use it to explore all other options for color and marker style. \n",
    "\n",
    "In this lesson you learned about:\n",
    "* using **matplotlib** package of Python to communicate your data using **line graph** plots. \n",
    "* aading labels and a title to a plt\n",
    "* adding markers to a line graph\n",
    "* changing the color of a line graph"
   ]
  }
 ],
 "metadata": {
  "kernelspec": {
   "display_name": "Python 3",
   "language": "python",
   "name": "python3"
  },
  "language_info": {
   "codemirror_mode": {
    "name": "ipython",
    "version": 3
   },
   "file_extension": ".py",
   "mimetype": "text/x-python",
   "name": "python",
   "nbconvert_exporter": "python",
   "pygments_lexer": "ipython3",
   "version": "3.7.3"
  }
 },
 "nbformat": 4,
 "nbformat_minor": 2
}

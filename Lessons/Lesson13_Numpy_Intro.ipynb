{
 "cells": [
  {
   "cell_type": "markdown",
   "metadata": {},
   "source": [
    "# Introduction to Numpy\n",
    "\n",
    "In the last two days of camp, you have learned how to start using python and how to manipulate data with the `pandas` library. Today, we will be learning how to perform calculations with another library known as `numpy`. `numpy` allows you to do math on entire lists of data, all at the same time!"
   ]
  },
  {
   "cell_type": "markdown",
   "metadata": {},
   "source": [
    "To review what we learned on monday, let's create a list containing the numbers 0 through 5 and assign it to a variable:"
   ]
  },
  {
   "cell_type": "code",
   "execution_count": null,
   "metadata": {},
   "outputs": [],
   "source": [
    "# Create a list containing the numbers 0 through 4\n",
    "\n",
    "\n"
   ]
  },
  {
   "cell_type": "markdown",
   "metadata": {},
   "source": [
    "Using lists can be really useful, because you can store any set of data in the. For instance, you could store the temperature in your house each morning as a list.\n",
    "\n",
    "Now, lets add 1 to each of the items in the array:"
   ]
  },
  {
   "cell_type": "code",
   "execution_count": null,
   "metadata": {},
   "outputs": [],
   "source": [
    "# Add 1 to each item in the array you created above\n",
    "\n",
    "\n"
   ]
  },
  {
   "cell_type": "markdown",
   "metadata": {},
   "source": [
    "You might have noticed that this is much less convinent than with a single variable, where you can do something like this to add a number:"
   ]
  },
  {
   "cell_type": "code",
   "execution_count": null,
   "metadata": {},
   "outputs": [],
   "source": [
    "# create a single variable and add a number to it\n",
    "\n"
   ]
  },
  {
   "cell_type": "markdown",
   "metadata": {},
   "source": [
    "Today we will be using `numpy` which allows us to do just that!"
   ]
  },
  {
   "cell_type": "markdown",
   "metadata": {},
   "source": [
    "First we will import `numpy`:"
   ]
  },
  {
   "cell_type": "code",
   "execution_count": null,
   "metadata": {},
   "outputs": [],
   "source": [
    "# Load numpy\n",
    "\n",
    "\n"
   ]
  },
  {
   "cell_type": "markdown",
   "metadata": {},
   "source": [
    "Now whenever we type `np`, python will know we are talking about `numpy`\n",
    "\n",
    "There is a ton of useful stuff we can do with numpy, let's redo the example above:"
   ]
  },
  {
   "cell_type": "code",
   "execution_count": null,
   "metadata": {},
   "outputs": [],
   "source": [
    "# create a numpy array containing the numbers 0 through 4\n",
    "\n",
    "\n"
   ]
  },
  {
   "cell_type": "markdown",
   "metadata": {},
   "source": [
    "Numpy `arrays` act very similarly to regular python `lists`, we can grab individual items using the same syntax:"
   ]
  },
  {
   "cell_type": "code",
   "execution_count": null,
   "metadata": {},
   "outputs": [],
   "source": [
    "# Print a number from the numpy array you just created:\n",
    "\n"
   ]
  },
  {
   "cell_type": "markdown",
   "metadata": {},
   "source": [
    "But Numpy `arrays` also add a lot of useful features such as the ability to perform commands *on all items in a list at the same time*.\n",
    "\n",
    "We can demonstrate this by adding a number to all of the items in the Numpy `array`:"
   ]
  },
  {
   "cell_type": "code",
   "execution_count": null,
   "metadata": {},
   "outputs": [],
   "source": [
    "# Add any number to the list we created above\n",
    "\n",
    "\n"
   ]
  },
  {
   "cell_type": "markdown",
   "metadata": {},
   "source": [
    "See how much easier that was? We will be using Numpy for the rest of the day to perform calculations on arrays of data. It is useful to note that you can perform any mathematical operation we talked about on Monday with numpy arrays, even though we used addition as an example above.\n",
    "\n",
    "In this lesson you learned how to:\n",
    "     - Load Numpy into Python\n",
    "     - Create an array with Numpy\n",
    "     - Perform math with Numpy arrays\n",
    "     \n",
    "Now, lets continue to practice with your partner!"
   ]
  }
 ],
 "metadata": {
  "kernelspec": {
   "display_name": "Python 3",
   "language": "python",
   "name": "python3"
  },
  "language_info": {
   "codemirror_mode": {
    "name": "ipython",
    "version": 3
   },
   "file_extension": ".py",
   "mimetype": "text/x-python",
   "name": "python",
   "nbconvert_exporter": "python",
   "pygments_lexer": "ipython3",
   "version": "3.7.3"
  }
 },
 "nbformat": 4,
 "nbformat_minor": 2
}

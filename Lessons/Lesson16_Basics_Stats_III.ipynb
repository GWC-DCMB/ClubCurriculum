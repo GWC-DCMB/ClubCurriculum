{
 "cells": [
  {
   "cell_type": "markdown",
   "metadata": {
    "colab_type": "text",
    "id": "Img82EO08Ttf"
   },
   "source": [
    "# Introduction to Statistics Part III\n",
    "\n"
   ]
  },
  {
   "cell_type": "markdown",
   "metadata": {
    "colab_type": "text",
    "id": "VIi2JLkc8Ttj"
   },
   "source": [
    "Now that we have learned how to manipulate basic statistics, we will look at how to perform *significance tests* and find the *correlation* between two variables."
   ]
  },
  {
   "cell_type": "markdown",
   "metadata": {
    "colab_type": "text",
    "id": "CCbGPyx78Ttk"
   },
   "source": [
    "## Significance Testing"
   ]
  },
  {
   "cell_type": "code",
   "execution_count": null,
   "metadata": {
    "colab": {},
    "colab_type": "code",
    "id": "r9U8xuIV8Ttm"
   },
   "outputs": [],
   "source": [
    "# Load pandas, numpy, and scipy.stats\n",
    "\n",
    "\n"
   ]
  },
  {
   "cell_type": "code",
   "execution_count": null,
   "metadata": {},
   "outputs": [],
   "source": [
    "# mount Google Drive\n",
    "from google.colab import drive\n",
    "drive.mount('/content/gdrive')\n",
    "path = '/content/gdrive/My Drive/SummerExperience-master/'\n"
   ]
  },
  {
   "cell_type": "markdown",
   "metadata": {
    "colab_type": "text",
    "id": "a_4S-RqJ8Ttr"
   },
   "source": [
    "Run the cell below to load a table of temperature in Detroit since 1937:"
   ]
  },
  {
   "cell_type": "code",
   "execution_count": null,
   "metadata": {
    "colab": {},
    "colab_type": "code",
    "id": "EsPgsmA78Ttt"
   },
   "outputs": [],
   "source": [
    "data_table = pd.read_csv(path + 'Lessons/SampleData/detroit_weather_2.csv' ) # Data from Mathematica WeatherData, 2019\n"
   ]
  },
  {
   "cell_type": "markdown",
   "metadata": {
    "colab_type": "text",
    "id": "Kgtlupzj8Ttx"
   },
   "source": [
    "Print out the data to see what the format looks like:"
   ]
  },
  {
   "cell_type": "code",
   "execution_count": null,
   "metadata": {
    "colab": {},
    "colab_type": "code",
    "id": "0vuRwSMg8Tty",
    "outputId": "e3f3f4f7-6782-45aa-a1c0-94b6f85c1cda"
   },
   "outputs": [],
   "source": [
    "# View the head of data_table to see what its format looks like\n",
    "\n"
   ]
  },
  {
   "cell_type": "code",
   "execution_count": null,
   "metadata": {
    "colab": {},
    "colab_type": "code",
    "id": "Z2TanMnJ8ggV"
   },
   "outputs": [],
   "source": [
    "# View the tail of data_table to see what its format looks like\n",
    "\n",
    "\n"
   ]
  },
  {
   "cell_type": "markdown",
   "metadata": {
    "colab_type": "text",
    "id": "E8LSeaOd8Tt7"
   },
   "source": [
    "`data_table` contains one row for each day since 1937, where the column 'Temperature' contains the average temperature for that day (in Celsius).\n",
    "\n",
    "We will use this data to **test** whether or not the average temperature in Detroit has changed significantly in the years since 1937. To do this, let's first select two equally sized date ranges to generate our averages: 1940-1950 and 2005-2015."
   ]
  },
  {
   "cell_type": "code",
   "execution_count": null,
   "metadata": {
    "colab": {},
    "colab_type": "code",
    "id": "3rYx8vie8Tt8"
   },
   "outputs": [],
   "source": [
    "# Select two temperature ranges from data_table, one from a long time ago and one more recent:\n",
    "\n"
   ]
  },
  {
   "cell_type": "markdown",
   "metadata": {
    "colab_type": "text",
    "id": "kVFEi2Dc8TuA"
   },
   "source": [
    "Using what we learned this morning, calculate the mean for each of the date ranges."
   ]
  },
  {
   "cell_type": "code",
   "execution_count": null,
   "metadata": {
    "colab": {},
    "colab_type": "code",
    "id": "HDzEdNsA8TuA",
    "outputId": "f739c6c1-ebed-432b-80ff-049de2bf5b25"
   },
   "outputs": [],
   "source": [
    "# Calculate the mean of your two temperature ranges:\n",
    "\n",
    "\n"
   ]
  },
  {
   "cell_type": "code",
   "execution_count": null,
   "metadata": {
    "colab": {},
    "colab_type": "code",
    "id": "UeTdKc8G8vVX"
   },
   "outputs": [],
   "source": [
    "# Calculate the difference between the two means:\n",
    "\n"
   ]
  },
  {
   "cell_type": "markdown",
   "metadata": {
    "colab_type": "text",
    "id": "JWPBxiZm8TuF"
   },
   "source": [
    "Here, we see that there was an increase of 0.75 degrees Celsius between the average temperature of these two time periods. *Statistical tests* are used to determine if this difference is likely due to chance or due to an actual change.\n",
    "\n",
    "We will use one of these tests, a **t-test** to calculate the **probability** of this temperature change. \n",
    "\n",
    "For this, we'll use the `ttest_ind` **function** as part of the `stats` **module** of the `scipy` **package**. You'll notice that the arguments we passed to `ttest_ind` are the full daily temp data vectors for each date range, rather than just the averages. This is because the outcome of the test depends on the **distribution** of the data. "
   ]
  },
  {
   "cell_type": "code",
   "execution_count": null,
   "metadata": {
    "colab": {},
    "colab_type": "code",
    "id": "emsKgGQu8TuG",
    "outputId": "0df7023f-d9c7-4b8e-9d47-7f352df897da"
   },
   "outputs": [],
   "source": [
    "# Use the scipy stats module to calculate a t-test from the data above\n",
    "\n"
   ]
  },
  {
   "cell_type": "markdown",
   "metadata": {
    "colab_type": "text",
    "id": "AVRvDx8G8TuJ"
   },
   "source": [
    "The output of the t-test is called a *p-value*. This *p-value* tells us the **probability** that we would see the same data distribution if there was no difference between the two groups we are testing. Here, the result informs us that there is only a 0.25% chance that there was a difference of this size by random fluctuation, which is very low! Since we saw the average of the later dates was higher than the earlier dates, this shows that our data supports the idea of global warming, even here in Detroit."
   ]
  },
  {
   "cell_type": "markdown",
   "metadata": {
    "colab_type": "text",
    "id": "_e-roqiD8TuK"
   },
   "source": [
    "Let's redo this analysis using only temperature values from December:"
   ]
  },
  {
   "cell_type": "code",
   "execution_count": null,
   "metadata": {
    "colab": {},
    "colab_type": "code",
    "id": "D4VSYU7G8TuL"
   },
   "outputs": [],
   "source": [
    "# Reselect the data, now only including data points in December\n",
    "\n",
    " "
   ]
  },
  {
   "cell_type": "code",
   "execution_count": null,
   "metadata": {
    "colab": {},
    "colab_type": "code",
    "id": "8GYiMuvl8TuP",
    "outputId": "40402e23-d853-4b36-bd22-f7b3e4464775"
   },
   "outputs": [],
   "source": [
    "# Calculate the mean of your two temperature ranges:\n",
    "\n",
    "\n"
   ]
  },
  {
   "cell_type": "code",
   "execution_count": null,
   "metadata": {
    "colab": {},
    "colab_type": "code",
    "id": "NDWMI2cq9Adg"
   },
   "outputs": [],
   "source": [
    "# Calculate the difference between the two means:\n",
    "\n"
   ]
  },
  {
   "cell_type": "code",
   "execution_count": null,
   "metadata": {
    "colab": {},
    "colab_type": "code",
    "id": "79w1Ci1q8TuT",
    "outputId": "bd56702c-04ea-4c8e-8f1a-e12b30709ff9"
   },
   "outputs": [],
   "source": [
    "# Re-run the statistical test on these subset datasets\n",
    "\n"
   ]
  },
  {
   "cell_type": "markdown",
   "metadata": {
    "colab_type": "text",
    "id": "Ampf7SG28TuX"
   },
   "source": [
    "We can see that the difference in temperature is even greater when you focus on just December. A *p-value* of 0.08% indicates that the change is even more signifcant than the difference in temperature for the entire year."
   ]
  },
  {
   "cell_type": "markdown",
   "metadata": {},
   "source": [
    "## Correlations\n",
    "\n",
    "A *correlation* is a measure of the statistical relationship between two variables. Correlation values range from -1 to 1, where the absolute value of the correlation indicates the strength of the relationship and the sign of the correlation represents the direction of the relationship. \n",
    "\n",
    "We will use the `corrcoef` function from `numpy` to calculate correlation values."
   ]
  },
  {
   "cell_type": "code",
   "execution_count": null,
   "metadata": {},
   "outputs": [],
   "source": [
    "# positive and negative correlation examples\n",
    "data_1 = np.array([1,2,3,4,5])\n",
    "data_2 = data_1 * 4\n",
    "data_3 = data_1 * -2\n",
    "\n"
   ]
  },
  {
   "cell_type": "markdown",
   "metadata": {},
   "source": [
    "This function returns a *correlation matrix*, which always has 1's along the diagonal and is *symmetric* (i.e. same values above the diagonal as below). This is so you can compute correlations of more than one variable. Let's illustrate with another example."
   ]
  },
  {
   "cell_type": "code",
   "execution_count": null,
   "metadata": {},
   "outputs": [],
   "source": [
    "a = np.array([1,2,3,4,6,7,8,9])\n",
    "b = np.array([2,4,6,8,10,12,13,15])\n",
    "c = np.array([-1,-2,-2,-3,-4,-6,-7,-8])\n",
    "\n"
   ]
  },
  {
   "cell_type": "markdown",
   "metadata": {},
   "source": [
    "The resulting correlation matrix follows the following form:\n",
    "    \n",
    "|_| a | b | c |\n",
    "|----|--------------|-------------|------------------------|\n",
    "|a| 1  | 0.995 | -0.980 |\n",
    "|b| 0.995 |1 | -0.971 |\n",
    "|c| -0.980 | -0.971 | 1 |\n",
    "\n",
    "Now, it should be clear why a correlation matrix always has 1's along the diagonal - every variable has perfect positive correlation with itself. Furthermore, it is symmetric because the correlation of `a` & `b` is the same as the correlation of `b` & `a`. "
   ]
  },
  {
   "cell_type": "markdown",
   "metadata": {},
   "source": [
    "Now that we understand our output, let's check the correlations between the variables in the `iris` dataset."
   ]
  },
  {
   "cell_type": "code",
   "execution_count": null,
   "metadata": {},
   "outputs": [],
   "source": [
    "# load and preview iris\n",
    "iris = pd.read_csv('../SampleData/iris.csv')\n"
   ]
  },
  {
   "cell_type": "code",
   "execution_count": null,
   "metadata": {},
   "outputs": [],
   "source": [
    "# find correlations between sepal_length, sepal_width, petal_length, petal_width\n"
   ]
  },
  {
   "cell_type": "markdown",
   "metadata": {},
   "source": [
    "You'll notice this time we included the `rowvar` parameter - this is because, by default, the `corrcoef` function expects that each row represents a variable, with observations in the columns. In our case it is the opposite - each column represents a variable, while the rows contain observations. So here we change the value of `rowvar` from the default `True` to `False`. "
   ]
  },
  {
   "cell_type": "markdown",
   "metadata": {
    "colab_type": "text",
    "id": "jyk1BC9n8TuY"
   },
   "source": [
    "In this lesson you learned how to:\n",
    "\n",
    "* Perform a `t-test` on a two-class dataset\n",
    "* Interpret the results from statistical tests\n",
    "* Compute correlations for multiple variables\n",
    "     \n",
    "Now, lets continue to practice with your partner!"
   ]
  }
 ],
 "metadata": {
  "colab": {
   "collapsed_sections": [],
   "name": "KEY_Lesson17_Basics_Stats_III.ipynb",
   "provenance": [],
   "version": "0.3.2"
  },
  "kernelspec": {
   "display_name": "Python 3",
   "language": "python",
   "name": "python3"
  },
  "language_info": {
   "codemirror_mode": {
    "name": "ipython",
    "version": 3
   },
   "file_extension": ".py",
   "mimetype": "text/x-python",
   "name": "python",
   "nbconvert_exporter": "python",
   "pygments_lexer": "ipython3",
   "version": "3.7.3"
  }
 },
 "nbformat": 4,
 "nbformat_minor": 2
}

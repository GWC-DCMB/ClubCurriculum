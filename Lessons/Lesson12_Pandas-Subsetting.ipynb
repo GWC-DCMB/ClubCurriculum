{
 "cells": [
  {
   "cell_type": "markdown",
   "metadata": {
    "colab_type": "text",
    "id": "KSChitqaVpii"
   },
   "source": [
    "# Subsetting Pandas DataFrames\n",
    "\n",
    "You now know how to read external datasets into `pandas`. Let's put those skills to use and read in the `tips` dataset again:"
   ]
  },
  {
   "cell_type": "code",
   "execution_count": null,
   "metadata": {
    "colab": {},
    "colab_type": "code",
    "id": "GAaclB4wDF37"
   },
   "outputs": [],
   "source": [
    "# mount Google Drive\n",
    "from google.colab import drive\n",
    "drive.mount('/content/gdrive')\n",
    "path = '/content/gdrive/My Drive/SummerExperience-master/'\n"
   ]
  },
  {
   "cell_type": "code",
   "execution_count": null,
   "metadata": {
    "colab": {},
    "colab_type": "code",
    "id": "O7YFupf5YEUN"
   },
   "outputs": [],
   "source": [
    "# import the pandas package\n",
    "import pandas as pd\n",
    "# load tips\n",
    "tips = pd.read_csv(path + 'Lessons/SampleData/tips.csv')\n"
   ]
  },
  {
   "cell_type": "markdown",
   "metadata": {
    "colab_type": "text",
    "id": "z9l9mAozXoR8"
   },
   "source": [
    "Take a look again at the beginning of the `tips` `DataFrame`:"
   ]
  },
  {
   "cell_type": "code",
   "execution_count": null,
   "metadata": {
    "colab": {},
    "colab_type": "code",
    "id": "kB7LuRpvXtK9"
   },
   "outputs": [],
   "source": [
    "# view the beginning of tips\n"
   ]
  },
  {
   "cell_type": "markdown",
   "metadata": {
    "colab_type": "text",
    "id": "V9p5EF4cYVsY"
   },
   "source": [
    "What if we decided we didn't want to keep all of the data recorded in this dataset? To do that, we need to learn how to `subset` `DataFrames`. Subsetting means taking a dataset and pulling out a small portion of it that we're interested in. \n",
    "\n",
    "First, we'll look at a single column (you can use `head` to keep the printed result short):"
   ]
  },
  {
   "cell_type": "code",
   "execution_count": null,
   "metadata": {
    "colab": {},
    "colab_type": "code",
    "id": "V1MLw1kkXvmp"
   },
   "outputs": [],
   "source": [
    "tips['day'].head(10)"
   ]
  },
  {
   "cell_type": "markdown",
   "metadata": {
    "colab_type": "text",
    "id": "O-mS68CxY-YI"
   },
   "source": [
    "We use the square brackets [ ] after the name of the `DataFrame` to tell `pandas` that we want to look at one of the columns. We put the name of the column in quotes to tell `pandas` exactly which column we want to look at. Try subsetting the `total_bill` column:"
   ]
  },
  {
   "cell_type": "code",
   "execution_count": null,
   "metadata": {
    "colab": {},
    "colab_type": "code",
    "id": "In1ihhtlY7TO"
   },
   "outputs": [],
   "source": [
    "# subset the total_bill column\n"
   ]
  },
  {
   "cell_type": "markdown",
   "metadata": {
    "colab_type": "text",
    "id": "Fb6S7mTuaIbH"
   },
   "source": [
    "`pandas` simply showed us the result of subsetting the column, but it didn't save the result anywhere. Try saving the `total_bill` column to a new variable, `bills`:"
   ]
  },
  {
   "cell_type": "code",
   "execution_count": null,
   "metadata": {
    "colab": {},
    "colab_type": "code",
    "id": "Ug2vYPuJaHbi"
   },
   "outputs": [],
   "source": [
    "# save the total_bill column to a variable\n"
   ]
  },
  {
   "cell_type": "markdown",
   "metadata": {
    "colab_type": "text",
    "id": "4yPt2n_HaYSm"
   },
   "source": [
    "We can also pull out multiple columns at a time to create a new `DataFrame`. If we were only interested in the `total_bill` and `tip`, we can subset them like this:"
   ]
  },
  {
   "cell_type": "code",
   "execution_count": null,
   "metadata": {
    "colab": {},
    "colab_type": "code",
    "id": "mClTreEzZqyJ"
   },
   "outputs": [],
   "source": [
    "tips[['total_bill', 'tip']].head(10)"
   ]
  },
  {
   "cell_type": "markdown",
   "metadata": {
    "colab_type": "text",
    "id": "y5XsmQ3Ya1J_"
   },
   "source": [
    "Does that look familiar? Instead of putting a single string between the square brackets, we put a whole list of strings -- you can tell it's a list by the second set of square brackets. Now you try: subset the columns `total_bill`, `tip`, and `time` and save the result to a variable called `tips_subset`:"
   ]
  },
  {
   "cell_type": "code",
   "execution_count": null,
   "metadata": {
    "colab": {},
    "colab_type": "code",
    "id": "SWiMFvQdapie"
   },
   "outputs": [],
   "source": [
    "# subset three columns and save to a new variable\n",
    "\n",
    "# take a look at the beginning of the new DataFrame\n"
   ]
  },
  {
   "cell_type": "markdown",
   "metadata": {
    "colab_type": "text",
    "id": "R-gKpfhEbpMe"
   },
   "source": [
    "Now we've learned how to subset columns. How do we subset rows? We use a `method` of `DataFrame` called `iloc`. When you see `iloc`, think \"index location\" -- because we want to get the location where the row is a certain index. Let's try it:"
   ]
  },
  {
   "cell_type": "code",
   "execution_count": null,
   "metadata": {
    "colab": {},
    "colab_type": "code",
    "id": "-ZtZpZFxbkTA"
   },
   "outputs": [],
   "source": [
    "tips.loc[1]"
   ]
  },
  {
   "cell_type": "markdown",
   "metadata": {
    "colab_type": "text",
    "id": "qDQGEyYJcNoN"
   },
   "source": [
    "That showed us the row with an index of 1. Similarly to subsetting columns, we can also subset multiple rows:"
   ]
  },
  {
   "cell_type": "code",
   "execution_count": null,
   "metadata": {
    "colab": {},
    "colab_type": "code",
    "id": "8LbYrFumbwPW"
   },
   "outputs": [],
   "source": [
    "tips.iloc[[0,1,2]]"
   ]
  },
  {
   "cell_type": "markdown",
   "metadata": {
    "colab_type": "text",
    "id": "sXKcgq5qcXoN"
   },
   "source": [
    "That gave us a smaller `DataFrame` where the rows have an index of 0, 1, or 2. We can do the same thing with slicing syntax:"
   ]
  },
  {
   "cell_type": "code",
   "execution_count": null,
   "metadata": {
    "colab": {},
    "colab_type": "code",
    "id": "vapD4nl_cWL8"
   },
   "outputs": [],
   "source": [
    "tips.iloc[0:3]"
   ]
  },
  {
   "cell_type": "markdown",
   "metadata": {
    "colab_type": "text",
    "id": "NqeKKzXNckhK"
   },
   "source": [
    "Notice that this does the same thing as calling `head` with a value of 3:"
   ]
  },
  {
   "cell_type": "code",
   "execution_count": null,
   "metadata": {
    "colab": {},
    "colab_type": "code",
    "id": "l8f9L7nBci8j"
   },
   "outputs": [],
   "source": [
    "tips.head(3)"
   ]
  },
  {
   "cell_type": "markdown",
   "metadata": {
    "colab_type": "text",
    "id": "Yo6HFY3mc01R"
   },
   "source": [
    "What if we want to grab some rows in the middle of the `DataFrame`? Try subsetting rows 100 through 105:"
   ]
  },
  {
   "cell_type": "code",
   "execution_count": null,
   "metadata": {
    "colab": {},
    "colab_type": "code",
    "id": "bU4qQ9NDcuex"
   },
   "outputs": [],
   "source": [
    "# subset rows 100 through 105\n"
   ]
  },
  {
   "cell_type": "markdown",
   "metadata": {
    "colab_type": "text",
    "id": "lmdNsRJIdSww"
   },
   "source": [
    "We can even subset rows and columns in the same line of code. What do you think the following cell will do?"
   ]
  },
  {
   "cell_type": "code",
   "execution_count": null,
   "metadata": {
    "colab": {},
    "colab_type": "code",
    "id": "LmF5osHCdJ6w"
   },
   "outputs": [],
   "source": [
    "tips.loc[5:10][['total_bill', 'day', 'time']]"
   ]
  },
  {
   "cell_type": "markdown",
   "metadata": {
    "colab_type": "text",
    "id": "3bB-w1eOdoxD"
   },
   "source": [
    "Now you try! Subset rows 11 and 12 and columns `total_bill` and `tip`:"
   ]
  },
  {
   "cell_type": "code",
   "execution_count": null,
   "metadata": {
    "colab": {},
    "colab_type": "code",
    "id": "VFdqBEB7dU-f"
   },
   "outputs": [],
   "source": [
    "# subset rows and columns\n"
   ]
  },
  {
   "cell_type": "markdown",
   "metadata": {
    "colab_type": "text",
    "id": "ielBxuXYd_B6"
   },
   "source": [
    "Sometimes we don't know exactly which row(s) we want to subset ahead of time. What if we want to subset rows that have a certain value in the `time` column? We don't want to scroll through hundreds of rows to find them. The good news is: we don't have to! Let's use the `method` called `query`.  Inside the parentheses of `query` we'll enclose a statement in quotes with the name of the column and an expression."
   ]
  },
  {
   "cell_type": "code",
   "execution_count": null,
   "metadata": {
    "colab": {},
    "colab_type": "code",
    "id": "yi6NNYYrdztC"
   },
   "outputs": [],
   "source": [
    "tips.query('time == \"Lunch\"')"
   ]
  },
  {
   "cell_type": "markdown",
   "metadata": {
    "colab_type": "text",
    "id": "iSBA6Bx5fPN8"
   },
   "source": [
    "The above cell showed us all the rows where `time` is equal to \"Lunch\". We had to enclose \"Lunch\" in quotes above because it's not the name of a column, but a value within the `time` column.\n",
    "\n",
    "Now you try: subset the rows where the waitress is female and save it to a variable, `female`:"
   ]
  },
  {
   "cell_type": "code",
   "execution_count": null,
   "metadata": {
    "colab": {},
    "colab_type": "code",
    "id": "z56a4vGDecan"
   },
   "outputs": [],
   "source": [
    "# subset rows with a female waitress and save it to a variable\n",
    "\n",
    "# take a look at the beginning\n"
   ]
  },
  {
   "cell_type": "markdown",
   "metadata": {
    "colab_type": "text",
    "id": "14Ne3-oifwkE"
   },
   "source": [
    "Now lets do the same for males. Subset the male waiter data and save it to a variable, `male`:"
   ]
  },
  {
   "cell_type": "code",
   "execution_count": null,
   "metadata": {
    "colab": {},
    "colab_type": "code",
    "id": "hdCwv4RJfvIO"
   },
   "outputs": [],
   "source": [
    "# subset the male waiters and save it\n",
    "\n",
    "# look at the beginning\n"
   ]
  },
  {
   "cell_type": "markdown",
   "metadata": {
    "colab_type": "text",
    "id": "CLBfBmXSgoqX"
   },
   "source": [
    " How would you determine the number of male waiters in this `DataFrame`? Think back to the last lesson when we used the `len` function."
   ]
  },
  {
   "cell_type": "code",
   "execution_count": null,
   "metadata": {
    "colab": {},
    "colab_type": "code",
    "id": "vHeToUhgga_9"
   },
   "outputs": [],
   "source": [
    "# number of males\n"
   ]
  },
  {
   "cell_type": "markdown",
   "metadata": {
    "colab_type": "text",
    "id": "J02LvYxqh4jb"
   },
   "source": [
    "How about the number of female waitreses?"
   ]
  },
  {
   "cell_type": "code",
   "execution_count": null,
   "metadata": {
    "colab": {},
    "colab_type": "code",
    "id": "2-yoiqYbhImF"
   },
   "outputs": [],
   "source": [
    "# number of females\n"
   ]
  },
  {
   "cell_type": "markdown",
   "metadata": {
    "colab_type": "text",
    "id": "53Tg-2phiKtS"
   },
   "source": [
    "We can use `query` on multiple columns at a time. Let's find out how many tables were served by a female waitress on a Sunday."
   ]
  },
  {
   "cell_type": "code",
   "execution_count": null,
   "metadata": {
    "colab": {},
    "colab_type": "code",
    "id": "hHv2O1R-h-Bw"
   },
   "outputs": [],
   "source": [
    "tips.query('sex == \"Female\" and day == \"Sun\"')"
   ]
  },
  {
   "cell_type": "markdown",
   "metadata": {
    "colab_type": "text",
    "id": "jnN9Z384isNT"
   },
   "source": [
    "We used the ampersand symbol (&) or the keyword `and` to chain together two statements inside the `query` function. Both statements have to be true for a row to be included.\n",
    "\n",
    "Besides checking whether values are equal using ==, we can also use greater than, less than, greater than or equal, etc. Try subsetting the rows where the bill is greater than $\\$15$ and the tip is less than $\\$2$:"
   ]
  },
  {
   "cell_type": "code",
   "execution_count": null,
   "metadata": {
    "colab": {},
    "colab_type": "code",
    "id": "G4nBn8bIi8q7"
   },
   "outputs": [],
   "source": [
    "# subset by bill and tip\n"
   ]
  },
  {
   "cell_type": "markdown",
   "metadata": {
    "colab_type": "text",
    "id": "zrUVL0jZmUeM"
   },
   "source": [
    "Instead of the ampersand (&) we can use the pipe (|) or the keyword `or` to represent a query where *one* of the two conditions must be fulfilled. Try subsetting where the bill is greater than $\\$15$ or the tip is greater than $\\$5$:"
   ]
  },
  {
   "cell_type": "code",
   "execution_count": null,
   "metadata": {
    "colab": {},
    "colab_type": "code",
    "id": "EZknNe4tmkPA"
   },
   "outputs": [],
   "source": [
    "# subset by bill or tip\n"
   ]
  },
  {
   "cell_type": "markdown",
   "metadata": {
    "colab_type": "text",
    "id": "VXeb835BjQyi"
   },
   "source": [
    "Congrats on making it to the end of this lesson -- we learned a lot!\n",
    "\n",
    "- How to use square brackets to subset columns.\n",
    "- How to use `iloc` to subset rows.\n",
    "- How to use `iloc` and square brackets at the same time.\n",
    "- How to use `query` to find rows where the column has a certain value."
   ]
  }
 ],
 "metadata": {
  "colab": {
   "collapsed_sections": [],
   "name": "Lesson12_Pandas-Subsetting.ipynb",
   "provenance": [],
   "version": "0.3.2"
  },
  "kernelspec": {
   "display_name": "Python 3",
   "language": "python",
   "name": "python3"
  },
  "language_info": {
   "codemirror_mode": {
    "name": "ipython",
    "version": 3
   },
   "file_extension": ".py",
   "mimetype": "text/x-python",
   "name": "python",
   "nbconvert_exporter": "python",
   "pygments_lexer": "ipython3",
   "version": "3.7.3"
  }
 },
 "nbformat": 4,
 "nbformat_minor": 2
}

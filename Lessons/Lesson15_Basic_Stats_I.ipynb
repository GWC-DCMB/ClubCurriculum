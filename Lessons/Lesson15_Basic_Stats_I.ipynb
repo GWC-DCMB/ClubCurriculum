{
 "cells": [
  {
   "cell_type": "markdown",
   "metadata": {},
   "source": [
    "# Introduction to Statistics Part I\n",
    "\n",
    "This morning, we learned how to get started with Numpy and how to load data using Pandas. Now, we will learn how to use and intepret some simple statistical methods. \n",
    "\n",
    "**But, what is Statistics?**\n",
    "\n",
    "Statistics is the study of organizing and interpreting *data*. Usually, this includes calculating numbers that describe the data in a simpler fashion. In this lesson, we will be calculating two of these numbers: the *mean* and the *median*.\n"
   ]
  },
  {
   "cell_type": "markdown",
   "metadata": {},
   "source": [
    "First, let's load `numpy` and `pandas` as we learned yesterday and this morning:"
   ]
  },
  {
   "cell_type": "code",
   "execution_count": null,
   "metadata": {},
   "outputs": [],
   "source": [
    "#import numpy and pandas the same as in Lessons 13 and 10\n",
    "\n"
   ]
  },
  {
   "cell_type": "markdown",
   "metadata": {},
   "source": [
    "Now, let's tell python to load some data using `pandas` into a `numpy` array:"
   ]
  },
  {
   "cell_type": "code",
   "execution_count": null,
   "metadata": {},
   "outputs": [],
   "source": [
    "data_table = pd.read_csv( 'SampleData/iris.csv' )\n",
    "data = np.array( data_table[ 'sepal_length' ] )"
   ]
  },
  {
   "cell_type": "markdown",
   "metadata": {},
   "source": [
    "This dataset contains the lengths of sepals from 150 different flowers, print it out to see what the array looks like!"
   ]
  },
  {
   "cell_type": "code",
   "execution_count": null,
   "metadata": {},
   "outputs": [],
   "source": [
    "# Print out `data`\n",
    "\n"
   ]
  },
  {
   "cell_type": "markdown",
   "metadata": {},
   "source": [
    "## Calculating the mean"
   ]
  },
  {
   "cell_type": "markdown",
   "metadata": {},
   "source": [
    "Calculating the mean, or average, of a set of numbers is a useful metric which tells you what the \"center\" of the data is.\n",
    "\n",
    "**Should we add math to explain an average?**\n",
    "\n",
    "This example will walk you though the process of calculating a mean.\n",
    "\n",
    "First, add all of the numbers in the data you loaded above. You can do this quickly with the `sum` function in Python:"
   ]
  },
  {
   "cell_type": "code",
   "execution_count": null,
   "metadata": {},
   "outputs": [],
   "source": [
    "# Add together all of the values in the data you loaded above\n",
    "\n"
   ]
  },
  {
   "cell_type": "markdown",
   "metadata": {},
   "source": [
    "Next, you divide this number by the number of values in your data. Remember that you can ask Python for this using the `len` function:"
   ]
  },
  {
   "cell_type": "code",
   "execution_count": null,
   "metadata": {},
   "outputs": [],
   "source": [
    "# Divide the number you calculated above by the number of data values you have\n",
    "\n"
   ]
  },
  {
   "cell_type": "markdown",
   "metadata": {},
   "source": [
    "We can see here that our mean is **insert**, which tells us **insert explaination based on dataset used**."
   ]
  },
  {
   "cell_type": "markdown",
   "metadata": {},
   "source": [
    "As we saw this morning, `numpy` includes many useful functions and this includes calculating the mean! Try using `np.mean` below to calculate the same value:"
   ]
  },
  {
   "cell_type": "code",
   "execution_count": null,
   "metadata": {},
   "outputs": [],
   "source": [
    "# Use the numpy mean function to calculate the same mean value\n",
    "\n"
   ]
  },
  {
   "cell_type": "markdown",
   "metadata": {},
   "source": [
    "## Calculating the median"
   ]
  },
  {
   "cell_type": "markdown",
   "metadata": {},
   "source": [
    "The *median* is a statistic that describes"
   ]
  },
  {
   "cell_type": "markdown",
   "metadata": {},
   "source": [
    "Similarlly to above, we can use the `numpy` function `np.median` as a "
   ]
  },
  {
   "cell_type": "code",
   "execution_count": null,
   "metadata": {},
   "outputs": [],
   "source": [
    "# Use the numpy median function to find the median of your data\n",
    "\n"
   ]
  },
  {
   "cell_type": "markdown",
   "metadata": {},
   "source": [
    "As we can see here, both the mean and the median are very close together, this tells us that this dataset is *symetrically distributed*."
   ]
  },
  {
   "cell_type": "markdown",
   "metadata": {},
   "source": [
    "Both the *mean* and *median* provide useful information about what the \"average\" datapoint in your set looks like. Next, we will learn about additional statistical tools.\n",
    "\n",
    "In this lesson you learned how to:\n",
    "     - Calculate the mean of set of values by \"hand.\"\n",
    "     - Use functions in `numpy` to calculate both the mean and median.\n",
    "     \n",
    "Now, lets continue to practice with your partner!"
   ]
  }
 ],
 "metadata": {
  "kernelspec": {
   "display_name": "Python 3",
   "language": "python",
   "name": "python3"
  },
  "language_info": {
   "codemirror_mode": {
    "name": "ipython",
    "version": 3
   },
   "file_extension": ".py",
   "mimetype": "text/x-python",
   "name": "python",
   "nbconvert_exporter": "python",
   "pygments_lexer": "ipython3",
   "version": "3.7.3"
  }
 },
 "nbformat": 4,
 "nbformat_minor": 2
}

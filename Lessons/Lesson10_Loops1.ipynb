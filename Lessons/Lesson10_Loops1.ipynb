{
 "nbformat": 4,
 "nbformat_minor": 0,
 "metadata": {
  "kernelspec": {
   "display_name": "Python 3",
   "language": "python",
   "name": "python3"
  },
  "language_info": {
   "codemirror_mode": {
    "name": "ipython",
    "version": 3
   },
   "file_extension": ".py",
   "mimetype": "text/x-python",
   "name": "python",
   "nbconvert_exporter": "python",
   "pygments_lexer": "ipython3",
   "version": "3.7.3"
  },
  "colab": {
   "name": "Lesson10_Loops1.ipynb",
   "version": "0.3.2",
   "provenance": [],
   "collapsed_sections": []
  }
 },
 "cells": [
  {
   "cell_type": "markdown",
   "metadata": {
    "id": "jGg601Uf4tEa",
    "colab_type": "text"
   },
   "source": [
    "# Loops\n",
    "\n",
    "Earlier, we learned about lists, and how they are super useful ways to store a lot of information in one variable. Suppose you had a list of animals and you wanted to print your list so that each item was on its own line. "
   ]
  },
  {
   "cell_type": "code",
   "metadata": {
    "id": "7Qb7Py2B4tEh",
    "colab_type": "code",
    "colab": {}
   },
   "source": [
    "animals = ['turtle', 'penguin', 'platypus', 'zebra', 'giraffe']"
   ],
   "execution_count": 0,
   "outputs": []
  },
  {
   "cell_type": "code",
   "metadata": {
    "id": "9PTEo3hUCK7X",
    "colab_type": "code",
    "colab": {
     "base_uri": "https://localhost:8080/",
     "height": 34
    },
    "outputId": "e9bdd59e-e151-44b0-e18e-a45c824f3a25",
    "executionInfo": {
     "status": "ok",
     "timestamp": 1567260982496,
     "user_tz": 240,
     "elapsed": 391,
     "user": {
      "displayName": "Morgan Oneka",
      "photoUrl": "https://lh3.googleusercontent.com/a-/AAuE7mDDNp7vRaJ72dq-10S667W0tZyfdBWiE2NavfHt=s64",
      "userId": "08973921413298125078"
     }
    }
   },
   "source": [
    "print(animals)"
   ],
   "execution_count": 2,
   "outputs": [
    {
     "output_type": "stream",
     "text": [
      "['turtle', 'penguin', 'platypus', 'zebra', 'giraffe']\n"
     ],
     "name": "stdout"
    }
   ]
  },
  {
   "cell_type": "markdown",
   "metadata": {
    "id": "JvB-KP8dCMP5",
    "colab_type": "text"
   },
   "source": [
    "We see that using the `print` function on our list prints all the values in brackets and separated by commas on the same line. This isn't quite what we want. But, Python has a useful tool we can use for this problem called the for loop.\n",
    "\n",
    "A for loop has three key parts:\n",
    "\n",
    "```\n",
    "for [item] in [list of items]:\n",
    "  [command]\n",
    "```\n",
    "\n",
    "A for loop will look at each individual item in the list it is given, then run the given command on each item. \n",
    "\n",
    "Let's take a look at how we might use a for loop to solve our problem\n"
   ]
  },
  {
   "cell_type": "code",
   "metadata": {
    "id": "DHd1YvGz4tEt",
    "colab_type": "code",
    "colab": {
     "base_uri": "https://localhost:8080/",
     "height": 104
    },
    "outputId": "c4f93089-bbdd-40a4-ea7e-31c0a8eaf6de",
    "executionInfo": {
     "status": "ok",
     "timestamp": 1567261300404,
     "user_tz": 240,
     "elapsed": 335,
     "user": {
      "displayName": "Morgan Oneka",
      "photoUrl": "https://lh3.googleusercontent.com/a-/AAuE7mDDNp7vRaJ72dq-10S667W0tZyfdBWiE2NavfHt=s64",
      "userId": "08973921413298125078"
     }
    }
   },
   "source": [
    "# create a for loop to print each item in our animals list\n",
    "for animal in animals:\n",
    "    print(animal)"
   ],
   "execution_count": 3,
   "outputs": [
    {
     "output_type": "stream",
     "text": [
      "turtle\n",
      "penguin\n",
      "platypus\n",
      "zebra\n",
      "giraffe\n"
     ],
     "name": "stdout"
    }
   ]
  },
  {
   "cell_type": "markdown",
   "metadata": {
    "id": "4ux_GmDZ41dw",
    "colab_type": "text"
   },
   "source": [
    "A Python function that is really useful when writing loops is the `range` function. `range` creates a list of numbers between the two numbers given to the function.\n",
    "\n",
    "If we use the output of the `range` function in a for loop..."
   ]
  },
  {
   "cell_type": "code",
   "metadata": {
    "id": "oKtvtpPR56Tm",
    "colab_type": "code",
    "colab": {
     "base_uri": "https://localhost:8080/",
     "height": 104
    },
    "outputId": "a43a2f15-0260-44c5-bb5c-a6326c1e40a2",
    "executionInfo": {
     "status": "ok",
     "timestamp": 1567225306917,
     "user_tz": 240,
     "elapsed": 346,
     "user": {
      "displayName": "Morgan Oneka",
      "photoUrl": "https://lh3.googleusercontent.com/a-/AAuE7mDDNp7vRaJ72dq-10S667W0tZyfdBWiE2NavfHt=s64",
      "userId": "08973921413298125078"
     }
    }
   },
   "source": [
    "for value in range(0,5):\n",
    "  print(value)"
   ],
   "execution_count": 9,
   "outputs": [
    {
     "output_type": "stream",
     "text": [
      "0\n",
      "1\n",
      "2\n",
      "3\n",
      "4\n"
     ],
     "name": "stdout"
    }
   ]
  },
  {
   "cell_type": "markdown",
   "metadata": {
    "id": "-Ar7A4DY4tE4",
    "colab_type": "text"
   },
   "source": [
    "The `range` function can be useful when working with lists. To iterate over a whole list, we can use the `range` function with 0 as the start and the list length as the end."
   ]
  },
  {
   "cell_type": "code",
   "metadata": {
    "id": "xIjqKd5t4tE6",
    "colab_type": "code",
    "colab": {
     "base_uri": "https://localhost:8080/",
     "height": 104
    },
    "outputId": "633e47d3-c19d-41af-8833-0d88abc0c4de",
    "executionInfo": {
     "status": "ok",
     "timestamp": 1567225232123,
     "user_tz": 240,
     "elapsed": 389,
     "user": {
      "displayName": "Morgan Oneka",
      "photoUrl": "https://lh3.googleusercontent.com/a-/AAuE7mDDNp7vRaJ72dq-10S667W0tZyfdBWiE2NavfHt=s64",
      "userId": "08973921413298125078"
     }
    }
   },
   "source": [
    "for index in range(0,len(animals)):\n",
    "    print(animals[index])"
   ],
   "execution_count": 4,
   "outputs": [
    {
     "output_type": "stream",
     "text": [
      "turtle\n",
      "penguin\n",
      "platypus\n",
      "zebra\n",
      "giraffe\n"
     ],
     "name": "stdout"
    }
   ]
  },
  {
   "cell_type": "markdown",
   "metadata": {
    "id": "KaIbwdt75atI",
    "colab_type": "text"
   },
   "source": [
    "We don't just have to use range, though. Let's say we only wanted to print out some of the animals in our list. We could give our for loop a list of indices in our list we wanted to print"
   ]
  },
  {
   "cell_type": "code",
   "metadata": {
    "id": "EnIJh1L85qET",
    "colab_type": "code",
    "colab": {
     "base_uri": "https://localhost:8080/",
     "height": 69
    },
    "outputId": "33289950-6848-4879-8da7-6b25a0587710",
    "executionInfo": {
     "status": "ok",
     "timestamp": 1567225234007,
     "user_tz": 240,
     "elapsed": 376,
     "user": {
      "displayName": "Morgan Oneka",
      "photoUrl": "https://lh3.googleusercontent.com/a-/AAuE7mDDNp7vRaJ72dq-10S667W0tZyfdBWiE2NavfHt=s64",
      "userId": "08973921413298125078"
     }
    }
   },
   "source": [
    "indices = [0,1,4]\n",
    "\n",
    "for index in indices:\n",
    "  print(animals[index])"
   ],
   "execution_count": 5,
   "outputs": [
    {
     "output_type": "stream",
     "text": [
      "turtle\n",
      "penguin\n",
      "giraffe\n"
     ],
     "name": "stdout"
    }
   ]
  },
  {
   "cell_type": "markdown",
   "metadata": {
    "id": "qMlxEuqqBXpr",
    "colab_type": "text"
   },
   "source": [
    "Earlier, we learned about 2D lists. Can for loops be helpful in working with 2D lists? Let's find out!"
   ]
  },
  {
   "cell_type": "code",
   "metadata": {
    "id": "ZRouQdJLDtl7",
    "colab_type": "code",
    "colab": {
     "base_uri": "https://localhost:8080/",
     "height": 34
    },
    "outputId": "e65715bc-2cec-4f3e-d18e-751b043c3180",
    "executionInfo": {
     "status": "ok",
     "timestamp": 1567261506922,
     "user_tz": 240,
     "elapsed": 373,
     "user": {
      "displayName": "Morgan Oneka",
      "photoUrl": "https://lh3.googleusercontent.com/a-/AAuE7mDDNp7vRaJ72dq-10S667W0tZyfdBWiE2NavfHt=s64",
      "userId": "08973921413298125078"
     }
    }
   },
   "source": [
    "# create a list of names for our animals (remember, we have 5 animals!)\n",
    "names = ['Shelly', 'Tuxedo', 'Perry', 'Stripes', 'Bob']\n",
    "\n",
    "# create a 2D list combining animals and names\n",
    "zoo = [animals, names]\n",
    "\n",
    "# print zoo so we can look at its structure\n",
    "print(zoo)"
   ],
   "execution_count": 4,
   "outputs": [
    {
     "output_type": "stream",
     "text": [
      "[['turtle', 'penguin', 'platypus', 'zebra', 'giraffe'], ['Shelly', 'Tuxedo', 'Perry', 'Stripes', 'Bob']]\n"
     ],
     "name": "stdout"
    }
   ]
  },
  {
   "cell_type": "markdown",
   "metadata": {
    "id": "IQTJp3bkEOBJ",
    "colab_type": "text"
   },
   "source": [
    "Say we want to print our whole list so that each animal has its name printed with it."
   ]
  },
  {
   "cell_type": "code",
   "metadata": {
    "id": "c9FRzmlkELuE",
    "colab_type": "code",
    "colab": {
     "base_uri": "https://localhost:8080/",
     "height": 52
    },
    "outputId": "de6f0a3d-cd99-4d79-c6de-6f5c8b4bd365",
    "executionInfo": {
     "status": "ok",
     "timestamp": 1567261619088,
     "user_tz": 240,
     "elapsed": 471,
     "user": {
      "displayName": "Morgan Oneka",
      "photoUrl": "https://lh3.googleusercontent.com/a-/AAuE7mDDNp7vRaJ72dq-10S667W0tZyfdBWiE2NavfHt=s64",
      "userId": "08973921413298125078"
     }
    }
   },
   "source": [
    "for index in range(0,len(zoo)):\n",
    "  print(zoo[index])"
   ],
   "execution_count": 5,
   "outputs": [
    {
     "output_type": "stream",
     "text": [
      "['turtle', 'penguin', 'platypus', 'zebra', 'giraffe']\n",
      "['Shelly', 'Tuxedo', 'Perry', 'Stripes', 'Bob']\n"
     ],
     "name": "stdout"
    }
   ]
  },
  {
   "cell_type": "markdown",
   "metadata": {
    "id": "_eS4IawYE1a7",
    "colab_type": "text"
   },
   "source": [
    "There is another way to do this. We can do something called _nesting_ for loops. This means we put two for loops inside one another. Let's see what this might look like.\n",
    "\n",
    "```\n",
    "for [item1] in [list1]:\n",
    "  for [item2] in [list2]:\n",
    "    [command using item1 and item2]\n",
    "```\n",
    "\n",
    "It is __very important__ to remember that `item1` and `item2` have different names. Otherwise, Python might not know which list you want to iterate through, and your code will not run quite how you expected! \n",
    "\n",
    "So how might we nest two for loops inside one another to print out our animal names?"
   ]
  },
  {
   "cell_type": "code",
   "metadata": {
    "id": "z7CRIBt1EcUv",
    "colab_type": "code",
    "colab": {
     "base_uri": "https://localhost:8080/",
     "height": 191
    },
    "outputId": "8459bdaf-060f-41e5-9d88-495ea3363b55",
    "executionInfo": {
     "status": "ok",
     "timestamp": 1567262023019,
     "user_tz": 240,
     "elapsed": 394,
     "user": {
      "displayName": "Morgan Oneka",
      "photoUrl": "https://lh3.googleusercontent.com/a-/AAuE7mDDNp7vRaJ72dq-10S667W0tZyfdBWiE2NavfHt=s64",
      "userId": "08973921413298125078"
     }
    }
   },
   "source": [
    "for column in range(0,len(zoo[0])):\n",
    "  for row in range(0,len(zoo)):\n",
    "    print(zoo[row][column])"
   ],
   "execution_count": 8,
   "outputs": [
    {
     "output_type": "stream",
     "text": [
      "turtle\n",
      "Shelly\n",
      "penguin\n",
      "Tuxedo\n",
      "platypus\n",
      "Perry\n",
      "zebra\n",
      "Stripes\n",
      "giraffe\n",
      "Bob\n"
     ],
     "name": "stdout"
    }
   ]
  },
  {
   "cell_type": "markdown",
   "metadata": {
    "id": "_q-9a6plGN3P",
    "colab_type": "text"
   },
   "source": [
    "We can also have code that is inside the first, or _outer_, for loop, but is not inside the second, or _inner_, for loop. We can use this idea to make our list above a bit easier to read."
   ]
  },
  {
   "cell_type": "code",
   "metadata": {
    "id": "5IMfIFoqFU-6",
    "colab_type": "code",
    "colab": {
     "base_uri": "https://localhost:8080/",
     "height": 364
    },
    "outputId": "32f59724-2a96-4712-c128-05fa38f91eb1",
    "executionInfo": {
     "status": "ok",
     "timestamp": 1567262097398,
     "user_tz": 240,
     "elapsed": 332,
     "user": {
      "displayName": "Morgan Oneka",
      "photoUrl": "https://lh3.googleusercontent.com/a-/AAuE7mDDNp7vRaJ72dq-10S667W0tZyfdBWiE2NavfHt=s64",
      "userId": "08973921413298125078"
     }
    }
   },
   "source": [
    "for column in range(0,len(zoo[0])):\n",
    "  for row in range(0,len(zoo)):\n",
    "    print(zoo[row][column])\n",
    "  print(\"\\n\")"
   ],
   "execution_count": 9,
   "outputs": [
    {
     "output_type": "stream",
     "text": [
      "turtle\n",
      "Shelly\n",
      "\n",
      "\n",
      "penguin\n",
      "Tuxedo\n",
      "\n",
      "\n",
      "platypus\n",
      "Perry\n",
      "\n",
      "\n",
      "zebra\n",
      "Stripes\n",
      "\n",
      "\n",
      "giraffe\n",
      "Bob\n",
      "\n",
      "\n"
     ],
     "name": "stdout"
    }
   ]
  }
 ]
}

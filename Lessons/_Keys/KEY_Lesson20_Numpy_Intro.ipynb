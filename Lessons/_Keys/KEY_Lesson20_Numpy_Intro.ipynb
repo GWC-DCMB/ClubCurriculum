{
 "nbformat": 4,
 "nbformat_minor": 0,
 "metadata": {
  "language_info": {
   "codemirror_mode": {
    "name": "ipython",
    "version": 3
   },
   "file_extension": ".py",
   "mimetype": "text/x-python",
   "name": "python",
   "nbconvert_exporter": "python",
   "pygments_lexer": "ipython3",
   "version": "3.7.3"
  },
  "kernelspec": {
   "display_name": "Python 3",
   "language": "python",
   "name": "python3"
  }
 },
 "cells": [
  {
   "cell_type": "markdown",
   "metadata": {
    "colab_type": "text",
    "id": "fhg6JOUipvkU"
   },
   "source": [
    "# Introduction to Numpy\n",
    "\n",
    "In the last two days of camp, you have learned how to start using python and how to manipulate data with the `pandas` library. Today, we will be learning how to perform calculations with another library known as `numpy`. `numpy` allows you to do math on entire lists of data, all at the same time!"
   ]
  },
  {
   "cell_type": "markdown",
   "metadata": {
    "colab_type": "text",
    "id": "YoGzk6H1pvkV"
   },
   "source": [
    "To review what we learned on monday, let's create a list containing the numbers 0 through 5 and assign it to a variable:"
   ]
  },
  {
   "cell_type": "code",
   "metadata": {
    "colab_type": "code",
    "id": "s2EQD0wEpvkW",
    "colab": {}
   },
   "source": [
    "# Create a list containing the numbers 0 through 4\n",
    "data = [0, 1, 2, 3, 4]\n",
    "\n",
    "# or convert the range to a list\n",
    "data = list(range(5))"
   ],
   "execution_count": 0,
   "outputs": []
  },
  {
   "cell_type": "code",
   "metadata": {
    "colab_type": "code",
    "executionInfo": {
     "status": "ok",
     "timestamp": 1563148736701,
     "user_tz": 240,
     "elapsed": 952,
     "user": {
      "displayName": "Kelly Sovacool",
      "photoUrl": "https://lh3.googleusercontent.com/-WQsOgn6cXFg/AAAAAAAAAAI/AAAAAAAAAVA/ol7X28qyOHc/s64/photo.jpg",
      "userId": "07259925140867310896"
     }
    },
    "id": "N1uGkMLj2us0",
    "outputId": "a5b28f38-355d-48c3-99fd-68f86097d45b",
    "colab": {
     "base_uri": "https://localhost:8080/",
     "height": 34
    }
   },
   "source": [
    "# let's see what it looks like\n",
    "print(data)"
   ],
   "execution_count": 2,
   "outputs": [
    {
     "output_type": "stream",
     "text": [
      "[0, 1, 2, 3, 4]\n"
     ],
     "name": "stdout"
    }
   ]
  },
  {
   "cell_type": "markdown",
   "metadata": {
    "colab_type": "text",
    "id": "OvSKPwFspvka"
   },
   "source": [
    "Using lists can be really useful, because you can store any set of data in the. For instance, you could store the temperature in your house each morning as a list.\n",
    "\n",
    "Now, lets add 1 to each of the items in the list. Is there a simple way to do this?"
   ]
  },
  {
   "cell_type": "code",
   "metadata": {
    "id": "gsVPPkGi7LXu",
    "colab_type": "code",
    "colab": {
     "base_uri": "https://localhost:8080/",
     "height": 164
    },
    "outputId": "71f625df-40f8-4ae9-dd72-74303575637c",
    "executionInfo": {
     "status": "error",
     "timestamp": 1563148736733,
     "user_tz": 240,
     "elapsed": 970,
     "user": {
      "displayName": "Kelly Sovacool",
      "photoUrl": "https://lh3.googleusercontent.com/-WQsOgn6cXFg/AAAAAAAAAAI/AAAAAAAAAVA/ol7X28qyOHc/s64/photo.jpg",
      "userId": "07259925140867310896"
     }
    }
   },
   "source": [
    "data + 1"
   ],
   "execution_count": 3,
   "outputs": [
    {
     "output_type": "error",
     "ename": "TypeError",
     "evalue": "ignored",
     "traceback": [
      "\u001b[0;31m---------------------------------------------------------------------------\u001b[0m",
      "\u001b[0;31mTypeError\u001b[0m                                 Traceback (most recent call last)",
      "\u001b[0;32m<ipython-input-3-1943d790f594>\u001b[0m in \u001b[0;36m<module>\u001b[0;34m()\u001b[0m\n\u001b[0;32m----> 1\u001b[0;31m \u001b[0mdata\u001b[0m \u001b[0;34m+\u001b[0m \u001b[0;36m1\u001b[0m\u001b[0;34m\u001b[0m\u001b[0;34m\u001b[0m\u001b[0m\n\u001b[0m",
      "\u001b[0;31mTypeError\u001b[0m: can only concatenate list (not \"int\") to list"
     ]
    }
   ]
  },
  {
   "cell_type": "markdown",
   "metadata": {
    "id": "m65vggwB7LXz",
    "colab_type": "text"
   },
   "source": [
    "hmm ... that didn't work! That is because the `+` operator acts as a concatenation operator on lists, and we learned in Lesson 2 that we can only concatenate lists with lists, not integers. \n",
    "\n",
    "Another way we could update our list is to add 1 to each of the items in the list individually. We can do this by **indexing** to isolate each value in the list one by one. "
   ]
  },
  {
   "cell_type": "code",
   "metadata": {
    "colab_type": "code",
    "id": "qFchEEvkpvkb",
    "colab": {}
   },
   "source": [
    "# Add 1 to each item in the array you created above\n",
    "data[0] = data[0] + 1\n",
    "data[1] = data[1] + 1\n",
    "data[2] = data[2] + 1\n",
    "data[3] = data[3] + 1\n",
    "data[4] = data[4] + 1\n",
    "\n",
    "# print the list to see how it changed\n",
    "print(data)"
   ],
   "execution_count": 0,
   "outputs": []
  },
  {
   "cell_type": "markdown",
   "metadata": {
    "colab_type": "text",
    "id": "9vRgbEEhpvkk"
   },
   "source": [
    "You might have noticed that this is a little less convenient than with a single variable, where you can do something like this to add a number:"
   ]
  },
  {
   "cell_type": "code",
   "metadata": {
    "colab_type": "code",
    "id": "jc5cRe99pvkl",
    "colab": {}
   },
   "source": [
    "# create a single variable and add a number to it\n",
    "a = 5\n",
    "a += 1\n",
    "print(a)"
   ],
   "execution_count": 0,
   "outputs": []
  },
  {
   "cell_type": "markdown",
   "metadata": {
    "colab_type": "text",
    "id": "ZPdA2YAmpvkp"
   },
   "source": [
    "Today we will be using `numpy`, which allows us to quickly and efficiently perform mathematical operations on entire lists (or, as they're called in `numpy`, *arrays*)!"
   ]
  },
  {
   "cell_type": "markdown",
   "metadata": {
    "colab_type": "text",
    "id": "kxiwgby4pvkq"
   },
   "source": [
    "First we will import `numpy`. Remember when we imported `pandas`, we gave it the special nickname `pd`? We're also going to give `numpy` a nickname: `np`:"
   ]
  },
  {
   "cell_type": "code",
   "metadata": {
    "colab_type": "code",
    "id": "uN4ydfz8pvkr",
    "colab": {}
   },
   "source": [
    "# Load numpy\n",
    "import numpy as np"
   ],
   "execution_count": 0,
   "outputs": []
  },
  {
   "cell_type": "markdown",
   "metadata": {
    "colab_type": "text",
    "id": "Mpvw3-NApvku"
   },
   "source": [
    "Now whenever we type `np`, python will know we really mean `numpy`.\n",
    "\n",
    "There is a ton of useful stuff we can do with `numpy`, so let's re-do the example above using `numpy` `arrays` instead of `lists`."
   ]
  },
  {
   "cell_type": "code",
   "metadata": {
    "colab_type": "code",
    "id": "nenQbNPypvkv",
    "colab": {}
   },
   "source": [
    "# create a numpy array containing the numbers 0 through 4\n",
    "data_array = np.array([0, 1, 2, 3, 4])\n",
    "\n",
    "# you can print arrays just like lists\n",
    "print(data_array)\n"
   ],
   "execution_count": 0,
   "outputs": []
  },
  {
   "cell_type": "markdown",
   "metadata": {
    "colab_type": "text",
    "id": "alY8TwmVpvk0"
   },
   "source": [
    "Numpy `arrays` act very similarly to regular python `lists`, we can grab individual items using the same syntax:"
   ]
  },
  {
   "cell_type": "code",
   "metadata": {
    "colab_type": "code",
    "id": "kyP00fcRpvk2",
    "colab": {}
   },
   "source": [
    "# Print any number from the numpy array you just created:\n",
    "print(data_array[0])"
   ],
   "execution_count": 0,
   "outputs": []
  },
  {
   "cell_type": "markdown",
   "metadata": {
    "colab_type": "text",
    "id": "D5u5-neLpvk6"
   },
   "source": [
    "Numpy `arrays` also add a lot of useful features such as the ability to perform commands *on all items in a list at the same time*.\n",
    "\n",
    "We can demonstrate this by adding a number to all of the items in the Numpy `array`:"
   ]
  },
  {
   "cell_type": "code",
   "metadata": {
    "colab_type": "code",
    "id": "J2RmzwCrpvk7",
    "colab": {}
   },
   "source": [
    "# Add any number to the array we created above\n",
    "data_array += 5\n",
    "\n",
    "# print the array\n",
    "print(data_array)"
   ],
   "execution_count": 0,
   "outputs": []
  },
  {
   "cell_type": "markdown",
   "metadata": {
    "colab_type": "text",
    "id": "REWquUE2pvlN"
   },
   "source": [
    "See how much easier that was than manually changing each element of a list? We will be using `numpy` for the rest of the day to perform calculations on arrays of data. In the above example we used addition, but you can also perform any mathematical operation we've talked about with `numpy` arrays.\n",
    "\n",
    "In this lesson you learned how to:\n",
    "* Load `numpy` into Python.\n",
    "* Create an `array` with `numpy`.\n",
    "* Perform math with `numpy` arrays.\n",
    "     \n",
    "Now, let's continue to practice with your partner!"
   ]
  }
 ]
}
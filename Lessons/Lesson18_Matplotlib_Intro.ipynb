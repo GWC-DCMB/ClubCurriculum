{
 "cells": [
  {
   "cell_type": "markdown",
   "metadata": {},
   "source": [
    "# Matplotlib Introduction"
   ]
  },
  {
   "cell_type": "markdown",
   "metadata": {},
   "source": [
    "Data visialization is the most powerful way to communicate your data with others as well as to get insight into data. Today we are going to learn how to use Python's `matplotlib` package to visualize and interprete data.\n",
    "\n",
    "In this lesson, we want to see how the the the number of passengers of a flight changes over time.\n",
    "\n",
    "Remember that to use matplotlob package, first we need to import the package, so all the functions in that package will be loaded to your envirinment.\n",
    "\n",
    "`pyplot` submodule is an interface for matplotlib that let you to work on your plot interactively. So let's start by importing `matplotlib.pyplot`!"
   ]
  },
  {
   "cell_type": "code",
   "execution_count": 7,
   "metadata": {},
   "outputs": [],
   "source": [
    "# load matplotlib.pyplot and name it plt\n"
   ]
  },
  {
   "cell_type": "markdown",
   "metadata": {},
   "source": [
    "`seaborn` package has multiple built-in datasets. In this lesson, we are going to use a dataset from `seaborn` called `flights`. This dataframe includes the number of passangers of a flight during each month from year 1949 to 1960.\n",
    "\n",
    "So let's load `flights` dataset from seaborn package."
   ]
  },
  {
   "cell_type": "code",
   "execution_count": 8,
   "metadata": {},
   "outputs": [],
   "source": [
    "# import seaborn and name it sns\n",
    "# load flights dataset from seaborn and assign it to a variable called flights\n"
   ]
  },
  {
   "cell_type": "markdown",
   "metadata": {},
   "source": [
    "Let's look at the data for better understanding it."
   ]
  },
  {
   "cell_type": "code",
   "execution_count": 1,
   "metadata": {},
   "outputs": [],
   "source": [
    "# return the first 15 rows of flights dataframe\n"
   ]
  },
  {
   "cell_type": "markdown",
   "metadata": {},
   "source": [
    "How do you think the number of passengers in January has changed from year 1949 to 1960?"
   ]
  },
  {
   "cell_type": "code",
   "execution_count": 2,
   "metadata": {},
   "outputs": [],
   "source": [
    "# select all samples where month is January and assign it to a new dataframe named \"flights_January\"\n",
    "# use plt.plot function to plot the number of passenger for each year. \n",
    "# we want to show year on a horizonal axis (also called x-axis) and \n",
    "# show the number of passenger on the vertical axis (also called y-axis)\n"
   ]
  },
  {
   "cell_type": "markdown",
   "metadata": {},
   "source": [
    "Yay! You just made your first plot! This type of plot is called **line graph**. Line graph is a simple and at the same time powerful tool to shoes changes of a variable over time!\n",
    "\n",
    "But is there anything missing from the plot? Is this plot self explanotory? \n",
    "Yes, you are right! To help people better understand a plot, we should add a proper title and labels to the plot. For that, let's explore `plt.title`, `plt.xlabel`, and `plt.ylabel` functions."
   ]
  },
  {
   "cell_type": "code",
   "execution_count": 3,
   "metadata": {},
   "outputs": [],
   "source": [
    "# reproduce the above plot\n",
    "# but this time, add the title \"Flight Passesnger from 1949-1960\"\n",
    "# label the horizontal and verrtical axes \"Year\" and \"Number of Passengers\" respectively\n",
    "\n",
    "# Remember that labels/title are string variables."
   ]
  },
  {
   "cell_type": "markdown",
   "metadata": {},
   "source": [
    "The line graph seems to be continous, however, it is measured at fixed intervals. In this plot, we are showing yearly intervals. Adding markers is a way to show where the data is measured, and which parts are just connection between two intervals. "
   ]
  },
  {
   "cell_type": "code",
   "execution_count": 4,
   "metadata": {},
   "outputs": [],
   "source": [
    "# reproduce the above plot \n",
    "# this time, pass \"v\" to markers to add a triangle shaped markers\n",
    "# don't forget to add labels/title\n"
   ]
  },
  {
   "cell_type": "markdown",
   "metadata": {},
   "source": [
    "Finally, you can change the color of a line graph. "
   ]
  },
  {
   "cell_type": "code",
   "execution_count": 5,
   "metadata": {},
   "outputs": [],
   "source": [
    "# recreate the above plot \n",
    "# pass \"r\" to color oprtion to show the plot in red\n",
    "# don't forget to add labels/title/markers\n"
   ]
  },
  {
   "cell_type": "markdown",
   "metadata": {},
   "source": [
    "Don't forget that Google is your best friend! Use it to explore all other options for color and marker style. \n",
    "\n",
    "In this lesson you learned about:\n",
    "* using **matplotlib** package of Python to communicate your data using **line graph** plots. \n",
    "* aading labels and a title to a plt\n",
    "* adding markers to a line graph\n",
    "* changing the color of a line graph"
   ]
  },
  {
   "cell_type": "code",
   "execution_count": null,
   "metadata": {},
   "outputs": [],
   "source": []
  }
 ],
 "metadata": {
  "kernelspec": {
   "display_name": "Python 3",
   "language": "python",
   "name": "python3"
  },
  "language_info": {
   "codemirror_mode": {
    "name": "ipython",
    "version": 3
   },
   "file_extension": ".py",
   "mimetype": "text/x-python",
   "name": "python",
   "nbconvert_exporter": "python",
   "pygments_lexer": "ipython3",
   "version": "3.7.1"
  }
 },
 "nbformat": 4,
 "nbformat_minor": 2
}

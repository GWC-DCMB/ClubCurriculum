{
 "cells": [
  {
   "cell_type": "markdown",
   "metadata": {},
   "source": [
    "# Setup\n",
    "\n",
    "1. Go to https://github.com/GWC-DCMB/SummerExperience\n",
    "1. Click the green \"`Clone or download`\" button, then click \"`Download ZIP`\". \n",
    "<img src=\"Figures/01download.png\" style=\"width: 500px;\"/>\n",
    "1. In the bottom left, click the file to unzip it.                            \n",
    "<img src=\"Figures/02unzip.png\" style=\"width: 500px;\"/>\n",
    "1. Go to https://drive.google.com and log in to your Google account.\n",
    "1. In the upper left, press \"`New`\".                                      \n",
    "<img src=\"Figures/03new.png\" style=\"width: 500px;\"/>\n",
    "1. Click \"`folder upload`\" and select the folder `SummerExperience-master`.\n",
    "<img src=\"Figures/04upload.png\" style=\"width: 500px;\"/>\n",
    "1. Double-click the folder `SummerExperience-master` to open it.\n",
    "1. Double-click the `Lessons` folder.                                      \n",
    "<img src=\"Figures/05folder.png\" style=\"width: 500px;\"/>\n",
    "1. Double-click the notebook `Lesson02_HelloWorld_Variables.ipynb`.\n",
    "<img src=\"Figures/06notebook.png\" style=\"width: 500px;\"/>\n",
    "1. Click \"`Colaboratory`\" to open the notebook with Google Colab.\n",
    "<img src=\"Figures/07colab.png\" style=\"width: 500px;\"/>\n",
    "1. When Colab loads, you should see something like this:\n",
    "<img src=\"Figures/08helloworld.png\" style=\"width: 500px;\"/>\n",
    "\n",
    "Congrats, you're ready to start coding!"
   ]
  },
  {
   "cell_type": "code",
   "execution_count": null,
   "metadata": {},
   "outputs": [],
   "source": []
  }
 ],
 "metadata": {
  "kernelspec": {
   "display_name": "Python 3",
   "language": "python",
   "name": "python3"
  },
  "language_info": {
   "codemirror_mode": {
    "name": "ipython",
    "version": 3
   },
   "file_extension": ".py",
   "mimetype": "text/x-python",
   "name": "python",
   "nbconvert_exporter": "python",
   "pygments_lexer": "ipython3",
   "version": "3.7.3"
  }
 },
 "nbformat": 4,
 "nbformat_minor": 2
}

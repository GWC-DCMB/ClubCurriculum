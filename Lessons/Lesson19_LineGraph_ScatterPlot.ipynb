{
 "cells": [
  {
   "cell_type": "markdown",
   "metadata": {},
   "source": [
    "# Matplotlib: line Graph and Scatter Plot\n",
    "\n",
    "### Line Graph\n",
    "\n",
    "In the earlier lesson we learned that line graphs are used to simply show changes over time. In this lesson, we want to use line graphs to compare multiple variables over time. \n",
    "\n",
    "First, let's import `matplotlib.pyplot` and `seaborn`and load `flights` data as we did earlier today."
   ]
  },
  {
   "cell_type": "code",
   "execution_count": 1,
   "metadata": {},
   "outputs": [],
   "source": [
    "# import packages\n"
   ]
  },
  {
   "cell_type": "markdown",
   "metadata": {},
   "source": [
    "In this example, rather than looking at the trend over years, we are interested in how the number of passengers changes over a one-year period. "
   ]
  },
  {
   "cell_type": "code",
   "execution_count": 3,
   "metadata": {},
   "outputs": [],
   "source": [
    "# select all 12 observations for year 1949 and assign this subset to a new dataframe named \"flights_1949\"\n",
    "# use plt to plot the number of passengers for each month of year 1949. \n",
    "# add labels/title to the plot\n",
    "\n",
    "# HINT: X-axis correspond to a string variable for month names, e.g. January, February, ...\n",
    "# HINT: To get the X-axis values, you can use a list variable "
   ]
  },
  {
   "cell_type": "markdown",
   "metadata": {},
   "source": [
    "How do you think we can untangle values on x-axis?\n",
    "\n",
    "One way is to rotate the x-axis text. To do so, we use `plt.xticks` function to get access to positions that ticks (i.e. x-axis text) should be placed. Then, we can simply set rotation of x ticks to any value we like. "
   ]
  },
  {
   "cell_type": "code",
   "execution_count": 4,
   "metadata": {},
   "outputs": [],
   "source": [
    "# reproduce the above plot \n",
    "# use plt.xticks to rotate the x-axis text by 90 degrees \n",
    "# add labels/title\n"
   ]
  },
  {
   "cell_type": "markdown",
   "metadata": {},
   "source": [
    "Nice plot!\n",
    "\n",
    "Next, we want to compare the number of passengers in 1949 and 1952 on a monthly basis. For that we are going to show two line graphs on the same plot. "
   ]
  },
  {
   "cell_type": "code",
   "execution_count": 5,
   "metadata": {},
   "outputs": [],
   "source": [
    "# select all 12 samples of year 1952 and assign it to a new dataframe named \"flights_1952\"\n",
    "# to overlay the monthly number of passenger for years 1949 and 1960 in one plot:\n",
    "# 1st, plot the flights_1949 dataframe\n",
    "# next, plot the flights_1952 dataframe \n",
    "# don't forget to add triangular shape markers when plotting each of the two datafeames\n",
    "# rotate the x-axis text by 45 degrees \n",
    "# add labels/title to the plot\n"
   ]
  },
  {
   "cell_type": "markdown",
   "metadata": {},
   "source": [
    "There is one final step left to have our perfect plot! Well, by only looking at this plot can you tell which line corresponds to year 1949 and which line corrsponds to year 1952? \n",
    "\n",
    "To address this issue, we add legend to the plot by simply adding a `label` argument when plotting each of two line graphs, and then calling `plt.legend` function to show the defined labels."
   ]
  },
  {
   "cell_type": "code",
   "execution_count": 6,
   "metadata": {},
   "outputs": [],
   "source": [
    "# reproduce the above plot\n",
    "# add appropriate legends to the plot\n"
   ]
  },
  {
   "cell_type": "markdown",
   "metadata": {},
   "source": [
    "Does this plot give you any insight into the data? Do you see the same trend in the number of passengers during year 1949 and 1952? Which months have the maximum and minimum number of passengers? Can you guess why? "
   ]
  },
  {
   "cell_type": "markdown",
   "metadata": {},
   "source": [
    "### Scatter plot\n",
    "\n",
    "Before explaining the scatter plot, let's find out in what cases a line graph is not helpful! "
   ]
  },
  {
   "cell_type": "code",
   "execution_count": 7,
   "metadata": {},
   "outputs": [],
   "source": [
    "# load \"tips\" dataset from seaborn package and assign it to a variable called tips\n"
   ]
  },
  {
   "cell_type": "markdown",
   "metadata": {},
   "source": [
    "This dataset includes the amount that food servers receive in tips in restaurants ,`tip`, based on a few factors including the total bill, `total_bill`. "
   ]
  },
  {
   "cell_type": "code",
   "execution_count": 8,
   "metadata": {},
   "outputs": [],
   "source": [
    "# use plt.plot to plot the amount of tip on the y-axis versus the totall bill on the x-axis \n"
   ]
  },
  {
   "cell_type": "markdown",
   "metadata": {},
   "source": [
    "Do you see the problem? \n",
    "\n",
    "Yes, you're correct! `plt.plot` function, by default, thinks this is a time series data and connects consecutive samples by lines. To avoid this problem, we use scatter plots, which simply uses points without connecting lines to visualize observations and show how much one variable is affected by the other variable. To create a scatter plot, use `plt.scatter` function. The same as `plt.plot` function,`plt.scatter`'s  first variable correpond to the measurement we would like to show along the x-axis, and the second argument correspond to the measurement along the y-axis."
   ]
  },
  {
   "cell_type": "code",
   "execution_count": 9,
   "metadata": {},
   "outputs": [],
   "source": [
    "# show the amount of tip on the y-axis versus the total bill on the x-axis using a scatter plot\n",
    "# add labels/title\n"
   ]
  },
  {
   "cell_type": "markdown",
   "metadata": {},
   "source": [
    "Of course you can change the size, marker style, color of points, as well as make them tranparent. Google how you can play with these arguments! "
   ]
  },
  {
   "cell_type": "markdown",
   "metadata": {},
   "source": [
    "In this lesson you learned to:\n",
    "* improve a line graph plot by overlaying multiple lines \n",
    "* add legends to the plot\n",
    "* when to use a scatter plot rather than a line graph\n",
    "* generate a scatter plot "
   ]
  },
  {
   "cell_type": "code",
   "execution_count": null,
   "metadata": {},
   "outputs": [],
   "source": []
  }
 ],
 "metadata": {
  "kernelspec": {
   "display_name": "Python 3",
   "language": "python",
   "name": "python3"
  },
  "language_info": {
   "codemirror_mode": {
    "name": "ipython",
    "version": 3
   },
   "file_extension": ".py",
   "mimetype": "text/x-python",
   "name": "python",
   "nbconvert_exporter": "python",
   "pygments_lexer": "ipython3",
   "version": "3.7.1"
  }
 },
 "nbformat": 4,
 "nbformat_minor": 2
}

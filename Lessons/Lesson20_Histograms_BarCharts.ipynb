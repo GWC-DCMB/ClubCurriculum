{
 "cells": [
  {
   "cell_type": "markdown",
   "metadata": {},
   "source": [
    "# Matplotlib: Histograms and Bar Charts\n",
    "\n",
    "### Histograms\n",
    "\n",
    "Histograms are a very useful tool for exploring your data, particularly for understanding the distribution of specific variables. To construct a histogram, the first step is to \"bin\" the range of value, or divide the entire range of values into a series of interval and then count how many values fall into each interval. \n",
    "\n",
    "Let's see how it all works with an example using the `plt.hist()` function. "
   ]
  },
  {
   "cell_type": "code",
   "execution_count": 87,
   "metadata": {},
   "outputs": [
    {
     "name": "stdout",
     "output_type": "stream",
     "text": [
      "[106.95903004 120.7111259  104.90378099 ...  89.70318816  90.75283697\n",
      " 105.28193768]\n"
     ]
    }
   ],
   "source": [
    "# importing our packages\n",
    "import numpy as np\n",
    "import matplotlib.pyplot as plt\n",
    "%matplotlib inline\n",
    "\n",
    "# create a random set of data\n",
    "mu = 100 # mean of our data\n",
    "sigma = 15 # standard deviation of our data\n",
    "data = mu + sigma*np.random.randn(10000) # get a random distribution of numbers in our range\n",
    "\n",
    "# print data\n",
    "print(data)\n",
    "\n",
    "# plot histogram and add labels/title\n"
   ]
  },
  {
   "cell_type": "markdown",
   "metadata": {},
   "source": [
    "Here we see a roughly bell-shaped disitribution, which we refer to in statistics as a normal distribution. We see the peak of the distribution is at the value 100, which corresponds to our mean parameter `mu`, and most (~70%) of the data lies within +/- 15 of the mean, corresponding to our standard deviation parameter `sigma`. \n",
    "\n",
    "In this plot we can see that our data is split into 10 bins spanning about 15 values per bin, as evidenced by the 10 bars. 10 bins is the default value. To get a better sense of the distribution, we can use a larger number of more fine-grained bins.  "
   ]
  },
  {
   "cell_type": "code",
   "execution_count": 86,
   "metadata": {},
   "outputs": [],
   "source": [
    "# plot histogram and add labels/title with 50 bins\n"
   ]
  },
  {
   "cell_type": "markdown",
   "metadata": {},
   "source": [
    "Using 50 bins instead of 10 gives a clearer bell-shaped normal distribution."
   ]
  },
  {
   "cell_type": "code",
   "execution_count": 88,
   "metadata": {},
   "outputs": [],
   "source": [
    "# plot histogram and add labels/title with 100 bins\n"
   ]
  },
  {
   "cell_type": "markdown",
   "metadata": {},
   "source": [
    "However, using bins that are too fine-grained might take away from the overall shape of the distribution. "
   ]
  },
  {
   "cell_type": "code",
   "execution_count": 89,
   "metadata": {},
   "outputs": [],
   "source": [
    "# plot histogram and add labels/title with 150 bins\n"
   ]
  },
  {
   "cell_type": "markdown",
   "metadata": {},
   "source": [
    "You'll notice that the y-axis on all of our histogram plots shows the count of the values of `data` that falls into each bin. As we increase the number of bins and decrease the bin size, the range of the y-axis also decreases - smaller bins means fewer values fall in each bin. This can make comparing between histograms of different variables difficult. \n",
    "\n",
    "One solution to this issue is to convert the y-axis to show the *percentage* of values that fall in each bin rather than raw counts. This is called a **density plot**. "
   ]
  },
  {
   "cell_type": "code",
   "execution_count": 90,
   "metadata": {},
   "outputs": [],
   "source": [
    "# plot density and add labels/title with 50 bins\n"
   ]
  },
  {
   "cell_type": "markdown",
   "metadata": {},
   "source": [
    "### Bar Charts\n",
    "\n",
    "Bar charts are useful for comparing a variable across several groups. In a bar chart, the x-axis is usually a *discrete* variable, such as different groups in a study or specific categories of things, and the y-axis is usually a continuous variable, such as height or age. \n",
    "\n",
    "Let's practice with a really simple example of the `plt.bar()` function."
   ]
  },
  {
   "cell_type": "code",
   "execution_count": 91,
   "metadata": {},
   "outputs": [],
   "source": [
    "# create data vector and labels vector\n",
    "means = (45, 67, 64, 55, 52)\n",
    "groups = ('Group1', 'Group2', 'Group3', 'Group4', 'Group5')\n",
    "\n",
    "# get indexes for xticks\n",
    "\n",
    "# plot bar graph and add labels/title\n"
   ]
  },
  {
   "cell_type": "markdown",
   "metadata": {},
   "source": [
    "Sometimes we want to compare multiple variables - such as ages of men and women across our 5 study groups. One way we can do this is using the `subplots()` function, which enables us to put two plots side by side. "
   ]
  },
  {
   "cell_type": "code",
   "execution_count": 92,
   "metadata": {},
   "outputs": [],
   "source": [
    "# create vectors with age means for men and women across groups\n",
    "men_means = (20, 35, 30, 35, 27)\n",
    "women_means = (25, 32, 34, 20, 25)\n",
    "\n",
    "# subplots, 1 row, 2 columns, figsize = (12,6)\n",
    "\n",
    "# fig: full plot object\n",
    "# ax: array containing each subplot\n",
    "# we identify each individual plot by its index (i.e. ax[0] for the first)\n",
    "\n",
    "\n",
    "# add the y-label plot\n",
    "\n",
    "# add xticks and labels to the first plot\n",
    "\n",
    "\n",
    "# add xticks and labels to the first plot\n",
    "\n",
    "\n",
    "# add legend to both plots\n",
    "\n",
    "\n",
    "# add suptitle to fig\n",
    "\n"
   ]
  },
  {
   "cell_type": "markdown",
   "metadata": {},
   "source": [
    "However, this layout makes it difficult to directly compare the means of men and women in each group. A better way to visualize this data would be by plotting the bars side by side on a single graph. "
   ]
  },
  {
   "cell_type": "code",
   "execution_count": 93,
   "metadata": {},
   "outputs": [],
   "source": [
    "# defining the width of our bars. We'll see why this is important in a second.\n",
    "width = 0.35\n",
    "\n",
    "# plot mens bars on left side of the x-tick\n",
    "\n",
    "# plot womens bars on the right side of the x-tick\n",
    "\n",
    "# plot bar chart and add labels/title/xticks/legend\n",
    "\n"
   ]
  },
  {
   "cell_type": "markdown",
   "metadata": {},
   "source": [
    "As we've seen in the histogram exercise, the mean is not the only defining feature of a disitribution - we often also look at the standard deviation to know how spread the disitribution is about the mean. This can also help us statisically determine if two groups are significantly different - if the mean +/- the standard deviation of two groups overlap they are less likely to be significantly different. \n",
    "\n",
    "We can add error bars to the above graph to help make this visual comparison easier. "
   ]
  },
  {
   "cell_type": "code",
   "execution_count": 94,
   "metadata": {},
   "outputs": [],
   "source": [
    "# create vectors for std ages for men/women across groups\n",
    "men_std = (2, 3, 4, 1, 2)\n",
    "women_std = (3, 5, 2, 3, 3)\n",
    "\n",
    "# plot mens bars on left side of the x-tick\n",
    "\n",
    "\n",
    "# plot womens bars on the right side of the x-tick\n",
    "\n",
    "# plot bar chart and add labels/title/xticks/legend\n",
    "\n"
   ]
  },
  {
   "cell_type": "code",
   "execution_count": null,
   "metadata": {},
   "outputs": [],
   "source": []
  },
  {
   "cell_type": "code",
   "execution_count": null,
   "metadata": {},
   "outputs": [],
   "source": []
  }
 ],
 "metadata": {
  "kernelspec": {
   "display_name": "Python 3",
   "language": "python",
   "name": "python3"
  },
  "language_info": {
   "codemirror_mode": {
    "name": "ipython",
    "version": 3
   },
   "file_extension": ".py",
   "mimetype": "text/x-python",
   "name": "python",
   "nbconvert_exporter": "python",
   "pygments_lexer": "ipython3",
   "version": "3.7.3"
  }
 },
 "nbformat": 4,
 "nbformat_minor": 2
}

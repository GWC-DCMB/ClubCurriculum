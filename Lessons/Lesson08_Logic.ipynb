{
 "nbformat": 4,
 "nbformat_minor": 0,
 "metadata": {
  "kernelspec": {
   "display_name": "Python 3",
   "language": "python",
   "name": "python3"
  },
  "language_info": {
   "codemirror_mode": {
    "name": "ipython",
    "version": 3
   },
   "file_extension": ".py",
   "mimetype": "text/x-python",
   "name": "python",
   "nbconvert_exporter": "python",
   "pygments_lexer": "ipython3",
   "version": "3.7.3"
  },
  "colab": {
   "name": "Lesson08_Logic.ipynb",
   "version": "0.3.2",
   "provenance": [],
   "collapsed_sections": []
  }
 },
 "cells": [
  {
   "cell_type": "markdown",
   "metadata": {
    "id": "wOfKH0p6LfRf",
    "colab_type": "text"
   },
   "source": [
    "# Logic\n",
    "\n",
    "Previously, we learned about Booleans. Booleans are variables that can take two values: `True` or `False`.\n",
    "\n",
    "We can make a variable a Boolean by setting it equal to `True` or `False`, but as we discussed earlier we can also use comparison operators to generate  \n",
    "\n",
    "\n",
    "`<`   less than\n",
    "\n",
    "\n",
    "`>`   greater than\n",
    "\n",
    "\n",
    "`<=`  less than/equal to\n",
    "\n",
    "\n",
    "`>=`  greater than or equal to\n",
    "\n",
    "\n",
    "`==`  equal to\n",
    "\n",
    "\n",
    "`!=`  not equal to"
   ]
  },
  {
   "cell_type": "markdown",
   "metadata": {
    "id": "x16no17qLfRj",
    "colab_type": "text"
   },
   "source": [
    "Let's create a basic list to get started"
   ]
  },
  {
   "cell_type": "code",
   "metadata": {
    "id": "6Umho5B-LfRl",
    "colab_type": "code",
    "colab": {}
   },
   "source": [
    "my_list = [1, 2, 3]\n"
   ],
   "execution_count": 0,
   "outputs": []
  },
  {
   "cell_type": "markdown",
   "metadata": {
    "id": "32UoPvHRPIYX",
    "colab_type": "text"
   },
   "source": [
    "Let's say a list with more than 2 items is considered long. Using the `len` function, we can create a Boolean value that tells us if our list is long or short."
   ]
  },
  {
   "cell_type": "code",
   "metadata": {
    "id": "rpn2aMBJPGoE",
    "colab_type": "code",
    "colab": {
     "base_uri": "https://localhost:8080/",
     "height": 34
    },
    "outputId": "512c2044-362a-4e81-ad89-83210e03524f",
    "executionInfo": {
     "status": "ok",
     "timestamp": 1567217138300,
     "user_tz": 240,
     "elapsed": 370,
     "user": {
      "displayName": "Morgan Oneka",
      "photoUrl": "https://lh3.googleusercontent.com/a-/AAuE7mDDNp7vRaJ72dq-10S667W0tZyfdBWiE2NavfHt=s64",
      "userId": "08973921413298125078"
     }
    }
   },
   "source": [
    "# create a boolean called long_list that is True if our list has more than 2 items\n",
    "long_list = len(my_list) > 2\n",
    "\n",
    "# print the value of long_list\n",
    "print(long_list)"
   ],
   "execution_count": 3,
   "outputs": [
    {
     "output_type": "stream",
     "text": [
      "True\n"
     ],
     "name": "stdout"
    }
   ]
  },
  {
   "cell_type": "markdown",
   "metadata": {
    "id": "DxMzLIwea8od",
    "colab_type": "text"
   },
   "source": [
    "What if we wanted to create a Boolean that had the opposite value?\n",
    "\n",
    "Certain pairs of operators are opposites of one another. \n",
    "\n",
    "`>` and `<=` are opposites\n",
    "\n",
    "`>` and `>=` are opposites\n",
    "\n",
    "`==` and `!=` are opposites\n",
    "\n",
    "So, since we used `>` to figure out if our list was long, we can use `<=` to figure out if our list is short. "
   ]
  },
  {
   "cell_type": "code",
   "metadata": {
    "id": "q5t02gYkaxvP",
    "colab_type": "code",
    "colab": {
     "base_uri": "https://localhost:8080/",
     "height": 34
    },
    "outputId": "9fcdd349-ff87-4892-abb8-1479736909b8",
    "executionInfo": {
     "status": "ok",
     "timestamp": 1567220847630,
     "user_tz": 240,
     "elapsed": 357,
     "user": {
      "displayName": "Morgan Oneka",
      "photoUrl": "https://lh3.googleusercontent.com/a-/AAuE7mDDNp7vRaJ72dq-10S667W0tZyfdBWiE2NavfHt=s64",
      "userId": "08973921413298125078"
     }
    }
   },
   "source": [
    "# create a boolean called short_list that is False if our list doesn't have more than 2 items\n",
    "short_list = len(my_list) <= 2\n",
    "\n",
    "# print the value of short_list\n",
    "print(short_list)"
   ],
   "execution_count": 5,
   "outputs": [
    {
     "output_type": "stream",
     "text": [
      "False\n"
     ],
     "name": "stdout"
    }
   ]
  },
  {
   "cell_type": "markdown",
   "metadata": {
    "id": "wvlENFW-LfRy",
    "colab_type": "text"
   },
   "source": [
    "One cool thing about Python is that we can use words in place of many of the operators we talked about earlier. The operator `==` is used to tell if two things are equal, but we can also use `is` in its place.\n",
    "\n",
    "First, let's use the `==` operator to test if the first item of our list is equal to 1."
   ]
  },
  {
   "cell_type": "code",
   "metadata": {
    "id": "wzzu3Df8LfR0",
    "colab_type": "code",
    "colab": {
     "base_uri": "https://localhost:8080/",
     "height": 34
    },
    "outputId": "3589d818-0d43-4d87-d3fe-26fe0bb4dd33",
    "executionInfo": {
     "status": "ok",
     "timestamp": 1567223865408,
     "user_tz": 240,
     "elapsed": 335,
     "user": {
      "displayName": "Morgan Oneka",
      "photoUrl": "https://lh3.googleusercontent.com/a-/AAuE7mDDNp7vRaJ72dq-10S667W0tZyfdBWiE2NavfHt=s64",
      "userId": "08973921413298125078"
     }
    }
   },
   "source": [
    "my_list[0] == 1\n"
   ],
   "execution_count": 6,
   "outputs": [
    {
     "output_type": "execute_result",
     "data": {
      "text/plain": [
       "True"
      ]
     },
     "metadata": {
      "tags": []
     },
     "execution_count": 6
    }
   ]
  },
  {
   "cell_type": "markdown",
   "metadata": {
    "id": "manKK7rB0m7s",
    "colab_type": "text"
   },
   "source": [
    "Now, let's do the same thing using the `is` operator"
   ]
  },
  {
   "cell_type": "code",
   "metadata": {
    "id": "4SP7jKCL0b4L",
    "colab_type": "code",
    "colab": {
     "base_uri": "https://localhost:8080/",
     "height": 34
    },
    "outputId": "d914d1e3-5645-4a09-a764-725506c18218",
    "executionInfo": {
     "status": "ok",
     "timestamp": 1567223906232,
     "user_tz": 240,
     "elapsed": 341,
     "user": {
      "displayName": "Morgan Oneka",
      "photoUrl": "https://lh3.googleusercontent.com/a-/AAuE7mDDNp7vRaJ72dq-10S667W0tZyfdBWiE2NavfHt=s64",
      "userId": "08973921413298125078"
     }
    }
   },
   "source": [
    "\n",
    "my_list[0] is 1"
   ],
   "execution_count": 8,
   "outputs": [
    {
     "output_type": "execute_result",
     "data": {
      "text/plain": [
       "True"
      ]
     },
     "metadata": {
      "tags": []
     },
     "execution_count": 8
    }
   ]
  },
  {
   "cell_type": "markdown",
   "metadata": {
    "id": "BDdip1QxLfR4",
    "colab_type": "text"
   },
   "source": [
    "In most cases, it doesn't matter whether you us `is` or `==`. Using `is` might help you avoid accidentally using `=` instead of `==`, which is a common mistake."
   ]
  },
  {
   "cell_type": "markdown",
   "metadata": {
    "id": "JAxkGYeY29Dy",
    "colab_type": "text"
   },
   "source": [
    "Another useful python keyword is `not`. Putting `not` in front of a boolean will flip the value to its oposite—remember that `True` and `False` are opposites."
   ]
  },
  {
   "cell_type": "code",
   "metadata": {
    "id": "mtAW16ci3d52",
    "colab_type": "code",
    "colab": {
     "base_uri": "https://localhost:8080/",
     "height": 34
    },
    "outputId": "629c4e16-31ac-46d5-b63a-f6e2806105f5",
    "executionInfo": {
     "status": "ok",
     "timestamp": 1567224633399,
     "user_tz": 240,
     "elapsed": 325,
     "user": {
      "displayName": "Morgan Oneka",
      "photoUrl": "https://lh3.googleusercontent.com/a-/AAuE7mDDNp7vRaJ72dq-10S667W0tZyfdBWiE2NavfHt=s64",
      "userId": "08973921413298125078"
     }
    }
   },
   "source": [
    "not True"
   ],
   "execution_count": 9,
   "outputs": [
    {
     "output_type": "execute_result",
     "data": {
      "text/plain": [
       "False"
      ]
     },
     "metadata": {
      "tags": []
     },
     "execution_count": 9
    }
   ]
  },
  {
   "cell_type": "markdown",
   "metadata": {
    "id": "4iHtwWdH3l2v",
    "colab_type": "text"
   },
   "source": [
    "The `not` keyword can be used with logical operators. Recall that the operator `!=` determines if two things are not equal to each other. We learned above that `is` can be used to compare two objects, too. Then, we can use `not` and `is` together to see if two values are different."
   ]
  },
  {
   "cell_type": "code",
   "metadata": {
    "id": "WGxHogea32f8",
    "colab_type": "code",
    "colab": {
     "base_uri": "https://localhost:8080/",
     "height": 34
    },
    "outputId": "1faf84ed-8dc6-462c-8cc1-31563a8f8f0d",
    "executionInfo": {
     "status": "ok",
     "timestamp": 1567224821015,
     "user_tz": 240,
     "elapsed": 332,
     "user": {
      "displayName": "Morgan Oneka",
      "photoUrl": "https://lh3.googleusercontent.com/a-/AAuE7mDDNp7vRaJ72dq-10S667W0tZyfdBWiE2NavfHt=s64",
      "userId": "08973921413298125078"
     }
    }
   },
   "source": [
    "my_list[0] != 5"
   ],
   "execution_count": 11,
   "outputs": [
    {
     "output_type": "execute_result",
     "data": {
      "text/plain": [
       "True"
      ]
     },
     "metadata": {
      "tags": []
     },
     "execution_count": 11
    }
   ]
  },
  {
   "cell_type": "code",
   "metadata": {
    "id": "AkkzfcqX367D",
    "colab_type": "code",
    "colab": {
     "base_uri": "https://localhost:8080/",
     "height": 34
    },
    "outputId": "201ac70f-d994-4aea-965f-d4487ea46534",
    "executionInfo": {
     "status": "ok",
     "timestamp": 1567224826098,
     "user_tz": 240,
     "elapsed": 355,
     "user": {
      "displayName": "Morgan Oneka",
      "photoUrl": "https://lh3.googleusercontent.com/a-/AAuE7mDDNp7vRaJ72dq-10S667W0tZyfdBWiE2NavfHt=s64",
      "userId": "08973921413298125078"
     }
    }
   },
   "source": [
    "my_list[0] is not 5"
   ],
   "execution_count": 12,
   "outputs": [
    {
     "output_type": "execute_result",
     "data": {
      "text/plain": [
       "True"
      ]
     },
     "metadata": {
      "tags": []
     },
     "execution_count": 12
    }
   ]
  },
  {
   "cell_type": "markdown",
   "metadata": {
    "id": "0Jug5oFC_LQs",
    "colab_type": "text"
   },
   "source": [
    "Just like comparison operators such as `>` and `<=` can work on things like strings and integers (and booleans, too!), there are operators just for booleans. \n",
    "\n",
    "First, we'll look at `or`. `or` looks at the two booleans and returns `True` if at least one is `True`, and otherwise returns `False`."
   ]
  },
  {
   "cell_type": "code",
   "metadata": {
    "id": "77gwjHCPA9N6",
    "colab_type": "code",
    "colab": {
     "base_uri": "https://localhost:8080/",
     "height": 34
    },
    "outputId": "b2274da6-b03d-4787-e7de-22f3d1e54c71",
    "executionInfo": {
     "status": "ok",
     "timestamp": 1567227109620,
     "user_tz": 240,
     "elapsed": 350,
     "user": {
      "displayName": "Morgan Oneka",
      "photoUrl": "https://lh3.googleusercontent.com/a-/AAuE7mDDNp7vRaJ72dq-10S667W0tZyfdBWiE2NavfHt=s64",
      "userId": "08973921413298125078"
     }
    }
   },
   "source": [
    "True or False"
   ],
   "execution_count": 13,
   "outputs": [
    {
     "output_type": "execute_result",
     "data": {
      "text/plain": [
       "True"
      ]
     },
     "metadata": {
      "tags": []
     },
     "execution_count": 13
    }
   ]
  },
  {
   "cell_type": "code",
   "metadata": {
    "id": "mF0MIhNmA987",
    "colab_type": "code",
    "colab": {
     "base_uri": "https://localhost:8080/",
     "height": 34
    },
    "outputId": "767e73cc-e040-475d-e812-4c5f24fa283b",
    "executionInfo": {
     "status": "ok",
     "timestamp": 1567227118856,
     "user_tz": 240,
     "elapsed": 306,
     "user": {
      "displayName": "Morgan Oneka",
      "photoUrl": "https://lh3.googleusercontent.com/a-/AAuE7mDDNp7vRaJ72dq-10S667W0tZyfdBWiE2NavfHt=s64",
      "userId": "08973921413298125078"
     }
    }
   },
   "source": [
    "False or False"
   ],
   "execution_count": 14,
   "outputs": [
    {
     "output_type": "execute_result",
     "data": {
      "text/plain": [
       "False"
      ]
     },
     "metadata": {
      "tags": []
     },
     "execution_count": 14
    }
   ]
  },
  {
   "cell_type": "code",
   "metadata": {
    "id": "Us9atevzBANb",
    "colab_type": "code",
    "colab": {
     "base_uri": "https://localhost:8080/",
     "height": 34
    },
    "outputId": "c0899e61-27e1-4ba3-877f-309ce86b0d8d",
    "executionInfo": {
     "status": "ok",
     "timestamp": 1567227130572,
     "user_tz": 240,
     "elapsed": 321,
     "user": {
      "displayName": "Morgan Oneka",
      "photoUrl": "https://lh3.googleusercontent.com/a-/AAuE7mDDNp7vRaJ72dq-10S667W0tZyfdBWiE2NavfHt=s64",
      "userId": "08973921413298125078"
     }
    }
   },
   "source": [
    "True or True"
   ],
   "execution_count": 15,
   "outputs": [
    {
     "output_type": "execute_result",
     "data": {
      "text/plain": [
       "True"
      ]
     },
     "metadata": {
      "tags": []
     },
     "execution_count": 15
    }
   ]
  },
  {
   "cell_type": "markdown",
   "metadata": {
    "id": "EkCysACkBFAg",
    "colab_type": "text"
   },
   "source": [
    "Another really useful boolean operator is `and`. `and` works similarly to `or`, except it only returns `True` if **both** of the booleans are `True`."
   ]
  },
  {
   "cell_type": "code",
   "metadata": {
    "id": "LO7vmuCJBPb5",
    "colab_type": "code",
    "colab": {
     "base_uri": "https://localhost:8080/",
     "height": 34
    },
    "outputId": "a446bd99-26d0-4d3d-de4b-59cab8d36498",
    "executionInfo": {
     "status": "ok",
     "timestamp": 1567227185584,
     "user_tz": 240,
     "elapsed": 330,
     "user": {
      "displayName": "Morgan Oneka",
      "photoUrl": "https://lh3.googleusercontent.com/a-/AAuE7mDDNp7vRaJ72dq-10S667W0tZyfdBWiE2NavfHt=s64",
      "userId": "08973921413298125078"
     }
    }
   },
   "source": [
    "True and False"
   ],
   "execution_count": 16,
   "outputs": [
    {
     "output_type": "execute_result",
     "data": {
      "text/plain": [
       "False"
      ]
     },
     "metadata": {
      "tags": []
     },
     "execution_count": 16
    }
   ]
  },
  {
   "cell_type": "code",
   "metadata": {
    "id": "GPTpPwL2BQgJ",
    "colab_type": "code",
    "colab": {
     "base_uri": "https://localhost:8080/",
     "height": 34
    },
    "outputId": "43e1b393-385b-4a07-d8fd-5c596da9452f",
    "executionInfo": {
     "status": "ok",
     "timestamp": 1567227189872,
     "user_tz": 240,
     "elapsed": 317,
     "user": {
      "displayName": "Morgan Oneka",
      "photoUrl": "https://lh3.googleusercontent.com/a-/AAuE7mDDNp7vRaJ72dq-10S667W0tZyfdBWiE2NavfHt=s64",
      "userId": "08973921413298125078"
     }
    }
   },
   "source": [
    "False and False"
   ],
   "execution_count": 17,
   "outputs": [
    {
     "output_type": "execute_result",
     "data": {
      "text/plain": [
       "False"
      ]
     },
     "metadata": {
      "tags": []
     },
     "execution_count": 17
    }
   ]
  },
  {
   "cell_type": "code",
   "metadata": {
    "id": "fmrqIc8KBRin",
    "colab_type": "code",
    "colab": {
     "base_uri": "https://localhost:8080/",
     "height": 34
    },
    "outputId": "180b84d5-3cbe-443d-a421-49d6d6bc4b25",
    "executionInfo": {
     "status": "ok",
     "timestamp": 1567227191940,
     "user_tz": 240,
     "elapsed": 308,
     "user": {
      "displayName": "Morgan Oneka",
      "photoUrl": "https://lh3.googleusercontent.com/a-/AAuE7mDDNp7vRaJ72dq-10S667W0tZyfdBWiE2NavfHt=s64",
      "userId": "08973921413298125078"
     }
    }
   },
   "source": [
    "True and True"
   ],
   "execution_count": 18,
   "outputs": [
    {
     "output_type": "execute_result",
     "data": {
      "text/plain": [
       "True"
      ]
     },
     "metadata": {
      "tags": []
     },
     "execution_count": 18
    }
   ]
  },
  {
   "cell_type": "markdown",
   "metadata": {
    "id": "fJOMWXP6BTVF",
    "colab_type": "text"
   },
   "source": [
    "One kind of problem that `or` and `and` can be useful for solving is testing if a valuable is inside a certain range. \n",
    "\n",
    "Say we wanted to see if the length of our list was greater than 5 or less than 4—so any length but 4 or 5."
   ]
  },
  {
   "cell_type": "code",
   "metadata": {
    "id": "EBm7SuG_BYYF",
    "colab_type": "code",
    "colab": {
     "base_uri": "https://localhost:8080/",
     "height": 34
    },
    "outputId": "889eeede-a4a1-4a78-9f01-00d9628ce027",
    "executionInfo": {
     "status": "ok",
     "timestamp": 1567227305097,
     "user_tz": 240,
     "elapsed": 382,
     "user": {
      "displayName": "Morgan Oneka",
      "photoUrl": "https://lh3.googleusercontent.com/a-/AAuE7mDDNp7vRaJ72dq-10S667W0tZyfdBWiE2NavfHt=s64",
      "userId": "08973921413298125078"
     }
    }
   },
   "source": [
    "len(my_list) > 5 or len(my_list) < 4"
   ],
   "execution_count": 19,
   "outputs": [
    {
     "output_type": "execute_result",
     "data": {
      "text/plain": [
       "True"
      ]
     },
     "metadata": {
      "tags": []
     },
     "execution_count": 19
    }
   ]
  },
  {
   "cell_type": "markdown",
   "metadata": {
    "id": "f48zKcV8Bx1T",
    "colab_type": "text"
   },
   "source": [
    "Say we wanted to solve the opposite problem—we want to see if the length of our list is exactly 4 or 5."
   ]
  },
  {
   "cell_type": "code",
   "metadata": {
    "id": "HTC0tHp5Btqe",
    "colab_type": "code",
    "colab": {
     "base_uri": "https://localhost:8080/",
     "height": 34
    },
    "outputId": "144102fd-4cf7-475e-a28d-d91c3e9f70e3",
    "executionInfo": {
     "status": "ok",
     "timestamp": 1567227431008,
     "user_tz": 240,
     "elapsed": 318,
     "user": {
      "displayName": "Morgan Oneka",
      "photoUrl": "https://lh3.googleusercontent.com/a-/AAuE7mDDNp7vRaJ72dq-10S667W0tZyfdBWiE2NavfHt=s64",
      "userId": "08973921413298125078"
     }
    }
   },
   "source": [
    "len(my_list) >=4 and len(my_list) <= 5"
   ],
   "execution_count": 20,
   "outputs": [
    {
     "output_type": "execute_result",
     "data": {
      "text/plain": [
       "False"
      ]
     },
     "metadata": {
      "tags": []
     },
     "execution_count": 20
    }
   ]
  },
  {
   "cell_type": "markdown",
   "metadata": {
    "id": "xzwhSbuhCQkm",
    "colab_type": "text"
   },
   "source": [
    "We see that the length of our list **is** less than or equal to 5, but it isn't greater than or equal to 4, so the value is `False`."
   ]
  }
 ]
}

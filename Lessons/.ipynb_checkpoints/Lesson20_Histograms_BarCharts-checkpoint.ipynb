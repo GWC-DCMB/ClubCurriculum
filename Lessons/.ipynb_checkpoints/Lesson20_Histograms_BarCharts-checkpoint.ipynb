{
 "cells": [
  {
   "cell_type": "markdown",
   "metadata": {},
   "source": [
    "# Matplotlib: Histograms and Bar Charts\n",
    "\n",
    "### Histograms\n",
    "\n",
    "Histograms are a very useful tool for exploring your data, particularly for understanding the distribution of specific variables. To construct a histogram, the first step is to \"bin\" the range of value, or divide the entire range of values into a series of interval and then count how many values fall into each interval. \n",
    "\n",
    "Let's see how it all works with an example using the `plt.hist` function. "
   ]
  },
  {
   "cell_type": "code",
   "execution_count": null,
   "metadata": {},
   "outputs": [],
   "source": [
    "# importing our packages\n",
    "\n"
   ]
  },
  {
   "cell_type": "code",
   "execution_count": null,
   "metadata": {},
   "outputs": [],
   "source": [
    "# create a random set of data\n",
    "mu = 100 # mean of our data\n",
    "sigma = 15 # standard deviation of our data\n",
    "data = mu + sigma*np.random.randn(10000) # get a random distribution of numbers in our range\n",
    "\n",
    "print(data)"
   ]
  },
  {
   "cell_type": "code",
   "execution_count": null,
   "metadata": {},
   "outputs": [],
   "source": [
    "# plot histogram\n",
    "\n",
    "\n"
   ]
  },
  {
   "cell_type": "markdown",
   "metadata": {},
   "source": [
    "Here we see a roughly bell-shaped disitribution, which we refer to in statistics as a normal distribution. We see the peak of the distribution is at the value 100, which corresponds to our mean parameter `mu`, and most (~70%) of the data lies within +/- 15 of the mean, corresponding to our standard deviation parameter `sigma`. \n",
    "\n",
    "In this plot we can see that our data is split into 10 bins spanning about 15 values per bin, as evidenced by the 10 bars. 10 bins is the default value. To get a better sense of the distribution, we can use a larger number of more fine-grained bins.  "
   ]
  },
  {
   "cell_type": "code",
   "execution_count": null,
   "metadata": {},
   "outputs": [],
   "source": [
    "# plot histogram and add labels/title with 50 bins\n",
    "\n",
    "\n",
    "plt.xlabel(\"Data\")\n",
    "plt.ylabel(\"Count\")\n",
    "plt.title(\"Histogram of Data\")\n",
    "plt.show()"
   ]
  },
  {
   "cell_type": "markdown",
   "metadata": {},
   "source": [
    "Using 50 bins instead of 10 gives a clearer bell-shaped normal distribution."
   ]
  },
  {
   "cell_type": "code",
   "execution_count": null,
   "metadata": {},
   "outputs": [],
   "source": [
    "# plot histogram and add labels/title with 100 bins\n",
    "\n",
    "\n",
    "\n",
    "plt.xlabel(\"Data\")\n",
    "plt.ylabel(\"Count\")\n",
    "plt.title(\"Histogram of Data\")\n",
    "plt.show()"
   ]
  },
  {
   "cell_type": "markdown",
   "metadata": {},
   "source": [
    "However, using bins that are too fine-grained might take away from the overall shape of the distribution. "
   ]
  },
  {
   "cell_type": "code",
   "execution_count": null,
   "metadata": {},
   "outputs": [],
   "source": [
    "# plot histogram and add labels/title with 150 bins\n",
    "\n",
    "\n",
    "\n",
    "plt.xlabel(\"Data\")\n",
    "plt.ylabel(\"Count\")\n",
    "plt.title(\"Histogram of Data\")\n",
    "plt.show()"
   ]
  },
  {
   "cell_type": "markdown",
   "metadata": {},
   "source": [
    "You'll notice that the y-axis on all of our histogram plots shows the count of the values of `data` that falls into each bin. As we increase the number of bins and decrease the bin size, the range of the y-axis also decreases - smaller bins means fewer values fall in each bin. This can make comparing between histograms of different variables difficult. \n",
    "\n",
    "One solution to this issue is to convert the y-axis to show the *percentage* of values that fall in each bin rather than raw counts. This is called a **density plot**. "
   ]
  },
  {
   "cell_type": "code",
   "execution_count": null,
   "metadata": {},
   "outputs": [],
   "source": [
    "# plot density and add labels/title with 50 bins\n",
    "\n",
    "\n",
    "\n",
    "plt.xlabel(\"Data\")\n",
    "plt.ylabel(\"Percentage\")\n",
    "plt.title(\"Histogram of Data\")\n",
    "plt.show()"
   ]
  },
  {
   "cell_type": "markdown",
   "metadata": {},
   "source": [
    "### Bar Charts\n",
    "\n",
    "Bar charts are useful for comparing a variable across several groups. In a bar chart, the x-axis is usually a *discrete* variable, such as different groups in a study or specific categories of things, and the y-axis is usually a *continuous* variable, such as height or age.\n",
    "\n",
    "Let's practice with a really simple example of the `plt.bar` function."
   ]
  },
  {
   "cell_type": "code",
   "execution_count": null,
   "metadata": {},
   "outputs": [],
   "source": [
    "# create data vector and labels vector\n",
    "means = [45, 67, 64, 55, 52]\n",
    "groups = []'Group1', 'Group2', 'Group3', 'Group4', 'Group5']\n",
    "\n",
    "# get indexes for xticks\n",
    "idxs = np.arange(len(means))\n",
    "print(idxs)"
   ]
  },
  {
   "cell_type": "code",
   "execution_count": null,
   "metadata": {},
   "outputs": [],
   "source": [
    "# plot bar graph and add labels/title\n",
    "\n",
    "\n"
   ]
  },
  {
   "cell_type": "markdown",
   "metadata": {},
   "source": [
    "Sometimes we want to compare multiple variables - such as ages of men and women across our 5 study groups. One way we can do this is using the `subplots` function, which enables us to put two plots side by side. "
   ]
  },
  {
   "cell_type": "code",
   "execution_count": null,
   "metadata": {},
   "outputs": [],
   "source": [
    "# age means for men and women across groups\n",
    "men_means = [20, 35, 30, 35, 27]\n",
    "women_means = [25, 32, 34, 20, 25]\n",
    "labs = ['G1', 'G2', 'G3', 'G4', 'G5']\n",
    "\n",
    "# subplots, 1 row, 2 columns\n",
    "fig, ax = plt.subplots(1, 2,  figsize = (12,6), sharey=True)\n",
    "\n",
    "# fig: full plot object\n",
    "# ax: array containing each subplot\n",
    "# we identify each individual plot by its index (i.e. ax[0] for the first)\n",
    "\n",
    "\n",
    "\n",
    "# add the y-label plot\n",
    "ax[0].set_ylabel(\"Age (Years)\")\n",
    "# add xticks and labels to the first plot\n",
    "ax[0].set_xticks(idxs)\n",
    "ax[0].set_xticklabels(labs)\n",
    "# add xticks and labels to the first plot\n",
    "ax[1].set_xticks(idxs)\n",
    "ax[1].set_xticklabels(labs)\n",
    "# add legend to both plots\n",
    "ax[0].legend()\n",
    "ax[1].legend()\n",
    "# add suptitle to fig\n",
    "fig.suptitle(\"Mean Age per Group for Men and Women\")\n",
    "fig.show()"
   ]
  },
  {
   "cell_type": "markdown",
   "metadata": {},
   "source": [
    "However, this layout makes it difficult to directly compare the means of men and women in each group. A better way to visualize this data would be by plotting the bars side by side on a single graph. "
   ]
  },
  {
   "cell_type": "code",
   "execution_count": null,
   "metadata": {},
   "outputs": [],
   "source": [
    "# defining the width of our bars. We'll see why this is important in a second.\n",
    "width = 0.35\n",
    "\n",
    "# plot mens bars on left side of the x-tick\n",
    "\n",
    "# plot womens bars on the right side of the x-tick\n",
    "\n",
    "\n",
    "plt.ylabel('Age (Years)')\n",
    "plt.title('Mean Age by Group and Gender')\n",
    "plt.xticks(idxs,labs)\n",
    "plt.legend()\n",
    "plt.show()"
   ]
  },
  {
   "cell_type": "markdown",
   "metadata": {},
   "source": [
    "As we've seen in the histogram exercise, the mean is not the only defining feature of a disitribution - we often also look at the standard deviation to know how spread the disitribution is about the mean. This can also help us statisically determine if two groups are significantly different - if the mean +/- the standard deviation of two groups overlap they are less likely to be significantly different. \n",
    "\n",
    "We can add error bars to the above graph to help make this visual comparison easier. "
   ]
  },
  {
   "cell_type": "code",
   "execution_count": null,
   "metadata": {},
   "outputs": [],
   "source": [
    "men_std = [2, 3, 4, 1, 2]\n",
    "women_std = [3, 5, 2, 3, 3]\n",
    "\n",
    "\n",
    "\n",
    "\n",
    "plt.ylabel('Scores')\n",
    "plt.title('Scores by group and gender')\n",
    "plt.xticks(idxs)\n",
    "plt.xticks(idxs,('Group1', 'Group2', 'Group3', 'Group4', 'Group5'))\n",
    "plt.legend()\n",
    "plt.show()"
   ]
  }
 ],
 "metadata": {
  "kernelspec": {
   "display_name": "Python 3",
   "language": "python",
   "name": "python3"
  },
  "language_info": {
   "codemirror_mode": {
    "name": "ipython",
    "version": 3
   },
   "file_extension": ".py",
   "mimetype": "text/x-python",
   "name": "python",
   "nbconvert_exporter": "python",
   "pygments_lexer": "ipython3",
   "version": "3.7.3"
  }
 },
 "nbformat": 4,
 "nbformat_minor": 2
}

{
 "cells": [
  {
   "cell_type": "markdown",
   "metadata": {},
   "source": [
    "# Variables\n",
    "\n",
    "In the last lesson we learned that we can use variables to store values in Python, similar to how we use variables in algebra. Each variable is assigned a value, and then we can use the variable name to reference the value it represents. \n",
    "\n",
    "Variables are very helpful in coding. Not only do they prevent us from having to remember and type the values over and over again, it allows us to update certain values when we have new information. For example, let's say we have a variable `apples` that stores the number of apples we have in our refrigerator. "
   ]
  },
  {
   "cell_type": "code",
   "execution_count": 45,
   "metadata": {},
   "outputs": [],
   "source": [
    "apples = 2"
   ]
  },
  {
   "cell_type": "markdown",
   "metadata": {},
   "source": [
    "Now let's say I went to the store and bought half a dozen apples. Now I want to update the value of `apples` without having to remember how many we started with. How should I do this?"
   ]
  },
  {
   "cell_type": "code",
   "execution_count": 69,
   "metadata": {},
   "outputs": [],
   "source": [
    "# add 6 to apples and print apples\n",
    "\n"
   ]
  },
  {
   "cell_type": "code",
   "execution_count": 70,
   "metadata": {},
   "outputs": [],
   "source": [
    "# add 6 to apples and update it\n",
    "# print apples\n",
    "\n"
   ]
  },
  {
   "cell_type": "markdown",
   "metadata": {},
   "source": [
    "Notice that we can't just add 6 to `apples` and have Python know we mean for it to save that result, **we need to explicitly tell Python to update the value of** `apples`.To do this we use the `+=` opperator. This adds 6 to the previous value of `apples` (2) and updates the variable `apples` to store this new value. This is called **incrementing**. \n",
    "\n",
    "Let's say I had some friends coming over for dinner and I wanted to make an apple pie for dessert. This used up 4 apples. How do you think we should update the variable `apples` to reflect the number of apples that remain in the reifrigerator? "
   ]
  },
  {
   "cell_type": "code",
   "execution_count": 71,
   "metadata": {},
   "outputs": [],
   "source": [
    "# subtract 4 from apples and update it\n",
    "# print apples\n",
    "\n"
   ]
  },
  {
   "cell_type": "markdown",
   "metadata": {},
   "source": [
    "This is an example of **decrementing**. \n",
    "\n",
    "\n",
    "# Types\n",
    "\n",
    "So far we have only used variables to represent numbers. In fact, Python allows us to store several different kinds of data and assign their values to variables. These basic kinds of data come in pre-defined flavors, called **types**. Each type has certain key ways to identify it and certain rules that it has to follow. All variables fall into some type, and you can use the `type()` function to determine the type of any variable. Let's test this with our `apples` variable from above."
   ]
  },
  {
   "cell_type": "code",
   "execution_count": 73,
   "metadata": {},
   "outputs": [],
   "source": [
    "# what is the type for the variable apples?\n",
    "\n"
   ]
  },
  {
   "cell_type": "markdown",
   "metadata": {},
   "source": [
    "### Numeric Types\n",
    "\n",
    "`int` stands for integer, which means a whole number or a number that does not have any decimal value. You may have heard this word before in your math classes. Integers follow basic mathematical rules and can be manipulated with standard mathematical operators, like we saw in the previous lesson. \n",
    "\n",
    "Another numerical type is called `float`, which stands for floating point number. This type represents numbers with decimal values. Let's see an example."
   ]
  },
  {
   "cell_type": "code",
   "execution_count": 74,
   "metadata": {},
   "outputs": [],
   "source": [
    "# create float variable oranges, print type\n",
    "\n"
   ]
  },
  {
   "cell_type": "markdown",
   "metadata": {},
   "source": [
    "`float` variables are very similar to `int` variables, since they are both numeric types and abide by the same basic mathematical rules. We can even convert between one type to another."
   ]
  },
  {
   "cell_type": "code",
   "execution_count": 75,
   "metadata": {},
   "outputs": [],
   "source": [
    "# int to float\n",
    "\n",
    "\n"
   ]
  },
  {
   "cell_type": "code",
   "execution_count": 76,
   "metadata": {},
   "outputs": [],
   "source": [
    "# float to int\n",
    "\n"
   ]
  },
  {
   "cell_type": "code",
   "execution_count": 77,
   "metadata": {},
   "outputs": [],
   "source": [
    "# add float to int\n",
    "\n"
   ]
  },
  {
   "cell_type": "code",
   "execution_count": 78,
   "metadata": {},
   "outputs": [],
   "source": [
    "# add int to float\n",
    "\n"
   ]
  },
  {
   "cell_type": "markdown",
   "metadata": {},
   "source": [
    "### Strings\n",
    "\n",
    "When you think of data science, you may think mainly of numbers and statistics, but sometimes we need to analyze data in other forms as well. Often we need to work with text data, which are called **strings** in Python and designated using `str`. Strings are comprised of characters, like letters or symbols, or a bunch of characters put together, like words. Strings are defined using single quotations `' '` or double quotations `\" \"`, as long as they match at the start and end of the string. This is what separates strings from varaible or function names and tells Python to view it as a string value. Remember that everything in programming is extremely literal, so we have to be very explicit about what we mean when writing code. \n",
    "\n",
    "We used a string in our very first line of code from the last lesson - can anyone remember what it was?"
   ]
  },
  {
   "cell_type": "code",
   "execution_count": 79,
   "metadata": {},
   "outputs": [],
   "source": [
    "# create string variable name, print type\n",
    "\n"
   ]
  },
  {
   "cell_type": "markdown",
   "metadata": {},
   "source": [
    "Like the numeric types, strings have to follow some basic rules for how they can behave in Python. While we can't perform mathematical addition with strings, we can combine strings together using the `+` operator. This is called **concatenating**."
   ]
  },
  {
   "cell_type": "code",
   "execution_count": 80,
   "metadata": {},
   "outputs": [],
   "source": [
    "# print first name + last name\n",
    "\n",
    "\n",
    "# add space in between\n",
    "\n"
   ]
  },
  {
   "cell_type": "markdown",
   "metadata": {},
   "source": [
    "We can also use the multiplication operator on strings. Can anyone guess what that might do?"
   ]
  },
  {
   "cell_type": "code",
   "execution_count": 81,
   "metadata": {},
   "outputs": [],
   "source": [
    "# use multiplication operator on string\n",
    "\n"
   ]
  },
  {
   "cell_type": "markdown",
   "metadata": {},
   "source": [
    "However, not all the operators we learned in the last lesson work with strings. We can't do subtract or divide strings, and we also can't add numeric values to strings or multiply strings with other strings. Let's see what kinds of errors arise when we try to break these string rules."
   ]
  },
  {
   "cell_type": "code",
   "execution_count": 64,
   "metadata": {},
   "outputs": [],
   "source": [
    "# uncomment these lines one by one to see the resulting error messages\n",
    "\n",
    "#\"Hello World\" - \"Hello\"\n",
    "\n",
    "#\"Marlena\"/\"Duda\"\n",
    "\n",
    "#\"Marlena\" * \"GWC\"\n",
    "\n",
    "#\"GWC\" + 2019"
   ]
  },
  {
   "cell_type": "markdown",
   "metadata": {},
   "source": [
    "Though there is a clear distinction between numeric and string variables, string variables can contain numbers, which are seen as numeric characters in this context. "
   ]
  },
  {
   "cell_type": "code",
   "execution_count": 82,
   "metadata": {},
   "outputs": [],
   "source": [
    "# create string variable date with today's date\n",
    "\n"
   ]
  },
  {
   "cell_type": "markdown",
   "metadata": {},
   "source": [
    "### Booleans\n",
    "\n",
    "One last basic data type in Python is called the boolean, or `bool`, which is a special type of variable that can take only on the value of `True` or `False`. "
   ]
  },
  {
   "cell_type": "code",
   "execution_count": 83,
   "metadata": {},
   "outputs": [],
   "source": [
    "# create boolean variable and print type\n",
    "\n"
   ]
  },
  {
   "cell_type": "markdown",
   "metadata": {},
   "source": [
    "Boolean variables can be assigned directly using the special reserved words of `True` or `False` like we saw above, but they can also be generated as the result of comparison operators: \n",
    "\n",
    "`<`   less than\n",
    "\n",
    "\n",
    "`>`   greater than\n",
    "\n",
    "\n",
    "`<=`  less than/equal to\n",
    "\n",
    "\n",
    "`>=`  greater than or equal to\n",
    "\n",
    "\n",
    "`==`  equal to\n",
    "\n",
    "\n",
    "`!=`  not equal to\n",
    "\n",
    "\n",
    "Pay special attention to the `==` operator - this tests whether or not two values are exactly equal to eachother, and is an important distinction from the `=` operator, which assigns a value to a variable. "
   ]
  },
  {
   "cell_type": "code",
   "execution_count": 84,
   "metadata": {},
   "outputs": [],
   "source": [
    "# generate boolean variables using comparison operators\n",
    "\n"
   ]
  },
  {
   "cell_type": "markdown",
   "metadata": {},
   "source": [
    "While we've seen that booleans take on the values of `True` or `False`, they also have a numeric representation: `True` = 1 and `False` = 0. As such, boolean variables follow mathematical rules and can be manipulated using mathematical operators. This can be useful when you want to quickly count up the number of `True` values in a list, for example. Let's play with this below."
   ]
  },
  {
   "cell_type": "code",
   "execution_count": 86,
   "metadata": {},
   "outputs": [],
   "source": [
    "yes = True\n",
    "no = False\n",
    "\n",
    "# add, substract, multiply boolean variables\n",
    "\n",
    "\n",
    "\n",
    "# add, subtract, multiple boolean and int variables\n",
    "\n"
   ]
  },
  {
   "cell_type": "markdown",
   "metadata": {},
   "source": [
    "Now you're an expert in the basic Python data types: `int`, `float`, `string`, and `bool`!"
   ]
  }
 ],
 "metadata": {
  "kernelspec": {
   "display_name": "Python 3",
   "language": "python",
   "name": "python3"
  },
  "language_info": {
   "codemirror_mode": {
    "name": "ipython",
    "version": 3
   },
   "file_extension": ".py",
   "mimetype": "text/x-python",
   "name": "python",
   "nbconvert_exporter": "python",
   "pygments_lexer": "ipython3",
   "version": "3.7.3"
  }
 },
 "nbformat": 4,
 "nbformat_minor": 2
}

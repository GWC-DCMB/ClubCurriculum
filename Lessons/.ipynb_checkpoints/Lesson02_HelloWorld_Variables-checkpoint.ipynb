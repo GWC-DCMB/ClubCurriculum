{
 "cells": [
  {
   "cell_type": "markdown",
   "metadata": {},
   "source": [
    "# Hello World\n",
    "\n",
    "Write some intro text here about how cool python is.\n",
    "\n",
    "Below we will write our first line of code! We will make Python \"come alive\" by sending a greeting to the world to the screen. To do this, we will use a command called `print`. This command tells Python to print the input text to the screen. Let's begin!"
   ]
  },
  {
   "cell_type": "code",
   "execution_count": null,
   "metadata": {
    "collapsed": true
   },
   "outputs": [],
   "source": [
    "# command Python to print the string \"Hello World\"\n",
    "print()"
   ]
  },
  {
   "cell_type": "markdown",
   "metadata": {},
   "source": [
    "Amazing! You just wrote your first line of Python code. Pretty easy right? \n",
    "\n",
    "Python can also be used as a calculator. Let's use Python to do some simple addition and subtraction below."
   ]
  },
  {
   "cell_type": "code",
   "execution_count": 1,
   "metadata": {},
   "outputs": [],
   "source": [
    "# command Python to add 3 + 19\n",
    "\n"
   ]
  },
  {
   "cell_type": "code",
   "execution_count": 2,
   "metadata": {},
   "outputs": [],
   "source": [
    "# command Python to subtract 91 - 28\n",
    "\n"
   ]
  },
  {
   "cell_type": "markdown",
   "metadata": {},
   "source": [
    "We can also do multiplication and division with Python. The symbol for multiplication is `*` and the symbol for division is `/`. \n",
    "Let's use Python to do some multiplication and division below!"
   ]
  },
  {
   "cell_type": "code",
   "execution_count": 3,
   "metadata": {},
   "outputs": [],
   "source": [
    "# command Python to multiply 6 x 13\n",
    "\n"
   ]
  },
  {
   "cell_type": "code",
   "execution_count": 4,
   "metadata": {},
   "outputs": [],
   "source": [
    "# command Python to divide 98 / 4\n",
    "\n"
   ]
  },
  {
   "cell_type": "markdown",
   "metadata": {},
   "source": [
    "Just as easy right? \n",
    "\n",
    "Now let's say we wanted to add the result of 6 x 13 to the result of 98 / 4. We could do it this way:"
   ]
  },
  {
   "cell_type": "code",
   "execution_count": null,
   "metadata": {
    "collapsed": true
   },
   "outputs": [],
   "source": [
    "(6 * 13) + 98/4"
   ]
  },
  {
   "cell_type": "markdown",
   "metadata": {},
   "source": [
    "But what if we wanted to save ourselves some time? We already typed those equations earlier, so instead of typing the same equations over and over, we can store the results in *variables*.\n",
    "\n",
    "Variables are words or symbols that are used to represent some value. Variables in Python are used very similarly to variables that you have probably seen in math class. For example, if you assign x = 5 and compute 9 + x = _ ? \n",
    "\n",
    "Exactly - 14! Let's see some examples of how this works in code."
   ]
  },
  {
   "cell_type": "code",
   "execution_count": null,
   "metadata": {
    "collapsed": true
   },
   "outputs": [],
   "source": [
    "# Assign the value of 6 * 13 to the variable result1\n",
    "\n",
    "\n",
    "# Assign the value of 98/4 to the variable result2\n",
    "\n"
   ]
  },
  {
   "cell_type": "markdown",
   "metadata": {},
   "source": [
    "You might notice that after running the above cell, nothing was printed to the screen. This is because our code commanded Python only to assign the values to the variable names, not to print to the screen. This is a good reminder that Python is very literal, and will only do **exactly what we command it to do**. \n",
    "\n",
    "If we want to see the values assigned to each variable, we can use the print command we learned above to print them out. "
   ]
  },
  {
   "cell_type": "code",
   "execution_count": null,
   "metadata": {
    "collapsed": true
   },
   "outputs": [],
   "source": [
    "# print the value stored in the variable result1\n",
    "\n",
    "\n",
    "# print the value stored in the variable result2\n",
    "\n"
   ]
  },
  {
   "cell_type": "markdown",
   "metadata": {},
   "source": [
    "Cool! Now we've seen that the print function in Python can accept different inputs, such as a string (as in \"Hello World\"), or a variable name (as in `result1`). We see that when we use the variable name `result1`, it prints the *value* of that variable, not the variable name itself. We will talk more about how we differentiate strings from variable names in the next lesson.\n",
    "\n",
    "Now, let's revisit our initial objective. We wanted to add the result of 6 x 13 to the result of 98 / 4, but this time let's use our variables that contain each of our values."
   ]
  },
  {
   "cell_type": "code",
   "execution_count": null,
   "metadata": {
    "collapsed": true
   },
   "outputs": [],
   "source": [
    "# command Python to add the result of 6 x 13 to the result of 98 / 4 using our variable names\n",
    "\n"
   ]
  },
  {
   "cell_type": "markdown",
   "metadata": {},
   "source": [
    "Fantastic! You've just solved your first set of problems using Python code! You may not realize it, but in just a few minutes, you've already learned how to\n",
    "     - Use built-in Python functions (print)\n",
    "     - Use mathematical operators to perform calculations (+ - * /)\n",
    "     - Assign values to variables\n",
    "     - Use variables in mathematical equations\n",
    "     \n",
    "Now let's continue to practice these skills with your partners!"
   ]
  }
 ],
 "metadata": {
  "kernelspec": {
   "display_name": "Python 3",
   "language": "python",
   "name": "python3"
  },
  "language_info": {
   "codemirror_mode": {
    "name": "ipython",
    "version": 3
   },
   "file_extension": ".py",
   "mimetype": "text/x-python",
   "name": "python",
   "nbconvert_exporter": "python",
   "pygments_lexer": "ipython3",
   "version": "3.7.3"
  }
 },
 "nbformat": 4,
 "nbformat_minor": 2
}

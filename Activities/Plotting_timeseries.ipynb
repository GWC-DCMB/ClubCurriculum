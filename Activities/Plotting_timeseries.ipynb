{
 "cells": [
  {
   "cell_type": "markdown",
   "metadata": {},
   "source": [
    "# Data collection and visualization"
   ]
  },
  {
   "cell_type": "markdown",
   "metadata": {},
   "source": [
    "### Step 1: Data Collection\n",
    " \n",
    "track some data of your life! think of something that happens regularly in your life, and keep track of how frequently it happens each day, or multiple times per day if you want.  This doesn’t have to be coded in python or colab or anything. you can just take a piece of paper or notebook and write down the data points for the next 2 weeks.\n",
    "below are some examples of things you could track, but feel free to pick anything!! (as long as it can be represented by a number)\n",
    "-weather (degrees)\n",
    "-your mood (scale from 1-10)\n",
    "-snacks (number of times you eat it)\n",
    "-steps (calculated by your phone or maybe a fitbit)\n",
    "-hours you’ve slept\n",
    "-glasses of water\n",
    "-screen time or social media time\n",
    "-time spent doing homework or class\n",
    "-time outdoors\n",
    "-time spent doing  a hobby you enjoy\n",
    "-episodes of a TV show you watched\n",
    "-number of times you washed your hands\n",
    "-number of friends/family you chatted with\n",
    "-number of dogs or babies you saw on a walk\n",
    "\n",
    "if you didn't record any data, check out this time \n",
    " "
   ]
  },
  {
   "cell_type": "markdown",
   "metadata": {},
   "source": [
    "### Step 2: Record data in a google sheets\n",
    "\n",
    "Create a Google Sheet that looks something like [this](https://docs.google.com/spreadsheets/d/16qNyI7Adz9yfprC8H6cO6SGPbSIAh12R8MvecftdguM/edit?usp=sharing)\n",
    "\n",
    "When you're finished entering your data save as a .csv. File > Download > Comma seperated values\n",
    "This will download to your computer and you need to re-upload the file to Google Drive"
   ]
  },
  {
   "cell_type": "code",
   "execution_count": null,
   "metadata": {},
   "outputs": [],
   "source": [
    "#authenticate yourself so you can interact iwth Google sheets\n",
    "from google.colab import auth\n",
    "auth.authenticate_user()\n",
    "import gspread\n",
    "from oauth2client.client import GoogleCredentials\n",
    "gc = gspread.authorize(GoogleCredentials.get_application_default())"
   ]
  },
  {
   "cell_type": "markdown",
   "metadata": {},
   "source": [
    "### Step 3: Read in data"
   ]
  },
  {
   "cell_type": "code",
   "execution_count": null,
   "metadata": {},
   "outputs": [],
   "source": [
    "#load modules\n",
    "import pandas as pd\n",
    "import datetime\n",
    "\n",
    "#put your file name (e.g. file.csv) here as a string\n",
    "filename=\"\"\n",
    "\n",
    "#read in CSV to data frame variable (df)\n",
    "df=pd.read_csv(filename)\n",
    "df.head()"
   ]
  },
  {
   "cell_type": "markdown",
   "metadata": {},
   "source": [
    "### Step 4: Data visualization"
   ]
  },
  {
   "cell_type": "code",
   "execution_count": null,
   "metadata": {},
   "outputs": [],
   "source": [
    "#You can view our scatterplot lesson here: https://github.com/GWC-DCMB/ClubCurriculum/blob/master/Lessons/Lesson26_Scatterplots.ipynb\n",
    "\n",
    "#Another tutorial video: https://www.youtube.com/watch?v=_LWjaAiKaf8\n",
    "\n",
    "#load modules\n",
    "import matplotlib.pyplot as plt\n",
    "import csv\n",
    "\n"
   ]
  }
 ],
 "metadata": {
  "kernelspec": {
   "display_name": "Python 3",
   "language": "python",
   "name": "python3"
  },
  "language_info": {
   "codemirror_mode": {
    "name": "ipython",
    "version": 3
   },
   "file_extension": ".py",
   "mimetype": "text/x-python",
   "name": "python",
   "nbconvert_exporter": "python",
   "pygments_lexer": "ipython3",
   "version": "3.7.2"
  }
 },
 "nbformat": 4,
 "nbformat_minor": 4
}

{
 "cells": [
  {
   "cell_type": "markdown",
   "metadata": {
    "colab_type": "text",
    "id": "qrDyqOou9qYf"
   },
   "source": [
    "# Practice with Statistics (Part 3)!"
   ]
  },
  {
   "cell_type": "markdown",
   "metadata": {
    "colab_type": "text",
    "id": "bM7gHTuE9qYi"
   },
   "source": [
    "**Remember:**\n",
    "* Significance tests tell you the probability that a change happens purely by chance\n",
    "* A **t-test** is a significance test which compares *two groups*\n",
    "* A **correlation** is a measure of the statistical relationship between two variables"
   ]
  },
  {
   "cell_type": "markdown",
   "metadata": {
    "colab_type": "text",
    "id": "l4uLzlrB9qYj"
   },
   "source": [
    "First, import numpy and pandas and the scipy statistical module:"
   ]
  },
  {
   "cell_type": "code",
   "execution_count": null,
   "metadata": {
    "colab": {},
    "colab_type": "code",
    "id": "lZ_fuvPO9qYk"
   },
   "outputs": [],
   "source": [
    "# load numpy and pandas and scipy.stats\n",
    "\n",
    "import numpy as np\n",
    "import pandas as pd\n",
    "import scipy.stats as stats"
   ]
  },
  {
   "cell_type": "code",
   "execution_count": null,
   "metadata": {},
   "outputs": [],
   "source": [
    "# mount Google Drive\n",
    "from google.colab import drive\n",
    "drive.mount('/content/gdrive')\n",
    "path = '/content/gdrive/My Drive/SummerExperience-master/'"
   ]
  },
  {
   "cell_type": "markdown",
   "metadata": {
    "colab_type": "text",
    "id": "Lm9jz9Yw9qYo"
   },
   "source": [
    "Load in the sample data from the Lesson:"
   ]
  },
  {
   "cell_type": "code",
   "execution_count": null,
   "metadata": {
    "colab": {},
    "colab_type": "code",
    "id": "Yxv47Lsr9qYp"
   },
   "outputs": [],
   "source": [
    "# read the csv file: '../Lessons/SampleData/detroit_weather_2.csv'\n",
    "data_table = pd.read_csv(path + 'Lessons/SampleData/detroit_weather_2.csv')"
   ]
  },
  {
   "cell_type": "code",
   "execution_count": null,
   "metadata": {
    "colab": {},
    "colab_type": "code",
    "id": "iS5vt1s_9qYs",
    "outputId": "48a58bee-28e4-4748-9859-61325acd7543"
   },
   "outputs": [],
   "source": [
    "# Print the head of the table to remind you of the format:\n",
    "\n"
   ]
  },
  {
   "cell_type": "markdown",
   "metadata": {},
   "source": [
    "Now, we will repeat the analysis we did in the lesson but comparing two different decades. Which decades would you like to test?"
   ]
  },
  {
   "cell_type": "code",
   "execution_count": null,
   "metadata": {
    "colab": {},
    "colab_type": "code",
    "id": "KpMbmmMw9qYz",
    "outputId": "f4bcb951-cf39-4656-a278-257b111b2885"
   },
   "outputs": [],
   "source": [
    "# Pick two decades that we didn't look at during the lesson\n",
    "# extract the temperatures into numpy arrays\n",
    "\n",
    "\n",
    "\n",
    "# note that the current decade isn't over... \n",
    "# even though there isn't yet data for 2020, we include it in the query so our code will still work in the year 2021!\n",
    "\n"
   ]
  },
  {
   "cell_type": "code",
   "execution_count": null,
   "metadata": {
    "colab": {},
    "colab_type": "code",
    "id": "Joqc_JFE9qY4",
    "outputId": "0c1d19bd-2e07-4552-d521-3d67cf509c11"
   },
   "outputs": [],
   "source": [
    "# Calculate the means of your data \n",
    "\n",
    "\n"
   ]
  },
  {
   "cell_type": "code",
   "execution_count": null,
   "metadata": {
    "colab": {},
    "colab_type": "code",
    "id": "YsS4SeKY_G7P"
   },
   "outputs": [],
   "source": [
    "# Calculate the difference between the two means\n",
    "\n"
   ]
  },
  {
   "cell_type": "code",
   "execution_count": null,
   "metadata": {
    "colab": {},
    "colab_type": "code",
    "id": "afLJNvxB9qY9",
    "outputId": "a6648401-f92c-4524-8049-7e26960a3e22"
   },
   "outputs": [],
   "source": [
    "# Perform a t-test of these data to calculate the p value\n",
    "\n"
   ]
  },
  {
   "cell_type": "markdown",
   "metadata": {
    "colab_type": "text",
    "id": "ojBn9HSA9qZD"
   },
   "source": [
    "Now let's practice calculating some correlations. For this we will read in the `tips` dataset."
   ]
  },
  {
   "cell_type": "code",
   "execution_count": null,
   "metadata": {},
   "outputs": [],
   "source": [
    "#read in tips data\n",
    "tips = pd.read_csv(path + 'Lessons/SampleData/tips.csv')\n",
    "\n",
    "# preview tips\n"
   ]
  },
  {
   "cell_type": "markdown",
   "metadata": {},
   "source": [
    "We want to calculate the correlations of `total_bill`, `tip` and `size`. Since we are getting the correlations for three variables, what size do we expect the resulting **correlation matrix** to be?\n",
    "\n",
    "**ANSWER**: 3 x 3 matrix"
   ]
  },
  {
   "cell_type": "code",
   "execution_count": null,
   "metadata": {},
   "outputs": [],
   "source": [
    "# create correlation matrix for total_bill, tip and size\n",
    "# HINT: what parameter do we need to use when our observations are along the rows?\n",
    "\n",
    "\n",
    "# print correlations\n",
    "\n"
   ]
  },
  {
   "cell_type": "markdown",
   "metadata": {},
   "source": [
    "Which two variables have the strongest correlation?\n",
    "\n",
    "\n",
    "\n",
    "Which two variables have the weakest correlation?\n",
    "\n"
   ]
  },
  {
   "cell_type": "markdown",
   "metadata": {},
   "source": [
    "**CHALLENGE**: What if these relationships are different between lunch and dinner? Create two subsets of tips for the lunch and dinner times and repeat the correlation analysis."
   ]
  },
  {
   "cell_type": "code",
   "execution_count": null,
   "metadata": {},
   "outputs": [],
   "source": [
    "# create two subsets of tips, one for lunch and one for dinner\n",
    "\n",
    "\n",
    "# compute the correlation matrix for each of the data subsets you created\n",
    "\n",
    "\n",
    "\n",
    "#print the correlations\n",
    "\n"
   ]
  },
  {
   "cell_type": "markdown",
   "metadata": {},
   "source": [
    "What do you notice when you compare the results between the different times of day? \n",
    "\n",
    "\n",
    "Do you have a *hypothesis* for why this might be? \n",
    "*HINT*: Does it have to do with a difference in the amount people generally spend for those meals? Or maybe the number of *samples* we have for each condition (i.e. meal time)? \n",
    "\n",
    "How could you test those hypotheses?"
   ]
  },
  {
   "cell_type": "code",
   "execution_count": null,
   "metadata": {},
   "outputs": [],
   "source": [
    "# find the average meal price for each meal time\n",
    "\n",
    "\n",
    "\n",
    "# find the number of samples we have for each meal time\n",
    "# HINT: use len()\n",
    "\n"
   ]
  },
  {
   "cell_type": "markdown",
   "metadata": {},
   "source": [
    "What do you notice here? When we look at the *sample size*, we find that we have a lot fewer *samples* from the lunch shift compared to the dinner shift. When our sample size is smaller, this means that each individual sample contributes more to our final statistic, here correlation. Also, we see that the average meal price is lower for lunch as well. Both of these differences are things we must consider when comparing the correlations of these two sets."
   ]
  },
  {
   "cell_type": "markdown",
   "metadata": {
    "colab_type": "text",
    "id": "w8OatONg9qZQ"
   },
   "source": [
    "Nice job! You just practiced:\n",
    "\n",
    "* Using statistical tests to determine if two groups are significantly different\n",
    "* Using correlations to determine the relationships between variables"
   ]
  }
 ],
 "metadata": {
  "colab": {
   "collapsed_sections": [],
   "name": "KEY_Practice17_Intro_Stats_III.ipynb",
   "provenance": [],
   "version": "0.3.2"
  },
  "kernelspec": {
   "display_name": "Python 3",
   "language": "python",
   "name": "python3"
  },
  "language_info": {
   "codemirror_mode": {
    "name": "ipython",
    "version": 3
   },
   "file_extension": ".py",
   "mimetype": "text/x-python",
   "name": "python",
   "nbconvert_exporter": "python",
   "pygments_lexer": "ipython3",
   "version": "3.7.3"
  }
 },
 "nbformat": 4,
 "nbformat_minor": 2
}

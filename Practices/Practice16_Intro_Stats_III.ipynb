{
 "cells": [
  {
   "cell_type": "markdown",
   "metadata": {
    "colab_type": "text",
    "id": "qrDyqOou9qYf"
   },
   "source": [
    "# Practice with Statistics (Part 3)!"
   ]
  },
  {
   "cell_type": "markdown",
   "metadata": {
    "colab_type": "text",
    "id": "bM7gHTuE9qYi"
   },
   "source": [
    "**Remember:**\n",
    "* Significance tests tell you the probability that a change happens purely by chance\n",
    "* A t-test is a significance test which compares *two groups*"
   ]
  },
  {
   "cell_type": "markdown",
   "metadata": {
    "colab_type": "text",
    "id": "l4uLzlrB9qYj"
   },
   "source": [
    "First, import numpy and pandas and the scipy statistical module:"
   ]
  },
  {
   "cell_type": "code",
   "execution_count": null,
   "metadata": {
    "colab": {},
    "colab_type": "code",
    "id": "lZ_fuvPO9qYk"
   },
   "outputs": [],
   "source": [
    "# load numpy and pandas and scipy.stats\n",
    "\n",
    "\n",
    "\n"
   ]
  },
  {
   "cell_type": "code",
   "execution_count": null,
   "metadata": {},
   "outputs": [],
   "source": [
    "# mount Google Drive\n",
    "from google.colab import drive\n",
    "drive.mount('/content/gdrive')\n",
    "path = '/content/gdrive/My Drive/SummerExperience-master/'"
   ]
  },
  {
   "cell_type": "markdown",
   "metadata": {
    "colab_type": "text",
    "id": "Lm9jz9Yw9qYo"
   },
   "source": [
    "Load in the sample data from the Lesson:"
   ]
  },
  {
   "cell_type": "code",
   "execution_count": null,
   "metadata": {
    "colab": {},
    "colab_type": "code",
    "id": "Yxv47Lsr9qYp"
   },
   "outputs": [],
   "source": [
    "# read the csv file: 'Lessons/SampleData/detroit_weather_2.csv'\n"
   ]
  },
  {
   "cell_type": "code",
   "execution_count": null,
   "metadata": {
    "colab": {},
    "colab_type": "code",
    "id": "iS5vt1s_9qYs"
   },
   "outputs": [],
   "source": [
    "# Print the `head` of the table to remind you of the format:\n"
   ]
  },
  {
   "cell_type": "code",
   "execution_count": null,
   "metadata": {
    "colab": {},
    "colab_type": "code",
    "id": "KpMbmmMw9qYz"
   },
   "outputs": [],
   "source": [
    "# Pick two decades that we didn't look at during the lesson\n",
    "# extract the temperatures into numpy arrays and print the arrays\n",
    "\n",
    "\n"
   ]
  },
  {
   "cell_type": "code",
   "execution_count": null,
   "metadata": {
    "colab": {},
    "colab_type": "code",
    "id": "Joqc_JFE9qY4"
   },
   "outputs": [],
   "source": [
    "# Calculate the means of your data to see if they differ\n"
   ]
  },
  {
   "cell_type": "code",
   "execution_count": null,
   "metadata": {
    "colab": {},
    "colab_type": "code",
    "id": "9PZa4UBg-7ov"
   },
   "outputs": [],
   "source": [
    "# Calculate the difference between the two means\n"
   ]
  },
  {
   "cell_type": "code",
   "execution_count": null,
   "metadata": {
    "colab": {},
    "colab_type": "code",
    "id": "afLJNvxB9qY9"
   },
   "outputs": [],
   "source": [
    "# Perform a t-test of these data to calculate the p-value\n"
   ]
  },
  {
   "cell_type": "markdown",
   "metadata": {
    "colab_type": "text",
    "id": "ojBn9HSA9qZD"
   },
   "source": [
    "Now, we will try using a different type of test, called an ANOVA (ANalysis Of VAriance) test. An ANOVA is similar to a t-test, but allows you to compare the variance of *multiple groups* in a single statistical test."
   ]
  },
  {
   "cell_type": "code",
   "execution_count": null,
   "metadata": {
    "colab": {},
    "colab_type": "code",
    "id": "u4KZlLsC9qZE"
   },
   "outputs": [],
   "source": [
    "# Create an array where each element is the temperatures from a different decade.\n",
    "\n",
    "\n",
    "\n",
    "\n",
    "\n",
    "\n",
    "\n"
   ]
  },
  {
   "cell_type": "code",
   "execution_count": null,
   "metadata": {
    "colab": {},
    "colab_type": "code",
    "id": "5Z6iVLVT9qZI"
   },
   "outputs": [],
   "source": [
    "# print the mean for each item in the list\n",
    "\n"
   ]
  },
  {
   "cell_type": "code",
   "execution_count": null,
   "metadata": {
    "colab": {},
    "colab_type": "code",
    "id": "L0COp4_L9qZL"
   },
   "outputs": [],
   "source": [
    "# Feed the items in your list into stats.f_oneway to perform an ANOVA test\n",
    "\n"
   ]
  },
  {
   "cell_type": "markdown",
   "metadata": {
    "colab_type": "text",
    "id": "WKa0kWJ99qZP"
   },
   "source": [
    "Since we are including a lot more data, this p value is much lower! We can conclude from this that the average temperature is changing over time more than what you would expect if it was truely random!"
   ]
  },
  {
   "cell_type": "markdown",
   "metadata": {
    "colab_type": "text",
    "id": "w8OatONg9qZQ"
   },
   "source": [
    "Nice job! You just practiced:\n",
    "\n",
    "    - Using statistical tests to determine if two groups are significantly different\n",
    "    - Using t-tests and ANOVA tests from the scientific python package"
   ]
  }
 ],
 "metadata": {
  "colab": {
   "collapsed_sections": [],
   "name": "Practice17_Intro_Stats_III.ipynb",
   "provenance": [],
   "version": "0.3.2"
  },
  "kernelspec": {
   "display_name": "Python 3",
   "language": "python",
   "name": "python3"
  },
  "language_info": {
   "codemirror_mode": {
    "name": "ipython",
    "version": 3
   },
   "file_extension": ".py",
   "mimetype": "text/x-python",
   "name": "python",
   "nbconvert_exporter": "python",
   "pygments_lexer": "ipython3",
   "version": "3.7.3"
  }
 },
 "nbformat": 4,
 "nbformat_minor": 2
}

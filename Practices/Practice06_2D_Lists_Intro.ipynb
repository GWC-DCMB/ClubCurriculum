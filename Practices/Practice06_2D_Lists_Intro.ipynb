{
 "cells": [
  {
   "cell_type": "markdown",
   "metadata": {},
   "source": [
    "# Practice with 2D lists!\n",
    "**Remember:**\n",
    "* Lists can be used to group different values together - it's just a collection of things.\n",
    "* You can make a list in Python by putting different things in a box of brackets `[]` separated by commas.\n",
    "* 2D lists are lists of lists\n",
    "\n",
    "First, make a list of land animals including cat, dog, elephant, and any other land animals you want to include. Store it in the variable `land`:"
   ]
  },
  {
   "cell_type": "code",
   "execution_count": 1,
   "metadata": {},
   "outputs": [],
   "source": [
    "# command Python to make a list of land animals including dog, cat, and elephant. Store it in land\n",
    "\n",
    "\n",
    "# command Python to print land\n"
   ]
  },
  {
   "cell_type": "markdown",
   "metadata": {},
   "source": [
    "Second, make a list of aquatic animals including fish, seahorse, and whale. Store it in the variable `aquatic`:"
   ]
  },
  {
   "cell_type": "code",
   "execution_count": 2,
   "metadata": {},
   "outputs": [],
   "source": [
    "# command Python to make a list of aquatic animals including fish, seahorse, and whale. Store it in aquatic\n",
    "\n",
    "\n",
    "# command Python to print aquatic\n"
   ]
  },
  {
   "cell_type": "markdown",
   "metadata": {},
   "source": [
    "How many things are in your `land` list? How about your `aquatic` list?"
   ]
  },
  {
   "cell_type": "code",
   "execution_count": 3,
   "metadata": {},
   "outputs": [],
   "source": [
    "# command Python to print the length of land\n",
    "\n",
    "\n",
    "# command Python to print the length of aquatic\n",
    "\n"
   ]
  },
  {
   "cell_type": "markdown",
   "metadata": {},
   "source": [
    "Okay, time to make a 2D list! Combine `land` and `aquatic` into a 2D list called `animals`:"
   ]
  },
  {
   "cell_type": "code",
   "execution_count": 4,
   "metadata": {},
   "outputs": [],
   "source": [
    "# command Python to make a 2D list of animals that contains land and aquatic\n",
    "\n",
    "\n",
    "# command Python to print animals\n"
   ]
  },
  {
   "cell_type": "markdown",
   "metadata": {},
   "source": [
    "Now, create another list called `air` and include robin, cardinal, and bat."
   ]
  },
  {
   "cell_type": "code",
   "execution_count": 5,
   "metadata": {
    "collapsed": true
   },
   "outputs": [],
   "source": [
    "# command Python to make a list called air\n"
   ]
  },
  {
   "cell_type": "markdown",
   "metadata": {},
   "source": [
    "Add air to your 2D `animals` list."
   ]
  },
  {
   "cell_type": "code",
   "execution_count": 6,
   "metadata": {},
   "outputs": [],
   "source": [
    "# command Python to add air to your animals list \n",
    "\n",
    "\n",
    "# command Python to print animals\n",
    "\n",
    "\n",
    "# command Python to find the length of animals\n"
   ]
  },
  {
   "cell_type": "markdown",
   "metadata": {},
   "source": [
    "**Challenge:** Make a 2D list of numbers from 1 to 20 where the odd numbers are in the first list `odd` and the even numbers are in the second list `even`"
   ]
  },
  {
   "cell_type": "code",
   "execution_count": 8,
   "metadata": {},
   "outputs": [],
   "source": [
    "# make 2D list of numbers\n",
    "\n",
    "\n",
    "\n",
    "# print out 2D list of numbers to see if you did it right!\n"
   ]
  },
  {
   "cell_type": "markdown",
   "metadata": {},
   "source": [
    "Now add your `animals` list and your `numbers` list together, print it out, and find the length!"
   ]
  },
  {
   "cell_type": "code",
   "execution_count": 7,
   "metadata": {},
   "outputs": [],
   "source": [
    "# add your animals list and your numbers list together\n",
    "\n",
    "# print new list\n",
    "\n",
    "\n",
    "# find length of new list\n",
    "\n"
   ]
  },
  {
   "cell_type": "markdown",
   "metadata": {},
   "source": [
    "Nice job! You just practiced:\n",
    "* Making a 2D list (a list of lists)\n",
    "* Finding the length of a 2D list (len)\n",
    "* Adding 2D lists together (+)\n",
    "* Adding things to a 2D list (.append)"
   ]
  }
 ],
 "metadata": {
  "kernelspec": {
   "display_name": "Python 3",
   "language": "python",
   "name": "python3"
  },
  "language_info": {
   "codemirror_mode": {
    "name": "ipython",
    "version": 3
   },
   "file_extension": ".py",
   "mimetype": "text/x-python",
   "name": "python",
   "nbconvert_exporter": "python",
   "pygments_lexer": "ipython3",
   "version": "3.7.3"
  }
 },
 "nbformat": 4,
 "nbformat_minor": 2
}

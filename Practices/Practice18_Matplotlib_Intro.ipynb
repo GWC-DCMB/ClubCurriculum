{
 "cells": [
  {
   "cell_type": "markdown",
   "metadata": {},
   "source": [
    "# Practice: Matplotlib Introduction\n",
    "\n",
    "Data science techniques can be applied to any field to extract knowledge and insights from data. thruoghout this practice we are going to use plotting to make a data-driven decision in finance. Yay!\n",
    "\n",
    "First, import `matplotlib` and `pandas`."
   ]
  },
  {
   "cell_type": "code",
   "execution_count": 1,
   "metadata": {},
   "outputs": [],
   "source": [
    "# load packages\n"
   ]
  },
  {
   "cell_type": "markdown",
   "metadata": {},
   "source": [
    "Now let's load `stock_price_24months` dataset using pandas"
   ]
  },
  {
   "cell_type": "code",
   "execution_count": 2,
   "metadata": {},
   "outputs": [],
   "source": [
    "# load stock_price_24months datast and assign it to a variable called stock_price\n",
    "# print stock_price to get a better sence of data\n"
   ]
  },
  {
   "cell_type": "markdown",
   "metadata": {},
   "source": [
    "This dataset contains the stock price of 3 social media companies over the first 24 months after their Initial Public Offering (IPO). Basically, IPO refers to the time that a company goes public which means its stocks is publicly traded.\n",
    "\n",
    "Have you ever used snapchat? Do you think it had a successful IPO? Let's see what data says! "
   ]
  },
  {
   "cell_type": "code",
   "execution_count": 3,
   "metadata": {},
   "outputs": [],
   "source": [
    "# make a line graph that shows Snap's month_from_IPO on the x-axis and the corresponding stock_price on the y-axis. \n",
    "# add square shape markers to the plot\n",
    "# change the color of the plot to red\n",
    "# add the title \"Snap Inc. Stock Price\" \n",
    "# label the x- and y-axes \"Time from IPO (Month)\" and \"Stock Price ($)\" respectively\n"
   ]
  },
  {
   "cell_type": "markdown",
   "metadata": {},
   "source": [
    "The most exciting part about plotting data is its interpretation! Let's work on that together!\n",
    "\n",
    "Snap went puplic on March 2, 2017. Based on the above plot, Snap stock lost about 65% of its initial value over the first 2 years afte IPO. One possible explanation is that Snap's business model was not well-established when it went public, which means it was losing money at the time of IPO. Even today, Snap is spending more money than what it gains from Adds! \n",
    "\n",
    "Next, we will explore Facebook stock price. "
   ]
  },
  {
   "cell_type": "code",
   "execution_count": 4,
   "metadata": {},
   "outputs": [],
   "source": [
    "# make a line graph that shows Facebook's month_from_IPO on the x-axis and the corresponding stock_price on the y-axis. \n",
    "# add star shape markers to the plot\n",
    "# change the color of the plot to green\n",
    "# add proper labels/title\n"
   ]
  },
  {
   "cell_type": "markdown",
   "metadata": {},
   "source": [
    "Facebook went public on May 18, 2012. Unlike Snap, Facebook was profitable when it went public! It justifies the overall incresing trend that you see in the above plot!\n",
    "\n",
    "Finally, we'll look at Twitter's stock price. Twitter went public on Nov. 7, 2013, about 1 year and a half after Facebook!"
   ]
  },
  {
   "cell_type": "code",
   "execution_count": 5,
   "metadata": {},
   "outputs": [],
   "source": [
    "# make a line graph that shows Twitter's month_from_IPO on the x-axis and the corresponding stock_price on the y-axis. \n",
    "# add labels/title/marker\n"
   ]
  },
  {
   "cell_type": "markdown",
   "metadata": {},
   "source": [
    "By looking at the above plot we notice that Twitter stock lost value over the first two years of its public trading. Considering this fact, can you make any conclusion about Twitter's profitability? \n",
    "\n",
    "Great job! You just practiced: \n",
    "* creating line graphs\n",
    "* adding labels/title/market to the plot\n",
    "* using plot to gain insight into data and its interpretation"
   ]
  },
  {
   "cell_type": "code",
   "execution_count": null,
   "metadata": {},
   "outputs": [],
   "source": []
  }
 ],
 "metadata": {
  "kernelspec": {
   "display_name": "Python 3",
   "language": "python",
   "name": "python3"
  },
  "language_info": {
   "codemirror_mode": {
    "name": "ipython",
    "version": 3
   },
   "file_extension": ".py",
   "mimetype": "text/x-python",
   "name": "python",
   "nbconvert_exporter": "python",
   "pygments_lexer": "ipython3",
   "version": "3.7.1"
  }
 },
 "nbformat": 4,
 "nbformat_minor": 2
}

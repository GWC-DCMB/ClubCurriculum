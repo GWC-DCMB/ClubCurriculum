{
 "cells": [
  {
   "cell_type": "markdown",
   "metadata": {},
   "source": [
    "# Practice: Histograms and Bar Charts\n",
    "\n",
    "### Histograms\n",
    "Start by importing the packages you'll be needing. We will be loading in some datasets from the `seaborn` package, so be sure to import that as well."
   ]
  },
  {
   "cell_type": "code",
   "execution_count": 79,
   "metadata": {},
   "outputs": [],
   "source": [
    "# import needed packages (numpy, matplotlib.pyplot, seaborn)\n",
    "# don't forget the command you need for showings plots within the notebook\n",
    "import numpy as np\n",
    "import matplotlib.pyplot as plt\n",
    "%matplotlib inline\n",
    "import seaborn"
   ]
  },
  {
   "cell_type": "code",
   "execution_count": 80,
   "metadata": {},
   "outputs": [],
   "source": [
    "# import the flights and titanic datasets from seaborn\n",
    "flights = seaborn.load_dataset(\"flights\")\n",
    "titanic = seaborn.load_dataset(\"titanic\")\n"
   ]
  },
  {
   "cell_type": "code",
   "execution_count": 1,
   "metadata": {},
   "outputs": [],
   "source": [
    "# plot a histogram of the passengers variable from the flights dataset\n",
    "# dont forget your axis labels and titles!\n",
    "\n",
    "\n"
   ]
  },
  {
   "cell_type": "code",
   "execution_count": 3,
   "metadata": {},
   "outputs": [],
   "source": [
    "# play with the bins parameter to get a better idea of the disitribution\n",
    "\n",
    "\n"
   ]
  },
  {
   "cell_type": "code",
   "execution_count": 4,
   "metadata": {},
   "outputs": [],
   "source": [
    "# Now change the plot to show \n",
    "\n",
    "\n"
   ]
  },
  {
   "cell_type": "markdown",
   "metadata": {},
   "source": [
    "### Bar Charts"
   ]
  },
  {
   "cell_type": "code",
   "execution_count": 5,
   "metadata": {},
   "outputs": [],
   "source": [
    "# plot a bar chart of class vs fare in the titanic dataset\n",
    "# don't forget your labels and title!\n",
    "\n"
   ]
  },
  {
   "cell_type": "markdown",
   "metadata": {},
   "source": [
    "Does this plot look as we would expect? Probably not. First, the classes are not in a logical order - we want them to go from least to most. Second, look at the y-axis - what is being plotted here?\n",
    "\n",
    "When we try to map several rows of values in our pandas dataframe to a single x-axis variable in our bar chart, python automatically plots the **sum** of the y-axis value. This can be useful in some cases, but in our case it probably makes more sense to compare the **means** of the fares across our three passenger class groups. \n",
    "\n",
    "Let's work to solve these problems."
   ]
  },
  {
   "cell_type": "code",
   "execution_count": 7,
   "metadata": {},
   "outputs": [],
   "source": [
    "# create a vector mean_fares of the mean fare price for each of our passenger class groups\n",
    "# HINT 1: think back to our lesson in subsetting dataframes in pandas\n",
    "# HINT 2: for the first class value, we want to apply the np.mean() function on titanic['fare'] WHERE titanic['class'] equals 'First'\n",
    "# HINT 3: be sure to add the values to the vector in the proper order\n",
    "\n",
    "\n",
    "\n",
    "\n",
    "# create a vector class_names with our class names in the proper order\n",
    "\n",
    "\n",
    "# create vector idxs with the numeric x-index values\n",
    "# HINT: look back to lesson if you dont remember how to get this\n",
    "\n"
   ]
  },
  {
   "cell_type": "markdown",
   "metadata": {},
   "source": [
    "Now, let's compare the mean fare price per group between men and women. From the lesson, we know the best way to plot this is to plot the male and female bars next to eachother on the same graph. "
   ]
  },
  {
   "cell_type": "code",
   "execution_count": 8,
   "metadata": {},
   "outputs": [],
   "source": [
    "# create a vector mean_fares_m of the mean fare price for men for each of our passenger class groups\n",
    "# HINT: to subset by two colums we do the following:\n",
    "#         df['column1'][(df['column2'] == 1) & (df['column3'] == 'a')]\n",
    "# this reads: grab column1 FROM df WHERE column2 equals 1 AND column3 equals 'a'\n",
    "\n",
    "\n",
    "\n",
    "# create a vector mean_fares_f using the same strategy\n",
    "\n",
    "\n",
    "\n",
    "\n",
    "# create variable that sets the width of each bar\n",
    "\n",
    "\n",
    "\n",
    "# plot mens bars on left side of the x-tick\n",
    "# change color to 'SkyBlue'\n",
    "# add appropriate label \n",
    "\n",
    "\n",
    "# plot womens bars on the right side of the x-tick\n",
    "# change color to 'Pink'\n",
    "# add appropriate label\n",
    "\n",
    "\n"
   ]
  },
  {
   "cell_type": "markdown",
   "metadata": {},
   "source": [
    "**CHALLENGE**:"
   ]
  },
  {
   "cell_type": "code",
   "execution_count": 9,
   "metadata": {},
   "outputs": [],
   "source": [
    "\n",
    "# compute standard deviation for both the male and female fares in each class\n",
    "\n",
    "\n",
    "\n",
    "# reproduce the bar plot from above with error bars corresponding to these standard deviations\n",
    "\n"
   ]
  },
  {
   "cell_type": "code",
   "execution_count": null,
   "metadata": {},
   "outputs": [],
   "source": []
  }
 ],
 "metadata": {
  "kernelspec": {
   "display_name": "Python 3",
   "language": "python",
   "name": "python3"
  },
  "language_info": {
   "codemirror_mode": {
    "name": "ipython",
    "version": 3
   },
   "file_extension": ".py",
   "mimetype": "text/x-python",
   "name": "python",
   "nbconvert_exporter": "python",
   "pygments_lexer": "ipython3",
   "version": "3.7.3"
  }
 },
 "nbformat": 4,
 "nbformat_minor": 2
}

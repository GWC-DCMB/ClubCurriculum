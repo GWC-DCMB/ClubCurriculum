{
 "cells": [
  {
   "cell_type": "markdown",
   "metadata": {},
   "source": [
    "# Practice with packages!\n",
    "**Remember:**\n",
    "* Functions and methods take an input, do something with the input, and return an output\n",
    "* Functions can take arguments that modify the output of the function\n",
    "* Methods are specific to ceratin object types\n",
    "* Packages are collections of functions"
   ]
  },
  {
   "cell_type": "markdown",
   "metadata": {},
   "source": [
    "First, we have to import numpy:"
   ]
  },
  {
   "cell_type": "code",
   "execution_count": 3,
   "metadata": {
    "collapsed": true
   },
   "outputs": [],
   "source": [
    "# command Python to import numpy\n"
   ]
  },
  {
   "cell_type": "markdown",
   "metadata": {},
   "source": [
    "Now, let's use a numpy function to get random numbers from a normal distribution (the bell curve):"
   ]
  },
  {
   "cell_type": "code",
   "execution_count": 4,
   "metadata": {},
   "outputs": [
    {
     "name": "stdout",
     "output_type": "stream",
     "text": [
      "[-1.98109433  0.4853873  -0.36403664 -0.59780583  0.11605985 -0.03363619\n",
      "  0.07866253 -0.91272715 -0.17107551 -0.18762688  1.72405448  1.45011427\n",
      "  1.78252183  0.33430701 -0.65456432 -0.75685282  0.6597416   0.31665978\n",
      " -0.89478975  0.32167438  1.04937506 -1.22575797 -0.53536782 -0.95484705\n",
      " -1.18471148  0.39326952 -1.46043887 -0.6158524  -1.38622398 -0.08476239\n",
      "  0.57103784 -0.14290417  0.18075371 -0.57931388 -0.4811223   0.29952178\n",
      "  0.13634213 -1.45821198  1.78125784 -0.53211864 -0.29532649 -0.29276986\n",
      " -0.76170962  1.53848684  0.73173305  0.98371082  0.11150598  0.19433927\n",
      "  0.61764708 -0.61203466  0.78981514  1.20223429 -0.54208152  1.43198106\n",
      " -1.22629638 -0.08341935 -0.54551049 -1.2069043   1.57210211  0.56053829\n",
      " -0.49348377 -1.30353089 -1.49432984 -0.21690586  0.22141386 -2.04985595\n",
      " -0.30441259 -0.28774625 -0.1676908   0.54576933  1.38548911  0.91838077\n",
      "  0.72278218 -0.15393092  0.44084172 -0.53292331  2.05202604  0.5367207\n",
      "  0.14334344  1.24721102  0.05624625  1.21329156 -0.37585477  0.87407453\n",
      "  0.077182    0.01630437 -1.28277667  1.50258788  0.5081215   0.56175126\n",
      " -1.52339389 -0.87791018 -0.26059344 -1.01913706 -0.67304061  0.08005055\n",
      "  0.05590601  0.7575128   0.4455546  -1.14128694]\n"
     ]
    }
   ],
   "source": [
    "# use np.random.normal to get random numbers from a normal distribution\n",
    "# the 0 is the mean of the distribution and the 1 is the standard deviation. the 100 is the number of samples\n",
    "numbers = np.random.normal(0, 1, 100)\n",
    "\n",
    "# print numbers\n",
    "print(numbers)"
   ]
  },
  {
   "cell_type": "markdown",
   "metadata": {},
   "source": [
    "How many elements are in `numbers`?"
   ]
  },
  {
   "cell_type": "code",
   "execution_count": null,
   "metadata": {
    "collapsed": true
   },
   "outputs": [],
   "source": [
    "# get the number of elements in numbers\n"
   ]
  },
  {
   "cell_type": "markdown",
   "metadata": {},
   "source": [
    "What is the mean of numbers?"
   ]
  },
  {
   "cell_type": "code",
   "execution_count": null,
   "metadata": {
    "collapsed": true
   },
   "outputs": [],
   "source": [
    "# command Python to get the mean of numbers\n"
   ]
  },
  {
   "cell_type": "markdown",
   "metadata": {},
   "source": [
    "Get the absolute value of numbers and save it to abs_num:"
   ]
  },
  {
   "cell_type": "code",
   "execution_count": null,
   "metadata": {
    "collapsed": true
   },
   "outputs": [],
   "source": [
    "# command Python to get the absolute value of numbers\n",
    "\n",
    "# print abs_num\n"
   ]
  },
  {
   "cell_type": "markdown",
   "metadata": {},
   "source": [
    "What is the mean of `abs_num`?"
   ]
  },
  {
   "cell_type": "code",
   "execution_count": null,
   "metadata": {
    "collapsed": true
   },
   "outputs": [],
   "source": [
    "# command Python to print the mean of abs_num\n"
   ]
  },
  {
   "cell_type": "markdown",
   "metadata": {},
   "source": [
    "Now, let's sort `numbers`:"
   ]
  },
  {
   "cell_type": "code",
   "execution_count": null,
   "metadata": {
    "collapsed": true
   },
   "outputs": [],
   "source": [
    "# sort numbers\n",
    "\n",
    "# print numbers\n"
   ]
  },
  {
   "cell_type": "markdown",
   "metadata": {
    "collapsed": true
   },
   "source": [
    "Now let's round numbers so each element has 2 decimal places:"
   ]
  },
  {
   "cell_type": "code",
   "execution_count": null,
   "metadata": {
    "collapsed": true
   },
   "outputs": [],
   "source": [
    "# command Python to round all elements in numbers to 2 decimal places\n"
   ]
  },
  {
   "cell_type": "markdown",
   "metadata": {},
   "source": [
    "**Challenge:** Get the square root of the `abs_num` function. Save this to sqrt_abs_num. *Hint:* Use the function `sqrt` in the numpy package."
   ]
  },
  {
   "cell_type": "code",
   "execution_count": null,
   "metadata": {
    "collapsed": true
   },
   "outputs": [],
   "source": [
    "# command Python to get the square root of the numbers in abs_num\n",
    "\n",
    "# print sqrt_abs_num\n"
   ]
  },
  {
   "cell_type": "markdown",
   "metadata": {},
   "source": [
    "What is the max of the square roots? The min?"
   ]
  },
  {
   "cell_type": "code",
   "execution_count": null,
   "metadata": {
    "collapsed": true
   },
   "outputs": [],
   "source": [
    "# print the max of the square roots\n",
    "\n",
    "# print the min of the square roots\n"
   ]
  },
  {
   "cell_type": "markdown",
   "metadata": {},
   "source": [
    "Nice job! You just practiced:\n",
    "    - Importing packages in Pyton\n",
    "    - Using functions in packages\n",
    "    - Saving things to variables\n",
    "    - Doing math with numpy"
   ]
  }
 ],
 "metadata": {
  "kernelspec": {
   "display_name": "Python 3",
   "language": "python",
   "name": "python3"
  },
  "language_info": {
   "codemirror_mode": {
    "name": "ipython",
    "version": 3
   },
   "file_extension": ".py",
   "mimetype": "text/x-python",
   "name": "python",
   "nbconvert_exporter": "python",
   "pygments_lexer": "ipython3",
   "version": "3.6.1"
  }
 },
 "nbformat": 4,
 "nbformat_minor": 2
}

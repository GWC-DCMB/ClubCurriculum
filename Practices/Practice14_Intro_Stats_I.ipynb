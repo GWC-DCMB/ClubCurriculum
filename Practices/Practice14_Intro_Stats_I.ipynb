{
 "cells": [
  {
   "cell_type": "markdown",
   "metadata": {
    "colab_type": "text",
    "id": "ULHxKZ2Tx-DJ"
   },
   "source": [
    "# Practice with Statistics!"
   ]
  },
  {
   "cell_type": "markdown",
   "metadata": {
    "colab_type": "text",
    "id": "ryaTRMrFx-DL"
   },
   "source": [
    "**Remember:**\n",
    "* The mean of an array can be calculated by `np.mean` and medians can be calculated with `np.mean`.\n",
    "* Means and medians are different types of central tendancy measures, which tell you about how the average of a dataset behaves."
   ]
  },
  {
   "cell_type": "markdown",
   "metadata": {
    "colab_type": "text",
    "id": "QO4wgWSzx-DM"
   },
   "source": [
    "First, import numpy and pandas:"
   ]
  },
  {
   "cell_type": "code",
   "execution_count": null,
   "metadata": {
    "colab": {},
    "colab_type": "code",
    "id": "2a_Ktj8dx-DM"
   },
   "outputs": [],
   "source": [
    "# load numpy and pandas\n"
   ]
  },
  {
   "cell_type": "code",
   "execution_count": null,
   "metadata": {},
   "outputs": [],
   "source": [
    "# mount Google Drive\n",
    "from google.colab import drive\n",
    "drive.mount('/content/gdrive')\n",
    "path = '/content/gdrive/My Drive/SummerExperience-master/'"
   ]
  },
  {
   "cell_type": "markdown",
   "metadata": {
    "colab_type": "text",
    "id": "n22EbBiDx-DT"
   },
   "source": [
    "Load in the sample data from the Lesson:"
   ]
  },
  {
   "cell_type": "code",
   "execution_count": null,
   "metadata": {
    "colab": {},
    "colab_type": "code",
    "id": "QWxVPc7kx-DV"
   },
   "outputs": [],
   "source": [
    "# load the csv file 'Lessons/SampleData/iris.csv'\n"
   ]
  },
  {
   "cell_type": "markdown",
   "metadata": {
    "colab_type": "text",
    "id": "XjG4hRKqx-DY"
   },
   "source": [
    "Now print out the table to see what other columns you can look at for practice:"
   ]
  },
  {
   "cell_type": "code",
   "execution_count": null,
   "metadata": {
    "colab": {},
    "colab_type": "code",
    "id": "JhYKTJJCx-DZ"
   },
   "outputs": [],
   "source": [
    "# Print the data_table array\n"
   ]
  },
  {
   "cell_type": "markdown",
   "metadata": {
    "colab_type": "text",
    "id": "rvjs85u0x-Dh"
   },
   "source": [
    "Pick one of the metrics other than `sepal_length` and subset it into three different numpy arrays, one for each species ('setosa', 'versicolor', and 'virginica'):"
   ]
  },
  {
   "cell_type": "code",
   "execution_count": null,
   "metadata": {
    "colab": {},
    "colab_type": "code",
    "id": "9wn2SA2nx-Di"
   },
   "outputs": [],
   "source": [
    "# Load one of the parameters above into three numpy arrays, based on species\n",
    "# Hint, you can use the pandas query function to filter the arrays\n",
    "\n",
    "\n",
    "\n",
    "\n"
   ]
  },
  {
   "cell_type": "markdown",
   "metadata": {
    "colab_type": "text",
    "id": "LxojyoPox-Dl"
   },
   "source": [
    "Calculate the means of each of the species arrays:"
   ]
  },
  {
   "cell_type": "code",
   "execution_count": null,
   "metadata": {
    "colab": {},
    "colab_type": "code",
    "id": "t3zcnQc6x-Dm"
   },
   "outputs": [],
   "source": [
    "# Calculate the means of the three arrays you generated above\n",
    "\n",
    "\n",
    "\n"
   ]
  },
  {
   "cell_type": "markdown",
   "metadata": {
    "colab_type": "text",
    "id": "8Ah510e0x-Dq"
   },
   "source": [
    "Calculate the medians of each of the species arrays:"
   ]
  },
  {
   "cell_type": "code",
   "execution_count": null,
   "metadata": {
    "colab": {},
    "colab_type": "code",
    "id": "WsFNOdBix-Dr"
   },
   "outputs": [],
   "source": [
    "# Calculate the medians of the three arrays you generated above:\n",
    "\n",
    "\n",
    "\n"
   ]
  },
  {
   "cell_type": "markdown",
   "metadata": {
    "colab_type": "text",
    "id": "owj-Da1Sx-Dv"
   },
   "source": [
    "Compare the means and medians for each of the species, are the means and medians similar to each other? Do different species have different means?"
   ]
  },
  {
   "cell_type": "code",
   "execution_count": null,
   "metadata": {
    "colab": {},
    "colab_type": "code",
    "id": "EkdWPFmtx-Dw"
   },
   "outputs": [],
   "source": [
    "# Calculate the differences between the means you calculated above:\n",
    "\n",
    "\n",
    "\n",
    "\n"
   ]
  },
  {
   "cell_type": "markdown",
   "metadata": {
    "colab_type": "text",
    "id": "UnZSp5ZAx-D0"
   },
   "source": [
    "Based on this result, what can you *infer* about each of the three iris species in our dataset? \n",
    "\n",
    "Nice job! You just practiced:\n",
    "\n",
    "* Calculating mean and medians using numpy\n",
    "* Intepreting the results from these basic statistics"
   ]
  }
 ],
 "metadata": {
  "colab": {
   "collapsed_sections": [],
   "name": "Practice15_Intro_Stats_I.ipynb",
   "provenance": [],
   "version": "0.3.2"
  },
  "kernelspec": {
   "display_name": "Python 3",
   "language": "python",
   "name": "python3"
  },
  "language_info": {
   "codemirror_mode": {
    "name": "ipython",
    "version": 3
   },
   "file_extension": ".py",
   "mimetype": "text/x-python",
   "name": "python",
   "nbconvert_exporter": "python",
   "pygments_lexer": "ipython3",
   "version": "3.7.3"
  }
 },
 "nbformat": 4,
 "nbformat_minor": 2
}

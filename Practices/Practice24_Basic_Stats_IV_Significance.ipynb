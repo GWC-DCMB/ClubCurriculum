{
 "cells": [
  {
   "cell_type": "markdown",
   "metadata": {},
   "source": [
    "# Practice:  Statistical Significance"
   ]
  },
  {
   "cell_type": "markdown",
   "metadata": {},
   "source": [
    "Let's continue to work with the diabetes dataset to apply a t-test or an ANOVA test to real world data."
   ]
  },
  {
   "cell_type": "code",
   "execution_count": null,
   "metadata": {
    "collapsed": true
   },
   "outputs": [],
   "source": [
    "# Import pandas, so that we can import the diabetes dataset and work with the data frame version of this data\n",
    "import pandas as pd"
   ]
  },
  {
   "cell_type": "code",
   "execution_count": null,
   "metadata": {
    "collapsed": true
   },
   "outputs": [],
   "source": [
    "# Set the path\n",
    "path = 'https://raw.githubusercontent.com/GWC-DCMB/ClubCurriculum/master/'\n",
    "# This is where the file is located\n",
    "filename = path + 'SampleData/diabetes.csv'"
   ]
  },
  {
   "cell_type": "code",
   "execution_count": null,
   "metadata": {
    "collapsed": true
   },
   "outputs": [],
   "source": [
    "# Load the diabetes dataset into a DataFrame\n",
    "diabetes_df = pd.read_csv(filename)\n",
    "diabetes_df"
   ]
  },
  {
   "cell_type": "markdown",
   "metadata": {},
   "source": [
    "# Problem A"
   ]
  },
  {
   "cell_type": "markdown",
   "metadata": {},
   "source": [
    "For our first problem, we are interested in understanding whether there are differences in LDL levels (the \"bad\" cholesterol) by sex, i.e. are LDL levels different for males vs. females?"
   ]
  },
  {
   "cell_type": "markdown",
   "metadata": {},
   "source": [
    "**1. Formulate the null hypothesis and the alternative hypothesis.**\n",
    "- **Null hypothesis**: There is NO difference in LDL levels between male and female. \n",
    "- **Alternative hypothesis**: There is a difference in LDL levels by sex. "
   ]
  },
  {
   "cell_type": "code",
   "execution_count": null,
   "metadata": {
    "collapsed": true
   },
   "outputs": [],
   "source": [
    "# Import numpy \n",
    "import numpy as np"
   ]
  },
  {
   "cell_type": "markdown",
   "metadata": {},
   "source": [
    "Males are indicated by \"1\" for the variable \"SEX\", while females are indicated by \"2\"."
   ]
  },
  {
   "cell_type": "code",
   "execution_count": null,
   "metadata": {
    "collapsed": true
   },
   "outputs": [],
   "source": [
    "# Define a vector of the LDL levels for males and name it ldl_male\n",
    "\n",
    "# Define a vector of the LDL levels for females and name it ldl_female\n"
   ]
  },
  {
   "cell_type": "markdown",
   "metadata": {},
   "source": [
    "**2. Identify and compute a test statistic that can be used to reject or fail to reject the null hypothesis.**\n"
   ]
  },
  {
   "cell_type": "markdown",
   "metadata": {},
   "source": [
    "**3. Compute the test statistic and p-value.**"
   ]
  },
  {
   "cell_type": "code",
   "execution_count": null,
   "metadata": {
    "collapsed": true
   },
   "outputs": [],
   "source": [
    "# Import stats methods to help calculate the t-statistic and p-value\n",
    "from scipy import stats"
   ]
  },
  {
   "cell_type": "code",
   "execution_count": null,
   "metadata": {
    "collapsed": true
   },
   "outputs": [],
   "source": [
    "# Run a Student's t-test\n"
   ]
  },
  {
   "cell_type": "markdown",
   "metadata": {},
   "source": [
    "**4. Compare the p-value to an acceptable significance value, $\\alpha$ and compare the test statistic to acceptable critical value(s)**. If p-value $\\leq \\alpha$ and the test-statistic $\\geq$ +critical value or test-statistic $\\leq$ -critical value, that the observed effect is statistically significant, the null hypothesis is rejected, and the alternative hypothesis is valid.**\n",
    "- p-value \n",
    "- t-statistic  \n",
    "- Interpretation:"
   ]
  },
  {
   "cell_type": "markdown",
   "metadata": {},
   "source": [
    "# Problem B"
   ]
  },
  {
   "cell_type": "markdown",
   "metadata": {},
   "source": [
    "For this next problem, we are interested in determining whether there are differences in LDL levels between underweight or normal, overweight, and obese samples. I combined underweight and normal weight participants into the same group, as there are only two underweight participants."
   ]
  },
  {
   "cell_type": "markdown",
   "metadata": {},
   "source": [
    "**1. Formulate the null hypothesis and the alternative hypothesis.**\n",
    "- **Null hypothesis**: There is NO difference in LDL levels among the underweight or normal, overweight, and obese samples or the BMI categories.\n",
    "- **Alternative hypothesis**: There is a difference in LDL levels by BMI categories. "
   ]
  },
  {
   "cell_type": "code",
   "execution_count": null,
   "metadata": {
    "collapsed": true
   },
   "outputs": [],
   "source": [
    "# Define a vector of LDL levels for underweight participants (BMI < 20)\n",
    "\n",
    "# Define a vector of LDL levels for overweighted participants (BMI >= 25 and BMI < 30)\n",
    "\n",
    "# Define a vector of LDL levels for obese participants (BMI >= 30)\n"
   ]
  },
  {
   "cell_type": "markdown",
   "metadata": {},
   "source": [
    "**2. Identify and compute a test statistic that can be used to fail to reject or reject the null hypothesis.**\n"
   ]
  },
  {
   "cell_type": "markdown",
   "metadata": {},
   "source": [
    "**3. Compute the test statistic and p-value.**"
   ]
  },
  {
   "cell_type": "code",
   "execution_count": null,
   "metadata": {
    "collapsed": true
   },
   "outputs": [],
   "source": [
    "# Run an ANOVA test\n"
   ]
  },
  {
   "cell_type": "code",
   "execution_count": null,
   "metadata": {
    "collapsed": true
   },
   "outputs": [],
   "source": [
    "# Total degree of freedom is sample size - 1 or N - 1. \n",
    "degree_freedom_total = diabetes_df.shape[0] - 1\n",
    "# When comparing between the groups, the degree of freedom is number of groups - 1 or k - 1.\n",
    "degree_freedom_between = 3 - 1\n",
    "# When comparing within the groups, the degree of freedom is sample size - number of groups or N - k.\n",
    "degree_freedom_within = diabetes_df.shape[0] - 3\n",
    "\n",
    "# Determine the critical value for the f-statistic\n",
    "critical_value_for_f_value = stats.f.ppf(q = 1 - 0.05, dfn = degree_freedom_between, dfd = degree_freedom_within)\n",
    "critical_value_for_f_value"
   ]
  },
  {
   "cell_type": "markdown",
   "metadata": {},
   "source": [
    "**4. Compare the p-value to an acceptable significance value, $\\alpha$ and compare the test statistic to acceptable critical value(s)**. If p-value $\\leq \\alpha$ and the f-statistic $\\geq$ critical value, that the observed effect is statistically significant, the null hypothesis is rejected, and the alternative hypothesis is valid.**\n",
    "- p-value \n",
    "- F-statistic \n",
    "- Interpretation: "
   ]
  },
  {
   "cell_type": "markdown",
   "metadata": {},
   "source": [
    "## Regressions"
   ]
  },
  {
   "cell_type": "markdown",
   "metadata": {},
   "source": [
    "**Definition**: **linear regression** is a linear approach to describe the relationship (or association) between an outcome (or dependent variable) and one or more explanatory (or independent variables). "
   ]
  },
  {
   "cell_type": "markdown",
   "metadata": {},
   "source": [
    "**Definition**: **simple linear regression** is the case of having only one explanatory or independent variable. "
   ]
  },
  {
   "cell_type": "markdown",
   "metadata": {},
   "source": [
    "Do you remember the equation for a line? \n",
    "$$y = mx+b$$"
   ]
  },
  {
   "cell_type": "markdown",
   "metadata": {},
   "source": [
    "where x is the independent variable, y is the dependent variable, m is the slope, and b is the intercept. "
   ]
  },
  {
   "cell_type": "markdown",
   "metadata": {},
   "source": [
    "Nice! One more thing before we run some code, regression models will provide us information on the statistical significance of the relationship between the dependent and independent variables. It will quantify the degree of association (or the effect size), which is also the slope. "
   ]
  },
  {
   "cell_type": "markdown",
   "metadata": {},
   "source": [
    "## Problem C"
   ]
  },
  {
   "cell_type": "markdown",
   "metadata": {},
   "source": [
    "Is there an association between LDL levels and disease progression? "
   ]
  },
  {
   "cell_type": "code",
   "execution_count": null,
   "metadata": {
    "collapsed": true
   },
   "outputs": [],
   "source": [
    "import statsmodels.api as sm"
   ]
  },
  {
   "cell_type": "code",
   "execution_count": null,
   "metadata": {
    "collapsed": true
   },
   "outputs": [],
   "source": [
    "# Define a matrix of an independent variable\n",
    "X = diabetes_df['LDL']\n",
    "# Add a column with a constant\n",
    "X = sm.add_constant(X)\n",
    "\n",
    "# Define the dependent variable\n",
    "y = diabetes_df['Y']\n",
    "\n",
    "# Note the difference in argument order\n",
    "model = sm.OLS(y, X).fit()\n",
    "\n",
    "# Print out the statistics\n",
    "model.summary()"
   ]
  },
  {
   "cell_type": "markdown",
   "metadata": {},
   "source": [
    "**\"coef\"** is the **regression coefficient** (or slope) and quantifies the association (or correlation) between the independent and dependent variables. \n",
    "- If the sign is +, then there is a positive association between the dependent and independent variables. As the independent variable increases, so will the dependent variable. \n",
    "- If the sign is -, then there is a negative association between the dependent and independent variables. As the independent variable increases, the dependent variable will decrease. \n",
    "- Is the association between LDL levels and disease progression positive or negative?\n",
    "    - **Answer**: \n",
    "    - **Interpretation**: For everyone one-unit increase in LDL levels, the disease progression will increase by 0.44. "
   ]
  },
  {
   "cell_type": "markdown",
   "metadata": {},
   "source": [
    "**\"t\"** is the **test statistic**. Do you remember the critical value for when the significance level is 0.05?\n",
    "- **Answer**: 1.96\n",
    "- So if the our calculated t-statistic is greater than 1.96 or less than -1.96, then the association is statistically significant.\n",
    "- Is the association between LDL levels and disease progression statistically significant?\n",
    "    - **Answer**: "
   ]
  },
  {
   "cell_type": "markdown",
   "metadata": {},
   "source": [
    "**P>|t|** is the **p-value**. So if the p-value < 0.05, then the association is statistically significant. \n",
    "- Using the p-value, is the association between LDL levels and disease progression statistically significant?\n",
    "    - **Answer**: "
   ]
  },
  {
   "cell_type": "markdown",
   "metadata": {},
   "source": [
    "For more information and codes on running regression models, please refer to this link:  https://towardsdatascience.com/simple-and-multiple-linear-regression-in-python-c928425168f9."
   ]
  },
  {
   "cell_type": "markdown",
   "metadata": {},
   "source": [
    "Congratulations on completing the lesson and practice! \n",
    "\n",
    "It's a lot of information, but you learned powerful tools to be on your way to answer your own research questions by analyzing real world data! "
   ]
  }
 ],
 "metadata": {
  "kernelspec": {
   "display_name": "Python 3",
   "language": "python",
   "name": "python3"
  },
  "language_info": {
   "codemirror_mode": {
    "name": "ipython",
    "version": 3
   },
   "file_extension": ".py",
   "mimetype": "text/x-python",
   "name": "python",
   "nbconvert_exporter": "python",
   "pygments_lexer": "ipython3",
   "version": "3.6.1"
  }
 },
 "nbformat": 4,
 "nbformat_minor": 2
}

{
 "cells": [
  {
   "cell_type": "markdown",
   "metadata": {},
   "source": [
    "# Prectice: line Graph and Scatter Plot\n",
    "\n",
    "### Line Graph\n",
    "\n",
    "Good news! Again, we are going to use line graphs to get insight into publicly traded stocks. But this time, we want to check out that investment in which of Google or Amazon would be more profitable over long or short run! \n",
    "\n",
    "First, import `matplotlib`, `pandas`, and `seaborn` packages"
   ]
  },
  {
   "cell_type": "code",
   "execution_count": 1,
   "metadata": {},
   "outputs": [],
   "source": [
    "# load packages\n"
   ]
  },
  {
   "cell_type": "code",
   "execution_count": null,
   "metadata": {},
   "outputs": [],
   "source": [
    "# mount Google Drive\n",
    "from google.colab import drive\n",
    "drive.mount('/content/gdrive')\n",
    "path = '/content/gdrive/My Drive/SummerExperience-master/'"
   ]
  },
  {
   "cell_type": "code",
   "execution_count": 2,
   "metadata": {},
   "outputs": [],
   "source": [
    "# load stock_price_15years datast and assign it to a variable called stock_price\n",
    "# print stock_price to get a better sence of data\n"
   ]
  },
  {
   "cell_type": "markdown",
   "metadata": {},
   "source": [
    "This dataset contains the avergae stock price of Google (Alphabet Inc.) and Amazon Inc. from 2005 to 2019 on a yearly basis. "
   ]
  },
  {
   "cell_type": "code",
   "execution_count": 3,
   "metadata": {},
   "outputs": [],
   "source": [
    "# make a line graph that shows year on the x-axis and the corresponding Google stock price on the y-axis\n",
    "# add labels/title/markers\n",
    "# rotate the x-axis text by 45 degrees \n"
   ]
  },
  {
   "cell_type": "markdown",
   "metadata": {},
   "source": [
    "Now, let's compare the average annual stock price between Amazon and Google. For that, overlay the two corresponding line graphs on the same plot."
   ]
  },
  {
   "cell_type": "code",
   "execution_count": 4,
   "metadata": {},
   "outputs": [],
   "source": [
    "# first, plot the Google's stock price \n",
    "# second, plot the Amazon's stock price  \n",
    "# rotate the x-axis text by 45 degrees \n",
    "# don't forget to add labels/title/marker/legends to the plot\n"
   ]
  },
  {
   "cell_type": "markdown",
   "metadata": {},
   "source": [
    "Are you excited to interpret the plot? \n",
    "\n",
    "In which year did the Amazon stock price surpass Google's stock price? \n",
    "\n",
    "In 2005 person A invested $1000 in Google's stock while person B invested the same amount of money in Amazon's stock. If both sell their stocks after 14 years (in 2019), which one would make more profit? \n",
    "\n",
    "How about the short-term investment? If both buy their stock in 2005 and sell them in 2006, which one would make more profit? \n",
    "\n",
    "### Scatter Plot\n",
    "\n",
    "From the lesson, we learned how to generate a scatter plot which shows the relation between two variables in multiple observations. Now, we want to use this type of plot to see the relationship between flowers' sepal length and width. "
   ]
  },
  {
   "cell_type": "code",
   "execution_count": 5,
   "metadata": {},
   "outputs": [],
   "source": [
    "# load \"iris\" dataset from seaborn package and assign it to a variable called iris\n",
    "# take a look at data\n"
   ]
  },
  {
   "cell_type": "code",
   "execution_count": 1,
   "metadata": {},
   "outputs": [],
   "source": [
    "# generate a scatter plot that shows the petal width variable along the x-axis\n",
    "# and the sepal width variable along the y-axis\n",
    "# add labels/title\n"
   ]
  },
  {
   "cell_type": "markdown",
   "metadata": {},
   "source": [
    "By looking at the above plot, what conclusion can you make? Is there positive or negative correlation between sepal length and width? \n",
    "\n",
    "Well, to better understand our data, let's sperate the observations base on `species`. There are three flower species included in this study: 1) setosa , 2) versicolor, and 3) virginica"
   ]
  },
  {
   "cell_type": "code",
   "execution_count": 7,
   "metadata": {},
   "outputs": [],
   "source": [
    "# generate three dataframes: \n",
    "# 1) iris_setosa dataframe that only includes observations corresponding to the setosa species\n",
    "# 2) iris_versicolor dataframe that only includes observations corresponding to the versicolor species\n",
    "# 3) iris_virginica dataframe that only includes observations corresponding to the virginica species\n"
   ]
  },
  {
   "cell_type": "code",
   "execution_count": 8,
   "metadata": {},
   "outputs": [],
   "source": [
    "# overlay three dataframes' scatter plot in one panel by: \n",
    "# 1) plotting sepal width vs. length for iris_setosa\n",
    "# 2) plotting sepal width vs. length for iris_versicolor \n",
    "# 3) plotting sepal width vs. length for iris_virginica\n",
    "# don't forget to add labels/title/legends\n"
   ]
  },
  {
   "cell_type": "markdown",
   "metadata": {},
   "source": [
    "Now, do you find positive or negative correlation between sepal length and width within each species? \n",
    "\n",
    "You just practiced: \n",
    "* creating high quality line graphs\n",
    "* creating high quality scatter plots\n",
    "* overlaying multiple dataframes in one plot, which separates them by colors"
   ]
  }
 ],
 "metadata": {
  "kernelspec": {
   "display_name": "Python 3",
   "language": "python",
   "name": "python3"
  },
  "language_info": {
   "codemirror_mode": {
    "name": "ipython",
    "version": 3
   },
   "file_extension": ".py",
   "mimetype": "text/x-python",
   "name": "python",
   "nbconvert_exporter": "python",
   "pygments_lexer": "ipython3",
   "version": "3.7.3"
  }
 },
 "nbformat": 4,
 "nbformat_minor": 2
}

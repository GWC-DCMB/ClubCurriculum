{
 "cells": [
  {
   "cell_type": "markdown",
   "metadata": {
    "colab_type": "text",
    "id": "vThqK6oY4QcV"
   },
   "source": [
    "# Practice with Statistics (Part 2)!"
   ]
  },
  {
   "cell_type": "markdown",
   "metadata": {
    "colab_type": "text",
    "id": "zZeABjrl4Qce"
   },
   "source": [
    "**Remember:**\n",
    "* Count statistics are a useful way of summarizing the items in a set of measurements.\n",
    "* `Counter` provides a useful class for counting lists of items.\n",
    "* Percentages tell you what fraction of a list consists of a given category."
   ]
  },
  {
   "cell_type": "markdown",
   "metadata": {
    "colab_type": "text",
    "id": "k7EmsTj84Qch"
   },
   "source": [
    "First, import numpy and pandas and Counter:"
   ]
  },
  {
   "cell_type": "code",
   "execution_count": null,
   "metadata": {
    "colab": {},
    "colab_type": "code",
    "id": "guHtx1bW4Qcj"
   },
   "outputs": [],
   "source": [
    "# load numpy and pandas and Counter\n"
   ]
  },
  {
   "cell_type": "code",
   "execution_count": null,
   "metadata": {},
   "outputs": [],
   "source": [
    "# mount Google Drive\n",
    "from google.colab import drive\n",
    "drive.mount('/content/gdrive')\n",
    "path = '/content/gdrive/My Drive/SummerExperience-master/'"
   ]
  },
  {
   "cell_type": "markdown",
   "metadata": {
    "colab_type": "text",
    "id": "Vc5PeJwH4Qcv"
   },
   "source": [
    "Load in the sample data from the Lesson:"
   ]
  },
  {
   "cell_type": "code",
   "execution_count": null,
   "metadata": {
    "colab": {},
    "colab_type": "code",
    "id": "FhWUBy2l4Qcx"
   },
   "outputs": [],
   "source": [
    "# load the csv file: 'Lessons/SampleData/detroit_weather.csv'\n"
   ]
  },
  {
   "cell_type": "code",
   "execution_count": null,
   "metadata": {
    "colab": {},
    "colab_type": "code",
    "id": "yA94NKjp4Qc1"
   },
   "outputs": [],
   "source": [
    "# Print the beginning of the table using the head function to remind you of the format:\n"
   ]
  },
  {
   "cell_type": "markdown",
   "metadata": {
    "colab_type": "text",
    "id": "FEMvO8F24QdQ"
   },
   "source": [
    "During the lesson, we looked at the rates of snow occurance, now we will repeat the same analysis for the occurance of rain."
   ]
  },
  {
   "cell_type": "code",
   "execution_count": null,
   "metadata": {
    "colab": {},
    "colab_type": "code",
    "id": "mTsoq6qt4QdT"
   },
   "outputs": [],
   "source": [
    "# Count the number of days that have been raining since 1950\n",
    "# and the number of days that haven't been\n"
   ]
  },
  {
   "cell_type": "code",
   "execution_count": null,
   "metadata": {
    "colab": {},
    "colab_type": "code",
    "id": "jxQTBC_s4Qde"
   },
   "outputs": [],
   "source": [
    "# What percentage of days since 1950 have been spent raining?\n"
   ]
  },
  {
   "cell_type": "code",
   "execution_count": null,
   "metadata": {
    "colab": {},
    "colab_type": "code",
    "id": "PAykrSsq4Qdk"
   },
   "outputs": [],
   "source": [
    "# How man days have been spent raining AND snowing?\n",
    "# HINT: use a `and` statement in pandas\n"
   ]
  },
  {
   "cell_type": "code",
   "execution_count": null,
   "metadata": {
    "colab": {},
    "colab_type": "code",
    "id": "TcPrK8uF4Qdy"
   },
   "outputs": [],
   "source": [
    "# What percentage of days have been spent raining AND snowing?\n"
   ]
  },
  {
   "cell_type": "code",
   "execution_count": null,
   "metadata": {
    "colab": {},
    "colab_type": "code",
    "id": "xXSxHPmy4QeG"
   },
   "outputs": [],
   "source": [
    "# Calculate the percentage of days during the month you were born that were spent raining:\n"
   ]
  },
  {
   "cell_type": "markdown",
   "metadata": {
    "colab_type": "text",
    "id": "ySPN7s394QeZ"
   },
   "source": [
    "**CHALLENGE** In the next lesson, we will look at climate change between the early 20th century and today, can you calculate a difference in days spent snowing between the 1950's and 2000's?"
   ]
  },
  {
   "cell_type": "code",
   "execution_count": null,
   "metadata": {
    "colab": {},
    "colab_type": "code",
    "id": "RGFgLzE24Qec"
   },
   "outputs": [],
   "source": [
    "# Calculate a change in the percentage of days spent snowing\n",
    "# during the 1950's and 2000's\n",
    "\n"
   ]
  },
  {
   "cell_type": "markdown",
   "metadata": {
    "colab_type": "text",
    "id": "Rwoydpzr4wFD"
   },
   "source": [
    "By how much did the percentage change from the 1950's to the 2000's? Did it increase or decrease?\n",
    "\n",
    "**Answer:** 0.202 - 0.164 = 0.038 = decreased 3.8%"
   ]
  },
  {
   "cell_type": "markdown",
   "metadata": {
    "colab_type": "text",
    "id": "RUtEQDo04Qej"
   },
   "source": [
    "Nice job! You just practiced:\n",
    "\n",
    "    - Turning categorical variables into counts using `Counter`\n",
    "    - Calculating percentages from count variables\n",
    "    - Interpreting the results from basic statistical analysis"
   ]
  }
 ],
 "metadata": {
  "colab": {
   "collapsed_sections": [],
   "name": "Practice16_Intro_Stats_II.ipynb",
   "provenance": [],
   "version": "0.3.2"
  },
  "kernelspec": {
   "display_name": "Python 3",
   "language": "python",
   "name": "python3"
  },
  "language_info": {
   "codemirror_mode": {
    "name": "ipython",
    "version": 3
   },
   "file_extension": ".py",
   "mimetype": "text/x-python",
   "name": "python",
   "nbconvert_exporter": "python",
   "pygments_lexer": "ipython3",
   "version": "3.7.3"
  }
 },
 "nbformat": 4,
 "nbformat_minor": 2
}

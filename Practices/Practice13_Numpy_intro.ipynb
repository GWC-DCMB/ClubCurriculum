{
 "cells": [
  {
   "cell_type": "markdown",
   "metadata": {
    "colab_type": "text",
    "id": "mobuI3G45ErZ"
   },
   "source": [
    "# Practice with `numpy`!"
   ]
  },
  {
   "cell_type": "markdown",
   "metadata": {
    "colab_type": "text",
    "id": "Rpm_nWJS5Era"
   },
   "source": [
    "**Remember:**\n",
    "* Numpy provides a bunch of useful tools for performing calculations\n",
    "* You access numpy functions by calling `np.function_name`"
   ]
  },
  {
   "cell_type": "markdown",
   "metadata": {
    "colab_type": "text",
    "id": "sBUu7s_y5Erb"
   },
   "source": [
    "First, import numpy. Remember to use the nickname!"
   ]
  },
  {
   "cell_type": "code",
   "execution_count": 1,
   "metadata": {
    "colab": {},
    "colab_type": "code",
    "id": "IGoKRnre5Erc"
   },
   "outputs": [],
   "source": [
    "# load numpy\n",
    "import numpy as np"
   ]
  },
  {
   "cell_type": "markdown",
   "metadata": {
    "colab_type": "text",
    "id": "8uWX2a2V5Erh"
   },
   "source": [
    "Use numpy to create a list of numbers from 0 through 99. We'll use a function called `arange`."
   ]
  },
  {
   "cell_type": "code",
   "execution_count": 1,
   "metadata": {
    "colab": {
     "base_uri": "https://localhost:8080/",
     "height": 102
    },
    "colab_type": "code",
    "executionInfo": {
     "elapsed": 399,
     "status": "ok",
     "timestamp": 1557763969316,
     "user": {
      "displayName": "Kelly Sovacool",
      "photoUrl": "https://lh3.googleusercontent.com/-WQsOgn6cXFg/AAAAAAAAAAI/AAAAAAAAAVA/ol7X28qyOHc/s64/photo.jpg",
      "userId": "07259925140867310896"
     },
     "user_tz": 240
    },
    "id": "G_MXNx5p5Eri",
    "outputId": "d57c9451-8a74-41c7-8284-8dc3bfb2d44e"
   },
   "outputs": [],
   "source": [
    "# Use np.arrange to generate an array of numbers and assign it to a variable called numbers\n",
    "\n",
    "# print the array to see what it looks like\n",
    "\n"
   ]
  },
  {
   "cell_type": "markdown",
   "metadata": {
    "colab_type": "text",
    "id": "nH-CXAFQ5Erq"
   },
   "source": [
    "Now use numpy's function called `zeros` to create another empty array of the same size:"
   ]
  },
  {
   "cell_type": "code",
   "execution_count": 2,
   "metadata": {
    "colab": {
     "base_uri": "https://localhost:8080/",
     "height": 102
    },
    "colab_type": "code",
    "executionInfo": {
     "elapsed": 703,
     "status": "ok",
     "timestamp": 1557763969622,
     "user": {
      "displayName": "Kelly Sovacool",
      "photoUrl": "https://lh3.googleusercontent.com/-WQsOgn6cXFg/AAAAAAAAAAI/AAAAAAAAAVA/ol7X28qyOHc/s64/photo.jpg",
      "userId": "07259925140867310896"
     },
     "user_tz": 240
    },
    "id": "ncgGZbUF5Err",
    "outputId": "7185c695-27c3-45a0-ab20-38186996780e"
   },
   "outputs": [],
   "source": [
    "# Create an empty array with np.zeros and assign it to a variable\n",
    "\n",
    "# print it\n",
    "\n"
   ]
  },
  {
   "cell_type": "markdown",
   "metadata": {
    "colab_type": "text",
    "id": "xuyYmpD85Erw"
   },
   "source": [
    "Now try manipulating the arrays using basic math:"
   ]
  },
  {
   "cell_type": "code",
   "execution_count": 4,
   "metadata": {
    "colab": {
     "base_uri": "https://localhost:8080/",
     "height": 153
    },
    "colab_type": "code",
    "executionInfo": {
     "elapsed": 702,
     "status": "ok",
     "timestamp": 1557763969625,
     "user": {
      "displayName": "Kelly Sovacool",
      "photoUrl": "https://lh3.googleusercontent.com/-WQsOgn6cXFg/AAAAAAAAAAI/AAAAAAAAAVA/ol7X28qyOHc/s64/photo.jpg",
      "userId": "07259925140867310896"
     },
     "user_tz": 240
    },
    "id": "ULqMaAjJ5Erx",
    "outputId": "b11c6fc9-da4e-47c6-8fcc-131ecf0e27a4"
   },
   "outputs": [],
   "source": [
    "# Add the numbers array to itself\n",
    "\n"
   ]
  },
  {
   "cell_type": "code",
   "execution_count": 5,
   "metadata": {
    "colab": {
     "base_uri": "https://localhost:8080/",
     "height": 187
    },
    "colab_type": "code",
    "executionInfo": {
     "elapsed": 707,
     "status": "ok",
     "timestamp": 1557763969633,
     "user": {
      "displayName": "Kelly Sovacool",
      "photoUrl": "https://lh3.googleusercontent.com/-WQsOgn6cXFg/AAAAAAAAAAI/AAAAAAAAAVA/ol7X28qyOHc/s64/photo.jpg",
      "userId": "07259925140867310896"
     },
     "user_tz": 240
    },
    "id": "IwDpDsPF5Er1",
    "outputId": "de5c575a-af95-4f14-e95f-bb7d8691cee2"
   },
   "outputs": [],
   "source": [
    "# Multiply the numbers array to itself\n",
    "\n"
   ]
  },
  {
   "cell_type": "markdown",
   "metadata": {
    "colab_type": "text",
    "id": "_DeFP4ZI5Er4"
   },
   "source": [
    "Note that when you perform a math operation on an array, it will often perform that operation on each item in that array. It's convenient that we don't have to loop through all the values to apply the math operation to every item in the array."
   ]
  },
  {
   "cell_type": "markdown",
   "metadata": {
    "colab_type": "text",
    "id": "8Yj_UpHS5Er5"
   },
   "source": [
    "You can find information about the size of an array by using `.shape`. Note that `.shape` is an **attribute** of array -- a special variable that belongs to every *array object*. Try it out:\n",
    "\n",
    "*HINT*: Because `.shape` is not a function you don't need to use parentheses. "
   ]
  },
  {
   "cell_type": "code",
   "execution_count": 6,
   "metadata": {
    "colab": {
     "base_uri": "https://localhost:8080/",
     "height": 34
    },
    "colab_type": "code",
    "executionInfo": {
     "elapsed": 710,
     "status": "ok",
     "timestamp": 1557763969638,
     "user": {
      "displayName": "Kelly Sovacool",
      "photoUrl": "https://lh3.googleusercontent.com/-WQsOgn6cXFg/AAAAAAAAAAI/AAAAAAAAAVA/ol7X28qyOHc/s64/photo.jpg",
      "userId": "07259925140867310896"
     },
     "user_tz": 240
    },
    "id": "ZngPKKEF5Er6",
    "outputId": "421d0882-9483-4ace-d64b-256ae3a8030c"
   },
   "outputs": [],
   "source": [
    "# Use shape to view the size of your array\n",
    "\n"
   ]
  },
  {
   "cell_type": "markdown",
   "metadata": {
    "colab_type": "text",
    "id": "Xw5LqGwy5Er_"
   },
   "source": [
    "`.shape` gave us just one number, because our array has only 1 dimension. Later we'll see what it looks like for arrays with more than 1 dimension.\n",
    "\n",
    "Numpy also allows you to create 2D arrays, like with lists. We can use the `method` called `reshape` to change an 1-dimensional `array` into a 2-dimensional `array`. `reshape` takes two arguments: the number of rows and the number of columns. Try turning one of your arrays into a 2D array using `reshape`."
   ]
  },
  {
   "cell_type": "code",
   "execution_count": 10,
   "metadata": {
    "colab": {
     "base_uri": "https://localhost:8080/",
     "height": 187
    },
    "colab_type": "code",
    "executionInfo": {
     "elapsed": 713,
     "status": "ok",
     "timestamp": 1557763969643,
     "user": {
      "displayName": "Kelly Sovacool",
      "photoUrl": "https://lh3.googleusercontent.com/-WQsOgn6cXFg/AAAAAAAAAAI/AAAAAAAAAVA/ol7X28qyOHc/s64/photo.jpg",
      "userId": "07259925140867310896"
     },
     "user_tz": 240
    },
    "id": "0ERWCQTF5EsA",
    "outputId": "a26973ae-5ac5-4cd4-e349-405bb3217057"
   },
   "outputs": [],
   "source": [
    "# Reshape one of your arrays into a 2D array\n",
    "\n",
    "# print out the array\n"
   ]
  },
  {
   "cell_type": "markdown",
   "metadata": {
    "colab_type": "text",
    "id": "lI5QaVc55EsF"
   },
   "source": [
    "Now the `.shape` of your array should be changed, try printing it out below:"
   ]
  },
  {
   "cell_type": "code",
   "execution_count": 9,
   "metadata": {
    "colab": {
     "base_uri": "https://localhost:8080/",
     "height": 34
    },
    "colab_type": "code",
    "executionInfo": {
     "elapsed": 718,
     "status": "ok",
     "timestamp": 1557763969650,
     "user": {
      "displayName": "Kelly Sovacool",
      "photoUrl": "https://lh3.googleusercontent.com/-WQsOgn6cXFg/AAAAAAAAAAI/AAAAAAAAAVA/ol7X28qyOHc/s64/photo.jpg",
      "userId": "07259925140867310896"
     },
     "user_tz": 240
    },
    "id": "fQkocNpj5EsG",
    "outputId": "d351f17a-d7ec-4523-a38c-c745337d6b2c"
   },
   "outputs": [],
   "source": [
    "# Print the shape of your new array\n"
   ]
  },
  {
   "cell_type": "markdown",
   "metadata": {
    "colab_type": "text",
    "id": "EvaJPpWi5EsL"
   },
   "source": [
    "Now we will try a couple of numpy's math functions!"
   ]
  },
  {
   "cell_type": "code",
   "execution_count": 11,
   "metadata": {
    "colab": {
     "base_uri": "https://localhost:8080/",
     "height": 34
    },
    "colab_type": "code",
    "executionInfo": {
     "elapsed": 720,
     "status": "ok",
     "timestamp": 1557763969655,
     "user": {
      "displayName": "Kelly Sovacool",
      "photoUrl": "https://lh3.googleusercontent.com/-WQsOgn6cXFg/AAAAAAAAAAI/AAAAAAAAAVA/ol7X28qyOHc/s64/photo.jpg",
      "userId": "07259925140867310896"
     },
     "user_tz": 240
    },
    "id": "zjvGvWo85EsM",
    "outputId": "f7fa4e0e-82e5-4e57-8f9c-87b1a3e7547f"
   },
   "outputs": [],
   "source": [
    "# try using np.sum to add the items in a list together\n",
    "\n"
   ]
  },
  {
   "cell_type": "code",
   "execution_count": 12,
   "metadata": {
    "colab": {
     "base_uri": "https://localhost:8080/",
     "height": 153
    },
    "colab_type": "code",
    "executionInfo": {
     "elapsed": 719,
     "status": "ok",
     "timestamp": 1557763969658,
     "user": {
      "displayName": "Kelly Sovacool",
      "photoUrl": "https://lh3.googleusercontent.com/-WQsOgn6cXFg/AAAAAAAAAAI/AAAAAAAAAVA/ol7X28qyOHc/s64/photo.jpg",
      "userId": "07259925140867310896"
     },
     "user_tz": 240
    },
    "id": "OF-6as2_8TtN",
    "outputId": "5f6fec97-653e-48ee-d099-b9552ed21df7"
   },
   "outputs": [],
   "source": [
    "# try squaring the value of each item in your array\n",
    "\n"
   ]
  },
  {
   "cell_type": "markdown",
   "metadata": {
    "colab_type": "text",
    "id": "TkxL0-u09yCZ"
   },
   "source": [
    "Try converting the `numbers` array to an array of floats using the method called `astype`:"
   ]
  },
  {
   "cell_type": "code",
   "execution_count": 13,
   "metadata": {
    "colab": {
     "base_uri": "https://localhost:8080/",
     "height": 119
    },
    "colab_type": "code",
    "executionInfo": {
     "elapsed": 721,
     "status": "ok",
     "timestamp": 1557763969661,
     "user": {
      "displayName": "Kelly Sovacool",
      "photoUrl": "https://lh3.googleusercontent.com/-WQsOgn6cXFg/AAAAAAAAAAI/AAAAAAAAAVA/ol7X28qyOHc/s64/photo.jpg",
      "userId": "07259925140867310896"
     },
     "user_tz": 240
    },
    "id": "b3IcIXzQ8UB8",
    "outputId": "eb44a7aa-af69-47e3-9921-31664770c792"
   },
   "outputs": [],
   "source": [
    "# Convert the array into an array of floats\n",
    "\n"
   ]
  },
  {
   "cell_type": "markdown",
   "metadata": {
    "colab_type": "text",
    "id": "Ac9Wobn95EsQ"
   },
   "source": [
    "Nice job! You just practiced:\n",
    "\n",
    "* Using `numpy` to perform `array` operations.\n",
    "* Performing math with `numpy`."
   ]
  }
 ],
 "metadata": {
  "colab": {
   "name": "KEY_Practice13_Numpy_intro.ipynb",
   "provenance": [],
   "version": "0.3.2"
  },
  "kernelspec": {
   "display_name": "Python 3",
   "language": "python",
   "name": "python3"
  },
  "language_info": {
   "codemirror_mode": {
    "name": "ipython",
    "version": 3
   },
   "file_extension": ".py",
   "mimetype": "text/x-python",
   "name": "python",
   "nbconvert_exporter": "python",
   "pygments_lexer": "ipython3",
   "version": "3.7.3"
  }
 },
 "nbformat": 4,
 "nbformat_minor": 2
}

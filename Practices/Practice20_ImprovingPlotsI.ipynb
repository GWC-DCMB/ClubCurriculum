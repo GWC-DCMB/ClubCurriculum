{
 "cells": [
  {
   "cell_type": "markdown",
   "metadata": {},
   "source": [
    "# Improving plots - Line Graphs\n",
    "\n",
    "In the lesson we learned how to improve our scatterplots using coloring, marker styles and marker sizes using `seaborn`. Now it is time to put your coding skills to work! A lot of the tools we used for improving our scatterplots can also be applied to line graphs. In this exercise you will experiment with communicating data in different ways with **line graphs**."
   ]
  },
  {
   "cell_type": "code",
   "execution_count": null,
   "metadata": {},
   "outputs": [],
   "source": [
    "# import necessary packages \n"
   ]
  },
  {
   "cell_type": "markdown",
   "metadata": {},
   "source": [
    "In this practice we'll be working with the `fmri` built-in seaborn dataset. Let's load and preview the dataset here:"
   ]
  },
  {
   "cell_type": "code",
   "execution_count": null,
   "metadata": {},
   "outputs": [],
   "source": [
    "# load fmri dataset\n",
    "fmri = sns.load_dataset(\"fmri\")\n",
    "# preview fmri dataset\n"
   ]
  },
  {
   "cell_type": "markdown",
   "metadata": {},
   "source": [
    "fMRI data is what we call *timeseries* data, because it measures a *signal* (here, the activation strength in certain parts of the brain) over a period of *time* (here, 18 timepoints). Based on this information, we know a **line graph** is the best way to represent the changes in activation signal in the brain over the measurement period. The code for creating a line graph is super simple and really similar to what we learned for a scatterplot:"
   ]
  },
  {
   "cell_type": "code",
   "execution_count": null,
   "metadata": {},
   "outputs": [],
   "source": [
    "# line graph of fmri signal over time\n",
    "sns.lineplot(x=\"timepoint\", y=\"signal\", data=fmri)"
   ]
  },
  {
   "cell_type": "markdown",
   "metadata": {},
   "source": [
    "Can you guess why this plot returns both a line and a shaded area?\n",
    "\n",
    "If we look back at our data preview, we can see that the `fmri` dataset contains data for several subjects - meaning each `timepoint` has not just one, but multiple corresponding `signal` values. When this happens, `seaborn` knows to take the **mean** of the data (shown as the single line), but also report the **spread** of the data (here, the *confidence interval*, shown in the shaded band) to give us a sense of how similar/different the signal is across our subjects."
   ]
  },
  {
   "cell_type": "markdown",
   "metadata": {},
   "source": [
    "Now that we know the basics of how to create a line graph in `seaborn`, let's try improving the graph using the skills we learned for scatterplots. \n",
    "\n",
    "Let's separate (i.e. *color*) the plot by the `event` column to see the differences between the *cue* and *stim* conditions. (*HINT: in the scatterplot example, we separated the plot by **species**.*)"
   ]
  },
  {
   "cell_type": "code",
   "execution_count": null,
   "metadata": {},
   "outputs": [],
   "source": [
    "# separate plot by event column\n"
   ]
  },
  {
   "cell_type": "markdown",
   "metadata": {},
   "source": [
    "Great!"
   ]
  },
  {
   "cell_type": "markdown",
   "metadata": {},
   "source": [
    "In scatterplots, we also learned to change the marker *style* based on a certain column (or *variable*) in our dataset. In addition to separating the plot by `event`, also change the line *style* by `event`. "
   ]
  },
  {
   "cell_type": "code",
   "execution_count": null,
   "metadata": {},
   "outputs": [],
   "source": [
    "# separate and style plot by event column\n"
   ]
  },
  {
   "cell_type": "markdown",
   "metadata": {},
   "source": [
    "Now you can even more clearly illustrate the difference between the `stim` and `cue` events. \n",
    "\n",
    "We can also illustrate differences between variables using *marker* style rather than *line* style. We can do this using the `markers` and `dashes` parameters of the `lineplot` function. These parameters are **boolean** variables. Based on that information, how would you set the parameters to show the different `event` plots using line markers rather than dashed lines. Write the code for this below:"
   ]
  },
  {
   "cell_type": "code",
   "execution_count": null,
   "metadata": {},
   "outputs": [],
   "source": [
    "# # separate and style (markers) plot by event column\n",
    "# HINT: copy the line of code from above and add markers and dashes parameters, with the appropriate boolean values\n"
   ]
  },
  {
   "cell_type": "markdown",
   "metadata": {},
   "source": [
    "We also learned that we can improve our plots to illustrate several different variables at once (like when we colored the points by *species* and sized by *sepal_length*). Let's see how this works with line plots! \n",
    "\n",
    "Write code below to *style* the lines by `event` and *color* the lines by `region`."
   ]
  },
  {
   "cell_type": "code",
   "execution_count": null,
   "metadata": {},
   "outputs": [],
   "source": [
    "# style the lines by event and color the lines by region\n"
   ]
  },
  {
   "cell_type": "markdown",
   "metadata": {},
   "source": [
    "Now we should see 4 lines on our plot: Two orange lines corresponding to the `frontal` region of the brain and two blue lines corresponding to the `parietal` region of the brain. For each color, the solid line represents the `stim` event and the dashed line represents the `cue` event. \n",
    "\n",
    "This helps us understand our data on a more fine-grained level. What kinds of conclusions can you make using this plot that you could not make using the previous plots?"
   ]
  },
  {
   "cell_type": "markdown",
   "metadata": {},
   "source": [
    "Another thing we learned in the scatterplots lesson was to change the color palette to suit our needs or aesthetic preferences. Below, re-create the previous plot illustrating both region and event, but customize the color palette. Built-in color palettes are detailed here: https://seaborn.pydata.org/tutorial/color_palettes.html, but remember what we discussed about categorical vs. continuous variables and what kinds of color palettes are appropriate for each. What kind of variable are we illustrating with color here?"
   ]
  },
  {
   "cell_type": "code",
   "execution_count": null,
   "metadata": {},
   "outputs": [],
   "source": [
    "# change color palette\n"
   ]
  },
  {
   "cell_type": "markdown",
   "metadata": {},
   "source": [
    "## Bonus\n",
    "\n",
    "Sometimes you want to only focus on certain subsets of your data. What if we just wanted to focus on the frontal region of the brain? How do you think we could generate a plot that shows only the data for rows where `region == \"frontal\"` and colors the lines by `event`? Experiment to see if you can get this to work below."
   ]
  },
  {
   "cell_type": "code",
   "execution_count": null,
   "metadata": {},
   "outputs": [],
   "source": [
    "# plot data for frontal region only, colored by event\n"
   ]
  },
  {
   "cell_type": "markdown",
   "metadata": {},
   "source": [
    "What if we wanted to generate a plot that colors the lines by `region` and styled by `event`, but only for data from subject `s11`? "
   ]
  },
  {
   "cell_type": "code",
   "execution_count": null,
   "metadata": {},
   "outputs": [],
   "source": [
    "# plot subject 11, colored by region, styled by event\n"
   ]
  },
  {
   "cell_type": "markdown",
   "metadata": {},
   "source": [
    "You'll notice the shaded bands around the solid lines are gone in this plot - this is because when we isolate data from a single subject each line only has one measurement per timepoint. In other words we are no longer averaging across measurements from several subjects, regions or events - we are seeing the real time series for this person's fMRI signal. \n",
    "\n",
    "You may notice the patterns here are not quite as clean as they may have been when averaging across several subjects. This illustrates exactly why we take several *samples* in scientific experiments, as it helps to filter out *noise* or random fluctuations from trial to trial and helps us understand *general trends* that can apply to the population. "
   ]
  },
  {
   "cell_type": "markdown",
   "metadata": {},
   "source": [
    "Now, what if we wanted to see every subjects data separated, but on the same graph? To acheive this, we would set `estimtor = None`, which tells `seaborn` not to take any estimate of the *mean*, and we specify `units = \"subject\"`, to command `seaborn` to treat each subject as a *unit*, and therefore plot it on a separate line. You can see and example in the code below, which does this while also stratifying by `event` and focusing on just the signals from the frontal region. "
   ]
  },
  {
   "cell_type": "code",
   "execution_count": null,
   "metadata": {},
   "outputs": [],
   "source": [
    "# plot subjects separately\n",
    "sns.lineplot(x=\"timepoint\", y=\"signal\", hue=\"event\", units=\"subject\", estimator=None, \n",
    "             data=fmri.query(\"region == 'frontal'\"))"
   ]
  },
  {
   "cell_type": "markdown",
   "metadata": {},
   "source": [
    "Using the code above as a baseline, play around with some of the other improvement parameters we've learned in this practice to communicate a different slice of the data. "
   ]
  },
  {
   "cell_type": "code",
   "execution_count": null,
   "metadata": {},
   "outputs": [],
   "source": [
    "# add/change parameters of code above to communicate something new in your data\n"
   ]
  }
 ],
 "metadata": {
  "kernelspec": {
   "display_name": "Python 3",
   "language": "python",
   "name": "python3"
  },
  "language_info": {
   "codemirror_mode": {
    "name": "ipython",
    "version": 3
   },
   "file_extension": ".py",
   "mimetype": "text/x-python",
   "name": "python",
   "nbconvert_exporter": "python",
   "pygments_lexer": "ipython3",
   "version": "3.7.3"
  }
 },
 "nbformat": 4,
 "nbformat_minor": 2
}

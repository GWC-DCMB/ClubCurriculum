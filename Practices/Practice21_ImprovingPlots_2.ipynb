{
 "cells": [
  {
   "cell_type": "markdown",
   "metadata": {},
   "source": [
    "# Improving Plots II\n",
    "\n",
    "As always, let's begin by importing our necessary packages and reading in/previewing our data. In this practice we will continue to explore the `titanic` dataset."
   ]
  },
  {
   "cell_type": "code",
   "execution_count": null,
   "metadata": {},
   "outputs": [],
   "source": [
    "# import packages\n",
    "\n"
   ]
  },
  {
   "cell_type": "code",
   "execution_count": null,
   "metadata": {},
   "outputs": [],
   "source": [
    "# read in titanic data\n",
    "\n",
    "# preview data\n",
    "\n"
   ]
  },
  {
   "cell_type": "markdown",
   "metadata": {},
   "source": [
    "## Bar Charts\n",
    "\n",
    "Generate a barplot of `survived` (y-axis) across `sex` (x-axis), stratified by `class`. Choose your favorite color palette. "
   ]
  },
  {
   "cell_type": "code",
   "execution_count": null,
   "metadata": {},
   "outputs": [],
   "source": [
    "# barplot of sex vs survived stratified by class\n",
    "\n"
   ]
  },
  {
   "cell_type": "markdown",
   "metadata": {},
   "source": [
    "What do you notice about the y-axis in this plot? How can we interpret this? **`survived` is interpreted as numeric by seaborn, so it computes the average for each bar. This can be interpreted as *survival rate* for each group.**\n",
    "\n",
    "Let's make the same plot, but this time stratified by `deck`. What kind of color palette is appropriate here?"
   ]
  },
  {
   "cell_type": "code",
   "execution_count": null,
   "metadata": {},
   "outputs": [],
   "source": [
    "# barplot of sex vs survived stratified by class\n",
    "\n"
   ]
  },
  {
   "cell_type": "markdown",
   "metadata": {},
   "source": [
    "Hm, the legend is covering up some of the plot - can you find the line from Lesson 21 that we used to move the legend outsise the plot borders?"
   ]
  },
  {
   "cell_type": "code",
   "execution_count": null,
   "metadata": {},
   "outputs": [],
   "source": [
    "# barplot of sex vs survived stratified by class\n",
    "\n"
   ]
  },
  {
   "cell_type": "markdown",
   "metadata": {},
   "source": [
    "How does our interpretation of the results change here? Because we have stratifed by more groups, there are fewer data points that fall into each bar. Beacuse of this, the survival rates and *inflated* compared to what we saw in the earlier plot, especially for the male groups. This is something you must consider when deciding how to present your data in plots.\n",
    "\n",
    "## Count Plots\n",
    "\n",
    "Generate a count plot to visualize the distribution the `deck` variable across all passengers in our data set. Choose a sequential color palette."
   ]
  },
  {
   "cell_type": "code",
   "execution_count": null,
   "metadata": {},
   "outputs": [],
   "source": [
    "# count plot of deck\n",
    "\n"
   ]
  },
  {
   "cell_type": "markdown",
   "metadata": {},
   "source": [
    "Now stratify your plot using the `class` variable. What kind of color palette is appropriate now?"
   ]
  },
  {
   "cell_type": "code",
   "execution_count": null,
   "metadata": {},
   "outputs": [],
   "source": [
    "# count plot of deck stratified by class\n",
    "\n"
   ]
  },
  {
   "cell_type": "markdown",
   "metadata": {},
   "source": [
    "Cool! Now we can see that deck E is the only deck that housed all three classes of passengers. \n",
    "\n",
    "## Boxplots +"
   ]
  },
  {
   "cell_type": "markdown",
   "metadata": {},
   "source": [
    "Generate a boxplot of fares across sexes."
   ]
  },
  {
   "cell_type": "code",
   "execution_count": null,
   "metadata": {},
   "outputs": [],
   "source": [
    "# boxplot of fare across sex\n",
    "\n"
   ]
  },
  {
   "cell_type": "markdown",
   "metadata": {},
   "source": [
    "Based on this plot it looks like there are some outliers that are really smushing the bulk of our data towards the bottom of the plot, making it difficult to interpret. Let's try to remove these outliers by subsetting our `titanic` pandas DataFrame. Create a new DataFrame `titanic_subset` that contains only the rows where `fare` < 200 and generate the same plot for `titanic_subset`."
   ]
  },
  {
   "cell_type": "code",
   "execution_count": null,
   "metadata": {},
   "outputs": [],
   "source": [
    "# subset where fare < 200\n",
    "\n",
    "# boxplot of fare across sex for subset\n",
    "\n"
   ]
  },
  {
   "cell_type": "markdown",
   "metadata": {},
   "source": [
    "That looks much better, though there are still several high-fare outliers. We will just keep this in mind as we interpret our further analyses. \n",
    "\n",
    "Let's generate the same boxplot, but this time stratified by `survived`."
   ]
  },
  {
   "cell_type": "code",
   "execution_count": null,
   "metadata": {},
   "outputs": [],
   "source": [
    "# boxplot of fare across sex stratified by survived for subset\n",
    "\n"
   ]
  },
  {
   "cell_type": "markdown",
   "metadata": {},
   "source": [
    "Now, let's try to look at the distribution more granularly using our boxplot variations we learned.\n",
    "\n",
    "Generate the same plot as a boxen plot:"
   ]
  },
  {
   "cell_type": "code",
   "execution_count": null,
   "metadata": {},
   "outputs": [],
   "source": [
    "# boxen plot of fare across sex stratified by survived for subset\n",
    "\n"
   ]
  },
  {
   "cell_type": "markdown",
   "metadata": {},
   "source": [
    "Now generate the same plot as a violin plot. Use the `split = True` parameter setting to make your comparisons between the `survived` groups easier."
   ]
  },
  {
   "cell_type": "code",
   "execution_count": null,
   "metadata": {},
   "outputs": [],
   "source": [
    "# violin plot of fare across sex stratified by survived for subset\n",
    "\n"
   ]
  },
  {
   "cell_type": "markdown",
   "metadata": {},
   "source": [
    "Which plot do you think is most informative in this case: boxplot, boxen plot or split violin plot?\n",
    "\n",
    "Based on that plot, what is your interpretation about the relationship between fare, gender and survival on the Titanic?\n",
    "\n",
    "## Congratulations! \n",
    "\n",
    "You've now completed all of your lessons and practices for the GWC Detroit Data Science Summer Experience! Pat yourself on the back for getting one step closer to being a data scientist! :)"
   ]
  }
 ],
 "metadata": {
  "kernelspec": {
   "display_name": "Python 3",
   "language": "python",
   "name": "python3"
  },
  "language_info": {
   "codemirror_mode": {
    "name": "ipython",
    "version": 3
   },
   "file_extension": ".py",
   "mimetype": "text/x-python",
   "name": "python",
   "nbconvert_exporter": "python",
   "pygments_lexer": "ipython3",
   "version": "3.7.3"
  }
 },
 "nbformat": 4,
 "nbformat_minor": 2
}

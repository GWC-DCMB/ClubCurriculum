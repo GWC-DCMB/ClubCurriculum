{
 "cells": [
  {
   "cell_type": "markdown",
   "metadata": {},
   "source": [
    "# Practice with indexing!\n",
    "**Remember:**\n",
    "* Use square brackets to index (`[]`)\n",
    "* You can index lists and strings\n",
    "* Python starts counting at zero!\n",
    "\n",
    "Let's start with our list of pets:"
   ]
  },
  {
   "cell_type": "code",
   "execution_count": 1,
   "metadata": {},
   "outputs": [
    {
     "name": "stdout",
     "output_type": "stream",
     "text": [
      "['dog', 'cat', 'turtle', 'hamster', 'goldfish', 'snake', 'rabbit']\n"
     ]
    }
   ],
   "source": [
    "# command Python to make a list of pets. Store it in pets\n",
    "pets = ['dog','cat','turtle','hamster','goldfish','snake','rabbit']\n",
    "\n",
    "# command Python to print pets\n",
    "print(pets)"
   ]
  },
  {
   "cell_type": "markdown",
   "metadata": {},
   "source": [
    "Use indexing to print out cat:"
   ]
  },
  {
   "cell_type": "code",
   "execution_count": 2,
   "metadata": {},
   "outputs": [
    {
     "name": "stdout",
     "output_type": "stream",
     "text": [
      "cat\n"
     ]
    }
   ],
   "source": [
    "# command Python to print cat by indexing the pets list\n",
    "print(pets[1])"
   ]
  },
  {
   "cell_type": "markdown",
   "metadata": {},
   "source": [
    "Print the 5th element in your list. What is it? Be sure to check your answer!"
   ]
  },
  {
   "cell_type": "code",
   "execution_count": 3,
   "metadata": {},
   "outputs": [
    {
     "data": {
      "text/plain": [
       "'goldfish'"
      ]
     },
     "execution_count": 3,
     "metadata": {},
     "output_type": "execute_result"
    }
   ],
   "source": [
    "# command Python to print the 5th element in pets\n",
    "pets[4]"
   ]
  },
  {
   "cell_type": "markdown",
   "metadata": {},
   "source": [
    "Get turtle, hamster, and goldfish from pets using indexing and store it as pets_subset:"
   ]
  },
  {
   "cell_type": "code",
   "execution_count": 8,
   "metadata": {},
   "outputs": [
    {
     "name": "stdout",
     "output_type": "stream",
     "text": [
      "['turtle', 'hamster', 'goldfish']\n"
     ]
    }
   ],
   "source": [
    "# command Python to store turtle, hamster, and goldfish from pets into pets_subset\n",
    "pets_subset = pets[2:5]\n",
    "# command Python to print pets_subset\n",
    "print(pets_subset)"
   ]
  },
  {
   "cell_type": "markdown",
   "metadata": {},
   "source": [
    "How can you make a list of the first and third elements of pets?"
   ]
  },
  {
   "cell_type": "code",
   "execution_count": 5,
   "metadata": {},
   "outputs": [
    {
     "data": {
      "text/plain": [
       "['dog', 'turtle']"
      ]
     },
     "execution_count": 5,
     "metadata": {},
     "output_type": "execute_result"
    }
   ],
   "source": [
    "# make a list of the first and third elements of pets\n",
    "[pets[0], pets[2]]"
   ]
  },
  {
   "cell_type": "markdown",
   "metadata": {},
   "source": [
    "Let's get the last element of pets (rabbit) and store it as my_pet. Then print it out to make sure you did it correctly!"
   ]
  },
  {
   "cell_type": "code",
   "execution_count": 6,
   "metadata": {},
   "outputs": [
    {
     "name": "stdout",
     "output_type": "stream",
     "text": [
      "rabbit\n"
     ]
    }
   ],
   "source": [
    "# command Python to store the last element of pets in my_pet\n",
    "my_pet = pets[-1]\n",
    "# command Python to print my_pet\n",
    "print(my_pet)"
   ]
  },
  {
   "cell_type": "markdown",
   "metadata": {},
   "source": [
    "Print the first three letters of my_pet:"
   ]
  },
  {
   "cell_type": "code",
   "execution_count": 7,
   "metadata": {},
   "outputs": [
    {
     "name": "stdout",
     "output_type": "stream",
     "text": [
      "rab\n"
     ]
    }
   ],
   "source": [
    "# command Python to print the first three letters of my_pet\n",
    "print(my_pet[0:3])"
   ]
  },
  {
   "cell_type": "markdown",
   "metadata": {},
   "source": [
    "**Challenge: ** \n",
    "1. Create a list called family and populate it with names of your family\n",
    "2. Create a list called friends and populate it with names of your friends\n",
    "3. Add your friends list and your family list together and store it in the variable people_i_know\n",
    "4. Find the length of people_i_know\n",
    "5. Print out the first and last element of people_i_know\n",
    "6. Pick one person from your list who is your hero. Get that person's name from the list using indexing and store it as my_hero\n",
    "7. Find the length of my_hero\n",
    "8. Get the first 2 letters of my_hero\n",
    "9. Get the last 2 letters of my_hero"
   ]
  },
  {
   "cell_type": "code",
   "execution_count": null,
   "metadata": {
    "collapsed": true
   },
   "outputs": [],
   "source": []
  }
 ],
 "metadata": {
  "kernelspec": {
   "display_name": "Python 3",
   "language": "python",
   "name": "python3"
  },
  "language_info": {
   "codemirror_mode": {
    "name": "ipython",
    "version": 3
   },
   "file_extension": ".py",
   "mimetype": "text/x-python",
   "name": "python",
   "nbconvert_exporter": "python",
   "pygments_lexer": "ipython3",
   "version": "3.6.1"
  }
 },
 "nbformat": 4,
 "nbformat_minor": 2
}

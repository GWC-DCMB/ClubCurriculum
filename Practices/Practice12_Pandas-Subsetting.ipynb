{
 "cells": [
  {
   "cell_type": "markdown",
   "metadata": {
    "colab_type": "text",
    "id": "dzx-x4YSjz9z"
   },
   "source": [
    "# Practice: Subsetting Pandas DataFrames\n",
    "\n",
    "For this practice, let's use the `iris` dataset:"
   ]
  },
  {
   "cell_type": "code",
   "execution_count": null,
   "metadata": {
    "colab": {
     "base_uri": "https://localhost:8080/",
     "height": 34
    },
    "colab_type": "code",
    "executionInfo": {
     "elapsed": 430,
     "status": "ok",
     "timestamp": 1557740508666,
     "user": {
      "displayName": "Kelly Sovacool",
      "photoUrl": "https://lh3.googleusercontent.com/-WQsOgn6cXFg/AAAAAAAAAAI/AAAAAAAAAVA/ol7X28qyOHc/s64/photo.jpg",
      "userId": "07259925140867310896"
     },
     "user_tz": 240
    },
    "id": "m7nZ4c7mkL6r",
    "outputId": "897503cb-4f5c-4578-e499-8534adfce374"
   },
   "outputs": [],
   "source": [
    "# mount Google Drive\n",
    "from google.colab import drive\n",
    "drive.mount('/content/gdrive')"
   ]
  },
  {
   "cell_type": "code",
   "execution_count": null,
   "metadata": {},
   "outputs": [],
   "source": [
    "# import pandas package\n"
   ]
  },
  {
   "cell_type": "code",
   "execution_count": null,
   "metadata": {
    "colab": {
     "base_uri": "https://localhost:8080/",
     "height": 204
    },
    "colab_type": "code",
    "executionInfo": {
     "elapsed": 614,
     "status": "ok",
     "timestamp": 1557740676817,
     "user": {
      "displayName": "Kelly Sovacool",
      "photoUrl": "https://lh3.googleusercontent.com/-WQsOgn6cXFg/AAAAAAAAAAI/AAAAAAAAAVA/ol7X28qyOHc/s64/photo.jpg",
      "userId": "07259925140867310896"
     },
     "user_tz": 240
    },
    "id": "lqHI-20wjwfI",
    "outputId": "3d2c5c53-9266-4b41-98dc-5067d012c7f1"
   },
   "outputs": [],
   "source": [
    "# this is where the file is located\n",
    "path = '/content/gdrive/My Drive/gwc/repos/summerExperience/Lessons/SampleData/iris.csv'\n",
    "# load the iris dataset into a DataFrame\n"
   ]
  },
  {
   "cell_type": "markdown",
   "metadata": {
    "colab_type": "text",
    "id": "Vy47du6fkRm0"
   },
   "source": [
    "Refamiliarize yourself with the dataset:"
   ]
  },
  {
   "cell_type": "code",
   "execution_count": null,
   "metadata": {
    "colab": {},
    "colab_type": "code",
    "id": "NwmcsTm_kQRf"
   },
   "outputs": [],
   "source": [
    "# take a look at the beginning\n",
    "\n"
   ]
  },
  {
   "cell_type": "markdown",
   "metadata": {
    "colab_type": "text",
    "id": "4iRPCmu_kZN6"
   },
   "source": [
    "Try subsetting on columns:"
   ]
  },
  {
   "cell_type": "code",
   "execution_count": null,
   "metadata": {
    "colab": {},
    "colab_type": "code",
    "id": "bFrdmIGakbbC"
   },
   "outputs": [],
   "source": [
    "# subset the species column\n",
    "\n"
   ]
  },
  {
   "cell_type": "code",
   "execution_count": null,
   "metadata": {
    "colab": {},
    "colab_type": "code",
    "id": "_sFLIyaakziI"
   },
   "outputs": [],
   "source": [
    "# subset the sepal_length and sepal_width columns\n",
    "\n"
   ]
  },
  {
   "cell_type": "markdown",
   "metadata": {
    "colab_type": "text",
    "id": "Stkup5oHk4Rj"
   },
   "source": [
    "Try subsetting on rows:"
   ]
  },
  {
   "cell_type": "code",
   "execution_count": null,
   "metadata": {
    "colab": {},
    "colab_type": "code",
    "id": "gAeiPOatk6yW"
   },
   "outputs": [],
   "source": [
    "# subset the 2nd row\n",
    "\n"
   ]
  },
  {
   "cell_type": "code",
   "execution_count": null,
   "metadata": {
    "colab": {},
    "colab_type": "code",
    "id": "cRde08Mxk8cJ"
   },
   "outputs": [],
   "source": [
    "# subset the first 5 rows\n",
    "\n"
   ]
  },
  {
   "cell_type": "code",
   "execution_count": null,
   "metadata": {
    "colab": {
     "base_uri": "https://localhost:8080/",
     "height": 359
    },
    "colab_type": "code",
    "executionInfo": {
     "elapsed": 791,
     "status": "ok",
     "timestamp": 1557740683631,
     "user": {
      "displayName": "Kelly Sovacool",
      "photoUrl": "https://lh3.googleusercontent.com/-WQsOgn6cXFg/AAAAAAAAAAI/AAAAAAAAAVA/ol7X28qyOHc/s64/photo.jpg",
      "userId": "07259925140867310896"
     },
     "user_tz": 240
    },
    "id": "4dZqZRFrk-Ra",
    "outputId": "9368cc83-d664-42c4-997c-d7cd9fd2590e"
   },
   "outputs": [],
   "source": [
    "# subset rows 10 through 20\n",
    "\n"
   ]
  },
  {
   "cell_type": "code",
   "execution_count": null,
   "metadata": {
    "colab": {},
    "colab_type": "code",
    "id": "Mkv0oIURli_W"
   },
   "outputs": [],
   "source": [
    "# subset rows 6, 9, and 12\n",
    "\n"
   ]
  },
  {
   "cell_type": "markdown",
   "metadata": {
    "colab_type": "text",
    "id": "vuuqSObglRoc"
   },
   "source": [
    "Now do both!"
   ]
  },
  {
   "cell_type": "code",
   "execution_count": null,
   "metadata": {
    "colab": {},
    "colab_type": "code",
    "id": "iIdqMr5glBiK"
   },
   "outputs": [],
   "source": [
    "# subset the first 3 rows and the first 3 columns\n",
    "\n"
   ]
  },
  {
   "cell_type": "code",
   "execution_count": null,
   "metadata": {
    "colab": {},
    "colab_type": "code",
    "id": "vAqy077jlXpN"
   },
   "outputs": [],
   "source": [
    "# subset row 20 and the species column\n",
    "\n"
   ]
  },
  {
   "cell_type": "markdown",
   "metadata": {
    "colab_type": "text",
    "id": "3wqqY3MVlpaX"
   },
   "source": [
    "Now let's subset using `query`:"
   ]
  },
  {
   "cell_type": "code",
   "execution_count": null,
   "metadata": {
    "colab": {},
    "colab_type": "code",
    "id": "n1nTbkKulsid"
   },
   "outputs": [],
   "source": [
    "# subset rows where sepal_width is greater than 4\n",
    "\n"
   ]
  },
  {
   "cell_type": "code",
   "execution_count": null,
   "metadata": {
    "colab": {},
    "colab_type": "code",
    "id": "mlyyf0t-lzLh"
   },
   "outputs": [],
   "source": [
    "# subset rows where sepal_width is less than 3.5 and the species is `virginica`.\n",
    "\n"
   ]
  },
  {
   "cell_type": "code",
   "execution_count": null,
   "metadata": {
    "colab": {
     "base_uri": "https://localhost:8080/",
     "height": 34
    },
    "colab_type": "code",
    "executionInfo": {
     "elapsed": 725,
     "status": "ok",
     "timestamp": 1557740957387,
     "user": {
      "displayName": "Kelly Sovacool",
      "photoUrl": "https://lh3.googleusercontent.com/-WQsOgn6cXFg/AAAAAAAAAAI/AAAAAAAAAVA/ol7X28qyOHc/s64/photo.jpg",
      "userId": "07259925140867310896"
     },
     "user_tz": 240
    },
    "id": "pG9AATh_l7eK",
    "outputId": "acdf6dc8-6025-441f-a209-ee74bfb5a85d"
   },
   "outputs": [],
   "source": [
    "# subset rows where the pedal width is 0.3 or the species is `versicolor`.\n",
    "\n"
   ]
  },
  {
   "cell_type": "code",
   "execution_count": null,
   "metadata": {},
   "outputs": [],
   "source": []
  }
 ],
 "metadata": {
  "colab": {
   "name": "Practice12_Pandas-Subsetting.ipynb",
   "provenance": [],
   "version": "0.3.2"
  },
  "kernelspec": {
   "display_name": "Python 3",
   "language": "python",
   "name": "python3"
  },
  "language_info": {
   "codemirror_mode": {
    "name": "ipython",
    "version": 3
   },
   "file_extension": ".py",
   "mimetype": "text/x-python",
   "name": "python",
   "nbconvert_exporter": "python",
   "pygments_lexer": "ipython3",
   "version": "3.7.3"
  }
 },
 "nbformat": 4,
 "nbformat_minor": 2
}

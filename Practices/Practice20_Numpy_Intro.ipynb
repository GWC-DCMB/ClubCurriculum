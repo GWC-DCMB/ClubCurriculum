{
 "nbformat": 4,
 "nbformat_minor": 0,
 "metadata": {
  "language_info": {
   "codemirror_mode": {
    "name": "ipython",
    "version": 3
   },
   "file_extension": ".py",
   "mimetype": "text/x-python",
   "name": "python",
   "nbconvert_exporter": "python",
   "pygments_lexer": "ipython3",
   "version": "3.7.3"
  },
  "kernelspec": {
   "display_name": "Python 3",
   "language": "python",
   "name": "python3"
  }
 },
 "cells": [
  {
   "cell_type": "markdown",
   "metadata": {
    "colab_type": "text",
    "id": "mobuI3G45ErZ"
   },
   "source": [
    "# Practice with `numpy`!"
   ]
  },
  {
   "cell_type": "markdown",
   "metadata": {
    "colab_type": "text",
    "id": "Rpm_nWJS5Era"
   },
   "source": [
    "**Remember:**\n",
    "* Numpy provides a bunch of useful tools for performing calculations\n",
    "* You access numpy functions by calling `np.function_name`"
   ]
  },
  {
   "cell_type": "markdown",
   "metadata": {
    "colab_type": "text",
    "id": "sBUu7s_y5Erb"
   },
   "source": [
    "First, import numpy. Remember to use the nickname!"
   ]
  },
  {
   "cell_type": "code",
   "metadata": {
    "colab_type": "code",
    "id": "IGoKRnre5Erc",
    "colab": {}
   },
   "source": [
    "# load numpy\n"
   ],
   "execution_count": 0,
   "outputs": []
  },
  {
   "cell_type": "markdown",
   "metadata": {
    "colab_type": "text",
    "id": "8uWX2a2V5Erh"
   },
   "source": [
    "Use numpy to create a list of numbers from 0 through 99. We'll use a function called `arange`."
   ]
  },
  {
   "cell_type": "code",
   "metadata": {
    "colab_type": "code",
    "id": "G_MXNx5p5Eri",
    "colab": {}
   },
   "source": [
    "# Use np.arrange to generate an array of numbers and assign it to a variable called numbers\n",
    "\n",
    "# print the array to see what it looks like\n",
    "\n"
   ],
   "execution_count": 0,
   "outputs": []
  },
  {
   "cell_type": "markdown",
   "metadata": {
    "colab_type": "text",
    "id": "nH-CXAFQ5Erq"
   },
   "source": [
    "Now use numpy's function called `zeros` to create another empty array of the same size:"
   ]
  },
  {
   "cell_type": "code",
   "metadata": {
    "colab_type": "code",
    "id": "ncgGZbUF5Err",
    "colab": {}
   },
   "source": [
    "# Create an empty array with np.zeros and assign it to a variable\n",
    "\n",
    "# print it\n",
    "\n"
   ],
   "execution_count": 0,
   "outputs": []
  },
  {
   "cell_type": "markdown",
   "metadata": {
    "colab_type": "text",
    "id": "xuyYmpD85Erw"
   },
   "source": [
    "Now try manipulating the arrays using basic math:"
   ]
  },
  {
   "cell_type": "code",
   "metadata": {
    "colab_type": "code",
    "id": "ULqMaAjJ5Erx",
    "colab": {}
   },
   "source": [
    "# Add the numbers array to itself\n",
    "\n"
   ],
   "execution_count": 0,
   "outputs": []
  },
  {
   "cell_type": "code",
   "metadata": {
    "colab_type": "code",
    "id": "IwDpDsPF5Er1",
    "colab": {}
   },
   "source": [
    "# Multiply the numbers array to itself\n",
    "\n"
   ],
   "execution_count": 0,
   "outputs": []
  },
  {
   "cell_type": "markdown",
   "metadata": {
    "colab_type": "text",
    "id": "_DeFP4ZI5Er4"
   },
   "source": [
    "Note that when you perform a math operation on an array, it will often perform that operation on each item in that array. It's convenient that we don't have to loop through all the values to apply the math operation to every item in the array."
   ]
  },
  {
   "cell_type": "markdown",
   "metadata": {
    "colab_type": "text",
    "id": "8Yj_UpHS5Er5"
   },
   "source": [
    "You can find information about the size of an array by using `.shape`. Note that `.shape` is an **attribute** of array -- a special variable that belongs to every *array object*. Try it out:\n",
    "\n",
    "*HINT*: Because `.shape` is not a function you don't need to use parentheses. "
   ]
  },
  {
   "cell_type": "code",
   "metadata": {
    "colab_type": "code",
    "id": "ZngPKKEF5Er6",
    "colab": {}
   },
   "source": [
    "# Use shape to view the size of your array\n",
    "\n"
   ],
   "execution_count": 0,
   "outputs": []
  },
  {
   "cell_type": "markdown",
   "metadata": {
    "colab_type": "text",
    "id": "Xw5LqGwy5Er_"
   },
   "source": [
    "`.shape` gave us just one number, because our array has only 1 dimension. Later we'll see what it looks like for arrays with more than 1 dimension.\n",
    "\n",
    "Numpy also allows you to create 2D arrays, like with lists. We can use the `method` called `reshape` to change an 1-dimensional `array` into a 2-dimensional `array`. `reshape` takes two arguments: the number of rows and the number of columns. Try turning one of your arrays into a 2D array using `reshape`."
   ]
  },
  {
   "cell_type": "code",
   "metadata": {
    "colab_type": "code",
    "id": "0ERWCQTF5EsA",
    "colab": {}
   },
   "source": [
    "# Reshape one of your arrays into a 2D array\n",
    "\n",
    "# print out the array\n"
   ],
   "execution_count": 0,
   "outputs": []
  },
  {
   "cell_type": "markdown",
   "metadata": {
    "colab_type": "text",
    "id": "lI5QaVc55EsF"
   },
   "source": [
    "Now the `.shape` of your array should be changed, try printing it out below:"
   ]
  },
  {
   "cell_type": "code",
   "metadata": {
    "colab_type": "code",
    "id": "fQkocNpj5EsG",
    "colab": {}
   },
   "source": [
    "# Print the shape of your new array\n"
   ],
   "execution_count": 0,
   "outputs": []
  },
  {
   "cell_type": "markdown",
   "metadata": {
    "colab_type": "text",
    "id": "EvaJPpWi5EsL"
   },
   "source": [
    "Now we will try a couple of numpy's math functions!"
   ]
  },
  {
   "cell_type": "code",
   "metadata": {
    "colab_type": "code",
    "id": "zjvGvWo85EsM",
    "colab": {}
   },
   "source": [
    "# try using np.sum to add the items in a list together\n",
    "\n"
   ],
   "execution_count": 0,
   "outputs": []
  },
  {
   "cell_type": "code",
   "metadata": {
    "colab_type": "code",
    "id": "OF-6as2_8TtN",
    "colab": {}
   },
   "source": [
    "# try squaring the value of each item in your array\n",
    "\n"
   ],
   "execution_count": 0,
   "outputs": []
  },
  {
   "cell_type": "markdown",
   "metadata": {
    "colab_type": "text",
    "id": "TkxL0-u09yCZ"
   },
   "source": [
    "Try converting the `numbers` array to an array of floats using the method called `astype`:"
   ]
  },
  {
   "cell_type": "code",
   "metadata": {
    "colab_type": "code",
    "id": "b3IcIXzQ8UB8",
    "colab": {}
   },
   "source": [
    "# Convert the array into an array of floats\n",
    "\n"
   ],
   "execution_count": 0,
   "outputs": []
  },
  {
   "cell_type": "markdown",
   "metadata": {
    "colab_type": "text",
    "id": "Ac9Wobn95EsQ"
   },
   "source": [
    "Nice job! You just practiced:\n",
    "\n",
    "* Using `numpy` to perform `array` operations.\n",
    "* Performing math with `numpy`."
   ]
  }
 ]
}
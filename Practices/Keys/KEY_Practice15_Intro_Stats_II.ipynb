{
 "cells": [
  {
   "cell_type": "markdown",
   "metadata": {
    "colab_type": "text",
    "id": "vThqK6oY4QcV"
   },
   "source": [
    "# Practice with Statistics (Part 2)!"
   ]
  },
  {
   "cell_type": "markdown",
   "metadata": {
    "colab_type": "text",
    "id": "zZeABjrl4Qce"
   },
   "source": [
    "**Remember:**\n",
    "* Count statistics are a useful way of summarizing the items in a set of measurements.\n",
    "* `Counter` provides a useful class for counting lists of items.\n",
    "* Percentages tell you what fraction of a list consists of a given category."
   ]
  },
  {
   "cell_type": "markdown",
   "metadata": {
    "colab_type": "text",
    "id": "k7EmsTj84Qch"
   },
   "source": [
    "First, import numpy and pandas and Counter:"
   ]
  },
  {
   "cell_type": "code",
   "execution_count": 4,
   "metadata": {
    "colab": {},
    "colab_type": "code",
    "id": "guHtx1bW4Qcj"
   },
   "outputs": [],
   "source": [
    "# load numpy and pandas and Counter\n",
    "\n",
    "import numpy as np\n",
    "import pandas as pd\n",
    "from collections import Counter"
   ]
  },
  {
   "cell_type": "code",
   "execution_count": 5,
   "metadata": {},
   "outputs": [
    {
     "ename": "ModuleNotFoundError",
     "evalue": "No module named 'google'",
     "output_type": "error",
     "traceback": [
      "\u001b[0;31m---------------------------------------------------------------------------\u001b[0m",
      "\u001b[0;31mModuleNotFoundError\u001b[0m                       Traceback (most recent call last)",
      "\u001b[0;32m<ipython-input-5-b958c7a1dd08>\u001b[0m in \u001b[0;36m<module>\u001b[0;34m\u001b[0m\n\u001b[1;32m      1\u001b[0m \u001b[0;31m# mount Google Drive\u001b[0m\u001b[0;34m\u001b[0m\u001b[0;34m\u001b[0m\u001b[0;34m\u001b[0m\u001b[0m\n\u001b[0;32m----> 2\u001b[0;31m \u001b[0;32mfrom\u001b[0m \u001b[0mgoogle\u001b[0m\u001b[0;34m.\u001b[0m\u001b[0mcolab\u001b[0m \u001b[0;32mimport\u001b[0m \u001b[0mdrive\u001b[0m\u001b[0;34m\u001b[0m\u001b[0;34m\u001b[0m\u001b[0m\n\u001b[0m\u001b[1;32m      3\u001b[0m \u001b[0mdrive\u001b[0m\u001b[0;34m.\u001b[0m\u001b[0mmount\u001b[0m\u001b[0;34m(\u001b[0m\u001b[0;34m'/content/gdrive'\u001b[0m\u001b[0;34m)\u001b[0m\u001b[0;34m\u001b[0m\u001b[0;34m\u001b[0m\u001b[0m\n\u001b[1;32m      4\u001b[0m \u001b[0mpath\u001b[0m \u001b[0;34m=\u001b[0m \u001b[0;34m'/content/gdrive/My Drive/SummerExperience-master/'\u001b[0m\u001b[0;34m\u001b[0m\u001b[0;34m\u001b[0m\u001b[0m\n",
      "\u001b[0;31mModuleNotFoundError\u001b[0m: No module named 'google'"
     ]
    }
   ],
   "source": [
    "# mount Google Drive\n",
    "from google.colab import drive\n",
    "drive.mount('/content/gdrive')\n",
    "path = '/content/gdrive/My Drive/SummerExperience-master/'"
   ]
  },
  {
   "cell_type": "markdown",
   "metadata": {
    "colab_type": "text",
    "id": "Vc5PeJwH4Qcv"
   },
   "source": [
    "Load in the sample data from the Lesson:"
   ]
  },
  {
   "cell_type": "code",
   "execution_count": 6,
   "metadata": {
    "colab": {},
    "colab_type": "code",
    "id": "FhWUBy2l4Qcx"
   },
   "outputs": [
    {
     "ename": "NameError",
     "evalue": "name 'path' is not defined",
     "output_type": "error",
     "traceback": [
      "\u001b[0;31m---------------------------------------------------------------------------\u001b[0m",
      "\u001b[0;31mNameError\u001b[0m                                 Traceback (most recent call last)",
      "\u001b[0;32m<ipython-input-6-02a7bde06426>\u001b[0m in \u001b[0;36m<module>\u001b[0;34m\u001b[0m\n\u001b[1;32m      1\u001b[0m \u001b[0;31m# load the csv file: 'Lessons/SampleData/detroit_weather.csv'\u001b[0m\u001b[0;34m\u001b[0m\u001b[0;34m\u001b[0m\u001b[0;34m\u001b[0m\u001b[0m\n\u001b[1;32m      2\u001b[0m \u001b[0;34m\u001b[0m\u001b[0m\n\u001b[0;32m----> 3\u001b[0;31m \u001b[0mdata_table\u001b[0m \u001b[0;34m=\u001b[0m \u001b[0mpd\u001b[0m\u001b[0;34m.\u001b[0m\u001b[0mread_csv\u001b[0m\u001b[0;34m(\u001b[0m\u001b[0mpath\u001b[0m \u001b[0;34m+\u001b[0m \u001b[0;34m'Lessons/SampleData/detroit_weather.csv'\u001b[0m\u001b[0;34m)\u001b[0m\u001b[0;34m\u001b[0m\u001b[0;34m\u001b[0m\u001b[0m\n\u001b[0m",
      "\u001b[0;31mNameError\u001b[0m: name 'path' is not defined"
     ]
    }
   ],
   "source": [
    "# load the csv file: 'Lessons/SampleData/detroit_weather.csv'\n",
    "\n",
    "data_table = pd.read_csv(path + 'Lessons/SampleData/detroit_weather.csv')"
   ]
  },
  {
   "cell_type": "code",
   "execution_count": 1,
   "metadata": {
    "colab": {},
    "colab_type": "code",
    "id": "yA94NKjp4Qc1",
    "outputId": "2b67d6c3-a6e2-48d3-9055-e13d927fac6c"
   },
   "outputs": [],
   "source": [
    "# Print the beginning of the table using the head function to remind you of the format:\n",
    "\n",
    "data_table.head()"
   ]
  },
  {
   "cell_type": "markdown",
   "metadata": {
    "colab_type": "text",
    "id": "FEMvO8F24QdQ"
   },
   "source": [
    "During the lesson, we looked at the rates of snow occurance, now we will repeat the same analysis for the occurance of rain."
   ]
  },
  {
   "cell_type": "code",
   "execution_count": 2,
   "metadata": {
    "colab": {},
    "colab_type": "code",
    "id": "mTsoq6qt4QdT",
    "outputId": "126823c4-7b49-4eec-de82-c5f3762c37ff"
   },
   "outputs": [],
   "source": [
    "# Count the number of days that have been raining since 1950\n",
    "# and the number of days that haven't been\n",
    "\n",
    "raining = Counter(data_table[\"Rain\"])\n",
    "raining"
   ]
  },
  {
   "cell_type": "code",
   "execution_count": 3,
   "metadata": {
    "colab": {},
    "colab_type": "code",
    "id": "jxQTBC_s4Qde",
    "outputId": "c9a8bb9b-6677-4ace-e4a7-661a098a7d33"
   },
   "outputs": [],
   "source": [
    "# What percentage of days since 1950 have been spent raining?\n",
    "\n",
    "raining[True] / (raining[True] + raining[False])"
   ]
  },
  {
   "cell_type": "code",
   "execution_count": 7,
   "metadata": {
    "colab": {},
    "colab_type": "code",
    "id": "PAykrSsq4Qdk",
    "outputId": "d650fa05-978b-42cf-820f-a73d140bb658"
   },
   "outputs": [
    {
     "ename": "NameError",
     "evalue": "name 'data_table' is not defined",
     "output_type": "error",
     "traceback": [
      "\u001b[0;31m---------------------------------------------------------------------------\u001b[0m",
      "\u001b[0;31mNameError\u001b[0m                                 Traceback (most recent call last)",
      "\u001b[0;32m<ipython-input-7-ce803845dfba>\u001b[0m in \u001b[0;36m<module>\u001b[0;34m\u001b[0m\n\u001b[1;32m      2\u001b[0m \u001b[0;31m# HINT: use a `and` statement in pandas\u001b[0m\u001b[0;34m\u001b[0m\u001b[0;34m\u001b[0m\u001b[0;34m\u001b[0m\u001b[0m\n\u001b[1;32m      3\u001b[0m \u001b[0;34m\u001b[0m\u001b[0m\n\u001b[0;32m----> 4\u001b[0;31m \u001b[0mlen\u001b[0m\u001b[0;34m(\u001b[0m\u001b[0mdata_table\u001b[0m\u001b[0;34m.\u001b[0m\u001b[0mquery\u001b[0m\u001b[0;34m(\u001b[0m\u001b[0;34m'Rain and Snow'\u001b[0m\u001b[0;34m)\u001b[0m\u001b[0;34m)\u001b[0m\u001b[0;34m\u001b[0m\u001b[0;34m\u001b[0m\u001b[0m\n\u001b[0m",
      "\u001b[0;31mNameError\u001b[0m: name 'data_table' is not defined"
     ]
    }
   ],
   "source": [
    "# How man days have been spent raining AND snowing?\n",
    "# HINT: use a `and` statement in pandas\n",
    "\n",
    "len(data_table.query('Rain and Snow'))"
   ]
  },
  {
   "cell_type": "code",
   "execution_count": null,
   "metadata": {
    "colab": {},
    "colab_type": "code",
    "id": "TcPrK8uF4Qdy",
    "outputId": "c55bd2f7-dda4-447e-f539-c4dd039b71fb"
   },
   "outputs": [
    {
     "data": {
      "text/plain": [
       "0.043256695899502255"
      ]
     },
     "execution_count": 9,
     "metadata": {
      "tags": []
     },
     "output_type": "execute_result"
    }
   ],
   "source": [
    "# What percentage of days have been spent raining AND snowing?\n",
    "\n",
    "len(data_table.query('Rain and Snow')) / len(data_table)"
   ]
  },
  {
   "cell_type": "code",
   "execution_count": null,
   "metadata": {
    "colab": {},
    "colab_type": "code",
    "id": "xXSxHPmy4QeG",
    "outputId": "7dd66b5c-cadf-4541-c791-16317fbc4a68"
   },
   "outputs": [
    {
     "data": {
      "text/plain": [
       "0.3685990338164251"
      ]
     },
     "execution_count": 13,
     "metadata": {
      "tags": []
     },
     "output_type": "execute_result"
    }
   ],
   "source": [
    "# Calculate the percentage of days during the month you were born that were spent raining:\n",
    "\n",
    "june_rain = Counter(data_table.query('MONTH == 6')[\"Rain\"])\n",
    "june_rain[True] / (june_rain[True] + june_rain[False])"
   ]
  },
  {
   "cell_type": "markdown",
   "metadata": {
    "colab_type": "text",
    "id": "ySPN7s394QeZ"
   },
   "source": [
    "**CHALLENGE** In the next lesson, we will look at climate change between the early 20th century and today, can you calculate a difference in days spent snowing between the 1950's and 2000's?"
   ]
  },
  {
   "cell_type": "code",
   "execution_count": null,
   "metadata": {
    "colab": {},
    "colab_type": "code",
    "id": "RGFgLzE24Qec",
    "outputId": "07c193d2-55ed-4ebb-da60-9dbb3cdb492d"
   },
   "outputs": [
    {
     "name": "stdout",
     "output_type": "stream",
     "text": [
      "Snow days in 1950's 0.20208105147864183\n",
      "Snow days in 2000's 0.16374589266155531\n"
     ]
    }
   ],
   "source": [
    "# Calculate a change in the percentage of days spent snowing\n",
    "# during the 1950's and 2000's\n",
    "\n",
    "\n",
    "snow_1950 = Counter(data_table.query('YEAR < 1960')[\"Snow\"])\n",
    "snow_2000 = Counter(data_table.query('YEAR < 2010 and YEAR >= 2000')[\"Snow\"])\n",
    "\n",
    "print(\"Snow days in 1950's\", snow_1950[True] / (snow_1950[True] + snow_1950[False]))\n",
    "print(\"Snow days in 2000's\", snow_2000[True] / (snow_2000[True] + snow_2000[False]))\n"
   ]
  },
  {
   "cell_type": "markdown",
   "metadata": {
    "colab_type": "text",
    "id": "Rwoydpzr4wFD"
   },
   "source": [
    "By how much did the percentage change from the 1950's to the 2000's? Did it increase or decrease?\n",
    "\n",
    "**Answer:** 0.202 - 0.164 = 0.038 = decreased 3.8%"
   ]
  },
  {
   "cell_type": "markdown",
   "metadata": {
    "colab_type": "text",
    "id": "RUtEQDo04Qej"
   },
   "source": [
    "Nice job! You just practiced:\n",
    "\n",
    "* Turning categorical variables into counts using `Counter`\n",
    "* Calculating percentages from count variables\n",
    "* Interpreting the results from basic statistical analysis"
   ]
  }
 ],
 "metadata": {
  "colab": {
   "collapsed_sections": [],
   "name": "KEY_Practice16_Intro_Stats_II.ipynb",
   "provenance": [],
   "version": "0.3.2"
  },
  "kernelspec": {
   "display_name": "Python 3",
   "language": "python",
   "name": "python3"
  },
  "language_info": {
   "codemirror_mode": {
    "name": "ipython",
    "version": 3
   },
   "file_extension": ".py",
   "mimetype": "text/x-python",
   "name": "python",
   "nbconvert_exporter": "python",
   "pygments_lexer": "ipython3",
   "version": "3.7.3"
  }
 },
 "nbformat": 4,
 "nbformat_minor": 2
}

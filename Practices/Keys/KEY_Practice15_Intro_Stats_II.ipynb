{
 "cells": [
  {
   "cell_type": "markdown",
   "metadata": {
    "colab_type": "text",
    "id": "vThqK6oY4QcV"
   },
   "source": [
    "# Practice with Statistics (Part 2)!"
   ]
  },
  {
   "cell_type": "markdown",
   "metadata": {
    "colab_type": "text",
    "id": "zZeABjrl4Qce"
   },
   "source": [
    "**Remember:**\n",
    "* Count statistics are a useful way of summarizing the items in a set of measurements.\n",
    "* `Counter` provides a useful class for counting lists of items.\n",
    "* Percentages tell you what fraction of a list consists of a given category."
   ]
  },
  {
   "cell_type": "markdown",
   "metadata": {
    "colab_type": "text",
    "id": "k7EmsTj84Qch"
   },
   "source": [
    "First, import numpy and pandas and Counter:"
   ]
  },
  {
   "cell_type": "code",
   "execution_count": null,
   "metadata": {
    "colab": {},
    "colab_type": "code",
    "id": "guHtx1bW4Qcj"
   },
   "outputs": [],
   "source": [
    "# load numpy and pandas and Counter\n",
    "\n",
    "import numpy as np\n",
    "import pandas as pd\n",
    "from collections import Counter"
   ]
  },
  {
   "cell_type": "code",
   "execution_count": null,
   "metadata": {},
   "outputs": [],
   "source": [
    "# mount Google Drive\n",
    "from google.colab import drive\n",
    "drive.mount('/content/gdrive')\n",
    "path = '/content/gdrive/My Drive/SummerExperience-master/'"
   ]
  },
  {
   "cell_type": "markdown",
   "metadata": {
    "colab_type": "text",
    "id": "Vc5PeJwH4Qcv"
   },
   "source": [
    "Load in the sample data from the Lesson:"
   ]
  },
  {
   "cell_type": "code",
   "execution_count": null,
   "metadata": {
    "colab": {},
    "colab_type": "code",
    "id": "FhWUBy2l4Qcx"
   },
   "outputs": [],
   "source": [
    "# load the csv file: 'Lessons/SampleData/detroit_weather.csv'\n",
    "\n",
    "data_table = pd.read_csv(path + 'Lessons/SampleData/detroit_weather.csv')"
   ]
  },
  {
   "cell_type": "code",
   "execution_count": null,
   "metadata": {
    "colab": {},
    "colab_type": "code",
    "id": "yA94NKjp4Qc1",
    "outputId": "2b67d6c3-a6e2-48d3-9055-e13d927fac6c"
   },
   "outputs": [
    {
     "data": {
      "text/html": [
       "<div>\n",
       "<style scoped>\n",
       "    .dataframe tbody tr th:only-of-type {\n",
       "        vertical-align: middle;\n",
       "    }\n",
       "\n",
       "    .dataframe tbody tr th {\n",
       "        vertical-align: top;\n",
       "    }\n",
       "\n",
       "    .dataframe thead th {\n",
       "        text-align: right;\n",
       "    }\n",
       "</style>\n",
       "<table border=\"1\" class=\"dataframe\">\n",
       "  <thead>\n",
       "    <tr style=\"text-align: right;\">\n",
       "      <th></th>\n",
       "      <th>Unnamed: 0</th>\n",
       "      <th>YEAR</th>\n",
       "      <th>MONTH</th>\n",
       "      <th>DAY</th>\n",
       "      <th>Rain</th>\n",
       "      <th>Snow</th>\n",
       "    </tr>\n",
       "  </thead>\n",
       "  <tbody>\n",
       "    <tr>\n",
       "      <th>0</th>\n",
       "      <td>0</td>\n",
       "      <td>1950</td>\n",
       "      <td>1</td>\n",
       "      <td>1</td>\n",
       "      <td>True</td>\n",
       "      <td>False</td>\n",
       "    </tr>\n",
       "    <tr>\n",
       "      <th>1</th>\n",
       "      <td>1</td>\n",
       "      <td>1950</td>\n",
       "      <td>1</td>\n",
       "      <td>2</td>\n",
       "      <td>True</td>\n",
       "      <td>False</td>\n",
       "    </tr>\n",
       "    <tr>\n",
       "      <th>2</th>\n",
       "      <td>2</td>\n",
       "      <td>1950</td>\n",
       "      <td>1</td>\n",
       "      <td>3</td>\n",
       "      <td>True</td>\n",
       "      <td>False</td>\n",
       "    </tr>\n",
       "    <tr>\n",
       "      <th>3</th>\n",
       "      <td>3</td>\n",
       "      <td>1950</td>\n",
       "      <td>1</td>\n",
       "      <td>4</td>\n",
       "      <td>True</td>\n",
       "      <td>True</td>\n",
       "    </tr>\n",
       "    <tr>\n",
       "      <th>4</th>\n",
       "      <td>4</td>\n",
       "      <td>1950</td>\n",
       "      <td>1</td>\n",
       "      <td>5</td>\n",
       "      <td>False</td>\n",
       "      <td>False</td>\n",
       "    </tr>\n",
       "  </tbody>\n",
       "</table>\n",
       "</div>"
      ],
      "text/plain": [
       "   Unnamed: 0  YEAR  MONTH  DAY   Rain   Snow\n",
       "0           0  1950      1    1   True  False\n",
       "1           1  1950      1    2   True  False\n",
       "2           2  1950      1    3   True  False\n",
       "3           3  1950      1    4   True   True\n",
       "4           4  1950      1    5  False  False"
      ]
     },
     "execution_count": 3,
     "metadata": {
      "tags": []
     },
     "output_type": "execute_result"
    }
   ],
   "source": [
    "# Print the beginning of the table using the head function to remind you of the format:\n",
    "\n",
    "data_table.head()"
   ]
  },
  {
   "cell_type": "markdown",
   "metadata": {
    "colab_type": "text",
    "id": "FEMvO8F24QdQ"
   },
   "source": [
    "During the lesson, we looked at the rates of snow occurance, now we will repeat the same analysis for the occurance of rain."
   ]
  },
  {
   "cell_type": "code",
   "execution_count": null,
   "metadata": {
    "colab": {},
    "colab_type": "code",
    "id": "mTsoq6qt4QdT",
    "outputId": "126823c4-7b49-4eec-de82-c5f3762c37ff"
   },
   "outputs": [
    {
     "data": {
      "text/plain": [
       "Counter({True: 8051, False: 17263})"
      ]
     },
     "execution_count": 6,
     "metadata": {
      "tags": []
     },
     "output_type": "execute_result"
    }
   ],
   "source": [
    "# Count the number of days that have been raining since 1950\n",
    "# and the number of days that haven't been\n",
    "\n",
    "raining = Counter(data_table[\"Rain\"])\n",
    "raining"
   ]
  },
  {
   "cell_type": "code",
   "execution_count": null,
   "metadata": {
    "colab": {},
    "colab_type": "code",
    "id": "jxQTBC_s4Qde",
    "outputId": "c9a8bb9b-6677-4ace-e4a7-661a098a7d33"
   },
   "outputs": [
    {
     "data": {
      "text/plain": [
       "0.3180453503989887"
      ]
     },
     "execution_count": 12,
     "metadata": {
      "tags": []
     },
     "output_type": "execute_result"
    }
   ],
   "source": [
    "# What percentage of days since 1950 have been spent raining?\n",
    "\n",
    "raining[True] / (raining[True] + raining[False])"
   ]
  },
  {
   "cell_type": "code",
   "execution_count": null,
   "metadata": {
    "colab": {},
    "colab_type": "code",
    "id": "PAykrSsq4Qdk",
    "outputId": "d650fa05-978b-42cf-820f-a73d140bb658"
   },
   "outputs": [
    {
     "data": {
      "text/plain": [
       "1095"
      ]
     },
     "execution_count": 8,
     "metadata": {
      "tags": []
     },
     "output_type": "execute_result"
    }
   ],
   "source": [
    "# How man days have been spent raining AND snowing?\n",
    "# HINT: use a `and` statement in pandas\n",
    "\n",
    "len(data_table.query('Rain and Snow'))"
   ]
  },
  {
   "cell_type": "code",
   "execution_count": null,
   "metadata": {
    "colab": {},
    "colab_type": "code",
    "id": "TcPrK8uF4Qdy",
    "outputId": "c55bd2f7-dda4-447e-f539-c4dd039b71fb"
   },
   "outputs": [
    {
     "data": {
      "text/plain": [
       "0.043256695899502255"
      ]
     },
     "execution_count": 9,
     "metadata": {
      "tags": []
     },
     "output_type": "execute_result"
    }
   ],
   "source": [
    "# What percentage of days have been spent raining AND snowing?\n",
    "\n",
    "len(data_table.query('Rain and Snow')) / len(data_table)"
   ]
  },
  {
   "cell_type": "code",
   "execution_count": null,
   "metadata": {
    "colab": {},
    "colab_type": "code",
    "id": "xXSxHPmy4QeG",
    "outputId": "7dd66b5c-cadf-4541-c791-16317fbc4a68"
   },
   "outputs": [
    {
     "data": {
      "text/plain": [
       "0.3685990338164251"
      ]
     },
     "execution_count": 13,
     "metadata": {
      "tags": []
     },
     "output_type": "execute_result"
    }
   ],
   "source": [
    "# Calculate the percentage of days during the month you were born that were spent raining:\n",
    "\n",
    "june_rain = Counter(data_table.query('MONTH == 6')[\"Rain\"])\n",
    "june_rain[True] / (june_rain[True] + june_rain[False])"
   ]
  },
  {
   "cell_type": "markdown",
   "metadata": {
    "colab_type": "text",
    "id": "ySPN7s394QeZ"
   },
   "source": [
    "**CHALLENGE** In the next lesson, we will look at climate change between the early 20th century and today, can you calculate a difference in days spent snowing between the 1950's and 2000's?"
   ]
  },
  {
   "cell_type": "code",
   "execution_count": null,
   "metadata": {
    "colab": {},
    "colab_type": "code",
    "id": "RGFgLzE24Qec",
    "outputId": "07c193d2-55ed-4ebb-da60-9dbb3cdb492d"
   },
   "outputs": [
    {
     "name": "stdout",
     "output_type": "stream",
     "text": [
      "Snow days in 1950's 0.20208105147864183\n",
      "Snow days in 2000's 0.16374589266155531\n"
     ]
    }
   ],
   "source": [
    "# Calculate a change in the percentage of days spent snowing\n",
    "# during the 1950's and 2000's\n",
    "\n",
    "\n",
    "snow_1950 = Counter(data_table.query('YEAR < 1960')[\"Snow\"])\n",
    "snow_2000 = Counter(data_table.query('YEAR < 2010 and YEAR >= 2000')[\"Snow\"])\n",
    "\n",
    "print(\"Snow days in 1950's\", snow_1950[True] / (snow_1950[True] + snow_1950[False]))\n",
    "print(\"Snow days in 2000's\", snow_2000[True] / (snow_2000[True] + snow_2000[False]))\n"
   ]
  },
  {
   "cell_type": "markdown",
   "metadata": {
    "colab_type": "text",
    "id": "Rwoydpzr4wFD"
   },
   "source": [
    "By how much did the percentage change from the 1950's to the 2000's? Did it increase or decrease?\n",
    "\n",
    "**Answer:** 0.202 - 0.164 = 0.038 = decreased 3.8%"
   ]
  },
  {
   "cell_type": "markdown",
   "metadata": {
    "colab_type": "text",
    "id": "RUtEQDo04Qej"
   },
   "source": [
    "Nice job! You just practiced:\n",
    "\n",
    "    - Turning categorical variables into counts using `Counter`\n",
    "    - Calculating percentages from count variables\n",
    "    - Interpreting the results from basic statistical analysis"
   ]
  }
 ],
 "metadata": {
  "colab": {
   "collapsed_sections": [],
   "name": "KEY_Practice16_Intro_Stats_II.ipynb",
   "provenance": [],
   "version": "0.3.2"
  },
  "kernelspec": {
   "display_name": "Python 3",
   "language": "python",
   "name": "python3"
  },
  "language_info": {
   "codemirror_mode": {
    "name": "ipython",
    "version": 3
   },
   "file_extension": ".py",
   "mimetype": "text/x-python",
   "name": "python",
   "nbconvert_exporter": "python",
   "pygments_lexer": "ipython3",
   "version": "3.7.3"
  }
 },
 "nbformat": 4,
 "nbformat_minor": 2
}

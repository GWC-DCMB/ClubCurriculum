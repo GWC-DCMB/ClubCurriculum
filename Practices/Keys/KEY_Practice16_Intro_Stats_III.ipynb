{
 "cells": [
  {
   "cell_type": "markdown",
   "metadata": {
    "colab_type": "text",
    "id": "qrDyqOou9qYf"
   },
   "source": [
    "# Practice with Statistics (Part 3)!"
   ]
  },
  {
   "cell_type": "markdown",
   "metadata": {
    "colab_type": "text",
    "id": "bM7gHTuE9qYi"
   },
   "source": [
    "**Remember:**\n",
    "* Significance tests tell you the probability that a change happens purely by chance\n",
    "* A t-test is a significance test which compares *two groups*"
   ]
  },
  {
   "cell_type": "markdown",
   "metadata": {
    "colab_type": "text",
    "id": "l4uLzlrB9qYj"
   },
   "source": [
    "First, import numpy and pandas and the scipy statistical module:"
   ]
  },
  {
   "cell_type": "code",
   "execution_count": null,
   "metadata": {
    "colab": {},
    "colab_type": "code",
    "id": "lZ_fuvPO9qYk"
   },
   "outputs": [],
   "source": [
    "# load numpy and pandas and scipy.stats\n",
    "\n",
    "import numpy as np\n",
    "import pandas as pd\n",
    "import scipy.stats as stats"
   ]
  },
  {
   "cell_type": "code",
   "execution_count": null,
   "metadata": {},
   "outputs": [],
   "source": [
    "# mount Google Drive\n",
    "from google.colab import drive\n",
    "drive.mount('/content/gdrive')\n",
    "path = '/content/gdrive/My Drive/SummerExperience-master/'"
   ]
  },
  {
   "cell_type": "markdown",
   "metadata": {
    "colab_type": "text",
    "id": "Lm9jz9Yw9qYo"
   },
   "source": [
    "Load in the sample data from the Lesson:"
   ]
  },
  {
   "cell_type": "code",
   "execution_count": null,
   "metadata": {
    "colab": {},
    "colab_type": "code",
    "id": "Yxv47Lsr9qYp"
   },
   "outputs": [],
   "source": [
    "# read the csv file: '../Lessons/SampleData/detroit_weather_2.csv'\n",
    "data_table = pd.read_csv(path + 'Lessons/SampleData/detroit_weather_2.csv')"
   ]
  },
  {
   "cell_type": "code",
   "execution_count": null,
   "metadata": {
    "colab": {},
    "colab_type": "code",
    "id": "iS5vt1s_9qYs",
    "outputId": "48a58bee-28e4-4748-9859-61325acd7543"
   },
   "outputs": [
    {
     "data": {
      "text/html": [
       "<div>\n",
       "<style scoped>\n",
       "    .dataframe tbody tr th:only-of-type {\n",
       "        vertical-align: middle;\n",
       "    }\n",
       "\n",
       "    .dataframe tbody tr th {\n",
       "        vertical-align: top;\n",
       "    }\n",
       "\n",
       "    .dataframe thead th {\n",
       "        text-align: right;\n",
       "    }\n",
       "</style>\n",
       "<table border=\"1\" class=\"dataframe\">\n",
       "  <thead>\n",
       "    <tr style=\"text-align: right;\">\n",
       "      <th></th>\n",
       "      <th>YEAR</th>\n",
       "      <th>MONTH</th>\n",
       "      <th>DAY</th>\n",
       "      <th>Temperature</th>\n",
       "    </tr>\n",
       "  </thead>\n",
       "  <tbody>\n",
       "    <tr>\n",
       "      <th>0</th>\n",
       "      <td>1937</td>\n",
       "      <td>1</td>\n",
       "      <td>1</td>\n",
       "      <td>0.50</td>\n",
       "    </tr>\n",
       "    <tr>\n",
       "      <th>1</th>\n",
       "      <td>1937</td>\n",
       "      <td>1</td>\n",
       "      <td>2</td>\n",
       "      <td>0.17</td>\n",
       "    </tr>\n",
       "    <tr>\n",
       "      <th>2</th>\n",
       "      <td>1937</td>\n",
       "      <td>1</td>\n",
       "      <td>3</td>\n",
       "      <td>-1.06</td>\n",
       "    </tr>\n",
       "    <tr>\n",
       "      <th>3</th>\n",
       "      <td>1937</td>\n",
       "      <td>1</td>\n",
       "      <td>4</td>\n",
       "      <td>-3.89</td>\n",
       "    </tr>\n",
       "    <tr>\n",
       "      <th>4</th>\n",
       "      <td>1937</td>\n",
       "      <td>1</td>\n",
       "      <td>5</td>\n",
       "      <td>-0.17</td>\n",
       "    </tr>\n",
       "  </tbody>\n",
       "</table>\n",
       "</div>"
      ],
      "text/plain": [
       "   YEAR  MONTH  DAY  Temperature\n",
       "0  1937      1    1         0.50\n",
       "1  1937      1    2         0.17\n",
       "2  1937      1    3        -1.06\n",
       "3  1937      1    4        -3.89\n",
       "4  1937      1    5        -0.17"
      ]
     },
     "execution_count": 10,
     "metadata": {
      "tags": []
     },
     "output_type": "execute_result"
    }
   ],
   "source": [
    "# Print the head of the table to remind you of the format:\n",
    "\n",
    "data_table.head()"
   ]
  },
  {
   "cell_type": "code",
   "execution_count": null,
   "metadata": {
    "colab": {},
    "colab_type": "code",
    "id": "KpMbmmMw9qYz",
    "outputId": "f4bcb951-cf39-4656-a278-257b111b2885"
   },
   "outputs": [
    {
     "name": "stdout",
     "output_type": "stream",
     "text": [
      "[-2.33  0.11  1.28 ... -2.11 -0.67 -2.06] [ -3.78 -10.17 -12.11 ...   5.67   6.44  11.22]\n"
     ]
    }
   ],
   "source": [
    "# Pick two decades that we didn't look at during the lesson\n",
    "# extract the temperatures into numpy arrays\n",
    "\n",
    "temps_1960 = np.array(data_table.query('YEAR >= 1960 and YEAR < 1970')[\"Temperature\"] )\n",
    "temps_today = np.array(data_table.query('YEAR >= 2010 and YEAR < 2020')[\"Temperature\"] ) \n",
    "# note that the current decade isn't over... \n",
    "# even though there isn't yet data for 2020, we include it in the query so our code will still work in the year 2021!\n",
    "\n",
    "print(temps_1960, temps_today)"
   ]
  },
  {
   "cell_type": "code",
   "execution_count": null,
   "metadata": {
    "colab": {},
    "colab_type": "code",
    "id": "Joqc_JFE9qY4",
    "outputId": "0c1d19bd-2e07-4552-d521-3d67cf509c11"
   },
   "outputs": [
    {
     "name": "stdout",
     "output_type": "stream",
     "text": [
      "8.915261428962499\n",
      "9.666400235086689\n",
      "0.7511388061241906\n"
     ]
    }
   ],
   "source": [
    "# Calculate the means of your data to see if they differ\n",
    "\n",
    "print(np.mean(temps_1960))\n",
    "print(np.mean(temps_today)) "
   ]
  },
  {
   "cell_type": "code",
   "execution_count": null,
   "metadata": {
    "colab": {},
    "colab_type": "code",
    "id": "YsS4SeKY_G7P"
   },
   "outputs": [],
   "source": [
    "# Calculate the difference between the two means\n",
    "\n",
    "print(np.mean(temps_today) - np.mean(temps_1960)) # .75 degree increase"
   ]
  },
  {
   "cell_type": "code",
   "execution_count": null,
   "metadata": {
    "colab": {},
    "colab_type": "code",
    "id": "afLJNvxB9qY9",
    "outputId": "a6648401-f92c-4524-8049-7e26960a3e22"
   },
   "outputs": [
    {
     "data": {
      "text/plain": [
       "0.002958034438690926"
      ]
     },
     "execution_count": 21,
     "metadata": {
      "tags": []
     },
     "output_type": "execute_result"
    }
   ],
   "source": [
    "# Perform a t-test of these data to calculate the p value\n",
    "\n",
    "stats.ttest_ind(temps_1960, temps_today).pvalue"
   ]
  },
  {
   "cell_type": "markdown",
   "metadata": {
    "colab_type": "text",
    "id": "ojBn9HSA9qZD"
   },
   "source": [
    "Now, we will try using a different type of test, called an ANOVA (ANalysis Of VAriance) test. An ANOVA is similar to a t-test, but allows you to compare the variance of *multiple groups* in a single statistical test."
   ]
  },
  {
   "cell_type": "code",
   "execution_count": null,
   "metadata": {
    "colab": {},
    "colab_type": "code",
    "id": "u4KZlLsC9qZE",
    "outputId": "d6c8f3c2-6a1d-453c-f41c-ea2b3569853d"
   },
   "outputs": [
    {
     "data": {
      "text/plain": [
       "[array([  0.5 ,   0.17,  -1.06, ...,  -4.39,  -4.72, -10.33]),\n",
       " array([-8.33, -6.94, -6.67, ...,  1.61, -1.83,  0.61]),\n",
       " array([ 3.33,  5.89,  9.72, ..., -1.67, -3.39, -3.44]),\n",
       " array([-2.33,  0.11,  1.28, ..., -2.11, -0.67, -2.06]),\n",
       " array([-5.17, -4.56, -6.28, ...,  3.  ,  1.94,  0.17]),\n",
       " array([-0.56, -0.17, -1.83, ..., -1.83, -4.44,  1.39]),\n",
       " array([-1.17, -1.33,  2.22, ..., -3.5 ,  2.33, -0.56]),\n",
       " array([ 2.22,  8.44,  5.11, ..., -5.33, -5.44,  0.28]),\n",
       " array([ -3.78, -10.17, -12.11, ...,   5.67,   6.44,  11.22])]"
      ]
     },
     "execution_count": 33,
     "metadata": {
      "tags": []
     },
     "output_type": "execute_result"
    }
   ],
   "source": [
    "# Create an array where each element is the temperatures from a different decade.\n",
    "\n",
    "temps = [\n",
    "    np.array( data_table.query('YEAR < 1940')[\"Temperature\"] ), # 1930's\n",
    "    np.array( data_table.query('YEAR < 1950 and YEAR >= 1940')[\"Temperature\"] ), # 1940's\n",
    "    np.array( data_table.query('YEAR < 1960 and YEAR >= 1950')[\"Temperature\"] ), # 1950's\n",
    "    np.array( data_table.query('YEAR < 1970 and YEAR >= 1960')[\"Temperature\"] ), # 1960's\n",
    "    np.array( data_table.query('YEAR < 1980 and YEAR >= 1970')[\"Temperature\"] ), # 1970's\n",
    "    np.array( data_table.query('YEAR < 1990 and YEAR >= 1980')[\"Temperature\"] ), # 1980's\n",
    "    np.array( data_table.query('YEAR < 2000 and YEAR >= 1990')[\"Temperature\"] ), # 1990's\n",
    "    np.array( data_table.query('YEAR < 2010 and YEAR >= 2000')[\"Temperature\"] ), # 2000's\n",
    "    np.array( data_table.query('YEAR >= 2010')[\"Temperature\"] )  # 2010's    \n",
    "]"
   ]
  },
  {
   "cell_type": "code",
   "execution_count": null,
   "metadata": {
    "colab": {},
    "colab_type": "code",
    "id": "5Z6iVLVT9qZI",
    "outputId": "181c6c60-4a10-4a77-cdd5-54e5df07c3c0"
   },
   "outputs": [
    {
     "data": {
      "text/plain": [
       "[9.681990867579907,\n",
       " 9.483531344100738,\n",
       " 9.631117196056953,\n",
       " 8.915261428962499,\n",
       " 10.01000822143053,\n",
       " 10.385710375034218,\n",
       " 10.658524096385543,\n",
       " 10.51869112814896,\n",
       " 9.666400235086689]"
      ]
     },
     "execution_count": 40,
     "metadata": {
      "tags": []
     },
     "output_type": "execute_result"
    }
   ],
   "source": [
    "# print the mean for each item in the list\n",
    "\n",
    "list(map(np.mean, temps))"
   ]
  },
  {
   "cell_type": "code",
   "execution_count": null,
   "metadata": {
    "colab": {},
    "colab_type": "code",
    "id": "L0COp4_L9qZL",
    "outputId": "5ec9677b-156b-4c2d-cfe0-0c33bdc217d8"
   },
   "outputs": [
    {
     "data": {
      "text/plain": [
       "2.93434096269204e-14"
      ]
     },
     "execution_count": 41,
     "metadata": {
      "tags": []
     },
     "output_type": "execute_result"
    }
   ],
   "source": [
    "# Feed the items in your list into stats.f_oneway to perform an ANOVA test\n",
    "\n",
    "stats.f_oneway(*temps).pvalue"
   ]
  },
  {
   "cell_type": "markdown",
   "metadata": {
    "colab_type": "text",
    "id": "WKa0kWJ99qZP"
   },
   "source": [
    "Since we are including a lot more data, this p value is much lower! We can conclude from this that the average temperature is changing over time more than what you would expect if it was truely random!"
   ]
  },
  {
   "cell_type": "markdown",
   "metadata": {
    "colab_type": "text",
    "id": "w8OatONg9qZQ"
   },
   "source": [
    "Nice job! You just practiced:\n",
    "\n",
    "    - Using statistical tests to determine if two groups are significantly different\n",
    "    - Using t-tests and ANOVA tests from the scientific python package"
   ]
  }
 ],
 "metadata": {
  "colab": {
   "collapsed_sections": [],
   "name": "KEY_Practice17_Intro_Stats_III.ipynb",
   "provenance": [],
   "version": "0.3.2"
  },
  "kernelspec": {
   "display_name": "Python 3",
   "language": "python",
   "name": "python3"
  },
  "language_info": {
   "codemirror_mode": {
    "name": "ipython",
    "version": 3
   },
   "file_extension": ".py",
   "mimetype": "text/x-python",
   "name": "python",
   "nbconvert_exporter": "python",
   "pygments_lexer": "ipython3",
   "version": "3.7.3"
  }
 },
 "nbformat": 4,
 "nbformat_minor": 2
}

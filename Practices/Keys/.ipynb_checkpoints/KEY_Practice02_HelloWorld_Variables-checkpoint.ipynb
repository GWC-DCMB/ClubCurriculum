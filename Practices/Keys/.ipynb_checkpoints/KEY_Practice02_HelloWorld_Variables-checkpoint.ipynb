{
 "cells": [
  {
   "cell_type": "markdown",
   "metadata": {},
   "source": [
    "# Hello World ... Again\n",
    "\n",
    "Now it's time for you to practice writing some of your very own Python code!\n",
    "\n",
    "Our goals for the Data Science Summer Experience are for you to learn lots of new programming skills, but also to meet some new friends who will turn into your future data science colleagues. Write some Python code to teach your programming partner a little bit about yourself - share what Python prints with the programmer sitting next to you!"
   ]
  },
  {
   "cell_type": "code",
   "execution_count": 1,
   "metadata": {},
   "outputs": [
    {
     "name": "stdout",
     "output_type": "stream",
     "text": [
      "I'm Marlena, I'm in 20th grade and I've run four half marathons!\n"
     ]
    }
   ],
   "source": [
    "# command python to print a string with some information about yourself. \n",
    "# include your name, your grade level and a fun fact about yourself\n",
    "\n",
    "print(\"I'm Marlena, I'm in 20th grade and I've run four half marathons!\")\n",
    "\n",
    "\n",
    "# HINT: if you are getting an error message look back to the lesson. \n",
    "# What did we need to put around Hello World to make it print?"
   ]
  },
  {
   "cell_type": "markdown",
   "metadata": {},
   "source": [
    "Now let's use our coding skills to do some data science! \n",
    "\n",
    "In a 2012 study conducted at MIT, researchers analyzed the differences between males and females applying to jobs at a mid-size high technology company. Out of the total 10,102 applicants, only 3785 were female. Furthermore, only 177 females, compared to 626 males, applied for executive level positions. In the following exercises, you'll use your new coding skills to summarize this data with some statistics."
   ]
  },
  {
   "cell_type": "code",
   "execution_count": 2,
   "metadata": {},
   "outputs": [
    {
     "name": "stdout",
     "output_type": "stream",
     "text": [
      "10102 3785\n"
     ]
    }
   ],
   "source": [
    "# assign total number of applicants and total number of female applicants to \n",
    "# the variables total_applicants and total_female_applicants, respectively\n",
    "# print your variables\n",
    "total_applicants = 10102\n",
    "total_female_applicants = 3785\n",
    "print(total_applicants, total_female_applicants)\n"
   ]
  },
  {
   "cell_type": "code",
   "execution_count": 3,
   "metadata": {},
   "outputs": [
    {
     "name": "stdout",
     "output_type": "stream",
     "text": [
      "6317\n"
     ]
    }
   ],
   "source": [
    "# using these variable names, calculate the total number of male applicants using subtraction\n",
    "# assign this value to the variable total_male_applicants\n",
    "# print this variable\n",
    "total_male_applicants = total_applicants - total_female_applicants\n",
    "print(total_male_applicants)\n"
   ]
  },
  {
   "cell_type": "code",
   "execution_count": 4,
   "metadata": {},
   "outputs": [
    {
     "name": "stdout",
     "output_type": "stream",
     "text": [
      "62.53217184715898\n"
     ]
    }
   ],
   "source": [
    "# calculate the percentage of total applicants that are male using division\n",
    "# assign this value to the variable percent_male_applicants\n",
    "# print this variable\n",
    "percent_male_applicants = (total_male_applicants/total_applicants)*100\n",
    "print(percent_male_applicants)\n"
   ]
  },
  {
   "cell_type": "code",
   "execution_count": 5,
   "metadata": {},
   "outputs": [
    {
     "name": "stdout",
     "output_type": "stream",
     "text": [
      "37.46782815284102\n"
     ]
    }
   ],
   "source": [
    "# calculate the percentage of total applicants that were female using division\n",
    "# assign this value to the variable percent_female_applicants\n",
    "# print this variable\n",
    "percent_female_applicants = (total_female_applicants/total_applicants)*100\n",
    "print(percent_female_applicants)\n"
   ]
  },
  {
   "cell_type": "code",
   "execution_count": 7,
   "metadata": {},
   "outputs": [
    {
     "name": "stdout",
     "output_type": "stream",
     "text": [
      "626 177\n"
     ]
    }
   ],
   "source": [
    "# assign total number of male executive applicants and total number of female executive applicants\n",
    "# to the variables male_exec_applicants and female_exec_applicants, respectively\n",
    "# print your variables\n",
    "male_exec_applicants = 626\n",
    "female_exec_applicants = 177\n",
    "print(male_exec_applicants, female_exec_applicants)"
   ]
  },
  {
   "cell_type": "code",
   "execution_count": 8,
   "metadata": {},
   "outputs": [
    {
     "name": "stdout",
     "output_type": "stream",
     "text": [
      "803\n"
     ]
    }
   ],
   "source": [
    "# using these variable names, calculate the total number of executive applicants using addition\n",
    "# assign this value to the variable total_exec_applicants\n",
    "# print this variable\n",
    "total_exec_applicants = male_exec_applicants + female_exec_applicants\n",
    "print(total_exec_applicants)\n"
   ]
  },
  {
   "cell_type": "code",
   "execution_count": 12,
   "metadata": {},
   "outputs": [
    {
     "name": "stdout",
     "output_type": "stream",
     "text": [
      "7.948921005741437\n"
     ]
    }
   ],
   "source": [
    "# calculate the percentage of total applicants that applied for executive positions using division\n",
    "# assign this value to the variable percent_total_applicants_exec\n",
    "# print this variable\n",
    "percent_total_applicants_exec = (total_exec_applicants/total_applicants)*100\n",
    "print(percent_total_applicants_exec)"
   ]
  },
  {
   "cell_type": "code",
   "execution_count": 11,
   "metadata": {},
   "outputs": [
    {
     "name": "stdout",
     "output_type": "stream",
     "text": [
      "4.676354029062088\n"
     ]
    }
   ],
   "source": [
    "# calculate the percentage of female applicants that applied for executive positions using division\n",
    "# assign this value to the variable percent_female_applicants_exec\n",
    "# print this variable\n",
    "percent_female_applicants_exec = (female_exec_applicants/total_female_applicants)*100\n",
    "print(percent_female_applicants_exec)\n"
   ]
  },
  {
   "cell_type": "code",
   "execution_count": 13,
   "metadata": {},
   "outputs": [
    {
     "name": "stdout",
     "output_type": "stream",
     "text": [
      "9.909767294601867\n"
     ]
    }
   ],
   "source": [
    "# calculate the percentage of male applicants that applied for executive positions using division\n",
    "# assign this value to the variable percent_male_applicants_exec\n",
    "# print this variable\n",
    "percent_male_applicants_exec = (male_exec_applicants/total_male_applicants)*100\n",
    "print(percent_male_applicants_exec)\n"
   ]
  },
  {
   "cell_type": "markdown",
   "metadata": {},
   "source": [
    "Congratulations! You just used Python code to perform data analysis for the first time!\n",
    "\n",
    "What do you think of your results? In 2016, the National Center for Women & Information Technology (NCWIT) found that women held only 25% of all positions in computing, and this number has been declining since reaching its peak of 36% in 1991. Though these numbers may seem discouraging, there have never been more resources dedicated to closing the gender gap in tech. Your participation in the Data Science Summer Experience is a great first step to prepare you for being a future leader in the tech industry!"
   ]
  }
 ],
 "metadata": {
  "kernelspec": {
   "display_name": "Python 3",
   "language": "python",
   "name": "python3"
  },
  "language_info": {
   "codemirror_mode": {
    "name": "ipython",
    "version": 3
   },
   "file_extension": ".py",
   "mimetype": "text/x-python",
   "name": "python",
   "nbconvert_exporter": "python",
   "pygments_lexer": "ipython3",
   "version": "3.7.3"
  }
 },
 "nbformat": 4,
 "nbformat_minor": 2
}

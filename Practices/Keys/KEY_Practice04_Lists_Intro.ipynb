{
 "cells": [
  {
   "cell_type": "markdown",
   "metadata": {},
   "source": [
    "# Practice with lists!\n",
    "**Remember:**\n",
    "* Lists can be used to group different values together - it's just a collection of things.\n",
    "* You can make a list in Python by putting different things in a box of brackets `[]` separated by commas.\n",
    "\n",
    "First, make a list of pets including cat, dog, turtle, and any other pets you want to include. Store it in the variable `pets`:"
   ]
  },
  {
   "cell_type": "code",
   "execution_count": 1,
   "metadata": {},
   "outputs": [
    {
     "name": "stdout",
     "output_type": "stream",
     "text": [
      "['dog', 'cat', 'turtle']\n"
     ]
    }
   ],
   "source": [
    "# command Python to make a list of pets including dog, cat, and turtle. Store it in pets\n",
    "pets = ['dog','cat','turtle']\n",
    "# command Python to print pets\n",
    "print(pets)"
   ]
  },
  {
   "cell_type": "markdown",
   "metadata": {},
   "source": [
    "How many things are in your `pets` list?"
   ]
  },
  {
   "cell_type": "code",
   "execution_count": 2,
   "metadata": {},
   "outputs": [
    {
     "name": "stdout",
     "output_type": "stream",
     "text": [
      "3\n"
     ]
    }
   ],
   "source": [
    "# command Python to print the length of pets\n",
    "print(len(pets))"
   ]
  },
  {
   "cell_type": "markdown",
   "metadata": {},
   "source": [
    "Add another pet (snake) to your pets list. (Note that you know 2 ways to do this! As a challenge, try to remember both ways!)\n",
    "Print out the list and find the length of the list."
   ]
  },
  {
   "cell_type": "code",
   "execution_count": 3,
   "metadata": {},
   "outputs": [
    {
     "name": "stdout",
     "output_type": "stream",
     "text": [
      "['dog', 'cat', 'turtle', 'snake']\n",
      "4\n"
     ]
    }
   ],
   "source": [
    "# command Python to add 'snake' to your pets list \n",
    "# (challenge:  find 2 ways to do this)\n",
    "pets.append('snake')\n",
    "# command Python to print pets\n",
    "print(pets)\n",
    "# command Python to find the length of pets\n",
    "print(len(pets))"
   ]
  },
  {
   "cell_type": "markdown",
   "metadata": {},
   "source": [
    "Now let's make a list of numbers. Make a list of at least 5 numbers:"
   ]
  },
  {
   "cell_type": "code",
   "execution_count": 4,
   "metadata": {},
   "outputs": [
    {
     "name": "stdout",
     "output_type": "stream",
     "text": [
      "[0, 1, 2, 3, 4]\n",
      "5\n"
     ]
    }
   ],
   "source": [
    "# command Python to make a list of at least 5 numbers\n",
    "numbers = [0,1,2,3,4]\n",
    "# command Python to print the list of numbers\n",
    "print(numbers)\n",
    "# command Python to print the length of numbers\n",
    "print(len(numbers))"
   ]
  },
  {
   "cell_type": "markdown",
   "metadata": {},
   "source": [
    "Add your two lists (pets and numbers) together:"
   ]
  },
  {
   "cell_type": "code",
   "execution_count": 5,
   "metadata": {},
   "outputs": [
    {
     "data": {
      "text/plain": [
       "['dog', 'cat', 'turtle', 'snake', 0, 1, 2, 3, 4]"
      ]
     },
     "execution_count": 5,
     "metadata": {},
     "output_type": "execute_result"
    }
   ],
   "source": [
    "# command python to add pets and numbers\n",
    "pets + numbers"
   ]
  },
  {
   "cell_type": "markdown",
   "metadata": {},
   "source": [
    "Assign the value 3.14 to the variable pi:"
   ]
  },
  {
   "cell_type": "code",
   "execution_count": 6,
   "metadata": {
    "collapsed": true
   },
   "outputs": [],
   "source": [
    "# assign the value 3.14 to the variable pi\n",
    "pi = 3.14"
   ]
  },
  {
   "cell_type": "markdown",
   "metadata": {},
   "source": [
    "Add the variable pi to the list numbers:"
   ]
  },
  {
   "cell_type": "code",
   "execution_count": 7,
   "metadata": {},
   "outputs": [
    {
     "name": "stdout",
     "output_type": "stream",
     "text": [
      "[0, 1, 2, 3, 4, 3.14]\n",
      "6\n"
     ]
    }
   ],
   "source": [
    "# add pi to numbers\n",
    "numbers.append(pi)\n",
    "# print numbers\n",
    "print(numbers)\n",
    "# print the length of numbers\n",
    "print(len(numbers))"
   ]
  },
  {
   "cell_type": "markdown",
   "metadata": {},
   "source": [
    "What happens if you add pi to numbers again?"
   ]
  },
  {
   "cell_type": "code",
   "execution_count": 8,
   "metadata": {},
   "outputs": [
    {
     "name": "stdout",
     "output_type": "stream",
     "text": [
      "[0, 1, 2, 3, 4, 3.14, 3.14]\n",
      "7\n"
     ]
    }
   ],
   "source": [
    "# add pi to numbers again\n",
    "numbers.append(pi)\n",
    "# print numbers\n",
    "print(numbers)\n",
    "# print the length of numbers\n",
    "print(len(numbers))"
   ]
  },
  {
   "cell_type": "markdown",
   "metadata": {},
   "source": [
    "Add two more numbers to your numbers list at the same time:"
   ]
  },
  {
   "cell_type": "code",
   "execution_count": 9,
   "metadata": {},
   "outputs": [
    {
     "name": "stdout",
     "output_type": "stream",
     "text": [
      "[0, 1, 2, 3, 4, 3.14, 3.14]\n",
      "7\n",
      "[0, 1, 2, 3, 4, 3.14, 3.14, 1, 2]\n",
      "9\n"
     ]
    }
   ],
   "source": [
    "# print your numbers list\n",
    "print(numbers)\n",
    "# print the length of your numbers list\n",
    "print(len(numbers))\n",
    "# add 2 numbers (your choice) to your numbers list\n",
    "numbers = numbers + [1,2]\n",
    "# print your numbers list\n",
    "print(numbers)\n",
    "# print the length of numbers\n",
    "print(len(numbers))"
   ]
  },
  {
   "cell_type": "markdown",
   "metadata": {},
   "source": [
    "**Challenge:** Duplicate your list of pets so that it contains 2 of every pet in your list (ex. 2 dogs, 2 cats, etc.). *Hint:* use the `*` operator."
   ]
  },
  {
   "cell_type": "code",
   "execution_count": 10,
   "metadata": {},
   "outputs": [
    {
     "data": {
      "text/plain": [
       "['dog', 'cat', 'turtle', 'snake', 'dog', 'cat', 'turtle', 'snake']"
      ]
     },
     "execution_count": 10,
     "metadata": {},
     "output_type": "execute_result"
    }
   ],
   "source": [
    "# duplicate list of pets\n",
    "pets*2"
   ]
  },
  {
   "cell_type": "markdown",
   "metadata": {},
   "source": [
    "Nice job! You just practiced:\n",
    "    - Making a list ([])\n",
    "    - Finding the length of a list (len)\n",
    "    - Adding lists together (+)\n",
    "    - Adding things to a list (.append)"
   ]
  }
 ],
 "metadata": {
  "kernelspec": {
   "display_name": "Python 3",
   "language": "python",
   "name": "python3"
  },
  "language_info": {
   "codemirror_mode": {
    "name": "ipython",
    "version": 3
   },
   "file_extension": ".py",
   "mimetype": "text/x-python",
   "name": "python",
   "nbconvert_exporter": "python",
   "pygments_lexer": "ipython3",
   "version": "3.6.1"
  }
 },
 "nbformat": 4,
 "nbformat_minor": 2
}

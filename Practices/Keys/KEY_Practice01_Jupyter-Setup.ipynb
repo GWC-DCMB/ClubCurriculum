{
 "cells": [
  {
   "cell_type": "markdown",
   "metadata": {},
   "source": [
    "# Jupyter Setup\n",
    "\n",
    "Hello! You've successfully opened this Jupyter Notebook in Google Colab. Congrats!"
   ]
  },
  {
   "cell_type": "markdown",
   "metadata": {},
   "source": [
    "## Writing code\n",
    "\n",
    "A Jupyter Notebook is a file that lets us run code and see the output right below it. Every chunk of code is called a cell. You can run a code cell by pressing the play button next to it. Hover your mouse over the cell below and press the play button to the left to see what happens!"
   ]
  },
  {
   "cell_type": "code",
   "execution_count": 1,
   "metadata": {},
   "outputs": [
    {
     "data": {
      "text/plain": [
       "5"
      ]
     },
     "execution_count": 1,
     "metadata": {},
     "output_type": "execute_result"
    }
   ],
   "source": [
    "2 + 3"
   ]
  },
  {
   "cell_type": "markdown",
   "metadata": {},
   "source": [
    "Isn't that cool? Python did the math for us and showed us the answer. Like many programming languages, you can use Python just like a calculator. \n",
    "\n",
    "You can add code cells by pressing the button `+ Code` in the upper left corner of the toolbar. Try it here! Create a new code cell and add two numbers together."
   ]
  },
  {
   "cell_type": "code",
   "execution_count": 3,
   "metadata": {},
   "outputs": [
    {
     "data": {
      "text/plain": [
       "9"
      ]
     },
     "execution_count": 3,
     "metadata": {},
     "output_type": "execute_result"
    }
   ],
   "source": [
    "# any two numbers with an addition sign between them\n",
    "5 + 4"
   ]
  },
  {
   "cell_type": "markdown",
   "metadata": {},
   "source": [
    "Besides addition with the plus symbol (`+`), Python can do lots of other operations including subtraction (`-`), multiplication (`*`), and division (`/`)."
   ]
  },
  {
   "cell_type": "markdown",
   "metadata": {},
   "source": [
    "## Writing Text\n",
    "\n",
    "We can use text cells (this is one!) to write descriptions of what our code does, why we wrote it, and ideas for future work. We can use underscores (`_`) to make text _italicized_ and double asterisks (`**`) to make text **bold**. We can also make a bulleted list using dashes `-` with on item on each line:\n",
    "- item 1\n",
    "- item 2\n",
    "- item 3\n",
    "\n",
    "Press the button `+ Text` in the toolbar to create a new text cell. Then, write a list of 3 things you're looking forward to about this club. Make the one you're most excited about **bold**. Share your answer with your neighbor!"
   ]
  },
  {
   "cell_type": "markdown",
   "metadata": {},
   "source": [
    "_Here, students should have written what they're looking forward to in the GWC club._"
   ]
  },
  {
   "cell_type": "markdown",
   "metadata": {},
   "source": [
    "## Moving cells\n",
    "\n",
    "You can move cells around to change the order in the notebook by pressing the arrow buttons in the upper right corner of the cell. Try moving the cells below so that they're in ascending order."
   ]
  },
  {
   "cell_type": "markdown",
   "metadata": {},
   "source": [
    "**This is cell 1** _(it should be first)_"
   ]
  },
  {
   "cell_type": "markdown",
   "metadata": {},
   "source": [
    "**This is cell 2** _(it should be second)_"
   ]
  },
  {
   "cell_type": "markdown",
   "metadata": {},
   "source": [
    "**This is cell 3** _(it should be third)_"
   ]
  },
  {
   "cell_type": "markdown",
   "metadata": {},
   "source": [
    "# Saving notebooks\n",
    "\n",
    "Throughout the club, be sure to save your notebooks so you can access your work later! To save a notebook, press `Copy to Drive` in the upper left corner. Once you've copied a notebook to Google Drive, you can use the keyboard shortcut `Ctrl` + `S` to save it again as you make changes and write new code.\n",
    "\n",
    "Save this notebook if you haven't already!"
   ]
  },
  {
   "cell_type": "markdown",
   "metadata": {},
   "source": [
    "Now let's make sure you have access to your Jupyter notebooks. Go to your [Google Drive](https://drive.google.com) and open the folder `Colab Notebooks`. There should be a copy of this notebook -- double-click it and select `Open with Google Colaboratory`. You should see all of your work in it. If you run into any problems, ask a facilitator for help."
   ]
  },
  {
   "cell_type": "code",
   "execution_count": null,
   "metadata": {},
   "outputs": [],
   "source": []
  }
 ],
 "metadata": {
  "kernelspec": {
   "display_name": "Python 3",
   "language": "python",
   "name": "python3"
  },
  "language_info": {
   "codemirror_mode": {
    "name": "ipython",
    "version": 3
   },
   "file_extension": ".py",
   "mimetype": "text/x-python",
   "name": "python",
   "nbconvert_exporter": "python",
   "pygments_lexer": "ipython3",
   "version": "3.7.3"
  }
 },
 "nbformat": 4,
 "nbformat_minor": 4
}

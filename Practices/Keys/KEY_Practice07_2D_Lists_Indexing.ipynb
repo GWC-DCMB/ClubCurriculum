{
 "cells": [
  {
   "cell_type": "markdown",
   "metadata": {},
   "source": [
    "# Practice with 2D list indexing!\n",
    "**Remember:**\n",
    "* Lists can be used to group different values together - it's just a collection of things.\n",
    "* You can make a list in Python by putting different things in a box of brackets `[]` separated by commas.\n",
    "* 2D lists are lists of lists\n",
    "* You can double-index 2D lists to get an element from the sub-list\n",
    "\n",
    "Let's use our list of  animals:"
   ]
  },
  {
   "cell_type": "code",
   "execution_count": 1,
   "metadata": {},
   "outputs": [
    {
     "name": "stdout",
     "output_type": "stream",
     "text": [
      "[['cat', 'dog', 'elephant'], ['fish', 'seahorse', 'whale'], ['robin', 'cardinal', 'bat']]\n"
     ]
    }
   ],
   "source": [
    "# command Python to make a list of animals\n",
    "animals = [['cat','dog','elephant'],\n",
    "           ['fish','seahorse','whale'],\n",
    "           ['robin', 'cardinal', 'bat']]\n",
    "\n",
    "# command Python to print animals\n",
    "print(animals)"
   ]
  },
  {
   "cell_type": "markdown",
   "metadata": {},
   "source": [
    "Get the aquatic animals from your list:"
   ]
  },
  {
   "cell_type": "code",
   "execution_count": 2,
   "metadata": {},
   "outputs": [
    {
     "data": {
      "text/plain": [
       "['fish', 'seahorse', 'whale']"
      ]
     },
     "execution_count": 2,
     "metadata": {},
     "output_type": "execute_result"
    }
   ],
   "source": [
    "# command Python to get aquatic animals from your list\n",
    "animals[1]"
   ]
  },
  {
   "cell_type": "markdown",
   "metadata": {},
   "source": [
    "What if you want to get seahorse from animals?"
   ]
  },
  {
   "cell_type": "code",
   "execution_count": 3,
   "metadata": {},
   "outputs": [
    {
     "data": {
      "text/plain": [
       "'seahorse'"
      ]
     },
     "execution_count": 3,
     "metadata": {},
     "output_type": "execute_result"
    }
   ],
   "source": [
    "# command Python to get seahorse from animals\n",
    "animals[1][1]"
   ]
  },
  {
   "cell_type": "markdown",
   "metadata": {},
   "source": [
    "How about getting elephant from the animals list?"
   ]
  },
  {
   "cell_type": "code",
   "execution_count": 4,
   "metadata": {},
   "outputs": [
    {
     "data": {
      "text/plain": [
       "'elephant'"
      ]
     },
     "execution_count": 4,
     "metadata": {},
     "output_type": "execute_result"
    }
   ],
   "source": [
    "# command Python to get elephant from animals\n",
    "animals[0][2]"
   ]
  },
  {
   "cell_type": "markdown",
   "metadata": {},
   "source": [
    "Now create a list of your favorite land, aquatic, and air animals by subsetting the `animals` list. Call this list favorites and print it out to see if you indexed corretcly:"
   ]
  },
  {
   "cell_type": "code",
   "execution_count": 5,
   "metadata": {},
   "outputs": [
    {
     "name": "stdout",
     "output_type": "stream",
     "text": [
      "['elephant', 'whale', 'bat']\n"
     ]
    }
   ],
   "source": [
    "# command Python to make a list called favorites with your favorite of each animal\n",
    "favorites = [animals[0][2],animals[1][2],animals[2][2]]\n",
    "# command Python to print favorites\n",
    "print(favorites)"
   ]
  },
  {
   "cell_type": "markdown",
   "metadata": {},
   "source": [
    "**Challenge:** Using your 2D list of numbers from 1 to 20 get the even numbers from the list:"
   ]
  },
  {
   "cell_type": "code",
   "execution_count": 6,
   "metadata": {},
   "outputs": [
    {
     "name": "stdout",
     "output_type": "stream",
     "text": [
      "[2, 4, 6, 8, 10, 12, 14, 16, 18, 20]\n"
     ]
    }
   ],
   "source": [
    "# make 2D list of numbers\n",
    "numbers = [[1,3,5,7,9,11,13,15,17,19],\n",
    "           [2,4,6,8,10,12,14,16,18,20]]\n",
    "# get the even numbers from numbers\n",
    "print(numbers[1])"
   ]
  },
  {
   "cell_type": "markdown",
   "metadata": {},
   "source": [
    "Now get your age from the list of numbers:"
   ]
  },
  {
   "cell_type": "code",
   "execution_count": 7,
   "metadata": {},
   "outputs": [
    {
     "name": "stdout",
     "output_type": "stream",
     "text": [
      "15\n"
     ]
    }
   ],
   "source": [
    "# get your age from numbers and save it to age\n",
    "age = numbers[0][7]\n",
    "# print age to see if you did it correctly\n",
    "print(age)"
   ]
  },
  {
   "cell_type": "markdown",
   "metadata": {},
   "source": [
    "Add 5 to your age and save it to age_plus_5. What do you think you'll be doing in 5 years?"
   ]
  },
  {
   "cell_type": "code",
   "execution_count": 8,
   "metadata": {},
   "outputs": [
    {
     "name": "stdout",
     "output_type": "stream",
     "text": [
      "20\n"
     ]
    }
   ],
   "source": [
    "# add 5 to your age\n",
    "age_plus_5 = age + 5\n",
    "# print age_plus_5\n",
    "print(age_plus_5)"
   ]
  },
  {
   "cell_type": "markdown",
   "metadata": {},
   "source": [
    "Now add 5 to age_plus_5 and save it to the variable age_plus_10. What do you think you'll be doing in 10 years?"
   ]
  },
  {
   "cell_type": "code",
   "execution_count": 9,
   "metadata": {},
   "outputs": [
    {
     "name": "stdout",
     "output_type": "stream",
     "text": [
      "25\n"
     ]
    }
   ],
   "source": [
    "# add 5 to age_plus_10\n",
    "age_plus_10 = age_plus_5 + 5\n",
    "# print age_plus_10\n",
    "print(age_plus_10)"
   ]
  },
  {
   "cell_type": "markdown",
   "metadata": {},
   "source": [
    "Nice job! You just practiced:\n",
    "* Indexing a 2D list (a list of lists)\n",
    "* Making a new list from a subset of a 2D list\n",
    "* Saving things to variables\n",
    "* Adding variables and numbers"
   ]
  }
 ],
 "metadata": {
  "kernelspec": {
   "display_name": "Python 3",
   "language": "python",
   "name": "python3"
  },
  "language_info": {
   "codemirror_mode": {
    "name": "ipython",
    "version": 3
   },
   "file_extension": ".py",
   "mimetype": "text/x-python",
   "name": "python",
   "nbconvert_exporter": "python",
   "pygments_lexer": "ipython3",
   "version": "3.7.3"
  }
 },
 "nbformat": 4,
 "nbformat_minor": 2
}

{
 "cells": [
  {
   "cell_type": "markdown",
   "metadata": {},
   "source": [
    "# Practice with 2D lists!\n",
    "**Remember:**\n",
    "* Lists can be used to group different values together - it's just a collection of things.\n",
    "* You can make a list in Python by putting different things in a box of brackets `[]` separated by commas.\n",
    "* 2D lists are lists of lists\n",
    "\n",
    "First, make a list of land animals including cat, dog, elephant, and any other land animals you want to include. Store it in the variable `land`:"
   ]
  },
  {
   "cell_type": "code",
   "execution_count": 1,
   "metadata": {},
   "outputs": [
    {
     "name": "stdout",
     "output_type": "stream",
     "text": [
      "['cat', 'dog', 'elephant']\n"
     ]
    }
   ],
   "source": [
    "# command Python to make a list of land animals including dog, cat, and elephant. Store it in land\n",
    "land = ['cat','dog','elephant']\n",
    "\n",
    "# command Python to print land\n",
    "print(land)"
   ]
  },
  {
   "cell_type": "markdown",
   "metadata": {},
   "source": [
    "Second, make a list of aquatic animals including fish, seahorse, and whale. Store it in the variable `aquatic`:"
   ]
  },
  {
   "cell_type": "code",
   "execution_count": 2,
   "metadata": {},
   "outputs": [
    {
     "name": "stdout",
     "output_type": "stream",
     "text": [
      "['fish', 'seahorse', 'whale']\n"
     ]
    }
   ],
   "source": [
    "# command Python to make a list of aquatic animals including fish, seahorse, and whale. Store it in aquatic\n",
    "aquatic = ['fish','seahorse','whale']\n",
    "\n",
    "# command Python to print aquatic\n",
    "print(aquatic)"
   ]
  },
  {
   "cell_type": "markdown",
   "metadata": {},
   "source": [
    "How many things are in your `land` list? How about your `aquatic` list?"
   ]
  },
  {
   "cell_type": "code",
   "execution_count": 3,
   "metadata": {},
   "outputs": [
    {
     "name": "stdout",
     "output_type": "stream",
     "text": [
      "3\n",
      "3\n"
     ]
    }
   ],
   "source": [
    "# command Python to print the length of land\n",
    "print(len(land))\n",
    "\n",
    "# command Python to print the length of aquatic\n",
    "print(len(aquatic))\n"
   ]
  },
  {
   "cell_type": "markdown",
   "metadata": {},
   "source": [
    "Okay, time to make a 2D list! Combine land and aquatic into a 2D list called `animals`:"
   ]
  },
  {
   "cell_type": "code",
   "execution_count": 4,
   "metadata": {},
   "outputs": [
    {
     "name": "stdout",
     "output_type": "stream",
     "text": [
      "[['cat', 'dog', 'elephant'], ['fish', 'seahorse', 'whale']]\n"
     ]
    }
   ],
   "source": [
    "# command Python to make a 2D list of animals that contains land and aquatic\n",
    "animals = [land, aquatic]\n",
    "\n",
    "# commadn Python to print animals\n",
    "print(animals)"
   ]
  },
  {
   "cell_type": "markdown",
   "metadata": {
    "collapsed": true
   },
   "source": [
    "Now, create another list called air and include robin, cardinal, and bat."
   ]
  },
  {
   "cell_type": "code",
   "execution_count": 5,
   "metadata": {
    "collapsed": true
   },
   "outputs": [],
   "source": [
    "# command Python to make a list called air\n",
    "air = ['robin','cardinal','bat']"
   ]
  },
  {
   "cell_type": "markdown",
   "metadata": {},
   "source": [
    "Add air to your 2D animals list."
   ]
  },
  {
   "cell_type": "code",
   "execution_count": 6,
   "metadata": {},
   "outputs": [
    {
     "name": "stdout",
     "output_type": "stream",
     "text": [
      "[['cat', 'dog', 'elephant'], ['fish', 'seahorse', 'whale'], ['robin', 'cardinal', 'bat']]\n"
     ]
    },
    {
     "data": {
      "text/plain": [
       "3"
      ]
     },
     "execution_count": 6,
     "metadata": {},
     "output_type": "execute_result"
    }
   ],
   "source": [
    "# command Python to add air to your animals list \n",
    "animals.append(air)\n",
    "\n",
    "# command Python to print animals\n",
    "print(animals)\n",
    "\n",
    "# command Python to find the length of animals\n",
    "len(animals)"
   ]
  },
  {
   "cell_type": "markdown",
   "metadata": {},
   "source": [
    "**Challenge:** Make a 2D list of numbers from 1 to 20 where the odd numbers are in the first list and the even numbers are in teh second list"
   ]
  },
  {
   "cell_type": "code",
   "execution_count": 16,
   "metadata": {},
   "outputs": [
    {
     "name": "stdout",
     "output_type": "stream",
     "text": [
      "[[1, 3, 5, 7, 9, 11, 13, 15, 17, 19], [2, 4, 6, 8, 10, 12, 14, 16, 18, 20]]\n"
     ]
    }
   ],
   "source": [
    "# make 2D list of numbers\n",
    "odd = [1,3,5,7,9,11,13,15,17,19]\n",
    "even = [2,4,6,8,10,12,14,16,18,20]\n",
    "all_nums = [odd,even]\n",
    "# print out 2D list of numbers to see if you did it right!\n",
    "print(all_nums)"
   ]
  },
  {
   "cell_type": "markdown",
   "metadata": {},
   "source": [
    "Now add your animals list and your numbers list together, print it out, and find the length!"
   ]
  },
  {
   "cell_type": "code",
   "execution_count": 18,
   "metadata": {},
   "outputs": [
    {
     "name": "stdout",
     "output_type": "stream",
     "text": [
      "[['cat', 'dog', 'elephant'], ['fish', 'seahorse', 'whale'], ['robin', 'cardinal', 'bat'], [1, 3, 5, 7, 9, 11, 13, 15, 17, 19], [2, 4, 6, 8, 10, 12, 14, 16, 18, 20]]\n"
     ]
    },
    {
     "data": {
      "text/plain": [
       "5"
      ]
     },
     "execution_count": 18,
     "metadata": {},
     "output_type": "execute_result"
    }
   ],
   "source": [
    "# add your animals list and your numbers list together\n",
    "both_lists = animals + all_nums\n",
    "# print new list\n",
    "print(both_lists)\n",
    "# find length of new list\n",
    "len(both_lists)"
   ]
  },
  {
   "cell_type": "markdown",
   "metadata": {},
   "source": [
    "Nice job! You just practiced:\n",
    "    - Making a 2D list (a list of lists)\n",
    "    - Finding the length of a 2D list (len)\n",
    "    - Adding 2D lists together (+)\n",
    "    - Adding things to a 2D list (.append)"
   ]
  }
 ],
 "metadata": {
  "kernelspec": {
   "display_name": "Python 3",
   "language": "python",
   "name": "python3"
  },
  "language_info": {
   "codemirror_mode": {
    "name": "ipython",
    "version": 3
   },
   "file_extension": ".py",
   "mimetype": "text/x-python",
   "name": "python",
   "nbconvert_exporter": "python",
   "pygments_lexer": "ipython3",
   "version": "3.6.1"
  }
 },
 "nbformat": 4,
 "nbformat_minor": 2
}

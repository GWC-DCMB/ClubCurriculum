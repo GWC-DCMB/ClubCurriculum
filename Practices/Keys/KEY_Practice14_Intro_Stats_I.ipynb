{
 "cells": [
  {
   "cell_type": "markdown",
   "metadata": {
    "colab_type": "text",
    "id": "ULHxKZ2Tx-DJ"
   },
   "source": [
    "# Practice with Statistics!"
   ]
  },
  {
   "cell_type": "markdown",
   "metadata": {
    "colab_type": "text",
    "id": "ryaTRMrFx-DL"
   },
   "source": [
    "**Remember:**\n",
    "* The mean of an array can be calculated by `np.mean` and medians can be calculated with `np.mean`.\n",
    "* Means and medians are different types of central tendancy measures, which tell you about how the average of a dataset behaves."
   ]
  },
  {
   "cell_type": "markdown",
   "metadata": {
    "colab_type": "text",
    "id": "QO4wgWSzx-DM"
   },
   "source": [
    "First, import numpy and pandas:"
   ]
  },
  {
   "cell_type": "code",
   "execution_count": null,
   "metadata": {
    "colab": {},
    "colab_type": "code",
    "id": "2a_Ktj8dx-DM"
   },
   "outputs": [],
   "source": [
    "# load numpy and pandas\n",
    "\n",
    "import numpy as np\n",
    "import pandas as pd"
   ]
  },
  {
   "cell_type": "code",
   "execution_count": null,
   "metadata": {},
   "outputs": [],
   "source": [
    "# mount Google Drive\n",
    "from google.colab import drive\n",
    "drive.mount('/content/gdrive')\n",
    "path = '/content/gdrive/My Drive/SummerExperience-master/'"
   ]
  },
  {
   "cell_type": "markdown",
   "metadata": {
    "colab_type": "text",
    "id": "n22EbBiDx-DT"
   },
   "source": [
    "Load in the sample data from the Lesson:"
   ]
  },
  {
   "cell_type": "code",
   "execution_count": null,
   "metadata": {
    "colab": {},
    "colab_type": "code",
    "id": "QWxVPc7kx-DV"
   },
   "outputs": [],
   "source": [
    "# load the csv file 'Lessons/SampleData/iris.csv'\n",
    "data_table = pd.read_csv(path + 'Lessons/SampleData/iris.csv')"
   ]
  },
  {
   "cell_type": "markdown",
   "metadata": {
    "colab_type": "text",
    "id": "XjG4hRKqx-DY"
   },
   "source": [
    "Now print out the table to see what other columns you can look at for practice:"
   ]
  },
  {
   "cell_type": "code",
   "execution_count": null,
   "metadata": {
    "colab": {},
    "colab_type": "code",
    "id": "JhYKTJJCx-DZ",
    "outputId": "1204077f-2d8c-4749-cdb9-5939d02648a5"
   },
   "outputs": [
    {
     "data": {
      "text/html": [
       "<div>\n",
       "<style scoped>\n",
       "    .dataframe tbody tr th:only-of-type {\n",
       "        vertical-align: middle;\n",
       "    }\n",
       "\n",
       "    .dataframe tbody tr th {\n",
       "        vertical-align: top;\n",
       "    }\n",
       "\n",
       "    .dataframe thead th {\n",
       "        text-align: right;\n",
       "    }\n",
       "</style>\n",
       "<table border=\"1\" class=\"dataframe\">\n",
       "  <thead>\n",
       "    <tr style=\"text-align: right;\">\n",
       "      <th></th>\n",
       "      <th>sepal_length</th>\n",
       "      <th>sepal_width</th>\n",
       "      <th>petal_length</th>\n",
       "      <th>petal_width</th>\n",
       "      <th>species</th>\n",
       "    </tr>\n",
       "  </thead>\n",
       "  <tbody>\n",
       "    <tr>\n",
       "      <th>0</th>\n",
       "      <td>5.1</td>\n",
       "      <td>3.5</td>\n",
       "      <td>1.4</td>\n",
       "      <td>0.2</td>\n",
       "      <td>setosa</td>\n",
       "    </tr>\n",
       "    <tr>\n",
       "      <th>1</th>\n",
       "      <td>4.9</td>\n",
       "      <td>3.0</td>\n",
       "      <td>1.4</td>\n",
       "      <td>0.2</td>\n",
       "      <td>setosa</td>\n",
       "    </tr>\n",
       "    <tr>\n",
       "      <th>2</th>\n",
       "      <td>4.7</td>\n",
       "      <td>3.2</td>\n",
       "      <td>1.3</td>\n",
       "      <td>0.2</td>\n",
       "      <td>setosa</td>\n",
       "    </tr>\n",
       "    <tr>\n",
       "      <th>3</th>\n",
       "      <td>4.6</td>\n",
       "      <td>3.1</td>\n",
       "      <td>1.5</td>\n",
       "      <td>0.2</td>\n",
       "      <td>setosa</td>\n",
       "    </tr>\n",
       "    <tr>\n",
       "      <th>4</th>\n",
       "      <td>5.0</td>\n",
       "      <td>3.6</td>\n",
       "      <td>1.4</td>\n",
       "      <td>0.2</td>\n",
       "      <td>setosa</td>\n",
       "    </tr>\n",
       "  </tbody>\n",
       "</table>\n",
       "</div>"
      ],
      "text/plain": [
       "   sepal_length  sepal_width  petal_length  petal_width species\n",
       "0           5.1          3.5           1.4          0.2  setosa\n",
       "1           4.9          3.0           1.4          0.2  setosa\n",
       "2           4.7          3.2           1.3          0.2  setosa\n",
       "3           4.6          3.1           1.5          0.2  setosa\n",
       "4           5.0          3.6           1.4          0.2  setosa"
      ]
     },
     "execution_count": 4,
     "metadata": {
      "tags": []
     },
     "output_type": "execute_result"
    }
   ],
   "source": [
    "# Print the data_table array\n",
    "\n",
    "data_table.head()"
   ]
  },
  {
   "cell_type": "markdown",
   "metadata": {
    "colab_type": "text",
    "id": "rvjs85u0x-Dh"
   },
   "source": [
    "Pick one of the metrics other than `sepal_length` and subset this column into three different numpy arrays, one for each species ('setosa', 'versicolor', and 'virginica'):"
   ]
  },
  {
   "cell_type": "code",
   "execution_count": null,
   "metadata": {
    "colab": {},
    "colab_type": "code",
    "id": "9wn2SA2nx-Di"
   },
   "outputs": [],
   "source": [
    "# Load one of the parameters above into three numpy arrays, based on species\n",
    "# Hint, you can use the pandas query function to filter the arrays\n",
    "\n",
    "\n",
    "petal_setosa = data_table.query('species == \"setosa\"')['petal_length']\n",
    "\n",
    "petal_virginica = data_table.query('species == \"virginica\"')['petal_length']\n",
    "\n",
    "petal_versicolor = data_table.query('species == \"versicolor\"')['petal_length']\n"
   ]
  },
  {
   "cell_type": "markdown",
   "metadata": {
    "colab_type": "text",
    "id": "LxojyoPox-Dl"
   },
   "source": [
    "Calculate the means of each of the species arrays:"
   ]
  },
  {
   "cell_type": "code",
   "execution_count": null,
   "metadata": {
    "colab": {},
    "colab_type": "code",
    "id": "t3zcnQc6x-Dm",
    "outputId": "f0a7619d-8992-4010-db6b-7ba652aecaf5"
   },
   "outputs": [
    {
     "data": {
      "text/plain": [
       "[1.4620000000000002, 5.552, 4.26]"
      ]
     },
     "execution_count": 14,
     "metadata": {
      "tags": []
     },
     "output_type": "execute_result"
    }
   ],
   "source": [
    "# Calculate the means of the three arrays you generated above\n",
    "\n",
    "means = [\n",
    "    np.mean(petal_setosa),\n",
    "    np.mean(petal_virginica),\n",
    "    np.mean(petal_versicolor)\n",
    "]\n",
    "\n",
    "means"
   ]
  },
  {
   "cell_type": "markdown",
   "metadata": {
    "colab_type": "text",
    "id": "8Ah510e0x-Dq"
   },
   "source": [
    "Calculate the medians of each of the species arrays:"
   ]
  },
  {
   "cell_type": "code",
   "execution_count": null,
   "metadata": {
    "colab": {},
    "colab_type": "code",
    "id": "WsFNOdBix-Dr",
    "outputId": "8baa9ca8-db5f-490e-fa25-69c3887e1349"
   },
   "outputs": [
    {
     "data": {
      "text/plain": [
       "[1.5, 5.55, 4.35]"
      ]
     },
     "execution_count": 15,
     "metadata": {
      "tags": []
     },
     "output_type": "execute_result"
    }
   ],
   "source": [
    "# Calculate the medians of the three arrays you generated above:\n",
    "\n",
    "medians = [\n",
    "    np.median(petal_setosa),\n",
    "    np.median(petal_virginica),\n",
    "    np.median(petal_versicolor)\n",
    "]\n",
    "\n",
    "medians"
   ]
  },
  {
   "cell_type": "markdown",
   "metadata": {
    "colab_type": "text",
    "id": "owj-Da1Sx-Dv"
   },
   "source": [
    "Compare the means and medians for each of the species, are the means and medians similar to each other? Do different species have different means?"
   ]
  },
  {
   "cell_type": "code",
   "execution_count": null,
   "metadata": {
    "colab": {},
    "colab_type": "code",
    "id": "EkdWPFmtx-Dw",
    "outputId": "affebe4d-c891-4e3e-9da2-280eadab4804"
   },
   "outputs": [
    {
     "name": "stdout",
     "output_type": "stream",
     "text": [
      "4.09\n",
      "-1.2919999999999998\n",
      "2.7979999999999996\n"
     ]
    }
   ],
   "source": [
    "# Calculate the differences between the means you calculated above:\n",
    "\n",
    "print(means[1] - means[0])\n",
    "print(means[2] - means[1])\n",
    "print(means[2] - means[0])\n"
   ]
  },
  {
   "cell_type": "markdown",
   "metadata": {
    "colab_type": "text",
    "id": "UnZSp5ZAx-D0"
   },
   "source": [
    "What can you infer about each of the three different iris species based on this result?\n",
    "\n",
    "Nice job! You just practiced:\n",
    "\n",
    "* Calculating mean and medians using numpy\n",
    "* Intepreting the results from these basic statistics"
   ]
  }
 ],
 "metadata": {
  "colab": {
   "collapsed_sections": [],
   "name": "KEY_Practice15_Intro_Stats_I.ipynb",
   "provenance": [],
   "version": "0.3.2"
  },
  "kernelspec": {
   "display_name": "Python 3",
   "language": "python",
   "name": "python3"
  },
  "language_info": {
   "codemirror_mode": {
    "name": "ipython",
    "version": 3
   },
   "file_extension": ".py",
   "mimetype": "text/x-python",
   "name": "python",
   "nbconvert_exporter": "python",
   "pygments_lexer": "ipython3",
   "version": "3.7.3"
  }
 },
 "nbformat": 4,
 "nbformat_minor": 2
}

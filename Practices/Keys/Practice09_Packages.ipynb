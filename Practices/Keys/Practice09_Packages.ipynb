{
 "cells": [
  {
   "cell_type": "markdown",
   "metadata": {},
   "source": [
    "# Practice with packages!\n",
    "**Remember:**\n",
    "* Functions and methods take an input, do something with the input, and return an output\n",
    "* Functions can take arguments that modify the output of the function\n",
    "* Methods are specific to ceratin object types\n",
    "* Packages are collections of functions"
   ]
  },
  {
   "cell_type": "markdown",
   "metadata": {},
   "source": [
    "First, we have to import numpy:"
   ]
  },
  {
   "cell_type": "code",
   "execution_count": 1,
   "metadata": {},
   "outputs": [],
   "source": [
    "# command Python to import numpy\n",
    "import numpy as np"
   ]
  },
  {
   "cell_type": "markdown",
   "metadata": {},
   "source": [
    "Now, let's use a numpy function to get random numbers from a normal distribution (the bell curve):"
   ]
  },
  {
   "cell_type": "code",
   "execution_count": 2,
   "metadata": {},
   "outputs": [
    {
     "name": "stdout",
     "output_type": "stream",
     "text": [
      "[-1.39824431 -1.76166251  0.83669333  1.33360894 -0.49462094  0.48796171\n",
      " -1.06458152  1.17580621  1.50728168  0.51071567 -0.53156599 -0.73132039\n",
      " -1.20048062  0.34644299 -0.15259685  1.3806484  -0.438835   -0.66199107\n",
      " -1.38793918 -0.5826494  -0.87847718  1.02316764 -1.57031353  0.08549053\n",
      "  0.42805798 -1.38042177  0.76638705 -0.96425888  1.52762172  0.61726025\n",
      " -1.20799678  0.39308299  2.30805412  0.58539944 -3.06280901 -0.32682174\n",
      "  1.21076048  0.21104442 -1.09344276 -0.44282578  1.05969761 -0.58336075\n",
      "  1.12012205  1.19334622  0.04389964  1.77846379 -2.21769015 -0.57741489\n",
      " -0.88719918 -0.87502049 -0.29861258 -0.24046768 -0.10085904  0.58088138\n",
      "  0.76729548 -1.37138301  0.06116189  0.55618946 -0.66409905 -0.17966806\n",
      " -0.536019   -2.24568329 -1.24587218 -0.02894768 -0.03916526 -1.29917822\n",
      " -1.09798789 -0.20351238  0.06703675  0.52252771  0.62698796 -0.22718316\n",
      " -0.13256246  0.13017293  0.47935942  0.94389704  0.04757612  0.09725786\n",
      "  0.6342669   1.34136594 -0.61623609  0.46616108  1.67502907  3.49134311\n",
      " -0.98592029 -1.6212825   0.24048973 -0.55281765  2.97495292  1.71777094\n",
      "  0.72910466 -2.34129259  0.62385808  1.08726304 -0.32394229 -1.2396672\n",
      " -0.03296779  0.16765308  0.12932121  0.77008837]\n"
     ]
    }
   ],
   "source": [
    "# use np.random.normal to get random numbers from a normal distribution\n",
    "# the 0 is the mean of the distribution and the 1 is the standard deviation. the 100 is the number of samples\n",
    "numbers = np.random.normal(0, 1, 100)\n",
    "\n",
    "# print numbers\n",
    "print(numbers)"
   ]
  },
  {
   "cell_type": "markdown",
   "metadata": {},
   "source": [
    "How many elements are in `numbers`?"
   ]
  },
  {
   "cell_type": "code",
   "execution_count": 3,
   "metadata": {},
   "outputs": [
    {
     "name": "stdout",
     "output_type": "stream",
     "text": [
      "100\n"
     ]
    }
   ],
   "source": [
    "# get the number of elements in numbers\n",
    "print(len(numbers))"
   ]
  },
  {
   "cell_type": "markdown",
   "metadata": {},
   "source": [
    "What is the mean of numbers?"
   ]
  },
  {
   "cell_type": "code",
   "execution_count": 4,
   "metadata": {},
   "outputs": [
    {
     "data": {
      "text/plain": [
       "-0.012398409645250607"
      ]
     },
     "execution_count": 4,
     "metadata": {},
     "output_type": "execute_result"
    }
   ],
   "source": [
    "# command Python to get the mean of numbers\n",
    "np.mean(numbers)"
   ]
  },
  {
   "cell_type": "markdown",
   "metadata": {},
   "source": [
    "Get the absolute value of numbers and save it to abs_num:"
   ]
  },
  {
   "cell_type": "code",
   "execution_count": 5,
   "metadata": {},
   "outputs": [
    {
     "name": "stdout",
     "output_type": "stream",
     "text": [
      "[ 1.39824431  1.76166251  0.83669333  1.33360894  0.49462094  0.48796171\n",
      "  1.06458152  1.17580621  1.50728168  0.51071567  0.53156599  0.73132039\n",
      "  1.20048062  0.34644299  0.15259685  1.3806484   0.438835    0.66199107\n",
      "  1.38793918  0.5826494   0.87847718  1.02316764  1.57031353  0.08549053\n",
      "  0.42805798  1.38042177  0.76638705  0.96425888  1.52762172  0.61726025\n",
      "  1.20799678  0.39308299  2.30805412  0.58539944  3.06280901  0.32682174\n",
      "  1.21076048  0.21104442  1.09344276  0.44282578  1.05969761  0.58336075\n",
      "  1.12012205  1.19334622  0.04389964  1.77846379  2.21769015  0.57741489\n",
      "  0.88719918  0.87502049  0.29861258  0.24046768  0.10085904  0.58088138\n",
      "  0.76729548  1.37138301  0.06116189  0.55618946  0.66409905  0.17966806\n",
      "  0.536019    2.24568329  1.24587218  0.02894768  0.03916526  1.29917822\n",
      "  1.09798789  0.20351238  0.06703675  0.52252771  0.62698796  0.22718316\n",
      "  0.13256246  0.13017293  0.47935942  0.94389704  0.04757612  0.09725786\n",
      "  0.6342669   1.34136594  0.61623609  0.46616108  1.67502907  3.49134311\n",
      "  0.98592029  1.6212825   0.24048973  0.55281765  2.97495292  1.71777094\n",
      "  0.72910466  2.34129259  0.62385808  1.08726304  0.32394229  1.2396672\n",
      "  0.03296779  0.16765308  0.12932121  0.77008837]\n"
     ]
    }
   ],
   "source": [
    "# command Python to get the absolute value of numbers\n",
    "abs_num = np.abs(numbers)\n",
    "# print abs_num\n",
    "print(abs_num)"
   ]
  },
  {
   "cell_type": "markdown",
   "metadata": {},
   "source": [
    "What is the mean of `abs_num`?"
   ]
  },
  {
   "cell_type": "code",
   "execution_count": 6,
   "metadata": {},
   "outputs": [
    {
     "name": "stdout",
     "output_type": "stream",
     "text": [
      "0.869598950082\n"
     ]
    }
   ],
   "source": [
    "# command Python to print the mean of abs_num\n",
    "print(np.mean(abs_num))"
   ]
  },
  {
   "cell_type": "markdown",
   "metadata": {},
   "source": [
    "Now, let's sort `numbers`:"
   ]
  },
  {
   "cell_type": "code",
   "execution_count": 7,
   "metadata": {},
   "outputs": [
    {
     "name": "stdout",
     "output_type": "stream",
     "text": [
      "[-3.06280901 -2.34129259 -2.24568329 -2.21769015 -1.76166251 -1.6212825\n",
      " -1.57031353 -1.39824431 -1.38793918 -1.38042177 -1.37138301 -1.29917822\n",
      " -1.24587218 -1.2396672  -1.20799678 -1.20048062 -1.09798789 -1.09344276\n",
      " -1.06458152 -0.98592029 -0.96425888 -0.88719918 -0.87847718 -0.87502049\n",
      " -0.73132039 -0.66409905 -0.66199107 -0.61623609 -0.58336075 -0.5826494\n",
      " -0.57741489 -0.55281765 -0.536019   -0.53156599 -0.49462094 -0.44282578\n",
      " -0.438835   -0.32682174 -0.32394229 -0.29861258 -0.24046768 -0.22718316\n",
      " -0.20351238 -0.17966806 -0.15259685 -0.13256246 -0.10085904 -0.03916526\n",
      " -0.03296779 -0.02894768  0.04389964  0.04757612  0.06116189  0.06703675\n",
      "  0.08549053  0.09725786  0.12932121  0.13017293  0.16765308  0.21104442\n",
      "  0.24048973  0.34644299  0.39308299  0.42805798  0.46616108  0.47935942\n",
      "  0.48796171  0.51071567  0.52252771  0.55618946  0.58088138  0.58539944\n",
      "  0.61726025  0.62385808  0.62698796  0.6342669   0.72910466  0.76638705\n",
      "  0.76729548  0.77008837  0.83669333  0.94389704  1.02316764  1.05969761\n",
      "  1.08726304  1.12012205  1.17580621  1.19334622  1.21076048  1.33360894\n",
      "  1.34136594  1.3806484   1.50728168  1.52762172  1.67502907  1.71777094\n",
      "  1.77846379  2.30805412  2.97495292  3.49134311]\n"
     ]
    }
   ],
   "source": [
    "# sort numbers\n",
    "numbers.sort()\n",
    "# print numbers\n",
    "print(numbers)"
   ]
  },
  {
   "cell_type": "markdown",
   "metadata": {
    "collapsed": true
   },
   "source": [
    "Now let's round numbers so each element has 2 decimal places:"
   ]
  },
  {
   "cell_type": "code",
   "execution_count": 8,
   "metadata": {},
   "outputs": [
    {
     "data": {
      "text/plain": [
       "array([-3.06, -2.34, -2.25, -2.22, -1.76, -1.62, -1.57, -1.4 , -1.39,\n",
       "       -1.38, -1.37, -1.3 , -1.25, -1.24, -1.21, -1.2 , -1.1 , -1.09,\n",
       "       -1.06, -0.99, -0.96, -0.89, -0.88, -0.88, -0.73, -0.66, -0.66,\n",
       "       -0.62, -0.58, -0.58, -0.58, -0.55, -0.54, -0.53, -0.49, -0.44,\n",
       "       -0.44, -0.33, -0.32, -0.3 , -0.24, -0.23, -0.2 , -0.18, -0.15,\n",
       "       -0.13, -0.1 , -0.04, -0.03, -0.03,  0.04,  0.05,  0.06,  0.07,\n",
       "        0.09,  0.1 ,  0.13,  0.13,  0.17,  0.21,  0.24,  0.35,  0.39,\n",
       "        0.43,  0.47,  0.48,  0.49,  0.51,  0.52,  0.56,  0.58,  0.59,\n",
       "        0.62,  0.62,  0.63,  0.63,  0.73,  0.77,  0.77,  0.77,  0.84,\n",
       "        0.94,  1.02,  1.06,  1.09,  1.12,  1.18,  1.19,  1.21,  1.33,\n",
       "        1.34,  1.38,  1.51,  1.53,  1.68,  1.72,  1.78,  2.31,  2.97,  3.49])"
      ]
     },
     "execution_count": 8,
     "metadata": {},
     "output_type": "execute_result"
    }
   ],
   "source": [
    "# command Python to round all elements in numbers to 2 decimal places\n",
    "np.round(numbers,2)"
   ]
  },
  {
   "cell_type": "markdown",
   "metadata": {},
   "source": [
    "**Challenge:** Get the square root of the `abs_num` function. Save this to sqrt_abs_num. *Hint:* Use the function `sqrt` in the numpy package."
   ]
  },
  {
   "cell_type": "code",
   "execution_count": 9,
   "metadata": {},
   "outputs": [
    {
     "name": "stdout",
     "output_type": "stream",
     "text": [
      "[ 1.18247381  1.32727635  0.91470942  1.15481988  0.70329292  0.69854256\n",
      "  1.0317856   1.08434598  1.227714    0.71464374  0.72908572  0.85517272\n",
      "  1.09566446  0.58859408  0.39063647  1.17500996  0.66244622  0.81362834\n",
      "  1.17810831  0.76331474  0.93727113  1.01151749  1.25312151  0.29238764\n",
      "  0.6542614   1.17491351  0.87543535  0.98196684  1.23596995  0.78565912\n",
      "  1.09908907  0.62696331  1.51922813  0.765114    1.75008829  0.57168325\n",
      "  1.10034562  0.45939571  1.04567814  0.66545156  1.02941615  0.76378056\n",
      "  1.05835819  1.09240387  0.20952242  1.33359056  1.4891911   0.75987821\n",
      "  0.94191251  0.9354253   0.54645456  0.49037504  0.31758313  0.76215575\n",
      "  0.87595404  1.17106064  0.24730931  0.74578111  0.81492272  0.42387269\n",
      "  0.73213318  1.49856041  1.11618644  0.17014016  0.19790214  1.13981499\n",
      "  1.04784917  0.45112347  0.25891455  0.72286078  0.79182571  0.47663735\n",
      "  0.36409127  0.36079486  0.69235787  0.97154364  0.21811952  0.31186192\n",
      "  0.79640875  1.15817354  0.78500707  0.6827599   1.29422914  1.86851361\n",
      "  0.99293519  1.27329592  0.49039752  0.74351708  1.72480518  1.31063761\n",
      "  0.85387625  1.53012829  0.78984687  1.04271906  0.56915928  1.11340343\n",
      "  0.18157034  0.40945461  0.35961259  0.87754679]\n"
     ]
    }
   ],
   "source": [
    "# command Python to get the square root of the numbers in abs_num\n",
    "sqrt_abs_num = np.sqrt(abs_num)\n",
    "# print sqrt_abs_num\n",
    "print(sqrt_abs_num)"
   ]
  },
  {
   "cell_type": "markdown",
   "metadata": {},
   "source": [
    "What is the max of the square roots? The min?"
   ]
  },
  {
   "cell_type": "code",
   "execution_count": 10,
   "metadata": {},
   "outputs": [
    {
     "name": "stdout",
     "output_type": "stream",
     "text": [
      "1.86851360945\n",
      "0.170140164357\n"
     ]
    }
   ],
   "source": [
    "# print the max of the square roots\n",
    "print(max(sqrt_abs_num))\n",
    "# print the min of the square roots\n",
    "print(min(sqrt_abs_num))"
   ]
  },
  {
   "cell_type": "markdown",
   "metadata": {},
   "source": [
    "Nice job! You just practiced:\n",
    "    - Importing packages in Pyton\n",
    "    - Using functions in packages\n",
    "    - Saving things to variables\n",
    "    - Doing math with numpy"
   ]
  }
 ],
 "metadata": {
  "kernelspec": {
   "display_name": "Python 3",
   "language": "python",
   "name": "python3"
  },
  "language_info": {
   "codemirror_mode": {
    "name": "ipython",
    "version": 3
   },
   "file_extension": ".py",
   "mimetype": "text/x-python",
   "name": "python",
   "nbconvert_exporter": "python",
   "pygments_lexer": "ipython3",
   "version": "3.6.1"
  }
 },
 "nbformat": 4,
 "nbformat_minor": 2
}

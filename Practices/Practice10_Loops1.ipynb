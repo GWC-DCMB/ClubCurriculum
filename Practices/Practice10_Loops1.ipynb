{
 "nbformat": 4,
 "nbformat_minor": 0,
 "metadata": {
  "kernelspec": {
   "display_name": "Python 3",
   "language": "python",
   "name": "python3"
  },
  "language_info": {
   "codemirror_mode": {
    "name": "ipython",
    "version": 3
   },
   "file_extension": ".py",
   "mimetype": "text/x-python",
   "name": "python",
   "nbconvert_exporter": "python",
   "pygments_lexer": "ipython3",
   "version": "3.7.3"
  },
  "colab": {
   "name": "Practice10_Loops1.ipynb",
   "version": "0.3.2",
   "provenance": []
  }
 },
 "cells": [
  {
   "cell_type": "markdown",
   "metadata": {
    "id": "TbhQtMLaQsq0",
    "colab_type": "text"
   },
   "source": [
    "# Practice with loops\n",
    "\n",
    "In this practice, we will review:\n",
    "- how to iterate through a list with a loop\n",
    "- how to use the range function with loops\n",
    "- how to create a nested loop\n",
    "\n",
    "As you have seen, loops give us the ability to loop through, or _iterate_ through, a list of items and perform the same action with each item in the list. A for loop follows this pattern:\n",
    "\n",
    "``` \n",
    "for [item] in [list]\n",
    "  [do something with item]\n",
    "```\n",
    "\n",
    "Some other things to remember before practicing:\n",
    "- The `range` function gives you a list of numbers between two parameters. For example, `range(0,3)` would give you the list `[0,1,2]`. It is _inclusive_ of the first parameter, but _exclusive_ of the second parameter.\n",
    "- You can put for loops inside each other, but it is __very__ important to make sure both loops have different variable names. For example, this is okay:\n",
    "\n",
    "```\n",
    "for num1 in list_1:\n",
    "  for num2 in list_2:\n",
    "    print(num1 + num2)\n",
    "```\n",
    "\n",
    "but this is not:\n",
    "\n",
    "```\n",
    "for num in list_1:\n",
    "  for num in list_2:\n",
    "    print(num + num)\n",
    "```\n",
    "\n",
    "The above code will probably run, but it won't give you the output you expect!\n",
    "\n",
    "\n"
   ]
  },
  {
   "cell_type": "markdown",
   "metadata": {
    "id": "w5INUDXsNgrC",
    "colab_type": "text"
   },
   "source": [
    "In this lesson, we are going to work with information about the planets! \n",
    "\n"
   ]
  },
  {
   "cell_type": "code",
   "metadata": {
    "id": "WuJ7jvUeQsq5",
    "colab_type": "code",
    "colab": {}
   },
   "source": [
    "# create a list of planets\n",
    "planets = ['mercury', 'venus', 'earth', 'mars', 'jupiter', 'saturn', 'uranus', 'neptune', 'pluto']"
   ],
   "execution_count": 0,
   "outputs": []
  },
  {
   "cell_type": "markdown",
   "metadata": {
    "id": "9FKe-A75O18-",
    "colab_type": "text"
   },
   "source": [
    "First, let's create a string containing the names of all the planets. We want something that looks like this:\n",
    "\n",
    "\"mercury venus earth mars jupiter saturn uranus neptune pluto\"\n",
    "\n",
    "This can be done by creating an empty string, then adding the name of each planet using a for loop!"
   ]
  },
  {
   "cell_type": "code",
   "metadata": {
    "id": "XlL_LzksA1bj",
    "colab_type": "code",
    "colab": {
     "base_uri": "https://localhost:8080/",
     "height": 34
    },
    "outputId": "e753e1ee-538b-4ecc-994b-43b66027e6b1",
    "executionInfo": {
     "status": "ok",
     "timestamp": 1567348403216,
     "user_tz": 240,
     "elapsed": 340,
     "user": {
      "displayName": "Morgan Oneka",
      "photoUrl": "https://lh3.googleusercontent.com/a-/AAuE7mDDNp7vRaJ72dq-10S667W0tZyfdBWiE2NavfHt=s64",
      "userId": "08973921413298125078"
     }
    }
   },
   "source": [
    "# create an empty string called planet_string\n",
    "planet_string = \"\"\n",
    "\n",
    "# use a for loop to add each planet's name to the string\n",
    "# remember that each time we add a planet we also want to add a space\n",
    "for planet in planets:\n",
    "  planet_string += planet + \" \"\n",
    "  \n",
    "# print the value of planet_string  \n",
    "print(planet_string)"
   ],
   "execution_count": 3,
   "outputs": [
    {
     "output_type": "stream",
     "text": [
      "mercury venus earth mars jupiter saturn uranus neptune pluto \n"
     ],
     "name": "stdout"
    }
   ]
  },
  {
   "cell_type": "markdown",
   "metadata": {
    "id": "LUrE_CSsPONK",
    "colab_type": "text"
   },
   "source": [
    "What if we wanted to create a string that only contained the planets further from the sun than Earth (these are the planets that come after Earth in our list). "
   ]
  },
  {
   "cell_type": "code",
   "metadata": {
    "id": "gGZ1NH-oBKYR",
    "colab_type": "code",
    "colab": {
     "base_uri": "https://localhost:8080/",
     "height": 34
    },
    "outputId": "556b044b-2a71-486a-97bb-e3e3358f6967",
    "executionInfo": {
     "status": "ok",
     "timestamp": 1567348422069,
     "user_tz": 240,
     "elapsed": 377,
     "user": {
      "displayName": "Morgan Oneka",
      "photoUrl": "https://lh3.googleusercontent.com/a-/AAuE7mDDNp7vRaJ72dq-10S667W0tZyfdBWiE2NavfHt=s64",
      "userId": "08973921413298125078"
     }
    }
   },
   "source": [
    "# create an empty string called after_earth\n",
    "after_earth = \"\"\n",
    "\n",
    "# create a for loop similar to above, but only iterating over the planets after earth in the list\n",
    "for index in range(3,len(planets)):\n",
    "  after_earth += planets[index] + \" \"\n",
    "  \n",
    "# print the value of after_earth\n",
    "print(after_earth)"
   ],
   "execution_count": 6,
   "outputs": [
    {
     "output_type": "stream",
     "text": [
      "mars jupiter saturn uranus neptune pluto \n"
     ],
     "name": "stdout"
    }
   ]
  },
  {
   "cell_type": "markdown",
   "metadata": {
    "id": "_MQ78KoVPwc7",
    "colab_type": "text"
   },
   "source": [
    "What if we also wanted to look at more data about the planets? We can create a 2D list that contains more information about each planet. "
   ]
  },
  {
   "cell_type": "code",
   "metadata": {
    "id": "dj8wHbNYNrZf",
    "colab_type": "code",
    "colab": {}
   },
   "source": [
    "# the number of moons each planet has\n",
    "moons = [0,0,1,2,67,62,27,14,5]\n",
    "\n",
    "# the distance of each planet from the sun (in millions of miles)\n",
    "distances = [35.98,67.24,92.96,141.6,483.8,890.8,1784,2793,3670]\n",
    "\n",
    "# create a 2D list containing the planets, moons, and distances lists\n",
    "space = [planets, moons, distances]"
   ],
   "execution_count": 0,
   "outputs": []
  },
  {
   "cell_type": "markdown",
   "metadata": {
    "id": "mm6feQ79P9TE",
    "colab_type": "text"
   },
   "source": [
    "We can visualize our 2D list as looking something kind of like this:\n",
    "\n",
    "\n",
    "```\n",
    "mercury | 0 | 35.98\n",
    "venus   | 0 | 67.24\n",
    "earth   | 1 | 92.96\n",
    "mars    | 2 | 141.6\n",
    "  ...   |...|  ...\n",
    "```\n",
    "\n",
    "But when we print our 2D list, that isn't what it looks like"
   ]
  },
  {
   "cell_type": "code",
   "metadata": {
    "id": "dkiSe0WHbL1I",
    "colab_type": "code",
    "colab": {
     "base_uri": "https://localhost:8080/",
     "height": 54
    },
    "outputId": "5b2fe884-ab6b-4ca9-f636-f73f8911487f",
    "executionInfo": {
     "status": "ok",
     "timestamp": 1567351425339,
     "user_tz": 240,
     "elapsed": 408,
     "user": {
      "displayName": "Morgan Oneka",
      "photoUrl": "https://lh3.googleusercontent.com/a-/AAuE7mDDNp7vRaJ72dq-10S667W0tZyfdBWiE2NavfHt=s64",
      "userId": "08973921413298125078"
     }
    }
   },
   "source": [
    "print(space)"
   ],
   "execution_count": 13,
   "outputs": [
    {
     "output_type": "stream",
     "text": [
      "[['mercury', 'venus', 'earth', 'mars', 'jupiter', 'saturn', 'uranus', 'neptune', 'pluto'], [0, 0, 1, 2, 67, 62, 27, 14, 5], [35.98, 67.24, 92.96, 141.6, 483.8, 890.8, 1784, 2793, 3670]]\n"
     ],
     "name": "stdout"
    }
   ]
  },
  {
   "cell_type": "markdown",
   "metadata": {
    "id": "XF_GjekpbOgh",
    "colab_type": "text"
   },
   "source": [
    "Fortunately, we now know how to use nested for loops! Using one for loop to iterate over the \"columns\" of the 2D list and another to iterate over the \"rows\" of the 2D list, we can print out our 2D list so that it looks like a table."
   ]
  },
  {
   "cell_type": "code",
   "metadata": {
    "id": "aGKySp8wDQ3n",
    "colab_type": "code",
    "colab": {
     "base_uri": "https://localhost:8080/",
     "height": 173
    },
    "outputId": "a8ec3302-7477-433f-f2b4-b60bd11e0a6e",
    "executionInfo": {
     "status": "ok",
     "timestamp": 1567351674196,
     "user_tz": 240,
     "elapsed": 342,
     "user": {
      "displayName": "Morgan Oneka",
      "photoUrl": "https://lh3.googleusercontent.com/a-/AAuE7mDDNp7vRaJ72dq-10S667W0tZyfdBWiE2NavfHt=s64",
      "userId": "08973921413298125078"
     }
    }
   },
   "source": [
    "# NOTE FOR REVIEWER: i think this is a kind of complicated example, but if we gave them a few pieces of this it shouldn't be too bad?\n",
    "\n",
    "# create a for loop to print our 3d list\n",
    "\n",
    "# write a for loop that iterates over each \"column\" \n",
    "for col in range(0,len(planets)):\n",
    "  # create an empty string that we can add the whole row's info to\n",
    "  row_list = \"\"\n",
    "  # write a for loop that iterates over each \"row\" \n",
    "  for row in range(0, len(space)):\n",
    "    row_list += str(space[row][col]) + \"\\t\"\n",
    "  print(row_list)"
   ],
   "execution_count": 22,
   "outputs": [
    {
     "output_type": "stream",
     "text": [
      "mercury\t0\t35.98\t\n",
      "venus\t0\t67.24\t\n",
      "earth\t1\t92.96\t\n",
      "mars\t2\t141.6\t\n",
      "jupiter\t67\t483.8\t\n",
      "saturn\t62\t890.8\t\n",
      "uranus\t27\t1784\t\n",
      "neptune\t14\t2793\t\n",
      "pluto\t5\t3670\t\n"
     ],
     "name": "stdout"
    }
   ]
  },
  {
   "cell_type": "code",
   "metadata": {
    "id": "Sy1Xn-gYDtfn",
    "colab_type": "code",
    "colab": {}
   },
   "source": [
    ""
   ],
   "execution_count": 0,
   "outputs": []
  }
 ]
}
